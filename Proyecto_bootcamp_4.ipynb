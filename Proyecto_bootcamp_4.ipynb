{
  "nbformat": 4,
  "nbformat_minor": 0,
  "metadata": {
    "colab": {
      "provenance": [],
      "authorship_tag": "ABX9TyN2GB1fFcHRm9FZ2XHtTJ//",
      "include_colab_link": true
    },
    "kernelspec": {
      "name": "python3",
      "display_name": "Python 3"
    },
    "language_info": {
      "name": "python"
    }
  },
  "cells": [
    {
      "cell_type": "markdown",
      "metadata": {
        "id": "view-in-github",
        "colab_type": "text"
      },
      "source": [
        "<a href=\"https://colab.research.google.com/github/Bainer13/Data_BBVA_Team_1/blob/Rodri/Proyecto_bootcamp_4.ipynb\" target=\"_parent\"><img src=\"https://colab.research.google.com/assets/colab-badge.svg\" alt=\"Open In Colab\"/></a>"
      ]
    },
    {
      "cell_type": "markdown",
      "source": [
        "## **Armado del entorno de trabajo**\n",
        "\n"
      ],
      "metadata": {
        "id": "rjxwPMfNDgy9"
      }
    },
    {
      "cell_type": "code",
      "execution_count": null,
      "metadata": {
        "id": "lQy_QnsDh3CN"
      },
      "outputs": [],
      "source": [
        "!apt-get install openjdk-8-jdk-headless -qq > /dev/null\n"
      ]
    },
    {
      "cell_type": "code",
      "source": [
        "!wget -q https://dlcdn.apache.org/spark/spark-3.3.2/spark-3.3.2-bin-hadoop3.tgz"
      ],
      "metadata": {
        "id": "WxdDgoDQDwLC"
      },
      "execution_count": null,
      "outputs": []
    },
    {
      "cell_type": "code",
      "source": [
        "ls"
      ],
      "metadata": {
        "id": "zxQTw235Efnl",
        "colab": {
          "base_uri": "https://localhost:8080/"
        },
        "outputId": "bde678d4-95c1-446d-9db9-0c2240e9136e"
      },
      "execution_count": null,
      "outputs": [
        {
          "output_type": "stream",
          "name": "stdout",
          "text": [
            " address_bootcamp.snappy.parquet           nationality.snappy.parquet\n",
            " customer_basics_bootcamp.snappy.parquet   phones_bootcamp.snappy.parquet\n",
            " emails_bootcamp.snappy.parquet            \u001b[0m\u001b[01;34msample_data\u001b[0m/\n",
            "'Marital status.snappy.parquet'            spark-3.3.2-bin-hadoop3.tgz\n"
          ]
        }
      ]
    },
    {
      "cell_type": "code",
      "source": [
        "!tar xf spark-3.3.2-bin-hadoop3.tgz"
      ],
      "metadata": {
        "id": "kTIS3_ExElWP"
      },
      "execution_count": null,
      "outputs": []
    },
    {
      "cell_type": "code",
      "source": [
        "!java -version"
      ],
      "metadata": {
        "id": "FCeYLe11EoA5",
        "colab": {
          "base_uri": "https://localhost:8080/"
        },
        "outputId": "b0b7b3ec-2612-4fcc-a7fb-7b775fed36e8"
      },
      "execution_count": null,
      "outputs": [
        {
          "output_type": "stream",
          "name": "stdout",
          "text": [
            "openjdk version \"11.0.18\" 2023-01-17\n",
            "OpenJDK Runtime Environment (build 11.0.18+10-post-Ubuntu-0ubuntu120.04.1)\n",
            "OpenJDK 64-Bit Server VM (build 11.0.18+10-post-Ubuntu-0ubuntu120.04.1, mixed mode, sharing)\n"
          ]
        }
      ]
    },
    {
      "cell_type": "code",
      "source": [
        "!readlink -f $(which java) | sed \"s:bin/java::\"\n"
      ],
      "metadata": {
        "id": "QnNvgsFKEvF0",
        "colab": {
          "base_uri": "https://localhost:8080/"
        },
        "outputId": "b15b8036-81b3-4682-acef-9440ebc1dd34"
      },
      "execution_count": null,
      "outputs": [
        {
          "output_type": "stream",
          "name": "stdout",
          "text": [
            "/usr/lib/jvm/java-11-openjdk-amd64/\n"
          ]
        }
      ]
    },
    {
      "cell_type": "code",
      "source": [
        "!echo $JAVA_HOME"
      ],
      "metadata": {
        "id": "EHoXgQb0EyH4",
        "colab": {
          "base_uri": "https://localhost:8080/"
        },
        "outputId": "1a16ca04-4595-400b-c213-b1cef8b55c42"
      },
      "execution_count": null,
      "outputs": [
        {
          "output_type": "stream",
          "name": "stdout",
          "text": [
            "\n"
          ]
        }
      ]
    },
    {
      "cell_type": "code",
      "source": [
        "!pip install -q findspark"
      ],
      "metadata": {
        "id": "xA6BrWOlEzwl"
      },
      "execution_count": null,
      "outputs": []
    },
    {
      "cell_type": "code",
      "source": [
        "!pip install pyspark "
      ],
      "metadata": {
        "id": "FWcYXxSfE-66",
        "colab": {
          "base_uri": "https://localhost:8080/"
        },
        "outputId": "b07a873b-1af3-436e-acf6-673c3f1c0383"
      },
      "execution_count": null,
      "outputs": [
        {
          "output_type": "stream",
          "name": "stdout",
          "text": [
            "Looking in indexes: https://pypi.org/simple, https://us-python.pkg.dev/colab-wheels/public/simple/\n",
            "Collecting pyspark\n",
            "  Downloading pyspark-3.3.2.tar.gz (281.4 MB)\n",
            "\u001b[2K     \u001b[90m━━━━━━━━━━━━━━━━━━━━━━━━━━━━━━━━━━━━━━━\u001b[0m \u001b[32m281.4/281.4 MB\u001b[0m \u001b[31m4.5 MB/s\u001b[0m eta \u001b[36m0:00:00\u001b[0m\n",
            "\u001b[?25h  Preparing metadata (setup.py) ... \u001b[?25l\u001b[?25hdone\n",
            "Collecting py4j==0.10.9.5\n",
            "  Downloading py4j-0.10.9.5-py2.py3-none-any.whl (199 kB)\n",
            "\u001b[2K     \u001b[90m━━━━━━━━━━━━━━━━━━━━━━━━━━━━━━━━━━━━━━\u001b[0m \u001b[32m199.7/199.7 KB\u001b[0m \u001b[31m28.2 MB/s\u001b[0m eta \u001b[36m0:00:00\u001b[0m\n",
            "\u001b[?25hBuilding wheels for collected packages: pyspark\n",
            "  Building wheel for pyspark (setup.py) ... \u001b[?25l\u001b[?25hdone\n",
            "  Created wheel for pyspark: filename=pyspark-3.3.2-py2.py3-none-any.whl size=281824028 sha256=7f798efe1ae0c4a04aa7c3b7724bc3a2f4fd7b9e6f454fbc87bd8c0eb8ce58a7\n",
            "  Stored in directory: /root/.cache/pip/wheels/6c/e3/9b/0525ce8a69478916513509d43693511463c6468db0de237c86\n",
            "Successfully built pyspark\n",
            "Installing collected packages: py4j, pyspark\n",
            "  Attempting uninstall: py4j\n",
            "    Found existing installation: py4j 0.10.9.7\n",
            "    Uninstalling py4j-0.10.9.7:\n",
            "      Successfully uninstalled py4j-0.10.9.7\n",
            "Successfully installed py4j-0.10.9.5 pyspark-3.3.2\n"
          ]
        }
      ]
    },
    {
      "cell_type": "code",
      "source": [
        "from pyspark.sql import SparkSession"
      ],
      "metadata": {
        "id": "RxVvKnuTFNAX"
      },
      "execution_count": null,
      "outputs": []
    },
    {
      "cell_type": "code",
      "source": [
        "import pyspark.sql.functions as F"
      ],
      "metadata": {
        "id": "8_ZZIDSki9dp"
      },
      "execution_count": null,
      "outputs": []
    },
    {
      "cell_type": "code",
      "source": [
        "import pandas as pd\n",
        "pd.set_option('display.max_rows', None)"
      ],
      "metadata": {
        "id": "ZpM3yHEfjaqZ"
      },
      "execution_count": null,
      "outputs": []
    },
    {
      "cell_type": "code",
      "source": [
        "from pyspark.sql.window import Window\n",
        "from pyspark.sql.functions import row_number\n",
        "from pyspark.sql.functions import col\n",
        "from pyspark.sql.functions import *\n",
        "from pyspark.sql.functions import lit\n",
        "from pyspark.sql.functions import coalesce, expr"
      ],
      "metadata": {
        "id": "n04j9qewV5Co"
      },
      "execution_count": null,
      "outputs": []
    },
    {
      "cell_type": "code",
      "source": [
        "spark = SparkSession.builder.getOrCreate()"
      ],
      "metadata": {
        "id": "K6zkngyXU8C2"
      },
      "execution_count": null,
      "outputs": []
    },
    {
      "cell_type": "code",
      "source": [
        "spark.conf.set('spark.sql.legacy.parquet.datetimeRebaseModeInRead', 'CORRECTED')"
      ],
      "metadata": {
        "id": "G6ICwe5mVXHZ"
      },
      "execution_count": null,
      "outputs": []
    },
    {
      "cell_type": "markdown",
      "source": [
        "## **Extraccion de datos**"
      ],
      "metadata": {
        "id": "M865_XBwVRTW"
      }
    },
    {
      "cell_type": "code",
      "source": [
        "#Lectura de parquets\n",
        "df_address = spark.read.parquet('/content/address_bootcamp.snappy.parquet')\n",
        "df_customer_basics = spark.read.parquet('/content/customer_basics_bootcamp.snappy.parquet')\n",
        "df_email = spark.read.parquet('/content/emails_bootcamp.snappy.parquet')\n",
        "df_phones = spark.read.parquet('/content/phones_bootcamp.snappy.parquet')\n",
        "df_nationality = spark.read.parquet('/content/nationality.snappy.parquet')\n",
        "df_marital_status_type = spark.read.parquet('/content/Marital status.snappy.parquet')"
      ],
      "metadata": {
        "id": "fjFFL9njVZyK"
      },
      "execution_count": null,
      "outputs": []
    },
    {
      "cell_type": "code",
      "source": [
        "df_phones.show()"
      ],
      "metadata": {
        "colab": {
          "base_uri": "https://localhost:8080/"
        },
        "id": "1TgM0OOQNLRc",
        "outputId": "6753864d-2bf8-4cb4-906b-02dce441cb63"
      },
      "execution_count": null,
      "outputs": [
        {
          "output_type": "stream",
          "name": "stdout",
          "text": [
            "+-----------+--------------+-------------------+-----------------+----------+----------------+---------------+-------------+-------------------+-----------------+-------------+--------------+---------------+-----------------------+------------------+---------------------+--------------------+----------+-----------+--------------------------+---------------------+--------------------+---------------------+----------------+-------------------------+-------------------------+------------------+-------------------+-----------------+--------------------+---------------------+-----------------------+----------------------+--------------------+----------------------+------------------------------+----------------------------+-------------------+----------------+----------------+-------------------+--------------------+-----------------------+---------------------+\n",
            "|customer_id|phone_use_type|address_sequence_id|phone_sequence_id|phone_type|phone_country_id|prefix_phone_id|phone_area_id|cellphone_prefix_id|phone_exchange_id|phone_line_id|      phone_id|phone_intern_id|aditional_info_txt_desc|primary_phone_type|address_sequence_type|   address_town_name|zipcode_id|province_id|customer_phone_status_type|phone_status_mod_date|contact_channel_type|sender_application_id|wrong_phone_type|normalization_status_type|normalization_reason_name|normalization_date|validity_start_date|validity_end_date|dlvy_day_monday_type|dlvy_day_tuesday_type|dlvy_day_wednesday_type|dlvy_day_thursday_type|dlvy_day_friday_type|dlvy_day_saturday_type|delivery_contact_start_hm_date|delivery_contact_end_hm_date|registry_entry_date|register_user_id|last_change_date|last_change_user_id|last_change_hms_date|last_change_terminal_id|operational_load_date|\n",
            "+-----------+--------------+-------------------+-----------------+----------+----------------+---------------+-------------+-------------------+-----------------+-------------+--------------+---------------+-----------------------+------------------+---------------------+--------------------+----------+-----------+--------------------------+---------------------+--------------------+---------------------+----------------+-------------------------+-------------------------+------------------+-------------------+-----------------+--------------------+---------------------+-----------------------+----------------------+--------------------+----------------------+------------------------------+----------------------------+-------------------+----------------+----------------+-------------------+--------------------+-----------------------+---------------------+\n",
            "|   29354201|            00|                  0|                1|         3|             080|             54|          385|                 15|              618|         8929|  696850618783|               |                       |                 N|                    N|                    |          |           |                 DECLARADO|           2022-06-24|                  01|                 CTES|                |                NORM OPER|                       NE|        2022-06-24|         1900-01-01|       1900-01-01|                    |                     |                       |                      |                    |                      |                      00:00:00|                    00:00:00|         2022-06-24|         A126810|      2022-06-24|            A126810|              085240|                   2429| 2022-11-30 00:42:...|\n",
            "|   29389432|            00|                  0|                1|         3|             080|             54|           11|                 15|             2550|         6187|  711931820675|               |                       |                 N|                    N|                    |          |           |                 DECLARADO|           2022-06-24|                  01|                 PVTA|                |                NORM AUTO|                  COPDTEL|        2022-06-24|         1900-01-01|       1900-01-01|                    |                     |                       |                      |                    |                      |                      00:00:00|                    00:00:00|         2022-06-24|        VW2CCON0|      2022-06-24|           VW2CCON0|              102004|                   PVTA| 2022-11-30 00:42:...|\n",
            "|   29382041|            01|                  0|                2|         1|             080|             54|          341|                   |              454|         3113|    3843676600|               |                       |                 N|                    N|                    |          |           |                 DECLARADO|           2022-06-24|                  01|                 CTES|                |                NORM AUTO|                  COPDTEL|        2022-06-24|         1900-01-01|       1900-01-01|                    |                     |                       |                      |                    |                      |                      00:00:00|                    00:00:00|         2022-06-24|         A126228|      2022-06-24|            A126228|              102436|                   Y2GK| 2022-11-30 00:42:...|\n",
            "|   07395331|            00|                  0|                2|         3|             080|             54|           11|                 15|             3017|         9680|  229013342402|               |                       |                 N|                    N|                    |          |           |                 DECLARADO|           2022-06-24|                  01|                 WKFL|                |                NORM AUTO|                  COPDTEL|        2022-06-24|         1900-01-01|       1900-01-01|                    |                     |                       |                      |                    |                      |                      00:00:00|                    00:00:00|         2022-06-24|         A118094|      2022-06-24|            A118094|              105750|                   P101| 2022-11-30 00:42:...|\n",
            "|   29349520|            00|                  0|                1|         3|             080|             54|           11|                 15|             4439|         4790|  589625269325|               |                       |                 N|                    N|                    |          |           |                 DECLARADO|           2022-06-24|                  01|                 CTES|                |                NORM AUTO|                   COPDTE|        2022-06-24|         1900-01-01|       1900-01-01|                    |                     |                       |                      |                    |                      |                      00:00:00|                    00:00:00|         2022-06-24|          A33643|      2022-06-24|             A33643|              105847|                   2305| 2022-11-30 00:42:...|\n",
            "|   29349520|            01|                  0|                2|         3|             080|             54|           11|                 15|             4439|         4790|  589625269325|               |                       |                 N|                    N|                    |          |           |                 DECLARADO|           2022-06-24|                  01|                 CTES|                |                NORM AUTO|                  COPDTEL|        2022-06-24|         1900-01-01|       1900-01-01|                    |                     |                       |                      |                    |                      |                      00:00:00|                    00:00:00|         2022-06-24|          A33643|      2022-06-24|             A33643|              105847|                   2305| 2022-11-30 00:42:...|\n",
            "|   29390571|            00|                  0|                1|         3|             080|             54|          388|                 15|              514|         3040|  888200805780|               |                       |                 N|                    N|SAN SALVADOR DE J...|     04600|         10|                 DECLARADO|           2022-06-24|                  01|                 CTES|                |                NORM AUTO|                   COPDTE|        2022-08-11|         1900-01-01|       1900-01-01|                    |                     |                       |                      |                    |                      |                      00:00:00|                    00:00:00|         2022-06-24|          A78911|      2022-08-11|            A115116|              092940|                   5159| 2022-11-30 00:42:...|\n",
            "|   29353393|            00|                  0|                1|         3|             080|             54|         3444|                 15|               52|         3887|  474148675676|               |                       |                 N|                    N|                    |          |           |                COMPROBADO|           2022-06-24|                  01|                 CTES|                |                NORM AUTO|                  COPDTEL|        2022-06-24|         1900-01-01|       1900-01-01|                    |                     |                       |                      |                    |                      |                      00:00:00|                    00:00:00|         2022-06-24|         A127353|      2022-06-26|           PCLUPCRT|              125515|                   OSMS| 2022-11-30 00:42:...|\n",
            "|   29387501|            01|                  0|                2|         1|             080|             54|         2317|                   |               43|         4879|    2546905684|               |                       |                 N|                    N|                    |          |           |                 DECLARADO|           2022-06-24|                  01|                 CTES|                |                NORM AUTO|                  COPDTEL|        2022-06-24|         1900-01-01|       1900-01-01|                    |                     |                       |                      |                    |                      |                      00:00:00|                    00:00:00|         2022-06-24|         A118960|      2022-06-24|            A118960|              163712|                   Y2IG| 2022-11-30 00:42:...|\n",
            "|   29391432|            05|                  0|                1|         3|             080|             54|           11|                 15|             5529|         1962|  673397682353|               |                     04|                 N|                    N|                    |          |           |                 DECLARADO|           2022-06-24|                  01|                 CTES|                |                NORM AUTO|                  COPDTEL|        2022-06-24|         2022-06-24|       1900-01-01|                    |                     |                       |                      |                    |                      |                      00:00:00|                    00:00:00|         2022-06-24|        GPROBANK|      2022-06-24|            PCLE20N|              180221|                   BATC| 2022-11-30 00:42:...|\n",
            "|   29390553|            00|                  0|                1|         3|             080|             54|          351|                 15|              256|         0268|  453595914089|               |                       |                 N|                    N|                    |          |           |                COMPROBADO|           2022-07-02|                  01|                 CTES|                |                NORM AUTO|                  COPDTEL|        2022-07-01|         1900-01-01|       1900-01-01|                    |                     |                       |                      |                    |                      |                      00:00:00|                    00:00:00|         2022-06-24|         A126703|      2022-07-02|               XATM|              164720|                   XATM| 2022-11-30 00:42:...|\n",
            "|   29389361|            00|                  0|                1|         3|             080|             54|           11|                 15|             5579|         2407|  478405248222|               |                       |                 N|                    N|                    |          |           |                 DECLARADO|           2022-06-25|                  01|                 PVTA|                |                NORM AUTO|                  COPDTEL|        2022-06-25|         1900-01-01|       1900-01-01|                    |                     |                       |                      |                    |                      |                      00:00:00|                    00:00:00|         2022-06-25|        VW2CCON0|      2022-06-25|           VW2CCON0|              021541|                   PVTA| 2022-11-30 00:42:...|\n",
            "|   29400313|            00|                  0|                1|         3|             080|             54|           11|                 15|             4030|         8325|  043683030098|               |                       |                 N|                    N|                    |          |           |                 DECLARADO|           2022-06-25|                  01|                 CTES|                |                NORM AUTO|                  COPDTEL|        2022-06-27|         1900-01-01|       1900-01-01|                    |                     |                       |                      |                    |                      |                      00:00:00|                    00:00:00|         2022-06-25|        GPROBANK|      2022-06-27|           GPROBANK|              152322|                   LWBE| 2022-11-30 00:42:...|\n",
            "|   29401025|            00|                  0|                1|         3|             080|             54|           11|                 15|             2288|         8738|  008725729120|               |                       |                 N|                    N|                    |          |           |                COMPROBADO|           2022-06-26|                  01|                 PVTA|                |                NORM AUTO|                  COPDTEL|        2022-06-26|         1900-01-01|       1900-01-01|                    |                     |                       |                      |                    |                      |                      00:00:00|                    00:00:00|         2022-06-26|        VW2CCON0|      2022-07-12|           PCLUPCRT|              215455|                   OSMS| 2022-11-30 00:42:...|\n",
            "|   29401299|            00|                  0|                1|         3|             080|             54|         0011|                 15|             6761|         8843|09893903230068|               |                       |                 N|                    N|                    |          |           |                 DECLARADO|           2022-06-27|                  01|                 CTES|                |                         |                         |        1900-01-01|         1900-01-01|       1900-01-01|                    |                     |                       |                      |                    |                      |                      00:00:00|                    00:00:00|         2022-06-27|        GPROBANK|      2022-06-27|           GPROBANK|              184500|                   LWAW| 2022-11-30 00:42:...|\n",
            "|   29325999|            00|                  0|                2|         3|             080|             54|          342|                 15|              479|         9696|  466813319125|               |                       |                 N|                    N|                    |          |           |                 DECLARADO|           2022-06-26|                  01|                 PVTA|                |                NORM AUTO|                  COPDTEL|        2022-06-26|         1900-01-01|       1900-01-01|                    |                     |                       |                      |                    |                      |                      00:00:00|                    00:00:00|         2022-06-26|        VW2CCON0|      2022-06-26|           VW2CCON0|              222823|                   PVTA| 2022-11-30 00:42:...|\n",
            "|   29402665|            00|                  0|                1|         3|             080|             54|         3564|                 15|               33|         7284|  443220384448|               |                       |                 N|                    N|       SAN FRANCISCO|     02400|         04|                 DECLARADO|           2022-06-27|                  01|                 CTES|                |                NORM AUTO|                   COPDTE|        2022-06-27|         1900-01-01|       1900-01-01|                    |                     |                       |                      |                    |                      |                      00:00:00|                    00:00:00|         2022-06-27|         A116108|      2022-06-27|            A116108|              124517|                   6104| 2022-11-30 00:42:...|\n",
            "|   29402665|            00|                  0|                2|         3|             080|             54|         3564|                 15|               33|         3190|  538542198741|               |                       |                 N|                    N|                    |          |           |                 DECLARADO|           2022-06-27|                  01|                 CTES|                |                NORM AUTO|                  COPDTEL|        2022-06-27|         1900-01-01|       1900-01-01|                    |                     |                       |                      |                    |                      |                      00:00:00|                    00:00:00|         2022-06-27|         A116108|      2022-06-27|            A116108|              124517|                   6104| 2022-11-30 00:42:...|\n",
            "|   29375587|            00|                  0|                1|         3|             080|             54|          221|                 15|              692|         9792|  061269423380|               |                       |                 N|                    N|                    |          |           |                COMPROBADO|           2022-10-03|                  01|                 CTES|                |                NORM AUTO|                     COSM|        2022-10-03|         1900-01-01|       1900-01-01|                    |                     |                       |                      |                    |                      |                      00:00:00|                    00:00:00|         2022-10-03|         A127599|      2022-10-03|           PCLUPCRT|              132855|                   OSMS| 2022-11-30 00:42:...|\n",
            "|   29375587|            01|                  0|                2|         1|             080|             54|          221|                   |              425|         9227|    7885170733|               |                       |                 N|                    N|                    |          |           |                  VALIDADO|           2022-10-03|                  01|                 CTES|                |                NORM AUTO|                  COPDTEL|        2022-07-01|         1900-01-01|       1900-01-01|                    |                     |                       |                      |                    |                      |                      00:00:00|                    00:00:00|         2022-06-27|         A118978|      2022-10-03|            A127599|              122731|                   9330| 2022-11-30 00:42:...|\n",
            "+-----------+--------------+-------------------+-----------------+----------+----------------+---------------+-------------+-------------------+-----------------+-------------+--------------+---------------+-----------------------+------------------+---------------------+--------------------+----------+-----------+--------------------------+---------------------+--------------------+---------------------+----------------+-------------------------+-------------------------+------------------+-------------------+-----------------+--------------------+---------------------+-----------------------+----------------------+--------------------+----------------------+------------------------------+----------------------------+-------------------+----------------+----------------+-------------------+--------------------+-----------------------+---------------------+\n",
            "only showing top 20 rows\n",
            "\n"
          ]
        }
      ]
    },
    {
      "cell_type": "markdown",
      "source": [
        "## **JOINS ENTRE TABLAS (BBVAW2T1-24/25/26)**"
      ],
      "metadata": {
        "id": "AGFIYagTc8wg"
      }
    },
    {
      "cell_type": "code",
      "source": [
        "#Cambio formato de columna\n",
        "df_phones = df_phones.withColumn(\"phone_area_id\", F.col(\"phone_area_id\").cast(\"integer\"))\n",
        "df_phones = df_phones.withColumn(\"phone_number\", F.concat(F.lit(\"+\"), F.col(\"prefix_phone_id\"), F.lit(\" \"), F.col(\"phone_area_id\"), F.lit(\" \"), F.col(\"cellphone_prefix_id\"), F.lit(\" \"), F.col(\"phone_exchange_id\"), F.col(\"phone_line_id\")))"
      ],
      "metadata": {
        "id": "HOVugXbXZKkM"
      },
      "execution_count": null,
      "outputs": []
    },
    {
      "cell_type": "code",
      "source": [
        "#Join entre clientes y telefonos\n",
        "df_customer_basics_phones = df_customer_basics.join(df_phones, ['customer_id'], how='left').select(df_customer_basics.customer_id, df_phones.phone_type, df_phones.phone_number, df_phones.last_change_date)\n",
        "df_customer_basics_phones.sort(F.asc(\"customer_id\")).show(10)"
      ],
      "metadata": {
        "id": "OjHiWM7KdTXb",
        "colab": {
          "base_uri": "https://localhost:8080/"
        },
        "outputId": "3fe0d4c8-118b-42fd-9589-647978fc9f61"
      },
      "execution_count": null,
      "outputs": [
        {
          "output_type": "stream",
          "name": "stdout",
          "text": [
            "+-----------+----------+-------------------+----------------+\n",
            "|customer_id|phone_type|       phone_number|last_change_date|\n",
            "+-----------+----------+-------------------+----------------+\n",
            "|   00000442|         3| +54 297 15 5296284|      2022-07-20|\n",
            "|   00000442|         3| +54 297 15 4729337|      2022-07-20|\n",
            "|   00001419|         3| +54 11 15 66793207|      2022-11-01|\n",
            "|   00001939|         3| +54 11 15 38700150|      2022-09-21|\n",
            "|   00002575|      null|               null|            null|\n",
            "|   00002707|         1|   +54 299  4477116|      2022-08-17|\n",
            "|   00002790|         3| +54 342 15 4662478|      2022-11-18|\n",
            "|   00002790|         1|   +54 342  4883620|      2022-10-08|\n",
            "|   00004287|         3|+54 3541 15 5988799|      2022-08-29|\n",
            "|   00004724|         3| +54 11 15 24084447|      2022-11-04|\n",
            "+-----------+----------+-------------------+----------------+\n",
            "only showing top 10 rows\n",
            "\n"
          ]
        }
      ]
    },
    {
      "cell_type": "code",
      "source": [
        "#Join entre clientes e email\n",
        "df_customer_basics_email = df_customer_basics.join(df_email,['customer_id'], how='left').select(df_customer_basics.customer_id, df_email.email_desc, df_email.last_change_date)\n",
        "df_customer_basics_email.show()"
      ],
      "metadata": {
        "id": "B_17ljUR0BOM",
        "colab": {
          "base_uri": "https://localhost:8080/"
        },
        "outputId": "a5fcbd83-73fc-4c15-ded7-7f40101fa974"
      },
      "execution_count": null,
      "outputs": [
        {
          "output_type": "stream",
          "name": "stdout",
          "text": [
            "+-----------+--------------------+----------------+\n",
            "|customer_id|          email_desc|last_change_date|\n",
            "+-----------+--------------------+----------------+\n",
            "|   07867437|                null|            null|\n",
            "|   06813266|                null|            null|\n",
            "|   29604216|                null|            null|\n",
            "|   28028529|                null|            null|\n",
            "|   28366580|                null|            null|\n",
            "|   02746969|                null|            null|\n",
            "|   23441482|                null|            null|\n",
            "|   23610540|                null|            null|\n",
            "|   25935956|                null|            null|\n",
            "|   25848977|                null|            null|\n",
            "|   01957163|                null|            null|\n",
            "|   06338965|                null|            null|\n",
            "|   29676364|                null|            null|\n",
            "|   26205399|   DIONISI@YAHOO.COM|      2019-12-27|\n",
            "|   03933825|DIGITALIZACION@EE...|      1900-01-01|\n",
            "|   29416245|                null|            null|\n",
            "|   29497813|                null|            null|\n",
            "|   02568856|                null|            null|\n",
            "|   29681573|                null|            null|\n",
            "|   04348412|                null|            null|\n",
            "+-----------+--------------------+----------------+\n",
            "only showing top 20 rows\n",
            "\n"
          ]
        }
      ]
    },
    {
      "cell_type": "code",
      "source": [
        "df_address = df_address.withColumn(\"full_address\", F.concat(F.col(\"street_name\"), F.lit(\" \"), F.concat(F.col(\"address_outdoor_id\"), F.lit(\" \"), F.col(\"address_indoor_id\"), F.lit(\" \"), F.col(\"indoor_number\"), F.col(\"address_town_name\"), F.lit(\" \"), F.col(\"address_department_name\"), F.lit(\" \"), F.col(\"zipcode_id\"))))"
      ],
      "metadata": {
        "id": "eTM6Uz5bduvy"
      },
      "execution_count": null,
      "outputs": []
    },
    {
      "cell_type": "code",
      "source": [
        "#join entre clientes y direccion\n",
        "df_customer_basics_address = df_customer_basics.join(df_address,['customer_id'], how='left').select(df_customer_basics.customer_id, 'full_address', df_address.last_change_date)\n",
        "df_customer_basics_address.show()"
      ],
      "metadata": {
        "id": "FcAhH0c70Yxa",
        "colab": {
          "base_uri": "https://localhost:8080/"
        },
        "outputId": "fa61cae3-c980-4c02-d082-26ac1a0be81d"
      },
      "execution_count": null,
      "outputs": [
        {
          "output_type": "stream",
          "name": "stdout",
          "text": [
            "+-----------+--------------------+----------------+\n",
            "|customer_id|        full_address|last_change_date|\n",
            "+-----------+--------------------+----------------+\n",
            "|   07867437|ALTE FRANCISCO SE...|      2009-01-26|\n",
            "|   06813266|EL TORDO         ...|      2009-01-26|\n",
            "|   29604216|                null|            null|\n",
            "|   28028529|AMENEDO          ...|      2009-01-26|\n",
            "|   28366580|INCA AAA         ...|            null|\n",
            "|   28366580|INCA             ...|      2011-07-01|\n",
            "|   02746969|MERCEDES         ...|      2009-01-26|\n",
            "|   23441482|AV 39            ...|      2011-07-01|\n",
            "|   23610540|                null|            null|\n",
            "|   25935956|AV FERNANDEZ DE L...|      2009-01-26|\n",
            "|   25848977|                null|            null|\n",
            "|   01957163|JOSE M DE MINOGUY...|      2009-01-26|\n",
            "|   06338965|MADERO DR FRANCIS...|      2009-01-26|\n",
            "|   29676364|                null|            null|\n",
            "|   26205399|SUIPACHA         ...|      2009-01-26|\n",
            "|   03933825|HENRY DUNANT     ...|      2009-01-26|\n",
            "|   29416245|                null|            null|\n",
            "|   29497813|                null|            null|\n",
            "|   02568856|CLAUDIO MAMERTO C...|      2009-01-26|\n",
            "|   29681573|                null|            null|\n",
            "+-----------+--------------------+----------------+\n",
            "only showing top 20 rows\n",
            "\n"
          ]
        }
      ]
    },
    {
      "cell_type": "markdown",
      "source": [
        "## **FILTRADO Y REDUCCION DE DATOS --> PHONES (BBVAW2T1-27/61)**"
      ],
      "metadata": {
        "id": "YlsY5lSo9xK6"
      }
    },
    {
      "cell_type": "code",
      "source": [
        "#Hago una ventana por el customer_id y ordenado por la ultima actualizacion \n",
        "w = Window.partitionBy(df_customer_basics_phones['customer_id']).orderBy(\"last_change_date\")"
      ],
      "metadata": {
        "id": "xcpJjItfdTjJ"
      },
      "execution_count": null,
      "outputs": []
    },
    {
      "cell_type": "code",
      "source": [
        "#Agrego columna que cuente la cantidad de veces que se repite el ID\n",
        "df_customer_basics_phones = df_customer_basics_phones.withColumn(\"row_num\", row_number().over(w))"
      ],
      "metadata": {
        "id": "HDQPycVraAQm"
      },
      "execution_count": null,
      "outputs": []
    },
    {
      "cell_type": "code",
      "source": [
        "#Corto el dataframe quedandome con las ultimas 3 actualizaciones\n",
        "df_customer_basics_phones = df_customer_basics_phones.filter(col(\"row_num\") <= 3)"
      ],
      "metadata": {
        "id": "n3oRV3gLaAZX"
      },
      "execution_count": null,
      "outputs": []
    },
    {
      "cell_type": "code",
      "source": [
        "#Reacomodo la tabla con las columnas de interes y concatenando una nueva\n",
        "df_customer_basics_phones = df_customer_basics_phones.select('customer_id', 'phone_type', 'phone_number', 'row_num')\n",
        "df_customer_basics_phones.show(10)"
      ],
      "metadata": {
        "id": "ZLGGCQVYI6aI",
        "colab": {
          "base_uri": "https://localhost:8080/"
        },
        "outputId": "2ccad367-f95e-4081-f1f9-636333638217"
      },
      "execution_count": null,
      "outputs": [
        {
          "output_type": "stream",
          "name": "stdout",
          "text": [
            "+-----------+----------+-------------------+-------+\n",
            "|customer_id|phone_type|       phone_number|row_num|\n",
            "+-----------+----------+-------------------+-------+\n",
            "|   00000442|         3| +54 297 15 5296284|      1|\n",
            "|   00000442|         3| +54 297 15 4729337|      2|\n",
            "|   00001419|         3| +54 11 15 66793207|      1|\n",
            "|   00001939|         3| +54 11 15 38700150|      1|\n",
            "|   00002575|      null|               null|      1|\n",
            "|   00002707|         1|   +54 299  4477116|      1|\n",
            "|   00002790|         1|   +54 342  4883620|      1|\n",
            "|   00002790|         3| +54 342 15 4662478|      2|\n",
            "|   00004287|         3|+54 3541 15 5988799|      1|\n",
            "|   00004724|         3| +54 11 15 24084447|      1|\n",
            "+-----------+----------+-------------------+-------+\n",
            "only showing top 10 rows\n",
            "\n"
          ]
        }
      ]
    },
    {
      "cell_type": "code",
      "source": [
        "#creo una funcion pivot para una columna especificada y cambiarle el nombre a las nuevas.   \n",
        "df_final_customer_phones = df_customer_basics_phones.groupBy(\"customer_id\").pivot(\"row_num\").agg(first('phone_number'))\n",
        "df_final_customer_phones = df_final_customer_phones.withColumnRenamed(\"1\", 'phone_number' + \"_1\") \\\n",
        "       .withColumnRenamed(\"2\", 'phone_number' + \"_2\") \\\n",
        "       .withColumnRenamed(\"3\", 'phone_number' + \"_3\") "
      ],
      "metadata": {
        "id": "fLvYs7w8dn7-"
      },
      "execution_count": null,
      "outputs": []
    },
    {
      "cell_type": "code",
      "source": [
        "df_final_customer_phones.show()"
      ],
      "metadata": {
        "colab": {
          "base_uri": "https://localhost:8080/"
        },
        "id": "H45q3mKIf1Qz",
        "outputId": "6080e21f-ad1f-42d6-c3ec-242d2955044f"
      },
      "execution_count": null,
      "outputs": [
        {
          "output_type": "stream",
          "name": "stdout",
          "text": [
            "+-----------+-------------------+------------------+--------------+\n",
            "|customer_id|     phone_number_1|    phone_number_2|phone_number_3|\n",
            "+-----------+-------------------+------------------+--------------+\n",
            "|   00000442| +54 297 15 5296284|+54 297 15 4729337|          null|\n",
            "|   00001419| +54 11 15 66793207|              null|          null|\n",
            "|   00001939| +54 11 15 38700150|              null|          null|\n",
            "|   00002575|               null|              null|          null|\n",
            "|   00002707|   +54 299  4477116|              null|          null|\n",
            "|   00002790|   +54 342  4883620|+54 342 15 4662478|          null|\n",
            "|   00004287|+54 3541 15 5988799|              null|          null|\n",
            "|   00004724| +54 11 15 24084447|              null|          null|\n",
            "|   00007932| +54 385 15 4065887|              null|          null|\n",
            "|   00011850| +54 11 15 25781080|+54 3489 15 493578|          null|\n",
            "|   00012051| +54 3401 15 534381|              null|          null|\n",
            "|   00012611|   +54 11  43443165|+54 11 15 61141855|          null|\n",
            "|   00012991|               null|              null|          null|\n",
            "|   00013498| +54 221 15 6208511|              null|          null|\n",
            "|   00014664| +54 11 15 65050605|              null|          null|\n",
            "|   00015497| +54 11 15 51052460|              null|          null|\n",
            "|   00051576| +54 11 15 26531080|              null|          null|\n",
            "|   00053993| +54 3718 15 466655|              null|          null|\n",
            "|   00056407| +54 336 15 4577255|              null|          null|\n",
            "|   00056947| +54 297 15 4301718|+54 297 15 4577276|          null|\n",
            "+-----------+-------------------+------------------+--------------+\n",
            "only showing top 20 rows\n",
            "\n"
          ]
        }
      ]
    },
    {
      "cell_type": "markdown",
      "source": [
        "## **FILTRADO Y REDUCCION DE DATOS --> ADDRESS (BBVAW2T1-28)**"
      ],
      "metadata": {
        "id": "ZfzFJajcCiQD"
      }
    },
    {
      "cell_type": "code",
      "source": [
        "#Hago una ventana por el customer_id y ordenado por la ultima actualizacion \n",
        "w = Window.partitionBy(df_customer_basics_address['customer_id']).orderBy(\"last_change_date\")"
      ],
      "metadata": {
        "id": "pxkks_YiUH5a"
      },
      "execution_count": null,
      "outputs": []
    },
    {
      "cell_type": "code",
      "source": [
        "#Agrego columna que cuente la cantidad de veces que se repite el ID\n",
        "df_customer_basics_address = df_customer_basics_address.withColumn(\"row_num\", row_number().over(w))"
      ],
      "metadata": {
        "id": "Re5F4bZzUH5a"
      },
      "execution_count": null,
      "outputs": []
    },
    {
      "cell_type": "code",
      "source": [
        "#Corto el dataframe quedandome con las ultimas 3 actualizaciones\n",
        "df_customer_basics_address = df_customer_basics_address.filter(col(\"row_num\") <= 3)"
      ],
      "metadata": {
        "id": "B3I6KV-zUH5b"
      },
      "execution_count": null,
      "outputs": []
    },
    {
      "cell_type": "code",
      "source": [
        "#Reacomodo la tabla con las columnas de interes.\n",
        "df_customer_basics_address = df_customer_basics_address.select('customer_id', 'full_address', 'row_num')\n",
        "df_customer_basics_address.show(10)"
      ],
      "metadata": {
        "id": "XHkQtwHzSsMm",
        "colab": {
          "base_uri": "https://localhost:8080/"
        },
        "outputId": "8c2abd41-bba8-4aaa-f3b6-a62b86828ed0"
      },
      "execution_count": null,
      "outputs": [
        {
          "output_type": "stream",
          "name": "stdout",
          "text": [
            "+-----------+--------------------+-------+\n",
            "|customer_id|        full_address|row_num|\n",
            "+-----------+--------------------+-------+\n",
            "|   00000442|AGUERO           ...|      1|\n",
            "|   00001419|ALTE G BROWN     ...|      1|\n",
            "|   00001939|JOSE HERNANDEZ   ...|      1|\n",
            "|   00002575|                null|      1|\n",
            "|   00002707|GUATEMALA        ...|      1|\n",
            "|   00002790|AV CORDOBA       ...|      1|\n",
            "|   00004287|CNEL DE MARINA RO...|      1|\n",
            "|   00004724|PJE MUTUALISMO   ...|      1|\n",
            "|   00007932|AV FELIX DE OLAZA...|      1|\n",
            "|   00011850|JUNCAL           ...|      1|\n",
            "+-----------+--------------------+-------+\n",
            "only showing top 10 rows\n",
            "\n"
          ]
        }
      ]
    },
    {
      "cell_type": "code",
      "source": [
        "#creo una funcion pivot para una columna especificada y cambiarle el nombre a las nuevas.\n",
        "  \n",
        "df_final_customer_address = df_customer_basics_address.groupBy(\"customer_id\").pivot(\"row_num\").agg(first('full_address'))\n",
        "df_final_customer_address = df_final_customer_address.withColumnRenamed(\"1\", 'full_address' + \"_1\") \\\n",
        "       .withColumnRenamed(\"2\", 'full_address' + \"_2\") \\\n",
        "       .withColumnRenamed(\"3\", 'full_address' + \"_3\")"
      ],
      "metadata": {
        "id": "OhwYHQvxWu0b"
      },
      "execution_count": null,
      "outputs": []
    },
    {
      "cell_type": "code",
      "source": [
        "df_final_customer_address.show()"
      ],
      "metadata": {
        "colab": {
          "base_uri": "https://localhost:8080/"
        },
        "id": "u8fvY10hWu9F",
        "outputId": "f34dc7e0-2695-443a-ac74-0356c1f4aa07"
      },
      "execution_count": null,
      "outputs": [
        {
          "output_type": "stream",
          "name": "stdout",
          "text": [
            "+-----------+--------------------+--------------+--------------+\n",
            "|customer_id|      full_address_1|full_address_2|full_address_3|\n",
            "+-----------+--------------------+--------------+--------------+\n",
            "|   00000442|AGUERO           ...|          null|          null|\n",
            "|   00001419|ALTE G BROWN     ...|          null|          null|\n",
            "|   00001939|JOSE HERNANDEZ   ...|          null|          null|\n",
            "|   00002575|                null|          null|          null|\n",
            "|   00002707|GUATEMALA        ...|          null|          null|\n",
            "|   00002790|AV CORDOBA       ...|          null|          null|\n",
            "|   00004287|CNEL DE MARINA RO...|          null|          null|\n",
            "|   00004724|PJE MUTUALISMO   ...|          null|          null|\n",
            "|   00007932|AV FELIX DE OLAZA...|          null|          null|\n",
            "|   00011850|JUNCAL           ...|          null|          null|\n",
            "|   00012051|AV GRAL JOSE MARI...|          null|          null|\n",
            "|   00012611|ALBERTO LARROQUE ...|          null|          null|\n",
            "|   00012991|                null|          null|          null|\n",
            "|   00013498|AV PTE H YRIGOYEN...|          null|          null|\n",
            "|   00014664|AV TRIUNVIRATO   ...|          null|          null|\n",
            "|   00015497|VUELTA DE OBLIGAD...|          null|          null|\n",
            "|   00051576|ING GUILLERMO MAR...|          null|          null|\n",
            "|   00053993|CALLE 899        ...|          null|          null|\n",
            "|   00056407|AV DR J BAUTISTA ...|          null|          null|\n",
            "|   00056947|AV 25 DE MAYO    ...|          null|          null|\n",
            "+-----------+--------------------+--------------+--------------+\n",
            "only showing top 20 rows\n",
            "\n"
          ]
        }
      ]
    },
    {
      "cell_type": "markdown",
      "source": [
        "## **FILTRADO Y REDUCCION DE DATOS --> EMAILS (BBVAW2T1-29)**"
      ],
      "metadata": {
        "id": "y6RECo3H_Ccw"
      }
    },
    {
      "cell_type": "code",
      "source": [
        "#Filtrado y reduccion de datos --> EMAILS\n",
        "w = Window.partitionBy(df_customer_basics_email['customer_id']).orderBy(\"last_change_date\")"
      ],
      "metadata": {
        "id": "_kCYhMHpd3wJ"
      },
      "execution_count": null,
      "outputs": []
    },
    {
      "cell_type": "code",
      "source": [
        "df_customer_basics_email = df_customer_basics_email.withColumn(\"row_num\", row_number().over(w))"
      ],
      "metadata": {
        "id": "YdI72Ndsd3wK"
      },
      "execution_count": null,
      "outputs": []
    },
    {
      "cell_type": "code",
      "source": [
        "df_customer_basics_email = df_customer_basics_email.filter(col(\"row_num\") <= 3)"
      ],
      "metadata": {
        "id": "CthW4hv1d3wK"
      },
      "execution_count": null,
      "outputs": []
    },
    {
      "cell_type": "code",
      "source": [
        "df_customer_basics_email.show(10)"
      ],
      "metadata": {
        "id": "s2B32O57d3wK",
        "colab": {
          "base_uri": "https://localhost:8080/"
        },
        "outputId": "6f2a3aee-6e94-441d-cf7c-9f2752cd2b61"
      },
      "execution_count": null,
      "outputs": [
        {
          "output_type": "stream",
          "name": "stdout",
          "text": [
            "+-----------+--------------------+----------------+-------+\n",
            "|customer_id|          email_desc|last_change_date|row_num|\n",
            "+-----------+--------------------+----------------+-------+\n",
            "|   00000442|                null|            null|      1|\n",
            "|   00001419|EMILIA.RUBIANES@H...|      2015-10-08|      1|\n",
            "|   00001419|  JU_LY1@HOTMAIL.COM|      2019-05-11|      2|\n",
            "|   00001939|                null|            null|      1|\n",
            "|   00002575|                null|            null|      1|\n",
            "|   00002707|                null|            null|      1|\n",
            "|   00002790|DIGITALIZACION@EE...|      1900-01-01|      1|\n",
            "|   00002790| NOTIENE@HOIMAIL.COM|      2019-07-29|      2|\n",
            "|   00004287|                null|            null|      1|\n",
            "|   00004724|                null|            null|      1|\n",
            "+-----------+--------------------+----------------+-------+\n",
            "only showing top 10 rows\n",
            "\n"
          ]
        }
      ]
    },
    {
      "cell_type": "code",
      "source": [
        "#Hago primer pivot para dejar una fila por ID y tener cada email en columnas separadas\n",
        "df_final_customer_email = df_customer_basics_email.groupBy(\"customer_id\").pivot(\"row_num\").agg(first(\"email_desc\"))\n",
        "df_final_customer_email = df_final_customer_email.withColumnRenamed(\"1\", \"email_1\") \\\n",
        "       .withColumnRenamed(\"2\", \"email_2\") \\\n",
        "       .withColumnRenamed(\"3\", \"email_3\")\n",
        "df_final_customer_email.show()"
      ],
      "metadata": {
        "id": "eV1XYnSB_Yj_",
        "colab": {
          "base_uri": "https://localhost:8080/"
        },
        "outputId": "a7550964-0a04-4980-fe96-edf2ed337a2e"
      },
      "execution_count": null,
      "outputs": [
        {
          "output_type": "stream",
          "name": "stdout",
          "text": [
            "+-----------+--------------------+-------------------+-------+\n",
            "|customer_id|             email_1|            email_2|email_3|\n",
            "+-----------+--------------------+-------------------+-------+\n",
            "|   00000442|                null|               null|   null|\n",
            "|   00001419|EMILIA.RUBIANES@H...| JU_LY1@HOTMAIL.COM|   null|\n",
            "|   00001939|                null|               null|   null|\n",
            "|   00002575|                null|               null|   null|\n",
            "|   00002707|                null|               null|   null|\n",
            "|   00002790|DIGITALIZACION@EE...|NOTIENE@HOIMAIL.COM|   null|\n",
            "|   00004287|                null|               null|   null|\n",
            "|   00004724|                null|               null|   null|\n",
            "|   00007932|                null|               null|   null|\n",
            "|   00011850|                null|               null|   null|\n",
            "|   00012051|                null|               null|   null|\n",
            "|   00012611|                null|               null|   null|\n",
            "|   00012991|                null|               null|   null|\n",
            "|   00013498|                null|               null|   null|\n",
            "|   00014664|   alq@ciudad.com.ar|               null|   null|\n",
            "|   00015497|                null|               null|   null|\n",
            "|   00051576|                null|               null|   null|\n",
            "|   00053993|                null|               null|   null|\n",
            "|   00056407|NELLY.S.GEREZ@GMA...|               null|   null|\n",
            "|   00056947|                null|               null|   null|\n",
            "+-----------+--------------------+-------------------+-------+\n",
            "only showing top 20 rows\n",
            "\n"
          ]
        }
      ]
    },
    {
      "cell_type": "markdown",
      "source": [
        "## **AGREGAR COLUMNA CONTACT TYPE A LOS DATAFRAME (BBVAW2T1-30)**"
      ],
      "metadata": {
        "id": "hnl4rCVlIqws"
      }
    },
    {
      "cell_type": "code",
      "source": [
        "df_final_customer_address = df_final_customer_address.withColumn(\"Contact_type\", lit('Address'))\n",
        "df_final_customer_email = df_final_customer_email.withColumn(\"Contact_type\", lit('Email'))\n",
        "df_final_customer_phones = df_final_customer_phones.withColumn(\"Contact_type\", lit('Phone'))"
      ],
      "metadata": {
        "id": "oEES11OpIukc"
      },
      "execution_count": null,
      "outputs": []
    },
    {
      "cell_type": "code",
      "source": [
        "#Reemplazo los valores en Tipo de Contacto que son null\n",
        "df_final_customer_address = df_final_customer_address.withColumn(\"Contact_type\", F.when(F.col(\"full_address_1\").isNull(), F.lit(\" \")).otherwise(F.lit(\"address\")))\n",
        "df_final_customer_phones = df_final_customer_phones.withColumn(\"Contact_type\", F.when(F.col(\"phone_number_1\").isNull(), F.lit(\" \")).otherwise(F.lit(\"phone\")))\n",
        "df_final_customer_email = df_final_customer_email.withColumn(\"Contact_type\", F.when(F.col(\"email_1\").isNull(), F.lit(\" \")).otherwise(F.lit(\"email\")))"
      ],
      "metadata": {
        "id": "kyHteyt2ivmj"
      },
      "execution_count": null,
      "outputs": []
    },
    {
      "cell_type": "code",
      "source": [
        "df_final_customer_address.show()"
      ],
      "metadata": {
        "colab": {
          "base_uri": "https://localhost:8080/"
        },
        "id": "J7C-0cLML8Fj",
        "outputId": "eedfec2d-4fc5-46dc-ab7f-a573bc09ae3f"
      },
      "execution_count": null,
      "outputs": [
        {
          "output_type": "stream",
          "name": "stdout",
          "text": [
            "+-----------+--------------------+--------------+--------------+------------+\n",
            "|customer_id|      full_address_1|full_address_2|full_address_3|Contact_type|\n",
            "+-----------+--------------------+--------------+--------------+------------+\n",
            "|   00000442|AGUERO           ...|          null|          null|     address|\n",
            "|   00001419|ALTE G BROWN     ...|          null|          null|     address|\n",
            "|   00001939|JOSE HERNANDEZ   ...|          null|          null|     address|\n",
            "|   00002575|                null|          null|          null|            |\n",
            "|   00002707|GUATEMALA        ...|          null|          null|     address|\n",
            "|   00002790|AV CORDOBA       ...|          null|          null|     address|\n",
            "|   00004287|CNEL DE MARINA RO...|          null|          null|     address|\n",
            "|   00004724|PJE MUTUALISMO   ...|          null|          null|     address|\n",
            "|   00007932|AV FELIX DE OLAZA...|          null|          null|     address|\n",
            "|   00011850|JUNCAL           ...|          null|          null|     address|\n",
            "|   00012051|AV GRAL JOSE MARI...|          null|          null|     address|\n",
            "|   00012611|ALBERTO LARROQUE ...|          null|          null|     address|\n",
            "|   00012991|                null|          null|          null|            |\n",
            "|   00013498|AV PTE H YRIGOYEN...|          null|          null|     address|\n",
            "|   00014664|AV TRIUNVIRATO   ...|          null|          null|     address|\n",
            "|   00015497|VUELTA DE OBLIGAD...|          null|          null|     address|\n",
            "|   00051576|ING GUILLERMO MAR...|          null|          null|     address|\n",
            "|   00053993|CALLE 899        ...|          null|          null|     address|\n",
            "|   00056407|AV DR J BAUTISTA ...|          null|          null|     address|\n",
            "|   00056947|AV 25 DE MAYO    ...|          null|          null|     address|\n",
            "+-----------+--------------------+--------------+--------------+------------+\n",
            "only showing top 20 rows\n",
            "\n"
          ]
        }
      ]
    },
    {
      "cell_type": "code",
      "source": [],
      "metadata": {
        "id": "cmTw0F8ocSuQ"
      },
      "execution_count": null,
      "outputs": []
    },
    {
      "cell_type": "markdown",
      "source": [
        "## **AGREGAR COLUMNA DE JSON A TELEFONO (BBVAW2T1-31)**"
      ],
      "metadata": {
        "id": "iBaj_HxMlneH"
      }
    },
    {
      "cell_type": "code",
      "source": [
        "df_final_customer_phones = df_final_customer_phones.withColumn(\"phone_number_1_to_json\", F.when(F.col(\"phone_number_1\").isNull(), F.lit(\"sin_dato\")).otherwise(F.col(\"phone_number_1\")))\n",
        "df_final_customer_phones = df_final_customer_phones.withColumn(\"phone_number_1_json\", F.to_json(F.struct(\"phone_number_1_to_json\")))"
      ],
      "metadata": {
        "id": "kD3sk3WLlq5_"
      },
      "execution_count": null,
      "outputs": []
    },
    {
      "cell_type": "code",
      "source": [
        "df_final_customer_phones.count()"
      ],
      "metadata": {
        "colab": {
          "base_uri": "https://localhost:8080/"
        },
        "id": "2wB4PSFCngb1",
        "outputId": "0b051d76-c470-4c39-cdbc-87cff93948ea"
      },
      "execution_count": null,
      "outputs": [
        {
          "output_type": "execute_result",
          "data": {
            "text/plain": [
              "1614"
            ]
          },
          "metadata": {},
          "execution_count": 88
        }
      ]
    },
    {
      "cell_type": "markdown",
      "source": [
        "## **AGREGAR COLUMNA DE JSON A DOMICILIO (BBVAW2T1-32)** "
      ],
      "metadata": {
        "id": "hdL2DG-IMdVU"
      }
    },
    {
      "cell_type": "code",
      "source": [
        "df_final_customer_address = df_final_customer_address.withColumn(\"full_address_1_to_json\", F.when(F.col(\"full_address_1\").isNull(), F.lit(\"sin_dato\")).otherwise(F.col(\"full_address_1\")))\n",
        "df_final_customer_address = df_final_customer_address.withColumn(\"full_address_1_json\", F.to_json(F.struct(\"full_address_1_to_json\")))"
      ],
      "metadata": {
        "id": "vjo8xY4vMlUT"
      },
      "execution_count": null,
      "outputs": []
    },
    {
      "cell_type": "code",
      "source": [
        "df_final_customer_email.count()"
      ],
      "metadata": {
        "colab": {
          "base_uri": "https://localhost:8080/"
        },
        "id": "ORvTWrB-kt3l",
        "outputId": "341ac967-4ecd-4c0e-df2d-ba328e3c1b32"
      },
      "execution_count": null,
      "outputs": [
        {
          "output_type": "execute_result",
          "data": {
            "text/plain": [
              "1614"
            ]
          },
          "metadata": {},
          "execution_count": 90
        }
      ]
    },
    {
      "cell_type": "code",
      "source": [
        "df_final_customer_address.select(F.collect_list('full_address_1_json')).first()[0]"
      ],
      "metadata": {
        "id": "rSeyuzrClDNe",
        "colab": {
          "base_uri": "https://localhost:8080/"
        },
        "outputId": "23ae065c-75ba-40d4-fd68-b9e3dc7538e1"
      },
      "execution_count": null,
      "outputs": [
        {
          "output_type": "execute_result",
          "data": {
            "text/plain": [
              "['{\"full_address_1_to_json\":\"AGUERO                   0000842 PB       B      CAPITAL FEDERAL                112233114455                   01171\"}',\n",
              " '{\"full_address_1_to_json\":\"ALTE G BROWN             0001074 1        A      MORON                          MORON                          01708\"}',\n",
              " '{\"full_address_1_to_json\":\"JOSE HERNANDEZ           0002045 1        C      CIUDAD AUTONOMA BUENOS AIRES   CAPITAL FEDERAL                01426\"}',\n",
              " '{\"full_address_1_to_json\":\"sin_dato\"}',\n",
              " '{\"full_address_1_to_json\":\"GUATEMALA                0001846                 VIRREYES                       112233114455                   01646\"}',\n",
              " '{\"full_address_1_to_json\":\"AV CORDOBA               0002206 4        30     CIUDAD AUTONOMA BUENOS AIRES   CAPITAL FEDERAL                01120\"}',\n",
              " '{\"full_address_1_to_json\":\"CNEL DE MARINA ROSALES   0002750 5        C      OLIVOS                         VICENTE LOPEZ                  01636\"}',\n",
              " '{\"full_address_1_to_json\":\"PJE MUTUALISMO           0002559                 CIUDAD AUTONOMA BUENOS AIRES   CAPITAL FEDERAL                01284\"}',\n",
              " '{\"full_address_1_to_json\":\"AV FELIX DE OLAZABAL     0005392 1        C      CIUDAD AUTONOMA BUENOS AIRES   CAPITAL FEDERAL                01431\"}',\n",
              " '{\"full_address_1_to_json\":\"JUNCAL                   0001027                 CIUDAD AUTONOMA BUENOS AIRES   CAPITAL FEDERAL                01062\"}',\n",
              " '{\"full_address_1_to_json\":\"AV GRAL JOSE MARIA PAZ   0005310 3        E      CIUDAD AUTONOMA BUENOS AIRES   CAPITAL FEDERAL                01419\"}',\n",
              " '{\"full_address_1_to_json\":\"ALBERTO LARROQUE         0000991                 BANFIELD                       LOMAS DE ZAMORA                01828\"}',\n",
              " '{\"full_address_1_to_json\":\"sin_dato\"}',\n",
              " '{\"full_address_1_to_json\":\"AV PTE H YRIGOYEN        0010600                 TEMPERLEY                      LOMAS DE ZAMORA                01834\"}',\n",
              " '{\"full_address_1_to_json\":\"AV TRIUNVIRATO           0004337 PB       C      CIUDAD AUTONOMA BUENOS AIRES   CAPITAL FEDERAL                01431\"}',\n",
              " '{\"full_address_1_to_json\":\"VUELTA DE OBLIGADO       0002561 7        A      CIUDAD AUTONOMA BUENOS AIRES   CAPITAL FEDERAL                01428\"}',\n",
              " '{\"full_address_1_to_json\":\"ING GUILLERMO MARCONI    0003215                 BECCAR                         SAN ISIDRO                     01643\"}',\n",
              " '{\"full_address_1_to_json\":\"CALLE 899                0001434                 QUILMES OESTE                  QUILMES                        01879\"}',\n",
              " '{\"full_address_1_to_json\":\"AV DR J BAUTISTA JUSTO   0001421 2        C      CIUDAD AUTONOMA BUENOS AIRES   CAPITAL FEDERAL                01414\"}',\n",
              " '{\"full_address_1_to_json\":\"AV 25 DE MAYO            0001301                 LANUS                          LANUS                          01824\"}',\n",
              " '{\"full_address_1_to_json\":\"CNEL AREVALO             0002301                 CIUDAD AUTONOMA BUENOS AIRES   CAPITAL FEDERAL                01425\"}',\n",
              " '{\"full_address_1_to_json\":\"MENDOZA                  0000920 PB              LUIS GUILLON                   ESTEBAN ECHEVERRIA             01838\"}',\n",
              " '{\"full_address_1_to_json\":\"AV PTE J D PERON         0001079                 SAN FERNANDO                   SAN FERNANDO                   01646\"}',\n",
              " '{\"full_address_1_to_json\":\"QUITO                    0000455                 TABLADA                        LA MATANZA                     01766\"}',\n",
              " '{\"full_address_1_to_json\":\"LOS MALVONES             0003571                 MANUEL ALBERTI                 PILAR                          01667\"}',\n",
              " '{\"full_address_1_to_json\":\"GRAL M DE AZCUENAGA      0001435 6        14     CIUDAD AUTONOMA BUENOS AIRES   CAPITAL FEDERAL                01115\"}',\n",
              " '{\"full_address_1_to_json\":\"FRAGATA TRINIDAD         0001863                 PILAR                          PILAR                          01629\"}',\n",
              " '{\"full_address_1_to_json\":\"VICTORIANO AGUILAR       0002469 2        A      CIUDAD AUTONOMA BUENOS AIRES   CAPITAL FEDERAL                01426\"}',\n",
              " '{\"full_address_1_to_json\":\"CERROS COLORADOS         0001348 PB              BANFIELD                       LOMAS DE ZAMORA                01828\"}',\n",
              " '{\"full_address_1_to_json\":\"MARTIN CORONADO          0000967                 ACASSUSO                       SAN ISIDRO                     01640\"}',\n",
              " '{\"full_address_1_to_json\":\"SANTOS DUMONT            0004337 PB       B      CIUDAD AUTONOMA BUENOS AIRES   CAPITAL FEDERAL                01427\"}',\n",
              " '{\"full_address_1_to_json\":\"AV DR MARIANO MORENO     0003227 9               SALADILLO                      SALADILLO                      07260\"}',\n",
              " '{\"full_address_1_to_json\":\"MANAGUA                  0000104                 M.ALBERTI(APEADERO FCGB)       112233114455                   01667\"}',\n",
              " '{\"full_address_1_to_json\":\"RENACIMIENTO             0000484                 VILLA DE MAYO                  MALVINAS ARGENTINAS            01614\"}',\n",
              " '{\"full_address_1_to_json\":\"18 DE DICIEMBRE 1856     0002041 1        B      GENERAL SAN MARTIN             GENERAL SAN MARTIN             01650\"}',\n",
              " '{\"full_address_1_to_json\":\"AV GAONA                 0002751 8        G      CIUDAD AUTONOMA BUENOS AIRES   CAPITAL FEDERAL                01416\"}',\n",
              " '{\"full_address_1_to_json\":\"PADILLA                  0000631 PB       A      CIUDAD AUTONOMA BUENOS AIRES   CAPITAL FEDERAL                01414\"}',\n",
              " '{\"full_address_1_to_json\":\"CATTANEO                 0000755                 MANUEL ALBERTI                 PILAR                          01667\"}',\n",
              " '{\"full_address_1_to_json\":\"ARENALES                 0001378 10       C      CIUDAD AUTONOMA BUENOS AIRES   CAPITAL FEDERAL                01061\"}',\n",
              " '{\"full_address_1_to_json\":\"AV SALVADOR M DEL CARRIL 0002152                 CIUDAD AUTONOMA BUENOS AIRES   CAPITAL FEDERAL                01419\"}',\n",
              " '{\"full_address_1_to_json\":\"SOLIS                    0000217                 TIGRE                          TIGRE                          01648\"}',\n",
              " '{\"full_address_1_to_json\":\"CALLE 51                 0000420                 LA PLATA                       112233114455                   01900\"}',\n",
              " '{\"full_address_1_to_json\":\"CALLE 20                 0000538                 LA PLATA                       112233114455                   01900\"}',\n",
              " '{\"full_address_1_to_json\":\"ALEJO NAZARRE            0004466                 CIUDAD AUTONOMA BUENOS AIRES   CAPITAL FEDERAL                01417\"}',\n",
              " '{\"full_address_1_to_json\":\"OLAVARRIA                0001950 1        52     CIUDAD AUTONOMA BUENOS AIRES   CAPITAL FEDERAL                01288\"}',\n",
              " '{\"full_address_1_to_json\":\"sin_dato\"}',\n",
              " '{\"full_address_1_to_json\":\"POETA ROMILDO RISSO      0003721                 HURLINGHAM                     HURLINGHAM                     01686\"}',\n",
              " '{\"full_address_1_to_json\":\"AV EVA PERON             0001644 11       E      CIUDAD AUTONOMA BUENOS AIRES   CAPITAL FEDERAL                01406\"}',\n",
              " '{\"full_address_1_to_json\":\"JUJUY                    0001740                 VILLA LUZURIAGA                LA MATANZA                     01754\"}',\n",
              " '{\"full_address_1_to_json\":\"AV PTE H YRIGOYEN        0006815                 VIRREYES                       SAN FERNANDO                   01646\"}',\n",
              " '{\"full_address_1_to_json\":\"AV CORDOBA               0002122                 CIUDAD AUTONOMA BUENOS AIRES   CAPITAL FEDERAL                01120\"}',\n",
              " '{\"full_address_1_to_json\":\"MIGUEL DIOMEDE           0001363                 BURZACO                        ALMIRANTE BROWN                01852\"}',\n",
              " '{\"full_address_1_to_json\":\"MATHEU                   0002563                 GENERAL SAN MARTIN             GENERAL SAN MARTIN             01650\"}',\n",
              " '{\"full_address_1_to_json\":\"MACIEL                   0001092                 MERLO                          MERLO                          01722\"}',\n",
              " '{\"full_address_1_to_json\":\"ARENALES                 0002893                 CIUDAD AUTONOMA BUENOS AIRES   CAPITAL FEDERAL                01425\"}',\n",
              " '{\"full_address_1_to_json\":\"ARRIBE�OS                0001684 10              CIUDAD AUTONOMA BUENOS AIRES   CAPITAL FEDERAL                01426\"}',\n",
              " '{\"full_address_1_to_json\":\"JOSE RONDEAU             0002527 4        D      CIUDAD AUTONOMA BUENOS AIRES   CAPITAL FEDERAL                01262\"}',\n",
              " '{\"full_address_1_to_json\":\"GRAL J A LAVALLEJA       0000647                 ITUZAINGO                      ITUZAINGO                      01714\"}',\n",
              " '{\"full_address_1_to_json\":\"ALTE FRANCISCO SEGUI     0000419 4        A      CIUDAD AUTONOMA BUENOS AIRES   CAPITAL FEDERAL                01406\"}',\n",
              " '{\"full_address_1_to_json\":\"PTE D F SARMIENTO        0001437                 LANUS                          LANUS                          01824\"}',\n",
              " '{\"full_address_1_to_json\":\"LINIERS                  0000479                 SAN ISIDRO                     SAN ISIDRO                     01642\"}',\n",
              " '{\"full_address_1_to_json\":\"CHILE                    0000871 PB              CIUDAD AUTONOMA BUENOS AIRES   CAPITAL FEDERAL                01098\"}',\n",
              " '{\"full_address_1_to_json\":\"DR JUAN JOSE PASO        0000555                 CIUDAD AUTONOMA BUENOS AIRES   CAPITAL FEDERAL                01031\"}',\n",
              " '{\"full_address_1_to_json\":\"ESMERALDA                0001082                 CIUDAD AUTONOMA BUENOS AIRES   CAPITAL FEDERAL                01007\"}',\n",
              " '{\"full_address_1_to_json\":\"CHACABUCO                0001131                 FLORIDA                        VICENTE LOPEZ                  01602\"}',\n",
              " '{\"full_address_1_to_json\":\"sin_dato\"}',\n",
              " '{\"full_address_1_to_json\":\"SGTO A ROSAS CASTILLO    0002480 PB              HURLINGHAM                     HURLINGHAM                     01686\"}',\n",
              " '{\"full_address_1_to_json\":\"AV CORDOBA               0002122                 CIUDAD AUTONOMA BUENOS AIRES   CAPITAL FEDERAL                01120\"}',\n",
              " '{\"full_address_1_to_json\":\"AV DARDO ROCHA           0001463                 BERAZATEGUI                    BERAZATEGUI                    01884\"}',\n",
              " '{\"full_address_1_to_json\":\"AV CASEROS               0002921 2        8      CAPITAL FEDERAL                112233114455                   01264\"}',\n",
              " '{\"full_address_1_to_json\":\"BLANCO ENCALADA          0002851 5        H      CIUDAD AUTONOMA BUENOS AIRES   CAPITAL FEDERAL                01428\"}',\n",
              " '{\"full_address_1_to_json\":\"AV GRAL JOSE MARIA PAZ   0013136 PB              CIUDAD AUTONOMA BUENOS AIRES   CAPITAL FEDERAL                01440\"}',\n",
              " '{\"full_address_1_to_json\":\"GRAL LAS HERAS           0001628 4        A      FLORIDA                        VICENTE LOPEZ                  01602\"}',\n",
              " '{\"full_address_1_to_json\":\"9 DE JULIO               0004550                 SANTA FE                       LA CAPITAL                     03000\"}',\n",
              " '{\"full_address_1_to_json\":\"sin_dato\"}',\n",
              " '{\"full_address_1_to_json\":\"TENIENTE E G FORD        0001647 PB              LUIS GUILLON                   ESTEBAN ECHEVERRIA             01838\"}',\n",
              " '{\"full_address_1_to_json\":\"AV MONTES DE OCA         0000630 10       C      CIUDAD AUTONOMA BUENOS AIRES   CAPITAL FEDERAL                01270\"}',\n",
              " '{\"full_address_1_to_json\":\"SAN MARTIN               0001199                 P R SAENZ PE�A                                                03700\"}',\n",
              " '{\"full_address_1_to_json\":\"FORMOSA                  0001066 PB              LANUS                          LANUS                          01824\"}',\n",
              " '{\"full_address_1_to_json\":\"sin_dato\"}',\n",
              " '{\"full_address_1_to_json\":\"ALBARRACIN DE SARMIENTO  0001142                 9 DE ABRIL                     ESTEBAN ECHEVERRIA             01776\"}',\n",
              " '{\"full_address_1_to_json\":\"GUATEMALA                0004368                 SAN JUSTO                      LA MATANZA                     01754\"}',\n",
              " '{\"full_address_1_to_json\":\"RAFAEL OBLIGADO          0001807                 BELLA VISTA                    SAN MIGUEL                     01661\"}',\n",
              " '{\"full_address_1_to_json\":\"PRILIDIANO PUEYRREDON    0000984                 MARTINEZ                       SAN ISIDRO                     01640\"}',\n",
              " '{\"full_address_1_to_json\":\"DEAN FUNES               0000702 PB              CIUDAD AUTONOMA BUENOS AIRES   CAPITAL FEDERAL                01231\"}',\n",
              " '{\"full_address_1_to_json\":\"sin_dato\"}',\n",
              " '{\"full_address_1_to_json\":\"sin_dato\"}',\n",
              " '{\"full_address_1_to_json\":\"ITUZAINGO                0000269                 LOMA HERMOSA                   TRES DE FEBRERO                01657\"}',\n",
              " '{\"full_address_1_to_json\":\"BENITO PEREZ GALDOS      0001572 PB       2      VALENTIN ALSINA                LANUS                          01822\"}',\n",
              " '{\"full_address_1_to_json\":\"sin_dato\"}',\n",
              " '{\"full_address_1_to_json\":\"MONROE                   0005150 6        A      CIUDAD AUTONOMA BUENOS AIRES   CAPITAL FEDERAL                01431\"}',\n",
              " '{\"full_address_1_to_json\":\"GRAL VEDIA               0000726                 RESISTENCIA                                                   03500\"}',\n",
              " '{\"full_address_1_to_json\":\"BENITO PEREZ GALDOS      0000481 PB              BANFIELD                       LOMAS DE ZAMORA                01828\"}',\n",
              " '{\"full_address_1_to_json\":\"VENTURA BOSCH            0006320                 CIUDAD AUTONOMA BUENOS AIRES   CAPITAL FEDERAL                01408\"}',\n",
              " '{\"full_address_1_to_json\":\"LIBERTAD                 0000960 5        A      CIUDAD AUTONOMA BUENOS AIRES   CAPITAL FEDERAL                01012\"}',\n",
              " '{\"full_address_1_to_json\":\"AV CORDOBA               0002122                 CIUDAD AUTONOMA BUENOS AIRES   CAPITAL FEDERAL                01120\"}',\n",
              " '{\"full_address_1_to_json\":\"AV CARLOS FOREST         0001318 1               CIUDAD AUTONOMA BUENOS AIRES   CAPITAL FEDERAL                01427\"}',\n",
              " '{\"full_address_1_to_json\":\"AV FABIAN ONZARI         0001158 PA              WILDE                          AVELLANEDA                     01875\"}',\n",
              " '{\"full_address_1_to_json\":\"AV CELESTINO VIDAL       0003527 12       D      CIUDAD AUTONOMA BUENOS AIRES   CAPITAL FEDERAL                01429\"}',\n",
              " '{\"full_address_1_to_json\":\"CARACAS                  0002586                 CIUDAD AUTONOMA BUENOS AIRES   CAPITAL FEDERAL                01417\"}',\n",
              " '{\"full_address_1_to_json\":\"SAN MARTIN GRAL JOSE DE  0009834                 LOMA HERMOSA                   112233114455                   01657\"}',\n",
              " '{\"full_address_1_to_json\":\"PERU                     0000911                 FLORIDA OESTE                  VICENTE LOPEZ                  01602\"}',\n",
              " '{\"full_address_1_to_json\":\"AV DEL LIBERTADOR        0006255                 CIUDAD AUTONOMA BUENOS AIRES   CAPITAL FEDERAL                01428\"}',\n",
              " '{\"full_address_1_to_json\":\"ANUNCIACION              0002721                 MORON                          MORON                          01708\"}',\n",
              " '{\"full_address_1_to_json\":\"AV SAN MARTIN            0000125                 BURZACO                        ALMIRANTE BROWN                01852\"}',\n",
              " '{\"full_address_1_to_json\":\"sin_dato\"}',\n",
              " '{\"full_address_1_to_json\":\"AV GRAL SAN MARTIN       0002126 1               FLORIDA                        VICENTE LOPEZ                  01602\"}',\n",
              " '{\"full_address_1_to_json\":\"ARENALES                 0001826 1               CIUDAD AUTONOMA BUENOS AIRES   CAPITAL FEDERAL                01124\"}',\n",
              " '{\"full_address_1_to_json\":\"MIGUEL DE SALCEDO        0001718                 CASTELAR                       MORON                          01712\"}',\n",
              " '{\"full_address_1_to_json\":\"sin_dato\"}',\n",
              " '{\"full_address_1_to_json\":\"sin_dato\"}',\n",
              " '{\"full_address_1_to_json\":\"JUNIN                    0001431 PB       A      CIUDAD AUTONOMA BUENOS AIRES   CAPITAL FEDERAL                01113\"}',\n",
              " '{\"full_address_1_to_json\":\"SUPISICHE                0000791 PB              SARANDI                        AVELLANEDA                     01872\"}',\n",
              " '{\"full_address_1_to_json\":\"PRES GRAL J A ROCA       0000565                 RAMOS MEJIA                    LA MATANZA                     01704\"}',\n",
              " '{\"full_address_1_to_json\":\"AV CORDOBA               0002122                 CIUDAD AUTONOMA BUENOS AIRES   CAPITAL FEDERAL                01120\"}',\n",
              " '{\"full_address_1_to_json\":\"PJE LAVALLE              0003319 1        B      GENERAL SAN MARTIN             GENERAL SAN MARTIN             01650\"}',\n",
              " '{\"full_address_1_to_json\":\"AV PRIMERA JUNTA         0004265                 SAN MIGUEL                     SAN MIGUEL                     01663\"}',\n",
              " '{\"full_address_1_to_json\":\"HILARION DE LA QUINTANA  0001476                 FLORIDA                        VICENTE LOPEZ                  01602\"}',\n",
              " '{\"full_address_1_to_json\":\"DR PELAGIO B LUNA        0002845                 VILLA BALLESTER                GENERAL SAN MARTIN             01653\"}',\n",
              " '{\"full_address_1_to_json\":\"DIAZ COLODRERO           0003173 PB       7      CIUDAD AUTONOMA BUENOS AIRES   CAPITAL FEDERAL                01431\"}',\n",
              " '{\"full_address_1_to_json\":\"CA�ADA DE GOMEZ          0001597                 CIUDAD AUTONOMA BUENOS AIRES   CAPITAL FEDERAL                01440\"}',\n",
              " '{\"full_address_1_to_json\":\"PATAGONIA                0000117                 GENERAL PACHECO                TIGRE                          01617\"}',\n",
              " '{\"full_address_1_to_json\":\"J M BLANES               0000167 1        5      CAP.                                                          01155\"}',\n",
              " '{\"full_address_1_to_json\":\"GRAL EMILIO CONESA       0000986 16       F      CIUDAD AUTONOMA BUENOS AIRES   CAPITAL FEDERAL                01426\"}',\n",
              " '{\"full_address_1_to_json\":\"ANKARA                   0005482                 CIUDAD AUTONOMA BUENOS AIRES   CAPITAL FEDERAL                01440\"}',\n",
              " '{\"full_address_1_to_json\":\"RAMOS MEJIA              0000642                 DON BOSCO                      112233114455                   01876\"}',\n",
              " '{\"full_address_1_to_json\":\"FLORIDA                  0001669                 DEL VISO                       112233114455                   01669\"}',\n",
              " '{\"full_address_1_to_json\":\"AV MARIANO BOEDO         0002037 6               CIUDAD AUTONOMA BUENOS AIRES   CAPITAL FEDERAL                01239\"}',\n",
              " '{\"full_address_1_to_json\":\"MONTIEL                  0004759                 CIUDAD AUTONOMA BUENOS AIRES   CAPITAL FEDERAL                01439\"}',\n",
              " '{\"full_address_1_to_json\":\"sin_dato\"}',\n",
              " '{\"full_address_1_to_json\":\"LADINES                  0003561                 CIUDAD AUTONOMA BUENOS AIRES   CAPITAL FEDERAL                01419\"}',\n",
              " '{\"full_address_1_to_json\":\"BARADERO                 0004132                 SARANDI                        AVELLANEDA                     01872\"}',\n",
              " '{\"full_address_1_to_json\":\"DR JUAN F ARANGUREN      0000652                 CIUDAD AUTONOMA BUENOS AIRES   CAPITAL FEDERAL                01405\"}',\n",
              " '{\"full_address_1_to_json\":\"SILVIO L RUGGIERI        0002916 6        25     CIUDAD AUTONOMA BUENOS AIRES   CAPITAL FEDERAL                01425\"}',\n",
              " '{\"full_address_1_to_json\":\"MALABIA                  0002106 6        D      CIUDAD AUTONOMA BUENOS AIRES   CAPITAL FEDERAL                01425\"}',\n",
              " '{\"full_address_1_to_json\":\"MARCONI                  0000041                 TRONCOS DEL TALAR              TIGRE                          01618\"}',\n",
              " '{\"full_address_1_to_json\":\"sin_dato\"}',\n",
              " '{\"full_address_1_to_json\":\"LITUANIA                 0000424                 TEMPERLEY                      LOMAS DE ZAMORA                01834\"}',\n",
              " '{\"full_address_1_to_json\":\"JOSE M DE MINOGUYE       0001748                 HURLINGHAM                     HURLINGHAM                     01686\"}',\n",
              " '{\"full_address_1_to_json\":\"BRAGADO                  0006365                 WILDE                          AVELLANEDA                     01875\"}',\n",
              " '{\"full_address_1_to_json\":\"sin_dato\"}',\n",
              " '{\"full_address_1_to_json\":\"SOLIS                    0002150                 CIUDAD AUTONOMA BUENOS AIRES   CAPITAL FEDERAL                01134\"}',\n",
              " '{\"full_address_1_to_json\":\"BOLIVIA                  0000285 2        C      CIUDAD AUTONOMA BUENOS AIRES   CAPITAL FEDERAL                01406\"}',\n",
              " '{\"full_address_1_to_json\":\"MAGALLANES               0000835                 SAN ISIDRO                     SAN ISIDRO                     01642\"}',\n",
              " '{\"full_address_1_to_json\":\"CALLE                    0000100                 HAEDO                          112233114455                   01706\"}',\n",
              " '{\"full_address_1_to_json\":\"SANCHEZ DE LORIA         0001999                 CIUDAD AUTONOMA BUENOS AIRES   CAPITAL FEDERAL                01241\"}',\n",
              " '{\"full_address_1_to_json\":\"JUAN M CAMPOS            0002266 3        D      SAN ANDRES                     GENERAL SAN MARTIN             01651\"}',\n",
              " '{\"full_address_1_to_json\":\"LOS GLADIOLOS            0001458                 MANUEL ALBERTI                 PILAR                          01667\"}',\n",
              " '{\"full_address_1_to_json\":\"CANALE                   0001212                 ADROGUE                        ALMIRANTE BROWN                01846\"}',\n",
              " '{\"full_address_1_to_json\":\"MANUEL DE SARRATEA       0002864                 CASEROS                        TRES DE FEBRERO                01678\"}',\n",
              " '{\"full_address_1_to_json\":\"PJE ALPATACAL            0006460 2               CIUDAD AUTONOMA BUENOS AIRES   CAPITAL FEDERAL                01408\"}',\n",
              " '{\"full_address_1_to_json\":\"BLANCO ENCALADA          0003751                 MONTE CHINGOLO                 LANUS                          01825\"}',\n",
              " '{\"full_address_1_to_json\":\"CURAPALIGUE              0002080                 CASEROS                        TRES DE FEBRERO                01678\"}',\n",
              " '{\"full_address_1_to_json\":\"CNEL AREVALO             0002391                 CIUDAD AUTONOMA BUENOS AIRES   CAPITAL FEDERAL                01425\"}',\n",
              " '{\"full_address_1_to_json\":\"CABOT                    0006342                 WILDE                          AVELLANEDA                     01875\"}',\n",
              " '{\"full_address_1_to_json\":\"AV CORDOBA               0002122                 CIUDAD AUTONOMA BUENOS AIRES   CAPITAL FEDERAL                01120\"}',\n",
              " '{\"full_address_1_to_json\":\"AV BERNARDINO RIVADAVIA  0011099                 CIUDAD AUTONOMA BUENOS AIRES   CAPITAL FEDERAL                01408\"}',\n",
              " '{\"full_address_1_to_json\":\"GRAL ALVAREZ CONDARCO    0003633                 CIUDAD AUTONOMA BUENOS AIRES   CAPITAL FEDERAL                01419\"}',\n",
              " '{\"full_address_1_to_json\":\"GRAL OTERO               0000040                 VILLA DOMINICO                 AVELLANEDA                     01874\"}',\n",
              " '{\"full_address_1_to_json\":\"LOS LAURELES             0000844                 MANUEL ALBERTI                 PILAR                          01667\"}',\n",
              " '{\"full_address_1_to_json\":\"ROSALES                  0000337                 RAMOS MEJIA                    LA MATANZA                     01704\"}',\n",
              " '{\"full_address_1_to_json\":\"SITIO DE MONTEVIDEO      0000053 2        B      LANUS                          LANUS                          01824\"}',\n",
              " '{\"full_address_1_to_json\":\"MALVINAS ARGENTINAS      0006595                 VIRREYES                       112233114455                   01646\"}',\n",
              " '{\"full_address_1_to_json\":\"SARAZA                   0000611                 CIUDAD AUTONOMA BUENOS AIRES   CAPITAL FEDERAL                01424\"}',\n",
              " '{\"full_address_1_to_json\":\"LAS ACHIRAS              0002513                 EL TALAR                       TIGRE                          01617\"}',\n",
              " '{\"full_address_1_to_json\":\"JURAMENTO                0002175 9        18     CIUDAD AUTONOMA BUENOS AIRES   CAPITAL FEDERAL                01428\"}',\n",
              " '{\"full_address_1_to_json\":\"BERUTI                   0002253                 VIRREYES                       SAN FERNANDO                   01646\"}',\n",
              " '{\"full_address_1_to_json\":\"CARLOS CALVO             0002540                 BECCAR                         SAN ISIDRO                     01643\"}',\n",
              " '{\"full_address_1_to_json\":\"PRIMERA JUNTA DE 1810    0002219                 VILLA VATTEONE                 FLORENCIO VARELA               01888\"}',\n",
              " '{\"full_address_1_to_json\":\"GELLY                    0003368 16       B      CIUDAD AUTONOMA BUENOS AIRES   CAPITAL FEDERAL                01425\"}',\n",
              " '{\"full_address_1_to_json\":\"CALLE 79                 0000617                 LA PLATA                       LA PLATA                       01900\"}',\n",
              " '{\"full_address_1_to_json\":\"FRAY JOSE W ACHAVAL      0002550 PA              REMEDIOS DE ESCALADA           LANUS                          01826\"}',\n",
              " '{\"full_address_1_to_json\":\"sin_dato\"}',\n",
              " '{\"full_address_1_to_json\":\"sin_dato\"}',\n",
              " '{\"full_address_1_to_json\":\"sin_dato\"}',\n",
              " '{\"full_address_1_to_json\":\"sin_dato\"}',\n",
              " '{\"full_address_1_to_json\":\"CALLE 7                  0001099                 LA PLATA                       112233114455                   01900\"}',\n",
              " '{\"full_address_1_to_json\":\"JUAN MANTOVANI           0000430                 BURZACO                        ALMIRANTE BROWN                01852\"}',\n",
              " '{\"full_address_1_to_json\":\"PALERMO                  0000205                 GENERAL PACHECO                TIGRE                          01617\"}',\n",
              " '{\"full_address_1_to_json\":\"CNEL LYNCH               0001186 2        D      VILLA LUZURIAGA                LA MATANZA                     01754\"}',\n",
              " '{\"full_address_1_to_json\":\"sin_dato\"}',\n",
              " '{\"full_address_1_to_json\":\"BOEDO                    0000019                 VIRREYES                       112233114455                   01646\"}',\n",
              " '{\"full_address_1_to_json\":\"RUIZ HUIDOBRO            0003039                 CIUDAD AUTONOMA BUENOS AIRES   CAPITAL FEDERAL                01429\"}',\n",
              " '{\"full_address_1_to_json\":\"CRUZ DEL SUR             0001850                 SAN MIGUEL                     SAN MIGUEL                     01663\"}',\n",
              " '{\"full_address_1_to_json\":\"AV SANTA FE              0003681 2        C      CIUDAD AUTONOMA BUENOS AIRES   CAPITAL FEDERAL                01425\"}',\n",
              " '{\"full_address_1_to_json\":\"CALLE 803                0002329                 QUILMES OESTE                  QUILMES                        01879\"}',\n",
              " '{\"full_address_1_to_json\":\"CLAUDIO MAMERTO CUENCA   0003729                 CIUDAD AUTONOMA BUENOS AIRES   CAPITAL FEDERAL                01419\"}',\n",
              " '{\"full_address_1_to_json\":\"sin_dato\"}',\n",
              " '{\"full_address_1_to_json\":\"CNEL JOSE MOLDES         0001917                 CIUDAD AUTONOMA BUENOS AIRES   CAPITAL FEDERAL                01428\"}',\n",
              " '{\"full_address_1_to_json\":\"SAN PEDRO                0004630 PB              CIUDAD AUTONOMA BUENOS AIRES   CAPITAL FEDERAL                01407\"}',\n",
              " '{\"full_address_1_to_json\":\"CARLOS CASARES           0001880 PA              VICTORIA                       SAN FERNANDO                   01644\"}',\n",
              " '{\"full_address_1_to_json\":\"ESCALADA DE SAN MARTIN   0000867                 HAEDO                          MORON                          01706\"}',\n",
              " '{\"full_address_1_to_json\":\"SANTA M DEL BUEN AIRE    0000324 PB       5      CIUDAD AUTONOMA BUENOS AIRES   CAPITAL FEDERAL                01277\"}',\n",
              " '{\"full_address_1_to_json\":\"SALTA                    0000529                 LOMAS DEL MIRADOR              LA MATANZA                     01752\"}',\n",
              " '{\"full_address_1_to_json\":\"AV JUAN GARCIA DEL RIO   0003934 3        B      CIUDAD AUTONOMA BUENOS AIRES   CAPITAL FEDERAL                01430\"}',\n",
              " '{\"full_address_1_to_json\":\"CDORO CEFERINO RAMIREZ   0005524 3        B      CIUDAD AUTONOMA BUENOS AIRES   CAPITAL FEDERAL                01439\"}',\n",
              " '{\"full_address_1_to_json\":\"GRAL M SOLER             0005792 3        7      CIUDAD AUTONOMA BUENOS AIRES   CAPITAL FEDERAL                01425\"}',\n",
              " '{\"full_address_1_to_json\":\"PUEYRREDON               0004775          B      GENERAL SAN MARTIN             GENERAL SAN MARTIN             01650\"}',\n",
              " '{\"full_address_1_to_json\":\"PLUS ULTRA               0000827                 LIBERTAD                       MERLO                          01716\"}',\n",
              " '{\"full_address_1_to_json\":\"PAYSANDU                 0000385                 WILDE                          AVELLANEDA                     01875\"}',\n",
              " '{\"full_address_1_to_json\":\"MERCEDES                 0004364 6        P      CIUDAD AUTONOMA BUENOS AIRES   CAPITAL FEDERAL                01419\"}',\n",
              " '{\"full_address_1_to_json\":\"AUSTRIA                  0002064                 CIUDAD AUTONOMA BUENOS AIRES   CAPITAL FEDERAL                01425\"}',\n",
              " '{\"full_address_1_to_json\":\"GRAL JUAN LAVALLE        0001567 7        705    CIUDAD AUTONOMA BUENOS AIRES   CAPITAL FEDERAL                01048\"}',\n",
              " '{\"full_address_1_to_json\":\"SAN MARTIN               0001465                 GENERAL SAN MARTIN             GENERAL SAN MARTIN             01650\"}',\n",
              " '{\"full_address_1_to_json\":\"ITALIA                   0008647                 JOSE LEON SUAREZ               GENERAL SAN MARTIN             01655\"}',\n",
              " '{\"full_address_1_to_json\":\"DR JUAN BAUTISTA JUSTO   0000888                 ISIDRO CASANOVA                LA MATANZA                     01765\"}',\n",
              " '{\"full_address_1_to_json\":\"CNO DE RIBERA            0003351                 VICTORIA                       SAN FERNANDO                   01644\"}',\n",
              " '{\"full_address_1_to_json\":\"GUATAMBU                 0002091                 BURZACO                        ALMIRANTE BROWN                01852\"}',\n",
              " '{\"full_address_1_to_json\":\"EMILIO TORRE             0002757 PB              BERAZATEGUI                    112233114455                   01884\"}',\n",
              " '{\"full_address_1_to_json\":\"sin_dato\"}',\n",
              " '{\"full_address_1_to_json\":\"PRES SANTIAGO DERQUI     0001226                 LANUS                          LANUS                          01824\"}',\n",
              " '{\"full_address_1_to_json\":\"GUARDIA NACIONAL         0002419          3      CIUDAD AUTONOMA BUENOS AIRES   CAPITAL FEDERAL                01439\"}',\n",
              " '{\"full_address_1_to_json\":\"DR JOSE INGENIEROS       0002450                 VIRREYES                       SAN FERNANDO                   01646\"}',\n",
              " '{\"full_address_1_to_json\":\"DR PEDRO NARCISO ARATA   0001556                 DON TORCUATO                   TIGRE                          01611\"}',\n",
              " '{\"full_address_1_to_json\":\"AV DEL LIBERTADOR        0001855 2               VICENTE LOPEZ                  VICENTE LOPEZ                  01638\"}',\n",
              " '{\"full_address_1_to_json\":\"CALLE 145                0002122 PB              BERAZATEGUI                    BERAZATEGUI                    01884\"}',\n",
              " '{\"full_address_1_to_json\":\"AV CARABOBO              0000318 8        B      CIUDAD AUTONOMA BUENOS AIRES   CAPITAL FEDERAL                01406\"}',\n",
              " '{\"full_address_1_to_json\":\"AV LAFUENTE              0001590 3        A      CIUDAD AUTONOMA BUENOS AIRES   CAPITAL FEDERAL                01406\"}',\n",
              " '{\"full_address_1_to_json\":\"FLEMING                  0000373                 JUNIN                          JUNIN                          06000\"}',\n",
              " '{\"full_address_1_to_json\":\"PINTO                    0003211                 CIUDAD AUTONOMA BUENOS AIRES   CAPITAL FEDERAL                01429\"}',\n",
              " '{\"full_address_1_to_json\":\"CALLE 106                0002477                 BERAZATEGUI                    BERAZATEGUI                    01884\"}',\n",
              " '{\"full_address_1_to_json\":\"AVENIDA ALBERDI          0000815                 RESISTENCIA                                                   03500\"}',\n",
              " '{\"full_address_1_to_json\":\"PLANES                   0002672                 HURLINGHAM                     HURLINGHAM                     01686\"}',\n",
              " '{\"full_address_1_to_json\":\"EL OMBU                  0006839                 JOSE LEON SUAREZ               GENERAL SAN MARTIN             01655\"}',\n",
              " '{\"full_address_1_to_json\":\"VENEZUELA                0000540 4               CIUDAD AUTONOMA BUENOS AIRES   CAPITAL FEDERAL                01095\"}',\n",
              " '{\"full_address_1_to_json\":\"CALLE 159                0004227                 BERAZATEGUI                    112233114455                   01884\"}',\n",
              " '{\"full_address_1_to_json\":\"ALTE G BROWN             0000053 1        F      SAN ISIDRO                     SAN ISIDRO                     01642\"}',\n",
              " '{\"full_address_1_to_json\":\"QUIRNO COSTA             0000487                 TEMPERLEY                      LOMAS DE ZAMORA                01834\"}',\n",
              " '{\"full_address_1_to_json\":\"DR LUIS PASTEUR          0005580                 VIRREYES                       SAN FERNANDO                   01646\"}',\n",
              " '{\"full_address_1_to_json\":\"sin_dato\"}',\n",
              " '{\"full_address_1_to_json\":\"PJE SAMUEL MORSE         0004323                 CIUDAD AUTONOMA BUENOS AIRES   CAPITAL FEDERAL                01234\"}',\n",
              " '{\"full_address_1_to_json\":\"FRAY LUIS BELTRAN        0000707                 CIUDAD AUTONOMA BUENOS AIRES   CAPITAL FEDERAL                01063\"}',\n",
              " '{\"full_address_1_to_json\":\"JOSE RONDEAU             0001757 5        A      CIUDAD AUTONOMA BUENOS AIRES   CAPITAL FEDERAL                01130\"}',\n",
              " '{\"full_address_1_to_json\":\"MONROE                   0004338 8        A      CIUDAD AUTONOMA BUENOS AIRES   CAPITAL FEDERAL                01430\"}',\n",
              " '{\"full_address_1_to_json\":\"BDIER GRAL J ZAPIOLA     0001863                 CASTELAR                       MORON                          01712\"}',\n",
              " '{\"full_address_1_to_json\":\"DON ORIONE               0002318 PB              REMEDIOS DE ESCALADA           LANUS                          01826\"}',\n",
              " '{\"full_address_1_to_json\":\"INTE ADOLFO ARNOLDI      0000020                 SAN FERNANDO                   SAN FERNANDO                   01646\"}',\n",
              " '{\"full_address_1_to_json\":\"RAMOS MEJIA              0000642                 DON BOSCO                      112233114455                   01876\"}',\n",
              " '{\"full_address_1_to_json\":\"GRAL OBLIGADO            0000325                 RESISTENCIA                                                   03500\"}',\n",
              " '{\"full_address_1_to_json\":\"PTE H YRIGOYEN           0003552 3        B      CIUDAD AUTONOMA BUENOS AIRES   CAPITAL FEDERAL                01208\"}',\n",
              " '{\"full_address_1_to_json\":\"BRASIL                   0000019                 VILLA MARTELLI                 VICENTE LOPEZ                  01603\"}',\n",
              " '{\"full_address_1_to_json\":\"TAGLE                    0004075                 LANUS                          LANUS                          01824\"}',\n",
              " '{\"full_address_1_to_json\":\"MONASTERIO               0000265 PB              CIUDAD AUTONOMA BUENOS AIRES   CAPITAL FEDERAL                01284\"}',\n",
              " '{\"full_address_1_to_json\":\"BRASIL                   0002751                 CIUDAD AUTONOMA BUENOS AIRES   CAPITAL FEDERAL                01260\"}',\n",
              " '{\"full_address_1_to_json\":\"sin_dato\"}',\n",
              " '{\"full_address_1_to_json\":\"BATALLA DEL PARI         0000687                 CIUDAD AUTONOMA BUENOS AIRES   CAPITAL FEDERAL                01416\"}',\n",
              " '{\"full_address_1_to_json\":\"SANTA JULIA              0002257                 MANUEL ALBERTI                 PILAR                          01667\"}',\n",
              " '{\"full_address_1_to_json\":\"PEDRO JOSE AGRELO        0003914                 CIUDAD AUTONOMA BUENOS AIRES   CAPITAL FEDERAL                01224\"}',\n",
              " '{\"full_address_1_to_json\":\"ING HUERGO               0001285                 LOMAS DEL MIRADOR              LA MATANZA                     01752\"}',\n",
              " '{\"full_address_1_to_json\":\"AV FAIR                  0001100                 MONTE GRANDE                   ESTEBAN ECHEVERRIA             01842\"}',\n",
              " '{\"full_address_1_to_json\":\"CNEL LUIS M ARGUERO      0002003                 SAN MIGUEL                     SAN MIGUEL                     01663\"}',\n",
              " '{\"full_address_1_to_json\":\"JUAN HIPOLITO VIEYTES    0000558                 BANFIELD                       LOMAS DE ZAMORA                01828\"}',\n",
              " '{\"full_address_1_to_json\":\"GERONIMO DE HELGUERA     0000100                 CIUDAD AUTONOMA BUENOS AIRES   CAPITAL FEDERAL                01406\"}',\n",
              " '{\"full_address_1_to_json\":\"CMTE ANTONIO PEREDO      0002032                 ITUZAINGO                      ITUZAINGO                      01714\"}',\n",
              " '{\"full_address_1_to_json\":\"AV MAIPU                 0002985                 OLIVOS                         VICENTE LOPEZ                  01636\"}',\n",
              " '{\"full_address_1_to_json\":\"ARENALES                 0005644                 VIRREYES                       112233114455                   01646\"}',\n",
              " '{\"full_address_1_to_json\":\"DIRECTORIO               0000663                 HAEDO                          MORON                          01706\"}',\n",
              " '{\"full_address_1_to_json\":\"CHAVARRIA                0001173                 RAFAEL CASTILLO                LA MATANZA                     01755\"}',\n",
              " '{\"full_address_1_to_json\":\"GRAL JUAN LAVALLE        0002955 1        A      CIUDAD AUTONOMA BUENOS AIRES   CAPITAL FEDERAL                01190\"}',\n",
              " '{\"full_address_1_to_json\":\"MENDEVILLE               0000299                 SAN ISIDRO                     SAN ISIDRO                     01642\"}',\n",
              " '{\"full_address_1_to_json\":\"FRANKLIN D ROOSEVELT     0001560                 CIUDAD AUTONOMA BUENOS AIRES   CAPITAL FEDERAL                01428\"}',\n",
              " '{\"full_address_1_to_json\":\"CONESA                   0003751                 CIUDAD AUTONOMA BUENOS AIRES   CAPITAL FEDERAL                01429\"}',\n",
              " '{\"full_address_1_to_json\":\"AV PRES B RIVADAVIA      0002021 PB       B      VALENTIN ALSINA                LANUS                          01822\"}',\n",
              " '{\"full_address_1_to_json\":\"JUSTO ANTONIO SUAREZ     0006760 2        23     CIUDAD AUTONOMA BUENOS AIRES   CAPITAL FEDERAL                01440\"}',\n",
              " '{\"full_address_1_to_json\":\"AV GRAL DE PUEYRREDON    0001532                 CIUDAD AUTONOMA BUENOS AIRES   CAPITAL FEDERAL                01118\"}',\n",
              " '{\"full_address_1_to_json\":\"TITANIC                  0001642                 RAFAEL CASTILLO                LA MATANZA                     01755\"}',\n",
              " '{\"full_address_1_to_json\":\"ESMERALDA                0000731                 HAEDO                          MORON                          01706\"}',\n",
              " '{\"full_address_1_to_json\":\"FRAY MAMERTO ESQUIU      0002207                 CARAPACHAY                     VICENTE LOPEZ                  01605\"}',\n",
              " '{\"full_address_1_to_json\":\"ALVAREZ JONTE            0000415                 CASTELAR                       MORON                          01712\"}',\n",
              " '{\"full_address_1_to_json\":\"MANUEL DE FALLA          0003142                 EL TALAR                       TIGRE                          01617\"}',\n",
              " '{\"full_address_1_to_json\":\"BENJAMIN FRANKLIN        0000143                 TABLADA                        LA MATANZA                     01766\"}',\n",
              " '{\"full_address_1_to_json\":\"sin_dato\"}',\n",
              " '{\"full_address_1_to_json\":\"sin_dato\"}',\n",
              " '{\"full_address_1_to_json\":\"sin_dato\"}',\n",
              " '{\"full_address_1_to_json\":\"AV BELGRANO              0002422 4        58     CIUDAD AUTONOMA BUENOS AIRES   CAPITAL FEDERAL                01096\"}',\n",
              " '{\"full_address_1_to_json\":\"BLANCO ENCALADA          0001573                 CIUDAD MADERO                  LA MATANZA                     01768\"}',\n",
              " '{\"full_address_1_to_json\":\"HERNANDARIAS             0001279 PB              REMEDIOS DE ESCALADA           LANUS                          01826\"}',\n",
              " '{\"full_address_1_to_json\":\"JOSE S MALABIA           0000638                 REMEDIOS DE ESCALADA           LANUS                          01826\"}',\n",
              " '{\"full_address_1_to_json\":\"AV CORDOBA               0002122                 CIUDAD AUTONOMA BUENOS AIRES   CAPITAL FEDERAL                01120\"}',\n",
              " '{\"full_address_1_to_json\":\"PASAJE PILLADO ANTONIA   0000822 1        C      CAPITAL FEDERAL                112233114455                   01406\"}',\n",
              " '{\"full_address_1_to_json\":\"CARHUE                   0000831 3               CIUDAD AUTONOMA BUENOS AIRES   CAPITAL FEDERAL                01408\"}',\n",
              " '{\"full_address_1_to_json\":\"CHARCAS                  0003210 PB       L      CIUDAD AUTONOMA BUENOS AIRES   CAPITAL FEDERAL                01425\"}',\n",
              " '{\"full_address_1_to_json\":\"BOULOGNE SUR MER         0000910 PB              LONGCHAMPS                     ALMIRANTE BROWN                01854\"}',\n",
              " '{\"full_address_1_to_json\":\"AV DE LOS CONSTITUYENTES 0002132                 SAN ANDRES                     GENERAL SAN MARTIN             01651\"}',\n",
              " '{\"full_address_1_to_json\":\"LIBERTAD                 0000976 14       J      CIUDAD AUTONOMA BUENOS AIRES   CAPITAL FEDERAL                01012\"}',\n",
              " '{\"full_address_1_to_json\":\"MARTINIANO LEGUIZAMON    0000365 PB              CIUDAD AUTONOMA BUENOS AIRES   CAPITAL FEDERAL                01408\"}',\n",
              " '{\"full_address_1_to_json\":\"POLA                     0004000 26       C      CIUDAD AUTONOMA BUENOS AIRES   CAPITAL FEDERAL                01439\"}',\n",
              " '{\"full_address_1_to_json\":\"EMILIO LAMARCA           0002442                 DON TORCUATO                   TIGRE                          01611\"}',\n",
              " '{\"full_address_1_to_json\":\"PJE SARAVIA              0002435                 CIUDAD AUTONOMA BUENOS AIRES   CAPITAL FEDERAL                01439\"}',\n",
              " '{\"full_address_1_to_json\":\"HENRY DUNANT             0001649                 ITUZAINGO                      ITUZAINGO                      01714\"}',\n",
              " '{\"full_address_1_to_json\":\"CASACUBERTA              0001846 PB              CASTELAR                       MORON                          01712\"}',\n",
              " '{\"full_address_1_to_json\":\"OLEGARIO V ANDRADE       0000750                 CASTELAR                       MORON                          01712\"}',\n",
              " '{\"full_address_1_to_json\":\"CALLE 54                 0006546                 GUILLERMO E HUDSON             BERAZATEGUI                    01885\"}',\n",
              " '{\"full_address_1_to_json\":\"SARANDI                  0001467 7        47     CIUDAD AUTONOMA BUENOS AIRES   CAPITAL FEDERAL                01251\"}',\n",
              " '{\"full_address_1_to_json\":\"LAS MALVINAS             0000260                 SAN MIGUEL                     SAN MIGUEL                     01663\"}',\n",
              " '{\"full_address_1_to_json\":\"AV CORDOBA               0002122                 CIUDAD AUTONOMA BUENOS AIRES   CAPITAL FEDERAL                01120\"}',\n",
              " '{\"full_address_1_to_json\":\"RUTA 202 KM 5,5          0000001                 VIRREYES                       112233114455                   01646\"}',\n",
              " '{\"full_address_1_to_json\":\"JUAN JOSE CASTELLI       0005661                 CARAPACHAY                     VICENTE LOPEZ                  01605\"}',\n",
              " '{\"full_address_1_to_json\":\"sin_dato\"}',\n",
              " '{\"full_address_1_to_json\":\"ALTE CORDERO             0002559                 SARANDI                        AVELLANEDA                     01872\"}',\n",
              " '{\"full_address_1_to_json\":\"CATAMARCA                0000540 7               CIUDAD AUTONOMA BUENOS AIRES   CAPITAL FEDERAL                01231\"}',\n",
              " '{\"full_address_1_to_json\":\"PTE M T DE ALVEAR        0001450                 GENERAL SAN MARTIN             GENERAL SAN MARTIN             01650\"}',\n",
              " '{\"full_address_1_to_json\":\"PTE M T DE ALVEAR        0002329 PB              QUILMES                        QUILMES                        01878\"}',\n",
              " '{\"full_address_1_to_json\":\"NECOCHEA                 0004653 35       1      LA TABLADA                     LA MATANZA                     01766\"}',\n",
              " '{\"full_address_1_to_json\":\"AV DR MANUEL BELGRANO    0000495 15       J      AVELLANEDA                     AVELLANEDA                     01870\"}',\n",
              " '{\"full_address_1_to_json\":\"CNEL MARTIN IRIGOYEN     0000574 5        B      CASTELAR                       MORON                          01712\"}',\n",
              " '{\"full_address_1_to_json\":\"JUJUY                    0000277 1        A      ACASSUSO                       SAN ISIDRO                     01640\"}',\n",
              " '{\"full_address_1_to_json\":\"AV MARIANO BOEDO         0000467 PB       3      CIUDAD AUTONOMA BUENOS AIRES   CAPITAL FEDERAL                01218\"}',\n",
              " '{\"full_address_1_to_json\":\"LUIS VIALE               0003346                 CIUDAD AUTONOMA BUENOS AIRES   CAPITAL FEDERAL                01416\"}',\n",
              " '{\"full_address_1_to_json\":\"ANTONIO SOMELLERA        0000175                 ADROGUE                        ALMIRANTE BROWN                01846\"}',\n",
              " '{\"full_address_1_to_json\":\"SAN LUIS                 0000629                 EZEIZA                         EZEIZA                         01804\"}',\n",
              " '{\"full_address_1_to_json\":\"INTE ADOLFO ARNOLDI      0000018                 SAN FERNANDO                   SAN FERNANDO                   01646\"}',\n",
              " '{\"full_address_1_to_json\":\"AV CALLAO                0001306                 CIUDAD AUTONOMA BUENOS AIRES   CAPITAL FEDERAL                01023\"}',\n",
              " '{\"full_address_1_to_json\":\"NICOLAS RODRIGUEZ PE�A   0002025 1        A      CIUDAD AUTONOMA BUENOS AIRES   CAPITAL FEDERAL                01021\"}',\n",
              " '{\"full_address_1_to_json\":\"9 DE JULIO               0000139                 MAGDALENA                      MAGDALENA                      01913\"}',\n",
              " '{\"full_address_1_to_json\":\"GRAL O HIGGINS           0003338                 FLORENCIO VARELA               FLORENCIO VARELA               01888\"}',\n",
              " '{\"full_address_1_to_json\":\"CECILIA GRIERSON         0002039                 LUIS GUILLON                   ESTEBAN ECHEVERRIA             01838\"}',\n",
              " '{\"full_address_1_to_json\":\"AV DR J BAUTISTA JUSTO   0001794 1               SAN FERNANDO                   SAN FERNANDO                   01646\"}',\n",
              " '{\"full_address_1_to_json\":\"sin_dato\"}',\n",
              " '{\"full_address_1_to_json\":\"QUIRNO COSTA             0002445                 SAN FERNANDO                   SAN FERNANDO                   01646\"}',\n",
              " '{\"full_address_1_to_json\":\"MANUEL DE SARRATEA       0003551                 VILLA MARTELLI                 VICENTE LOPEZ                  01603\"}',\n",
              " '{\"full_address_1_to_json\":\"MARIANO ECHENAGUCIA      0000071 PB       B      CIUDAD AUTONOMA BUENOS AIRES   CAPITAL FEDERAL                01408\"}',\n",
              " '{\"full_address_1_to_json\":\"AV ING HUERGO            0001145                 CIUDAD AUTONOMA BUENOS AIRES   CAPITAL FEDERAL                01107\"}',\n",
              " '{\"full_address_1_to_json\":\"RP S M DE LAS CONCHAS    0003085                 RINCON DE MILBERG              TIGRE                          01648\"}',\n",
              " '{\"full_address_1_to_json\":\"sin_dato\"}',\n",
              " '{\"full_address_1_to_json\":\"AV BERNARDINO RIVADAVIA  0004210 5        V      CIUDAD AUTONOMA BUENOS AIRES   CAPITAL FEDERAL                01205\"}',\n",
              " '{\"full_address_1_to_json\":\"SANTA JULIA              0000392                 M.ALBERTI(APEADERO FCGB)       112233114455                   01667\"}',\n",
              " '{\"full_address_1_to_json\":\"sin_dato\"}',\n",
              " '{\"full_address_1_to_json\":\"DR COSME ARGERICH        0001335                 CIUDAD AUTONOMA BUENOS AIRES   CAPITAL FEDERAL                01416\"}',\n",
              " '{\"full_address_1_to_json\":\"DR PATRICIO C BRENAN     0001002                 MAGDALENA                      MAGDALENA                      01913\"}',\n",
              " '{\"full_address_1_to_json\":\"GERVASIO PAVON           0004086                 CASTELAR                       MORON                          01712\"}',\n",
              " '{\"full_address_1_to_json\":\"USPALLATA                0000778 PB       B      CIUDAD AUTONOMA BUENOS AIRES   CAPITAL FEDERAL                01268\"}',\n",
              " '{\"full_address_1_to_json\":\"ESTADOS UNIDOS           0001352 1        A      CIUDAD AUTONOMA BUENOS AIRES   CAPITAL FEDERAL                01101\"}',\n",
              " '{\"full_address_1_to_json\":\"SOCRATES                 0001661                 DEL VISO                       PILAR                          01669\"}',\n",
              " '{\"full_address_1_to_json\":\"AV BELGRANO              0001560 6        A      CIUDAD AUTONOMA BUENOS AIRES   CAPITAL FEDERAL                01093\"}',\n",
              " '{\"full_address_1_to_json\":\"MONTE                    0006550 1        18     CIUDAD AUTONOMA BUENOS AIRES   CAPITAL FEDERAL                01440\"}',\n",
              " '{\"full_address_1_to_json\":\"MONROE                   0005270 4        C      CIUDAD AUTONOMA BUENOS AIRES   CAPITAL FEDERAL                01431\"}',\n",
              " '{\"full_address_1_to_json\":\"GRAL JUAN LAVALLE        0003507                 VILLA MARTELLI                 VICENTE LOPEZ                  01603\"}',\n",
              " '{\"full_address_1_to_json\":\"NECOCHEA                 0001849 PB              RAMOS MEJIA                    LA MATANZA                     01704\"}',\n",
              " '{\"full_address_1_to_json\":\"LUCIO V MANSILLA         0004748                 VILLA DOMINICO                 AVELLANEDA                     01874\"}',\n",
              " '{\"full_address_1_to_json\":\"LAFINUR                  0003140 1        E      CIUDAD AUTONOMA BUENOS AIRES   CAPITAL FEDERAL                01425\"}',\n",
              " '{\"full_address_1_to_json\":\"CNEL MANUEL DORREGO      0000650                 LOMAS DEL MIRADOR              LA MATANZA                     01752\"}',\n",
              " '{\"full_address_1_to_json\":\"DARRAGUEIRA              0001844                 VIRREYES                       112233114455                   01646\"}',\n",
              " '{\"full_address_1_to_json\":\"BAT DE ARROYO GRANDE     0000451                 MANUEL ALBERTI                 PILAR                          01667\"}',\n",
              " '{\"full_address_1_to_json\":\"sin_dato\"}',\n",
              " '{\"full_address_1_to_json\":\"BO  S  CAYETANO L  COM   0000003                 RESISTENCIA CHACO                                             03500\"}',\n",
              " '{\"full_address_1_to_json\":\"AZOPARDO                 0005313                 GENERAL SAN MARTIN             GENERAL SAN MARTIN             01650\"}',\n",
              " '{\"full_address_1_to_json\":\"CNEL MANUEL ROSETI       0001178                 CIUDAD AUTONOMA BUENOS AIRES   CAPITAL FEDERAL                01427\"}',\n",
              " '{\"full_address_1_to_json\":\"CERRITO                  0001278 5        C      CIUDAD AUTONOMA BUENOS AIRES   CAPITAL FEDERAL                01010\"}',\n",
              " '{\"full_address_1_to_json\":\"BVRD PTE J D PERON       0004208                 ALEJANDRO KORN                 SAN VICENTE                    01864\"}',\n",
              " '{\"full_address_1_to_json\":\"ENTRE RIOS               0004063                 ROSARIO                        ROSARIO                        02000\"}',\n",
              " '{\"full_address_1_to_json\":\"AV FONDO DE LA LEGUA     0002723 PA              VILLA ADELINA                  SAN ISIDRO                     01607\"}',\n",
              " '{\"full_address_1_to_json\":\"PEREYRA LUCENA           0002526 PB              CIUDAD AUTONOMA BUENOS AIRES   CAPITAL FEDERAL                01425\"}',\n",
              " '{\"full_address_1_to_json\":\"sin_dato\"}',\n",
              " '{\"full_address_1_to_json\":\"AV SAN PEDRITO           0001143                 CIUDAD AUTONOMA BUENOS AIRES   CAPITAL FEDERAL                01406\"}',\n",
              " '{\"full_address_1_to_json\":\"CALLE 161                0004552                 PLATANOS                       112233114455                   01885\"}',\n",
              " '{\"full_address_1_to_json\":\"SARMIENTO                0002442                 SAN ANDRES                     GENERAL SAN MARTIN             01651\"}',\n",
              " '{\"full_address_1_to_json\":\"LAS FLORES               0001600 5        B      WILDE                          AVELLANEDA                     01875\"}',\n",
              " '{\"full_address_1_to_json\":\"sin_dato\"}',\n",
              " '{\"full_address_1_to_json\":\"AV CORDOBA               0002122                 CIUDAD AUTONOMA BUENOS AIRES   CAPITAL FEDERAL                01120\"}',\n",
              " '{\"full_address_1_to_json\":\"GUILLERMO WHITE          0005112                 MUNRO                          VICENTE LOPEZ                  01605\"}',\n",
              " '{\"full_address_1_to_json\":\"MATHEU                   0001236                 SAN JUSTO                      LA MATANZA                     01754\"}',\n",
              " '{\"full_address_1_to_json\":\"PJE BRAVARD              0001130 2        D      CIUDAD AUTONOMA BUENOS AIRES   CAPITAL FEDERAL                01414\"}',\n",
              " '{\"full_address_1_to_json\":\"AV 14                    0000469                 BERAZATEGUI                    BERAZATEGUI                    01884\"}',\n",
              " '{\"full_address_1_to_json\":\"QUESADA                  0002508                 CIUDAD AUTONOMA BUENOS AIRES   CAPITAL FEDERAL                01429\"}',\n",
              " '{\"full_address_1_to_json\":\"DR RICARDO GUTIERREZ     0001578 PB       4      OLIVOS                         VICENTE LOPEZ                  01636\"}',\n",
              " '{\"full_address_1_to_json\":\"PICO                     0003340                 CIUDAD AUTONOMA BUENOS AIRES   CAPITAL FEDERAL                01429\"}',\n",
              " '{\"full_address_1_to_json\":\"JUNCAL                   0001151 09       C      CIUDAD AUTONOMA BUENOS AIRES   112233114455                   01062\"}',\n",
              " '{\"full_address_1_to_json\":\"HILARIO ASCASUBI         0000121 PB       2      WILDE                          AVELLANEDA                     01875\"}',\n",
              " '{\"full_address_1_to_json\":\"VICENTE CAMARGO          0000218                 CIUDAD AUTONOMA BUENOS AIRES   CAPITAL FEDERAL                01414\"}',\n",
              " '{\"full_address_1_to_json\":\"ANDRES BARANDA           0003768                 QUILMES                        QUILMES                        01878\"}',\n",
              " '{\"full_address_1_to_json\":\"sin_dato\"}',\n",
              " '{\"full_address_1_to_json\":\"AV BERNARDINO RIVADAVIA  0001611 11       C      CIUDAD AUTONOMA BUENOS AIRES   CAPITAL FEDERAL                01033\"}',\n",
              " '{\"full_address_1_to_json\":\"CHILE                    0000248                 EZPELETA ESTE                  QUILMES                        01882\"}',\n",
              " '{\"full_address_1_to_json\":\"ALMONACID                0000238                                                PILAR                          01667\"}',\n",
              " '{\"full_address_1_to_json\":\"FRAY STA MARIA DE ORO    0001283                 MORON                          MORON                          01708\"}',\n",
              " '{\"full_address_1_to_json\":\"TURQUIA                  0001045                 SANTA ROSA                     FLORENCIO VARELA               01888\"}',\n",
              " '{\"full_address_1_to_json\":\"DOMINGO MATHEU           0001771                 CIUDAD AUTONOMA BUENOS AIRES   CAPITAL FEDERAL                01249\"}',\n",
              " '{\"full_address_1_to_json\":\"CALLE 140                0002056          A      BERAZATEGUI                    BERAZATEGUI                    01884\"}',\n",
              " '{\"full_address_1_to_json\":\"DR ROMULO S NAON         0003544 1               CIUDAD AUTONOMA BUENOS AIRES   CAPITAL FEDERAL                01430\"}',\n",
              " '{\"full_address_1_to_json\":\"ALVEAR                   0002475 8        A      VILLA BALLESTER                GENERAL SAN MARTIN             01653\"}',\n",
              " '{\"full_address_1_to_json\":\"MANUEL QUINTANA          0001346                 CASEROS                        TRES DE FEBRERO                01678\"}',\n",
              " '{\"full_address_1_to_json\":\"sin_dato\"}',\n",
              " '{\"full_address_1_to_json\":\"PJE JUEZ MAGNAUD         0001272                 CIUDAD AUTONOMA BUENOS AIRES   CAPITAL FEDERAL                01437\"}',\n",
              " '{\"full_address_1_to_json\":\"CALLE 41                 0000559                 LA PLATA                       LA PLATA                       01900\"}',\n",
              " '{\"full_address_1_to_json\":\"CALLE 10                 0002099                 BERAZATEGUI                    BERAZATEGUI                    01884\"}',\n",
              " '{\"full_address_1_to_json\":\"SANDINO                  0002364                 ITUZAINGO                      ITUZAINGO                      01714\"}',\n",
              " '{\"full_address_1_to_json\":\"sin_dato\"}',\n",
              " '{\"full_address_1_to_json\":\"CRISTIANIA               0005547                 ISIDRO CASANOVA                LA MATANZA                     01765\"}',\n",
              " '{\"full_address_1_to_json\":\"MERCEDES                 0000368                 LLAVALLOL                      LOMAS DE ZAMORA                01836\"}',\n",
              " '{\"full_address_1_to_json\":\"AV GRAL DIAZ VELEZ       0004196 2        A      CIUDAD AUTONOMA BUENOS AIRES   CAPITAL FEDERAL                01200\"}',\n",
              " '{\"full_address_1_to_json\":\"PEDRO CONDE              0000990 PB              CIUDAD AUTONOMA BUENOS AIRES   CAPITAL FEDERAL                01426\"}',\n",
              " '{\"full_address_1_to_json\":\"PARISH ROBERTSON         0000949                 MONTE GRANDE                   ESTEBAN ECHEVERRIA             01842\"}',\n",
              " '{\"full_address_1_to_json\":\"JUAN CLARK               0001919 1        B      BECCAR                         SAN ISIDRO                     01643\"}',\n",
              " '{\"full_address_1_to_json\":\"HILARION DE LA QUINTANA  0001611 8        D      FLORIDA                        VICENTE LOPEZ                  01602\"}',\n",
              " '{\"full_address_1_to_json\":\"GUAYAQUIL                0004301                 TABLADA                        LA MATANZA                     01766\"}',\n",
              " '{\"full_address_1_to_json\":\"JOSE DE AMENABAR         0003240                 CIUDAD AUTONOMA BUENOS AIRES   CAPITAL FEDERAL                01429\"}',\n",
              " '{\"full_address_1_to_json\":\"FRANCISCO BUCARELLI      0002534 2        C      CIUDAD AUTONOMA BUENOS AIRES   CAPITAL FEDERAL                01431\"}',\n",
              " '{\"full_address_1_to_json\":\"CNEL MANUEL MEDINA       0000107                 ITUZAINGO                      ITUZAINGO                      01714\"}',\n",
              " '{\"full_address_1_to_json\":\"MALVINAS ARGENTINAS      0000024                 VIRREYES                       112233114455                   01646\"}',\n",
              " '{\"full_address_1_to_json\":\"GUIDO SPANO              0000304                 ACASSUSO                       SAN ISIDRO                     01640\"}',\n",
              " '{\"full_address_1_to_json\":\"sin_dato\"}',\n",
              " '{\"full_address_1_to_json\":\"TOMAS ANTONIO VALLE      0000065 PB       2      CIUDAD AUTONOMA BUENOS AIRES   CAPITAL FEDERAL                01424\"}',\n",
              " '{\"full_address_1_to_json\":\"sin_dato\"}',\n",
              " '{\"full_address_1_to_json\":\"ALBERDI                  0001644                 BAHIA BLANCA                   BAHIA BLANCA                   08000\"}',\n",
              " '{\"full_address_1_to_json\":\"RUTA 11 KM 1003          0000008                 RESISTENCIA                                                   03500\"}',\n",
              " '{\"full_address_1_to_json\":\"FRANCISCO DE LAPRIDA     0004345 2        2      VILLA MARTELLI                 VICENTE LOPEZ                  01603\"}',\n",
              " '{\"full_address_1_to_json\":\"JOSE DE AMENABAR         0001944 2        12     CIUDAD AUTONOMA BUENOS AIRES   CAPITAL FEDERAL                01428\"}',\n",
              " '{\"full_address_1_to_json\":\"LARREA                   0001317                 BELLA VISTA                    SAN MIGUEL                     01661\"}',\n",
              " '{\"full_address_1_to_json\":\"AV CNEL IGNACIO WARNES   0001490                 CIUDAD AUTONOMA BUENOS AIRES   CAPITAL FEDERAL                01416\"}',\n",
              " '{\"full_address_1_to_json\":\"QUIRNO                   0001653                 BELLA VISTA                    SAN MIGUEL                     01661\"}',\n",
              " '{\"full_address_1_to_json\":\"DR LUIS PASTEUR          0005273                 VIRREYES                       SAN FERNANDO                   01646\"}',\n",
              " '{\"full_address_1_to_json\":\"ALFONSINA STORNI         0003305                 FLORENCIO VARELA               FLORENCIO VARELA               01888\"}',\n",
              " '{\"full_address_1_to_json\":\"MAIPU                    0000987 4        18     CIUDAD AUTONOMA BUENOS AIRES   CAPITAL FEDERAL                01006\"}',\n",
              " '{\"full_address_1_to_json\":\"9 DE JULIO               0001410                 CIUDADELA                      TRES DE FEBRERO                01702\"}',\n",
              " '{\"full_address_1_to_json\":\"JORGE LUIS BORGES        0001493                 MORON                          MORON                          01708\"}',\n",
              " '{\"full_address_1_to_json\":\"MAESTRA BALDINI          0001775                 CASEROS                        TRES DE FEBRERO                01678\"}',\n",
              " '{\"full_address_1_to_json\":\"AV JUAN GARCIA DEL RIO   0002440 2               CIUDAD AUTONOMA BUENOS AIRES   CAPITAL FEDERAL                01429\"}',\n",
              " '{\"full_address_1_to_json\":\"AV CRAMER                0002790 4        15     CIUDAD AUTONOMA BUENOS AIRES   CAPITAL FEDERAL                01428\"}',\n",
              " '{\"full_address_1_to_json\":\"DARWIN                   0000343 7        D      CIUDAD AUTONOMA BUENOS AIRES   CAPITAL FEDERAL                01414\"}',\n",
              " '{\"full_address_1_to_json\":\"PUEYRREDON               0000968 7               RAMOS MEJIA                    LA MATANZA                     01704\"}',\n",
              " '{\"full_address_1_to_json\":\"HABANA                   0000250                 VILLA MARTELLI                 VICENTE LOPEZ                  01603\"}',\n",
              " '{\"full_address_1_to_json\":\"BOGOTA                   0001743                 LANUS                          LANUS                          01824\"}',\n",
              " '{\"full_address_1_to_json\":\"CNEL MANUEL ROSETI       0002896 1        B      OLIVOS                         VICENTE LOPEZ                  01636\"}',\n",
              " '{\"full_address_1_to_json\":\"VICTORIA                 0005725                 SAN MIGUEL                     SAN MIGUEL                     01663\"}',\n",
              " '{\"full_address_1_to_json\":\"MADERO DR FRANCISCO      0001125                 ACASSUSO                       112233114455                   01641\"}',\n",
              " '{\"full_address_1_to_json\":\"ZEBALLOS                 0000900                 AVELLANEDA                     AVELLANEDA                     01870\"}',\n",
              " '{\"full_address_1_to_json\":\"SGTO JUAN B CABRAL       0001368                 MARTINEZ                       SAN ISIDRO                     01640\"}',\n",
              " '{\"full_address_1_to_json\":\"POSADAS                  0001232                 CIUDAD AUTONOMA BUENOS AIRES   CAPITAL FEDERAL                01011\"}',\n",
              " '{\"full_address_1_to_json\":\"AV DEL LIBERTADOR        0002602                 CIUDAD AUTONOMA BUENOS AIRES   CAPITAL FEDERAL                01425\"}',\n",
              " '{\"full_address_1_to_json\":\"C GARDEL                 0002081                 OLIVOS                         VICENTE LOPEZ                  01636\"}',\n",
              " '{\"full_address_1_to_json\":\"WASHINGTON               0001855                 JOSE LEON SUAREZ               GENERAL SAN MARTIN             01655\"}',\n",
              " '{\"full_address_1_to_json\":\"sin_dato\"}',\n",
              " '{\"full_address_1_to_json\":\"PATRICIOS                0000245                 AVELLANEDA                     AVELLANEDA                     01870\"}',\n",
              " '{\"full_address_1_to_json\":\"sin_dato\"}',\n",
              " '{\"full_address_1_to_json\":\"GRAL MITRE               0001330                 MORON                          MORON                          01708\"}',\n",
              " '{\"full_address_1_to_json\":\"PJE VOLTA                0001856                 CAPITAL FEDERAL                112233114455                   01426\"}',\n",
              " '{\"full_address_1_to_json\":\"PARANA                   0000426 14       E      CIUDAD AUTONOMA BUENOS AIRES   CAPITAL FEDERAL                01017\"}',\n",
              " '{\"full_address_1_to_json\":\"JOSE BARROS PAZOS        0001648                 CIUDAD MADERO                  LA MATANZA                     01768\"}',\n",
              " '{\"full_address_1_to_json\":\"sin_dato\"}',\n",
              " '{\"full_address_1_to_json\":\"sin_dato\"}',\n",
              " '{\"full_address_1_to_json\":\"LAUTARO                  0000024                 CIUDAD AUTONOMA BUENOS AIRES   CAPITAL FEDERAL                01406\"}',\n",
              " '{\"full_address_1_to_json\":\"GRAL MANUEL BELGRANO     0000086                 MORON                          MORON                          01708\"}',\n",
              " '{\"full_address_1_to_json\":\"sin_dato\"}',\n",
              " '{\"full_address_1_to_json\":\"AV CORDOBA               0002122                 CIUDAD AUTONOMA BUENOS AIRES   CAPITAL FEDERAL                01120\"}',\n",
              " '{\"full_address_1_to_json\":\"sin_dato\"}',\n",
              " '{\"full_address_1_to_json\":\"ARREGUI                  0003612                 MARIANO ACOSTA                 MERLO                          01723\"}',\n",
              " '{\"full_address_1_to_json\":\"NICOLAS RODRIGUEZ PE�A   0000178 2        4      CIUDAD AUTONOMA BUENOS AIRES   CAPITAL FEDERAL                01020\"}',\n",
              " '{\"full_address_1_to_json\":\"CULPINA                  0001330 PB              CIUDAD AUTONOMA BUENOS AIRES   CAPITAL FEDERAL                01406\"}',\n",
              " '{\"full_address_1_to_json\":\"SGTO JUAN B CABRAL       0001542                 SAN FERNANDO                   SAN FERNANDO                   01646\"}',\n",
              " '{\"full_address_1_to_json\":\"ALTO PERU                0000249                 EZEIZA                         EZEIZA                         01804\"}',\n",
              " '{\"full_address_1_to_json\":\"TARIJA                   0004352                 CIUDAD AUTONOMA BUENOS AIRES   CAPITAL FEDERAL                01253\"}',\n",
              " '{\"full_address_1_to_json\":\"EL TORDO                 0000866                 ITUZAINGO                      ITUZAINGO                      01714\"}',\n",
              " '{\"full_address_1_to_json\":\"AV SCALABRINI ORTIZ      0002170                 CIUDAD AUTONOMA BUENOS AIRES   CAPITAL FEDERAL                01425\"}',\n",
              " '{\"full_address_1_to_json\":\"sin_dato\"}',\n",
              " '{\"full_address_1_to_json\":\"CNEL MACHADO             0002575                 CASTELAR                       MORON                          01712\"}',\n",
              " '{\"full_address_1_to_json\":\"XX                       0000000                 SAN ANTONIO DE PADUA           MERLO                          01718\"}',\n",
              " '{\"full_address_1_to_json\":\"sin_dato\"}',\n",
              " '{\"full_address_1_to_json\":\"AV CHARLIN               0000318                 SAN FERNANDO                   SAN FERNANDO                   01646\"}',\n",
              " '{\"full_address_1_to_json\":\"CALLE INTERNA 3          0000520                 GENERAL SAN MARTIN             112233114455                   01650\"}',\n",
              " '{\"full_address_1_to_json\":\"FLORIDA                  0000927 2               LOMA HERMOSA                   TRES DE FEBRERO                01657\"}',\n",
              " '{\"full_address_1_to_json\":\"TREINTA Y TRES ORIENT    0000555                 CIUDAD AUTONOMA BUENOS AIRES   CAPITAL FEDERAL                01236\"}',\n",
              " '{\"full_address_1_to_json\":\"CALLE 55                 0000578                 LA PLATA                       LA PLATA                       01900\"}',\n",
              " '{\"full_address_1_to_json\":\"SOMELLERA                0000820                 CIUDAD AUTONOMA BUENOS AIRES   CAPITAL FEDERAL                01437\"}',\n",
              " '{\"full_address_1_to_json\":\"PABLO A PIZZURNO         0001164                 DEL VISO                       PILAR                          01669\"}',\n",
              " '{\"full_address_1_to_json\":\"ESTADOS UNIDOS           0002772 2        B      CIUDAD AUTONOMA BUENOS AIRES   CAPITAL FEDERAL                01227\"}',\n",
              " '{\"full_address_1_to_json\":\"JOSE BOLA�OS             0004912                 MONTE CHINGOLO                 LANUS                          01825\"}',\n",
              " '{\"full_address_1_to_json\":\"SAN ISIDRO               0000875                 ITUZAINGO                      ITUZAINGO                      01714\"}',\n",
              " '{\"full_address_1_to_json\":\"GARCIA DE COSSIO         0006191                 CIUDAD AUTONOMA BUENOS AIRES   CAPITAL FEDERAL                01408\"}',\n",
              " '{\"full_address_1_to_json\":\"GRAL M DE AZCUENAGA      0001553                 CIUDAD AUTONOMA BUENOS AIRES   CAPITAL FEDERAL                01115\"}',\n",
              " '{\"full_address_1_to_json\":\"MISIONES                 0001953 3               BECCAR                         SAN ISIDRO                     01643\"}',\n",
              " '{\"full_address_1_to_json\":\"GUIDO SPANO              0001141                 VILLA BOSCH                    TRES DE FEBRERO                01682\"}',\n",
              " '{\"full_address_1_to_json\":\"sin_dato\"}',\n",
              " '{\"full_address_1_to_json\":\"DR VICTOR BASSI          0000554                 HAEDO                          MORON                          01706\"}',\n",
              " '{\"full_address_1_to_json\":\"GRAL LAS HERAS           0001391 PA              VICENTE LOPEZ                  VICENTE LOPEZ                  01638\"}',\n",
              " '{\"full_address_1_to_json\":\"RAVIGNANI EMILIO D       0002182                 CAPITAL FEDERAL                112233114455                   01425\"}',\n",
              " '{\"full_address_1_to_json\":\"sin_dato\"}',\n",
              " '{\"full_address_1_to_json\":\"POSADAS                  0002890                 GENERAL SAN MARTIN             GENERAL SAN MARTIN             01650\"}',\n",
              " '{\"full_address_1_to_json\":\"SAN NICOLAS              0002478                 VILLA VATTEONE                 FLORENCIO VARELA               01888\"}',\n",
              " '{\"full_address_1_to_json\":\"MANUELA PEDRAZA          0002747 PB       2      CIUDAD AUTONOMA BUENOS AIRES   CAPITAL FEDERAL                01429\"}',\n",
              " '{\"full_address_1_to_json\":\"AV FELIX DE OLAZABAL     0002302                 CIUDAD AUTONOMA BUENOS AIRES   CAPITAL FEDERAL                01428\"}',\n",
              " '{\"full_address_1_to_json\":\"CALLE 43                 0006135                 PLATANOS                       112233114455                   01885\"}',\n",
              " '{\"full_address_1_to_json\":\"J DE GARAY               0002463                 DON TORCUATO                   TIGRE                          01611\"}',\n",
              " '{\"full_address_1_to_json\":\"CASTEX                   0003575 8        A      CIUDAD AUTONOMA BUENOS AIRES   CAPITAL FEDERAL                01425\"}',\n",
              " '{\"full_address_1_to_json\":\"sin_dato\"}',\n",
              " '{\"full_address_1_to_json\":\"PEDRO CONDE              0000480                 CIUDAD AUTONOMA BUENOS AIRES   CAPITAL FEDERAL                01426\"}',\n",
              " '{\"full_address_1_to_json\":\"ENTRE RIOS               0003953                 QUILMES OESTE                  QUILMES                        01879\"}',\n",
              " '{\"full_address_1_to_json\":\"JOSE ANTONIO PAEZ        0003181          3      CIUDAD AUTONOMA BUENOS AIRES   CAPITAL FEDERAL                01406\"}',\n",
              " '{\"full_address_1_to_json\":\"JUAN LARREA              0000083                 FLORIDA                        VICENTE LOPEZ                  01602\"}',\n",
              " '{\"full_address_1_to_json\":\"ARRIBE�OS                0002740                 CIUDAD AUTONOMA BUENOS AIRES   CAPITAL FEDERAL                01428\"}',\n",
              " '{\"full_address_1_to_json\":\"RIO TRAFUL               0002232                 VILLA VATTEONE                 FLORENCIO VARELA               01888\"}',\n",
              " '{\"full_address_1_to_json\":\"AV INDEPENDENCIA         0004000                 CIUDAD AUTONOMA BUENOS AIRES   CAPITAL FEDERAL                01226\"}',\n",
              " '{\"full_address_1_to_json\":\"CNEL CHARLONE            0000602 3        B      SAN MIGUEL                     SAN MIGUEL                     01663\"}',\n",
              " '{\"full_address_1_to_json\":\"sin_dato\"}',\n",
              " '{\"full_address_1_to_json\":\"DR LISANDRO DE LA TORRE  0001253                 DON TORCUATO                   TIGRE                          01611\"}',\n",
              " '{\"full_address_1_to_json\":\"BERON DE ASTRADA         0001500                 RAMOS MEJIA                    LA MATANZA                     01704\"}',\n",
              " '{\"full_address_1_to_json\":\"LISANDRO DE LA TORRE     0001470 2        C      VILLA INSUPERABLE              LA MATANZA                     01752\"}',\n",
              " '{\"full_address_1_to_json\":\"ALVAREZ THOMAS AVDA.     0003559                 CAPITAL FEDERAL                112233114455                   01431\"}',\n",
              " '{\"full_address_1_to_json\":\"ADOLFO PEDRO CARRANZA    0002759 PB              CIUDAD AUTONOMA BUENOS AIRES   CAPITAL FEDERAL                01417\"}',\n",
              " '{\"full_address_1_to_json\":\"SALTA                    0001301 5               CIUDAD AUTONOMA BUENOS AIRES   CAPITAL FEDERAL                01137\"}',\n",
              " '{\"full_address_1_to_json\":\"TTE GRAL PABLO RICCHIERI 0002829                 CIUDAD AUTONOMA BUENOS AIRES   CAPITAL FEDERAL                01428\"}',\n",
              " '{\"full_address_1_to_json\":\"REGINA                   0002029                 DON TORCUATO                   TIGRE                          01611\"}',\n",
              " '{\"full_address_1_to_json\":\"AV GRAL LAS HERAS        0003040 2        C      CIUDAD AUTONOMA BUENOS AIRES   CAPITAL FEDERAL                01425\"}',\n",
              " '{\"full_address_1_to_json\":\"JOSE VERDI               0003675                 LOS POLVORINES                 MALVINAS ARGENTINAS            01613\"}',\n",
              " '{\"full_address_1_to_json\":\"sin_dato\"}',\n",
              " '{\"full_address_1_to_json\":\"AV PASEO COLON           0000505 3               CIUDAD AUTONOMA BUENOS AIRES   CAPITAL FEDERAL                01063\"}',\n",
              " '{\"full_address_1_to_json\":\"HABANA                   0003375                 CIUDAD AUTONOMA BUENOS AIRES   CAPITAL FEDERAL                01419\"}',\n",
              " '{\"full_address_1_to_json\":\"AV ESTANISLAO DEL CAMPO  0001586                 CIUDAD AUTONOMA BUENOS AIRES   CAPITAL FEDERAL                01427\"}',\n",
              " '{\"full_address_1_to_json\":\"25 DE MAYO               0000660                 VICENTE LOPEZ                  VICENTE LOPEZ                  01638\"}',\n",
              " '{\"full_address_1_to_json\":\"AVELLANEDA               0000667                 BERNAL ESTE                    QUILMES                        01876\"}',\n",
              " '{\"full_address_1_to_json\":\"GRAL EMILIO CONESA       0002927                 CIUDAD AUTONOMA BUENOS AIRES   CAPITAL FEDERAL                01429\"}',\n",
              " '{\"full_address_1_to_json\":\"MATHEU                   0001977                 VIRREYES                       SAN FERNANDO                   01646\"}',\n",
              " '{\"full_address_1_to_json\":\"JOSE M MORENO            0002962                 LANUS                          LANUS                          01824\"}',\n",
              " '{\"full_address_1_to_json\":\"CALLE 3                  0001490                 VILLA ELISA                    LA PLATA                       01894\"}',\n",
              " '{\"full_address_1_to_json\":\"sin_dato\"}',\n",
              " '{\"full_address_1_to_json\":\"AV PTE H YRIGOYEN        0000290                 MANUEL ALBERTI                 PILAR                          01667\"}',\n",
              " '{\"full_address_1_to_json\":\"sin_dato\"}',\n",
              " '{\"full_address_1_to_json\":\"GRAL JUAN JOSE VIAMONTE  0001010                 LANUS                          LANUS                          01824\"}',\n",
              " '{\"full_address_1_to_json\":\"ALTE FRANCISCO SEGUI     0001971 PB       3      CIUDAD AUTONOMA BUENOS AIRES   CAPITAL FEDERAL                01416\"}',\n",
              " '{\"full_address_1_to_json\":\"DR JOSE INGENIEROS       0002008                 VIRREYES                       SAN FERNANDO                   01646\"}',\n",
              " '{\"full_address_1_to_json\":\"CALLE 25                 0003230                 BERAZATEGUI                    BERAZATEGUI                    01884\"}',\n",
              " '{\"full_address_1_to_json\":\"CHARCAS                  0003048 4        A      CIUDAD AUTONOMA BUENOS AIRES   CAPITAL FEDERAL                01425\"}',\n",
              " '{\"full_address_1_to_json\":\"PIEDAD                   0004300                 VIRREY DEL PINO                LA MATANZA                     01763\"}',\n",
              " '{\"full_address_1_to_json\":\"sin_dato\"}',\n",
              " '{\"full_address_1_to_json\":\"SAN JUAN                 0003918                 QUILMES OESTE                  QUILMES                        01879\"}',\n",
              " '{\"full_address_1_to_json\":\"MONTEVIDEO               0001306 3        B      CAPITAL FEDERAL                112233114455                   01018\"}',\n",
              " '{\"full_address_1_to_json\":\"IRINEO PORTELA           0003075                 CIUDAD AUTONOMA BUENOS AIRES   CAPITAL FEDERAL                01437\"}',\n",
              " '{\"full_address_1_to_json\":\"MONTEVIDEO               0001644 PB       4      CIUDADELA                      TRES DE FEBRERO                01702\"}',\n",
              " '{\"full_address_1_to_json\":\"CHACO                    0001019                 LANUS                          LANUS                          01824\"}',\n",
              " '{\"full_address_1_to_json\":\"GRAL HILARIO LAGOS       0000323          B      VILLA VATTEONE                 FLORENCIO VARELA               01888\"}',\n",
              " '{\"full_address_1_to_json\":\"MANUEL HIDALGO           0000060 PB       3      CIUDAD AUTONOMA BUENOS AIRES   CAPITAL FEDERAL                01405\"}',\n",
              " '{\"full_address_1_to_json\":\"PJE GRAL HORNOS          0002563                 MARTINEZ                       SAN ISIDRO                     01640\"}',\n",
              " '{\"full_address_1_to_json\":\"VENEZUELA                0003570                 VILLA MARTELLI                 VICENTE LOPEZ                  01603\"}',\n",
              " '{\"full_address_1_to_json\":\"LA PAMPA                 0001736                 MANUEL ALBERTI                 PILAR                          01667\"}',\n",
              " '{\"full_address_1_to_json\":\"AV DEL TRABAJO           0002865                 DON TORCUATO                   TIGRE                          01611\"}',\n",
              " '{\"full_address_1_to_json\":\"PICHINCHA                0001074                 TEMPERLEY                      LOMAS DE ZAMORA                01834\"}',\n",
              " '{\"full_address_1_to_json\":\"APARCERO                 0000258 PB              CLAYPOLE                       ALMIRANTE BROWN                01849\"}',\n",
              " '{\"full_address_1_to_json\":\"AV DEL CORTIJO           0002002                 LIBERTAD                       MERLO                          01716\"}',\n",
              " '{\"full_address_1_to_json\":\"AV HIPOLITO YRIGOYEN     0005192                 EZPELETA ESTE                  QUILMES                        01882\"}',\n",
              " '{\"full_address_1_to_json\":\"AV CORRIENTES            0004923 2        F      CIUDAD AUTONOMA BUENOS AIRES   CAPITAL FEDERAL                01414\"}',\n",
              " '{\"full_address_1_to_json\":\"CLAUDIO MAMERTO CUENCA   0003246 2        D      CIUDAD AUTONOMA BUENOS AIRES   CAPITAL FEDERAL                01417\"}',\n",
              " '{\"full_address_1_to_json\":\"MIGUEL CANE              0000745                 BARRANQUERAS                                                  03503\"}',\n",
              " '{\"full_address_1_to_json\":\"PILAR                    0000710                 FLORENCIO VARELA               FLORENCIO VARELA               01888\"}',\n",
              " '{\"full_address_1_to_json\":\"PEDRO CONDE              0004284 PB       B      CIUDAD AUTONOMA BUENOS AIRES   CAPITAL FEDERAL                01430\"}',\n",
              " '{\"full_address_1_to_json\":\"ZARATE                   0005254                 VILLA BALLESTER                GENERAL SAN MARTIN             01653\"}',\n",
              " '{\"full_address_1_to_json\":\"MIGUEL CANE              0000745                 BARRANQUERAS                                                  03503\"}',\n",
              " '{\"full_address_1_to_json\":\"sin_dato\"}',\n",
              " '{\"full_address_1_to_json\":\"PARAGUAY                 0005290 8        B      CIUDAD AUTONOMA BUENOS AIRES   CAPITAL FEDERAL                01425\"}',\n",
              " '{\"full_address_1_to_json\":\"VALPARAISO               0001259                 GRAND BOURG                    MALVINAS ARGENTINAS            01615\"}',\n",
              " '{\"full_address_1_to_json\":\"ESTANISLAO DEL CAMPO     0001765                 FLORIDA OESTE                  VICENTE LOPEZ                  01602\"}',\n",
              " '{\"full_address_1_to_json\":\"AV 60                    0001019          1      LA PLATA                       LA PLATA                       01900\"}',\n",
              " '{\"full_address_1_to_json\":\"REP DE LA INDIA          0003135 5        D      CIUDAD AUTONOMA BUENOS AIRES   CAPITAL FEDERAL                01425\"}',\n",
              " '{\"full_address_1_to_json\":\"DIAG HONDURAS            0005950                 JOSE LEON SUAREZ               GENERAL SAN MARTIN             01655\"}',\n",
              " '{\"full_address_1_to_json\":\"REP DE CUBA              0001286                 EZPELETA ESTE                  QUILMES                        01882\"}',\n",
              " '{\"full_address_1_to_json\":\"sin_dato\"}',\n",
              " '{\"full_address_1_to_json\":\"sin_dato\"}',\n",
              " '{\"full_address_1_to_json\":\"AV CORDOBA               0002122                 CIUDAD AUTONOMA BUENOS AIRES   CAPITAL FEDERAL                01120\"}',\n",
              " '{\"full_address_1_to_json\":\"GRAL PAZ                 0001216                 SAN ISIDRO                     SAN ISIDRO                     01642\"}',\n",
              " '{\"full_address_1_to_json\":\"AV ESTANISLAO DEL CAMPO  0001385                 CIUDAD AUTONOMA BUENOS AIRES   CAPITAL FEDERAL                01427\"}',\n",
              " '{\"full_address_1_to_json\":\"TACUARI                  0000258                 TANDIL                         TANDIL                         07000\"}',\n",
              " '{\"full_address_1_to_json\":\"JORGE NEWBERY            0001556 8        U      CIUDAD AUTONOMA BUENOS AIRES   CAPITAL FEDERAL                01426\"}',\n",
              " '{\"full_address_1_to_json\":\"EL ESPORAL               0003908                 CIUDAD EVITA                   LA MATANZA                     01778\"}',\n",
              " '{\"full_address_1_to_json\":\"sin_dato\"}',\n",
              " '{\"full_address_1_to_json\":\"PIZZURNO                 0000962                 RAMOS MEJIA                    LA MATANZA                     01704\"}',\n",
              " '{\"full_address_1_to_json\":\"GRAL M SOLER             0004414                 CIUDAD AUTONOMA BUENOS AIRES   CAPITAL FEDERAL                01425\"}',\n",
              " '{\"full_address_1_to_json\":\"RIO RECONQUISTA          0000035                 VIRREYES                       112233114455                   01646\"}',\n",
              " '{\"full_address_1_to_json\":\"HEROES DE MALVI          0001944 00              LANUS                          112233114455                   01824\"}',\n",
              " '{\"full_address_1_to_json\":\"sin_dato\"}',\n",
              " '{\"full_address_1_to_json\":\"AV CORDOBA               0002122                 CIUDAD AUTONOMA BUENOS AIRES   CAPITAL FEDERAL                01120\"}',\n",
              " '{\"full_address_1_to_json\":\"CALLE 139                0001741                 BERAZATEGUI                    BERAZATEGUI                    01884\"}',\n",
              " '{\"full_address_1_to_json\":\"sin_dato\"}',\n",
              " '{\"full_address_1_to_json\":\"ADRIAN LUNA              0001146                 HURLINGHAM                     HURLINGHAM                     01686\"}',\n",
              " '{\"full_address_1_to_json\":\"TARIJA                   0003408                 CIUDAD AUTONOMA BUENOS AIRES   CAPITAL FEDERAL                01253\"}',\n",
              " '{\"full_address_1_to_json\":\"VICTORIANO AGUILAR       0002390 1               CIUDAD AUTONOMA BUENOS AIRES   CAPITAL FEDERAL                01426\"}',\n",
              " '{\"full_address_1_to_json\":\"VIDT                     0001958 9        B      CIUDAD AUTONOMA BUENOS AIRES   CAPITAL FEDERAL                01425\"}',\n",
              " '{\"full_address_1_to_json\":\"FRANCISCO MU�OZ AZPIRI   0003678 PB              TEMPERLEY                      LOMAS DE ZAMORA                01834\"}',\n",
              " '{\"full_address_1_to_json\":\"CALLE 833                0002174                 SAN FRANCISCO SOLANO           QUILMES                        01881\"}',\n",
              " '{\"full_address_1_to_json\":\"A LINCOLN                0003577 5        B      GENERAL SAN MARTIN             GENERAL SAN MARTIN             01650\"}',\n",
              " '{\"full_address_1_to_json\":\"ACASSUSO                 0006001                 CARAPACHAY                     VICENTE LOPEZ                  01605\"}',\n",
              " '{\"full_address_1_to_json\":\"BERON DE ASTRADA         0000751                 SAN MIGUEL                     SAN MIGUEL                     01663\"}',\n",
              " '{\"full_address_1_to_json\":\"sin_dato\"}',\n",
              " '{\"full_address_1_to_json\":\"AV CERVI�O               0004407 6        B      CIUDAD AUTONOMA BUENOS AIRES   CAPITAL FEDERAL                01425\"}',\n",
              " '{\"full_address_1_to_json\":\"CNEL AREVALO             0002769 8        A      CIUDAD AUTONOMA BUENOS AIRES   CAPITAL FEDERAL                01426\"}',\n",
              " '{\"full_address_1_to_json\":\"GRAL ALVEAR              0000388 PB              MONTE GRANDE                   ESTEBAN ECHEVERRIA             01842\"}',\n",
              " '{\"full_address_1_to_json\":\"HUMBERTO PRIMO           0003420 PB              CIUDAD AUTONOMA BUENOS AIRES   CAPITAL FEDERAL                01231\"}',\n",
              " '{\"full_address_1_to_json\":\"CAMACUA                  0000756                 CIUDAD AUTONOMA BUENOS AIRES   CAPITAL FEDERAL                01406\"}',\n",
              " '{\"full_address_1_to_json\":\"CALLE 7                  0001934                 LA PLATA                       112233114455                   01900\"}',\n",
              " '{\"full_address_1_to_json\":\"PJE JACHAL               0003547                 CIUDAD AUTONOMA BUENOS AIRES   CAPITAL FEDERAL                01417\"}',\n",
              " '{\"full_address_1_to_json\":\"AV CASTA�ARES            0004653                 CIUDAD AUTONOMA BUENOS AIRES   CAPITAL FEDERAL                01439\"}',\n",
              " '{\"full_address_1_to_json\":\"MARIANO BOEDO            0001555                 LOS POLVORINES                 MALVINAS ARGENTINAS            01613\"}',\n",
              " '{\"full_address_1_to_json\":\"AUSTRALIA                0004340                 CASTELAR                       MORON                          01712\"}',\n",
              " '{\"full_address_1_to_json\":\"VUELTA DE OBLIGADO       0002935 11       B      CIUDAD AUTONOMA BUENOS AIRES   CAPITAL FEDERAL                01429\"}',\n",
              " '{\"full_address_1_to_json\":\"sin_dato\"}',\n",
              " '{\"full_address_1_to_json\":\"AZOPARDO                 0001561 7               CIUDAD AUTONOMA BUENOS AIRES   CAPITAL FEDERAL                01107\"}',\n",
              " '{\"full_address_1_to_json\":\"MARIANO ESCALADA         0002485                 EL PALOMAR                     MORON                          01684\"}',\n",
              " '{\"full_address_1_to_json\":\"sin_dato\"}',\n",
              " '{\"full_address_1_to_json\":\"GOYA                     0000634                 CIUDAD AUTONOMA BUENOS AIRES   CAPITAL FEDERAL                01407\"}',\n",
              " '{\"full_address_1_to_json\":\"GRAL PIRAN               0000241                 TAPIALES                       LA MATANZA                     01770\"}',\n",
              " '{\"full_address_1_to_json\":\"sin_dato\"}',\n",
              " '{\"full_address_1_to_json\":\"BDIER GRAL J ZAPIOLA     0003070 PB              CIUDAD AUTONOMA BUENOS AIRES   CAPITAL FEDERAL                01429\"}',\n",
              " '{\"full_address_1_to_json\":\"A BASTANCHURI            0000160                 MARCOS PAZ                     MARCOS PAZ                     01727\"}',\n",
              " '{\"full_address_1_to_json\":\"ESPA�A                   0000936                 MAQUINISTA F SAVIO             ESCOBAR                        01619\"}',\n",
              " '{\"full_address_1_to_json\":\"MARMOL                   0001269                 BELLA VISTA                    SAN MIGUEL                     01661\"}',\n",
              " '{\"full_address_1_to_json\":\"DOMINGO F SARMIENTO      0003107 3        F      CIUDAD AUTONOMA BUENOS AIRES   CAPITAL FEDERAL                01196\"}',\n",
              " '{\"full_address_1_to_json\":\"SAN LUIS                 0002723 2        B      CIUDAD AUTONOMA BUENOS AIRES   CAPITAL FEDERAL                01186\"}',\n",
              " '{\"full_address_1_to_json\":\"sin_dato\"}',\n",
              " '{\"full_address_1_to_json\":\"DIAGONAL B               0005191                 PLATANOS                       112233114455                   01885\"}',\n",
              " '{\"full_address_1_to_json\":\"29 DE SEPTIEMBRE         0001574                 LANUS                          LANUS                          01824\"}',\n",
              " '{\"full_address_1_to_json\":\"SANTA CRUZ               0001355                 JOSE LEON SUAREZ               GENERAL SAN MARTIN             01655\"}',\n",
              " '{\"full_address_1_to_json\":\"AYACUCHO                 0000670 1        A      CIUDAD AUTONOMA BUENOS AIRES   CAPITAL FEDERAL                01026\"}',\n",
              " '{\"full_address_1_to_json\":\"DR JUAN F ARANGUREN      0004967                 CIUDAD AUTONOMA BUENOS AIRES   CAPITAL FEDERAL                01407\"}',\n",
              " '{\"full_address_1_to_json\":\"BAT DE RINCON            0001456                 CIUDAD AUTONOMA BUENOS AIRES   CAPITAL FEDERAL                01251\"}',\n",
              " '{\"full_address_1_to_json\":\"PARAGUAY                 0000487 8               ROSARIO                        ROSARIO                        02000\"}',\n",
              " '{\"full_address_1_to_json\":\"AGUSTIN DEBENEDETTI      0002100                 DOCK SUD                       AVELLANEDA                     01871\"}',\n",
              " '{\"full_address_1_to_json\":\"CNEL JUAN PRINGLES       0004834                 EZPELETA ESTE                  QUILMES                        01882\"}',\n",
              " '{\"full_address_1_to_json\":\"sin_dato\"}',\n",
              " '{\"full_address_1_to_json\":\"TTE BENJAMIN MATIENZO    0002574 7        C      CIUDAD AUTONOMA BUENOS AIRES   CAPITAL FEDERAL                01426\"}',\n",
              " '{\"full_address_1_to_json\":\"PEDRO LOZANO             0003375                 CIUDAD AUTONOMA BUENOS AIRES   CAPITAL FEDERAL                01417\"}',\n",
              " '{\"full_address_1_to_json\":\"GRAL LUIS MARIA CAMPOS   0000628 3               MORON                          MORON                          01708\"}',\n",
              " '{\"full_address_1_to_json\":\"SOLDADO ARGENTINO        0003069                 ITUZAINGO                      ITUZAINGO                      01714\"}',\n",
              " '{\"full_address_1_to_json\":\"INTE MUSTONI             0001881 PB              HURLINGHAM                     HURLINGHAM                     01686\"}',\n",
              " '{\"full_address_1_to_json\":\"sin_dato\"}',\n",
              " '{\"full_address_1_to_json\":\"ALVARADO                 0000350 2               RAMOS MEJIA                    LA MATANZA                     01704\"}',\n",
              " '{\"full_address_1_to_json\":\"sin_dato\"}',\n",
              " '{\"full_address_1_to_json\":\"GRAL LAS HERAS           0003729                 VILLA MARTELLI                 VICENTE LOPEZ                  01603\"}',\n",
              " '{\"full_address_1_to_json\":\"PJE LA FACULTAD          0001783 1        1      CIUDAD AUTONOMA BUENOS AIRES   CAPITAL FEDERAL                01407\"}',\n",
              " '{\"full_address_1_to_json\":\"LINIERS                  0002297                 TIGRE                          TIGRE                          01648\"}',\n",
              " '{\"full_address_1_to_json\":\"GRAL EMILIO CONESA       0003751                 CIUDAD AUTONOMA BUENOS AIRES   CAPITAL FEDERAL                01429\"}',\n",
              " '{\"full_address_1_to_json\":\"ALTE CORDERO             0002582                 REMEDIOS DE ESCALADA           LANUS                          01826\"}',\n",
              " '{\"full_address_1_to_json\":\"LAUTARO                  0001253                 CIUDAD AUTONOMA BUENOS AIRES   CAPITAL FEDERAL                01406\"}',\n",
              " '{\"full_address_1_to_json\":\"FRAY JUSTO SARMIENTO     0002731                 OLIVOS                         VICENTE LOPEZ                  01636\"}',\n",
              " '{\"full_address_1_to_json\":\"GDOR GRL JUAN R BALCARCE 0002782                 VALENTIN ALSINA                LANUS                          01822\"}',\n",
              " '{\"full_address_1_to_json\":\"PARAGUAY                 0003007 5        C      CIUDAD AUTONOMA BUENOS AIRES   CAPITAL FEDERAL                01425\"}',\n",
              " '{\"full_address_1_to_json\":\"LEOPOLDO MARECHAL        0001171 PB              CIUDAD AUTONOMA BUENOS AIRES   CAPITAL FEDERAL                01414\"}',\n",
              " '{\"full_address_1_to_json\":\"SANTA ISABEL             0001232                 M.ALBERTI(APEADERO FCGB)       112233114455                   01667\"}',\n",
              " '{\"full_address_1_to_json\":\"SAN LUIS                 0000431                 AZUL                           AZUL                           07300\"}',\n",
              " '{\"full_address_1_to_json\":\"AV DR L DE LA TORRE      0001665                 CIUDAD AUTONOMA BUENOS AIRES   CAPITAL FEDERAL                01440\"}',\n",
              " '{\"full_address_1_to_json\":\"9 DE JULIO               0005600                 VILLA BALLESTER                GENERAL SAN MARTIN             01653\"}',\n",
              " '{\"full_address_1_to_json\":\"BDIER GRAL J ZAPIOLA     0001863                 CASTELAR                       MORON                          01712\"}',\n",
              " '{\"full_address_1_to_json\":\"ANTONIO BERUTI           0000516                 LONGCHAMPS                     ALMIRANTE BROWN                01854\"}',\n",
              " '{\"full_address_1_to_json\":\"LAS CASAS                0003765 PB       1      CIUDAD AUTONOMA BUENOS AIRES   CAPITAL FEDERAL                01238\"}',\n",
              " '{\"full_address_1_to_json\":\"SALTA                    0000001                 M.ALBERTI(APEADERO FCGB)       112233114455                   01667\"}',\n",
              " '{\"full_address_1_to_json\":\"RIO DE LA PLATA          0005226                 EZPELETA ESTE                  QUILMES                        01882\"}',\n",
              " '{\"full_address_1_to_json\":\"25 DE MAYO               0000083                 SAN ISIDRO                     SAN ISIDRO                     01642\"}',\n",
              " '{\"full_address_1_to_json\":\"MONTEVIDEO               0000177 PB              CIUDAD AUTONOMA BUENOS AIRES   CAPITAL FEDERAL                01019\"}',\n",
              " '{\"full_address_1_to_json\":\"VENEZUELA                0000590                 CIUDAD AUTONOMA BUENOS AIRES   CAPITAL FEDERAL                01095\"}',\n",
              " '{\"full_address_1_to_json\":\"REP DE CUBA              0001083 PB              EZPELETA ESTE                  QUILMES                        01882\"}',\n",
              " '{\"full_address_1_to_json\":\"GRAL EMILIO CONESA       0003551 1        A      CIUDAD AUTONOMA BUENOS AIRES   CAPITAL FEDERAL                01429\"}',\n",
              " '{\"full_address_1_to_json\":\"RINCON                   0001765 PB              VALENTIN ALSINA                LANUS                          01822\"}',\n",
              " '{\"full_address_1_to_json\":\"AV CORDOBA               0002122                 CIUDAD AUTONOMA BUENOS AIRES   CAPITAL FEDERAL                01120\"}',\n",
              " '{\"full_address_1_to_json\":\"TUCUMAN                  0001654 PB       5      CASTELAR                       MORON                          01712\"}',\n",
              " '{\"full_address_1_to_json\":\"sin_dato\"}',\n",
              " '{\"full_address_1_to_json\":\"SANTA JULIA              0001754                 MANUEL ALBERTI                 PILAR                          01667\"}',\n",
              " '{\"full_address_1_to_json\":\"DR JOSE VALENTIN GOMEZ   0002971 6        21     CIUDAD AUTONOMA BUENOS AIRES   CAPITAL FEDERAL                01191\"}',\n",
              " '{\"full_address_1_to_json\":\"AV ALBERDI               0001553 9        A      CIUDAD AUTONOMA BUENOS AIRES   CAPITAL FEDERAL                01406\"}',\n",
              " '{\"full_address_1_to_json\":\"GONZALEZ                 0000054                 SAN FERNANDO                   SAN FERNANDO                   01646\"}',\n",
              " '{\"full_address_1_to_json\":\"AUSTRIA                  0002039 3        A      CIUDAD AUTONOMA BUENOS AIRES   CAPITAL FEDERAL                01425\"}',\n",
              " '{\"full_address_1_to_json\":\"RIO TURBIO               0001202                 VILLA VATTEONE                 FLORENCIO VARELA               01888\"}',\n",
              " '{\"full_address_1_to_json\":\"DR COSME ARGERICH        0000555 8        B      CIUDAD AUTONOMA BUENOS AIRES   CAPITAL FEDERAL                01406\"}',\n",
              " '{\"full_address_1_to_json\":\"JORGE NEWBERY            0001567 2        2      CIUDAD AUTONOMA BUENOS AIRES   CAPITAL FEDERAL                01426\"}',\n",
              " '{\"full_address_1_to_json\":\"DR LORENZO GUARRACINO    0002328                 REMEDIOS DE ESCALADA           LANUS                          01826\"}',\n",
              " '{\"full_address_1_to_json\":\"GERONIMO DE HELGUERA     0000479                 CIUDAD AUTONOMA BUENOS AIRES   CAPITAL FEDERAL                01406\"}',\n",
              " '{\"full_address_1_to_json\":\"sin_dato\"}',\n",
              " '{\"full_address_1_to_json\":\"FELIPE IRIARTE           0000713                 CAMPANA                        CAMPANA                        02804\"}',\n",
              " '{\"full_address_1_to_json\":\"PEDRO ZANNI              0001222                 M.ALBERTI(APEADERO FCGB)       112233114455                   01667\"}',\n",
              " '{\"full_address_1_to_json\":\"CAZON                    0003068                 MONTE CHINGOLO                 LANUS                          01825\"}',\n",
              " '{\"full_address_1_to_json\":\"L N ALEM                 0000165                 BURZACO                        ALMIRANTE BROWN                01852\"}',\n",
              " '{\"full_address_1_to_json\":\"sin_dato\"}',\n",
              " '{\"full_address_1_to_json\":\"AV MONTES DE OCA         0001199                 CIUDAD AUTONOMA BUENOS AIRES   CAPITAL FEDERAL                01270\"}',\n",
              " '{\"full_address_1_to_json\":\"AV CELESTINO VIDAL       0002458 PB              CIUDAD AUTONOMA BUENOS AIRES   CAPITAL FEDERAL                01428\"}',\n",
              " '{\"full_address_1_to_json\":\"DR MANUEL BELGRANO       0000695                 LONGCHAMPS                     ALMIRANTE BROWN                01854\"}',\n",
              " '{\"full_address_1_to_json\":\"ARISTOBULO DEL VALLE     0002871                 LANUS                          LANUS                          01824\"}',\n",
              " '{\"full_address_1_to_json\":\"ANGEL PACHECO            0003454                 CIUDAD AUTONOMA BUENOS AIRES   CAPITAL FEDERAL                01431\"}',\n",
              " '{\"full_address_1_to_json\":\"CARLOS RODRIGUEZ BRITO   0000931                 BANFIELD                       LOMAS DE ZAMORA                01828\"}',\n",
              " '{\"full_address_1_to_json\":\"C CASTRO                 0000729 PA              VILLA BOSCH                    TRES DE FEBRERO                01682\"}',\n",
              " '{\"full_address_1_to_json\":\"CALLE 13 N               0000017                 LA PLATA                       112233114455                   01900\"}',\n",
              " '{\"full_address_1_to_json\":\"DIEGO                    0001337                 DON TORCUATO                   TIGRE                          01611\"}',\n",
              " '{\"full_address_1_to_json\":\"LIBERTAD                 0004680                 GENERAL SAN MARTIN             GENERAL SAN MARTIN             01650\"}',\n",
              " '{\"full_address_1_to_json\":\"DR JUAN BAUTISTA JUSTO   0000130                 HAEDO                          MORON                          01706\"}',\n",
              " '{\"full_address_1_to_json\":\"sin_dato\"}',\n",
              " '{\"full_address_1_to_json\":\"MARIO BRAVO              0000780 PB       3      CIUDAD AUTONOMA BUENOS AIRES   CAPITAL FEDERAL                01175\"}',\n",
              " '{\"full_address_1_to_json\":\"ALVARADO                 0002311 PB       2      CIUDAD AUTONOMA BUENOS AIRES   CAPITAL FEDERAL                01290\"}',\n",
              " '{\"full_address_1_to_json\":\"POSADAS                  0000226 2        B      RAMOS MEJIA                    LA MATANZA                     01704\"}',\n",
              " '{\"full_address_1_to_json\":\"GRAL JUAN JOSE VIAMONTE  0002673 PB       2      VALENTIN ALSINA                LANUS                          01822\"}',\n",
              " '{\"full_address_1_to_json\":\"USPALLATA                0002928          2      CIUDAD AUTONOMA BUENOS AIRES   CAPITAL FEDERAL                01437\"}',\n",
              " '{\"full_address_1_to_json\":\"JOSE MARIA MORELOS       0002779                 MERLO                          MERLO                          01722\"}',\n",
              " '{\"full_address_1_to_json\":\"CLAUDIO MAMERTO CUENCA   0000032 1               CIUDAD AUTONOMA BUENOS AIRES   CAPITAL FEDERAL                01406\"}',\n",
              " '{\"full_address_1_to_json\":\"sin_dato\"}',\n",
              " '{\"full_address_1_to_json\":\"CNEL IGNACIO WARNES      0002530                 OLIVOS                         VICENTE LOPEZ                  01636\"}',\n",
              " '{\"full_address_1_to_json\":\"LAVALLE                  0000084 7        C      BAHIA BLANCA                   BAHIA BLANCA                   08000\"}',\n",
              " '{\"full_address_1_to_json\":\"TTE GRAL JUAN D PERON    0001457 6        53     CIUDAD AUTONOMA BUENOS AIRES   CAPITAL FEDERAL                01037\"}',\n",
              " '{\"full_address_1_to_json\":\"FRANCISCO PLANES         0001102                 CIUDAD AUTONOMA BUENOS AIRES   CAPITAL FEDERAL                01405\"}',\n",
              " '{\"full_address_1_to_json\":\"HABANA                   0002583                 CIUDAD AUTONOMA BUENOS AIRES   CAPITAL FEDERAL                01419\"}',\n",
              " '{\"full_address_1_to_json\":\"sin_dato\"}',\n",
              " '{\"full_address_1_to_json\":\"CNEL P MURGUIONDO        0003961                 CIUDAD AUTONOMA BUENOS AIRES   CAPITAL FEDERAL                01439\"}',\n",
              " '{\"full_address_1_to_json\":\"TACUARI                  0001723                 CIUDAD AUTONOMA BUENOS AIRES   CAPITAL FEDERAL                01139\"}',\n",
              " '{\"full_address_1_to_json\":\"PEDRO LOZANO             0002925                 CIUDAD AUTONOMA BUENOS AIRES   CAPITAL FEDERAL                01417\"}',\n",
              " '{\"full_address_1_to_json\":\"JOSE PEDRO VARELA        0004866                 CIUDAD AUTONOMA BUENOS AIRES   CAPITAL FEDERAL                01417\"}',\n",
              " '{\"full_address_1_to_json\":\"LAUTARO                  0000460 PB       2      CIUDAD AUTONOMA BUENOS AIRES   CAPITAL FEDERAL                01406\"}',\n",
              " '{\"full_address_1_to_json\":\"AV MARTIN GARCIA         0000545                 CIUDAD AUTONOMA BUENOS AIRES   CAPITAL FEDERAL                01268\"}',\n",
              " '{\"full_address_1_to_json\":\"MONS ALEJANDRO SCHELL    0000274 2        A      LOMAS DE ZAMORA                LOMAS DE ZAMORA                01832\"}',\n",
              " '{\"full_address_1_to_json\":\"DR JUAN F ARANGUREN      0003069                 CIUDAD AUTONOMA BUENOS AIRES   CAPITAL FEDERAL                01406\"}',\n",
              " '{\"full_address_1_to_json\":\"COTAGAITA                0001166                 WILDE                          AVELLANEDA                     01875\"}',\n",
              " '{\"full_address_1_to_json\":\"LOS OLIVOS               0001238                 MANUEL ALBERTI                 PILAR                          01667\"}',\n",
              " '{\"full_address_1_to_json\":\"SAN JUAN                 0001137                 TIGRE                          TIGRE                          01648\"}',\n",
              " '{\"full_address_1_to_json\":\"sin_dato\"}',\n",
              " '{\"full_address_1_to_json\":\"AV DEL LIBERTADOR        0002315 1               CIUDAD AUTONOMA BUENOS AIRES   CAPITAL FEDERAL                01425\"}',\n",
              " '{\"full_address_1_to_json\":\"CDORO CEFERINO RAMIREZ   0001443                 ADROGUE                        ALMIRANTE BROWN                01846\"}',\n",
              " '{\"full_address_1_to_json\":\"PBTO M ALBERTI           0001588 1               CIUDAD AUTONOMA BUENOS AIRES   CAPITAL FEDERAL                01247\"}',\n",
              " '{\"full_address_1_to_json\":\"DOMICILIO DE PRUEBA      0010000                 CIUDAD PET57548 BUENOS AIRES   PET57548 EDERAL                01427\"}',\n",
              " '{\"full_address_1_to_json\":\"AYACUCHO                 0000180                 RESISTENCIA                                                   03500\"}',\n",
              " '{\"full_address_1_to_json\":\"EUSEBIO GIMENEZ          0003067                 CASTELAR                       MORON                          01712\"}',\n",
              " '{\"full_address_1_to_json\":\"ZUVIRIA                  0001876                 SAN MIGUEL                     SAN MIGUEL                     01663\"}',\n",
              " '{\"full_address_1_to_json\":\"BDIER GRAL J ZAPIOLA     0002156                 CIUDAD AUTONOMA BUENOS AIRES   CAPITAL FEDERAL                01428\"}',\n",
              " '{\"full_address_1_to_json\":\"GRAL PEDERNERA           0000680 PA              VILLA DOMINICO                 AVELLANEDA                     01874\"}',\n",
              " '{\"full_address_1_to_json\":\"SANTA MARIA              0001145                 MANUEL ALBERTI                 PILAR                          01667\"}',\n",
              " '{\"full_address_1_to_json\":\"sin_dato\"}',\n",
              " '{\"full_address_1_to_json\":\"PRES GRAL J A ROCA       0000076                 CARLOS SPEGAZZINI              EZEIZA                         01812\"}',\n",
              " '{\"full_address_1_to_json\":\"SANTA FE                 0000648                 MORON                          MORON                          01708\"}',\n",
              " '{\"full_address_1_to_json\":\"ROBERTO J PAYRO          0001192                 BANFIELD                       LOMAS DE ZAMORA                01828\"}',\n",
              " '{\"full_address_1_to_json\":\"AV MITRE                 0001690                 QUILMES                        QUILMES                        01878\"}',\n",
              " '{\"full_address_1_to_json\":\"MONTIEL                  0001420                 CAPITAL FEDERAL                112233114455                   01408\"}',\n",
              " '{\"full_address_1_to_json\":\"PEDRO ZONZA BRIANO       0000172                 CIUDAD AUTONOMA BUENOS AIRES   CAPITAL FEDERAL                01156\"}',\n",
              " '{\"full_address_1_to_json\":\"QUESADA                  0002316 1        A      BECCAR                         SAN ISIDRO                     01643\"}',\n",
              " '{\"full_address_1_to_json\":\"AV CORDOBA               0004799                 CIUDAD AUTONOMA BUENOS AIRES   CAPITAL FEDERAL                01414\"}',\n",
              " '{\"full_address_1_to_json\":\"MEXICO                   0003269                 VILLA MARTELLI                 VICENTE LOPEZ                  01603\"}',\n",
              " '{\"full_address_1_to_json\":\"YAPEYU                   0001458                 WILDE                          AVELLANEDA                     01875\"}',\n",
              " '{\"full_address_1_to_json\":\"DIAG 73                  0002751                 LA PLATA                       LA PLATA                       01900\"}',\n",
              " '{\"full_address_1_to_json\":\"AU TTE GRAL LUIS J DELLE 0004971 11       A      CIUDAD AUTONOMA BUENOS AIRES   CAPITAL FEDERAL                01439\"}',\n",
              " '{\"full_address_1_to_json\":\"GRAL J DE MADARIAGA      0006737 PB       B      CIUDAD AUTONOMA BUENOS AIRES   CAPITAL FEDERAL                01439\"}',\n",
              " '{\"full_address_1_to_json\":\"SCALABRINI ORTIZ         0003094 PB       2      CASEROS                        TRES DE FEBRERO                01678\"}',\n",
              " '{\"full_address_1_to_json\":\"BARRIO INTA              0000071                 CIUDAD AUTONOMA BUENOS AIRES   CAPITAL FEDERAL                01439\"}',\n",
              " '{\"full_address_1_to_json\":\"ARENALES                 0001826 1               CIUDAD AUTONOMA BUENOS AIRES   CAPITAL FEDERAL                01124\"}',\n",
              " '{\"full_address_1_to_json\":\"ACASSUSO                 0001697                 OLIVOS                         VICENTE LOPEZ                  01636\"}',\n",
              " '{\"full_address_1_to_json\":\"CALE                     0000100                 HAEDO                          112233114455                   01706\"}',\n",
              " '{\"full_address_1_to_json\":\"ASIA                     0003977 PB       2      SAN JUSTO                      LA MATANZA                     01754\"}',\n",
              " '{\"full_address_1_to_json\":\"CHACABUCO                0000527 PB              BERNAL ESTE                    QUILMES                        01876\"}',\n",
              " '{\"full_address_1_to_json\":\"FRANCISCO BEIRO          0001049                 GRAND BOURG                    MALVINAS ARGENTINAS            01615\"}',\n",
              " '{\"full_address_1_to_json\":\"FORMOSA                  0001744                 M.ALBERTI(APEADERO FCGB)       112233114455                   01667\"}',\n",
              " '{\"full_address_1_to_json\":\"EL SALVADOR              0005751 3               CIUDAD AUTONOMA BUENOS AIRES   CAPITAL FEDERAL                01414\"}',\n",
              " '{\"full_address_1_to_json\":\"BARTOLOME MITRE          0001374                 M.ALBERTI(APEADERO FCGB)       112233114455                   01667\"}',\n",
              " '{\"full_address_1_to_json\":\"GREGORIO DE LAFERRERE    0001351 1        A      CIUDAD AUTONOMA BUENOS AIRES   CAPITAL FEDERAL                01406\"}',\n",
              " '{\"full_address_1_to_json\":\"TANDIL                   0003122                 HURLINGHAM                     HURLINGHAM                     01686\"}',\n",
              " '{\"full_address_1_to_json\":\"FLORENCIO VARELA OESTE   0000367                 EZPELETA ESTE                  QUILMES                        01882\"}',\n",
              " '{\"full_address_1_to_json\":\"AV. BENARDINO RIVADAVIA  0014340 2               RAMOS MEJIA                    112233114455                   01704\"}',\n",
              " '{\"full_address_1_to_json\":\"sin_dato\"}',\n",
              " '{\"full_address_1_to_json\":\"ANDRES FERREYRA          0002760                 CASEROS                        TRES DE FEBRERO                01678\"}',\n",
              " '{\"full_address_1_to_json\":\"GRACIAN                  0000854                 TIGRE                          112233114455                   01648\"}',\n",
              " '{\"full_address_1_to_json\":\"PADRE JUAN A BUSSOLINI   0002003                 SAN MIGUEL                     SAN MIGUEL                     01663\"}',\n",
              " '{\"full_address_1_to_json\":\"DR D N DE BASAVILBASO    0002067 3        A      LANUS                          LANUS                          01824\"}',\n",
              " '{\"full_address_1_to_json\":\"BO ALTAMIRA STA MARIA    0006504                 PILAR                          PILAR                          01629\"}',\n",
              " '{\"full_address_1_to_json\":\"sin_dato\"}',\n",
              " '{\"full_address_1_to_json\":\"TUCUMAN                  0002739          3      LANUS                          LANUS                          01824\"}',\n",
              " '{\"full_address_1_to_json\":\"EMILIO BERISSO           0000479                 CLAYPOLE                       ALMIRANTE BROWN                01849\"}',\n",
              " '{\"full_address_1_to_json\":\"CESAR H MALNATTI         0000153                 MU�IZ                          SAN MIGUEL                     01663\"}',\n",
              " '{\"full_address_1_to_json\":\"TTE GRAL JUAN D PERON    0004227 12       E      CIUDAD AUTONOMA BUENOS AIRES   CAPITAL FEDERAL                01199\"}',\n",
              " '{\"full_address_1_to_json\":\"COMBATE DE SAN CARLOS    0005436 10       B      CIUDAD AUTONOMA BUENOS AIRES   CAPITAL FEDERAL                01439\"}',\n",
              " '{\"full_address_1_to_json\":\"ALFONSINA STORNI         0003806                 GARIN                          ESCOBAR                        01619\"}',\n",
              " '{\"full_address_1_to_json\":\"PJE P MONTES CARBALLO    0001556 PB       4      CIUDAD AUTONOMA BUENOS AIRES   CAPITAL FEDERAL                01407\"}',\n",
              " '{\"full_address_1_to_json\":\"sin_dato\"}',\n",
              " '{\"full_address_1_to_json\":\"GRL JUAN M DE PUEYRREDON 0001176                 HAEDO                          MORON                          01706\"}',\n",
              " '{\"full_address_1_to_json\":\"sin_dato\"}',\n",
              " '{\"full_address_1_to_json\":\"JUAN AGUSTIN MAZA        0000545                 VILLA ADELINA                  SAN ISIDRO                     01607\"}',\n",
              " '{\"full_address_1_to_json\":\"THAMES                   0000692 2        B      CIUDAD AUTONOMA BUENOS AIRES   CAPITAL FEDERAL                01414\"}',\n",
              " '{\"full_address_1_to_json\":\"CHUBUT                   0000759 PB       2      BERNAL OESTE                   QUILMES                        01876\"}',\n",
              " '{\"full_address_1_to_json\":\"LISBOA                   0000860                 BERISSO                        BERISSO                        01923\"}',\n",
              " '{\"full_address_1_to_json\":\"MANUEL ANASAGASTI        0000576                 MANUEL ALBERTI                 PILAR                          01667\"}',\n",
              " '{\"full_address_1_to_json\":\"CHACABUCO                0001271                 RAMOS MEJIA                    LA MATANZA                     01704\"}',\n",
              " '{\"full_address_1_to_json\":\"CAXARAVILLE              0004228                 VILLA DOMINICO                 AVELLANEDA                     01874\"}',\n",
              " '{\"full_address_1_to_json\":\"GAVILAN                  0003989                 CIUDAD AUTONOMA BUENOS AIRES   CAPITAL FEDERAL                01419\"}',\n",
              " '{\"full_address_1_to_json\":\"DR SATURNINO SEGUROLA    0000379                 BOULOGNE                       SAN ISIDRO                     01609\"}',\n",
              " '{\"full_address_1_to_json\":\"ALEGRIA                  0000039                 VIRREYES                       112233114455                   01646\"}',\n",
              " '{\"full_address_1_to_json\":\"YERBAL                   0002351 1        3      CIUDAD AUTONOMA BUENOS AIRES   CAPITAL FEDERAL                01406\"}',\n",
              " '{\"full_address_1_to_json\":\"SAENZ PE�A               0003089                 LOMAS DEL MIRADOR              LA MATANZA                     01752\"}',\n",
              " '{\"full_address_1_to_json\":\"sin_dato\"}',\n",
              " '{\"full_address_1_to_json\":\"JURAMENTO                0005744                 CIUDAD AUTONOMA BUENOS AIRES   CAPITAL FEDERAL                01431\"}',\n",
              " '{\"full_address_1_to_json\":\"PTE H YRIGOYEN           0002996 PB              CIUDAD AUTONOMA BUENOS AIRES   CAPITAL FEDERAL                01207\"}',\n",
              " '{\"full_address_1_to_json\":\"HUALFIN                  0000162                 ISIDRO CASANOVA                LA MATANZA                     01765\"}',\n",
              " '{\"full_address_1_to_json\":\"GRAL SAN MARTIN          0001496                 LONGCHAMPS                     ALMIRANTE BROWN                01854\"}',\n",
              " '{\"full_address_1_to_json\":\"DARWIN                   0000343          5      CIUDAD AUTONOMA BUENOS AIRES   CAPITAL FEDERAL                01414\"}',\n",
              " '{\"full_address_1_to_json\":\"FELIPE AMOEDO            0000858                 QUILMES                        QUILMES                        01878\"}',\n",
              " '{\"full_address_1_to_json\":\"CLEMENTE ONELLI          0002151                 BECCAR                         SAN ISIDRO                     01643\"}',\n",
              " '{\"full_address_1_to_json\":\"ONCATIVO                 0000405                 RAMOS MEJIA                    LA MATANZA                     01704\"}',\n",
              " '{\"full_address_1_to_json\":\"RIO DE JANEIRO           0000775                 CIUDAD AUTONOMA BUENOS AIRES   CAPITAL FEDERAL                01405\"}',\n",
              " '{\"full_address_1_to_json\":\"AV MARIANO BOEDO         0001016                 CIUDAD AUTONOMA BUENOS AIRES   CAPITAL FEDERAL                01239\"}',\n",
              " '{\"full_address_1_to_json\":\"sin_dato\"}',\n",
              " '{\"full_address_1_to_json\":\"CALLE 149                0003826                 BERAZATEGUI                    112233114455                   01884\"}',\n",
              " '{\"full_address_1_to_json\":\"MAESTRA GACHET           0003775                 CASTELAR                       MORON                          01712\"}',\n",
              " '{\"full_address_1_to_json\":\"SALGUERO                 0001535 1        1      BOULOGNE                       SAN ISIDRO                     01609\"}',\n",
              " '{\"full_address_1_to_json\":\"DR CESAR OLIVEIRA        0000155                 TIGRE                          TIGRE                          01648\"}',\n",
              " '{\"full_address_1_to_json\":\"MANUEL QUINTANA          0000171                 FLORENCIO VARELA               FLORENCIO VARELA               01888\"}',\n",
              " '{\"full_address_1_to_json\":\"TALCAHUANO               0003601 PB              VALENTIN ALSINA                LANUS                          01822\"}',\n",
              " '{\"full_address_1_to_json\":\"ITAPIRU                  0002384                 LANUS                          LANUS                          01824\"}',\n",
              " '{\"full_address_1_to_json\":\"ROQUE ESTEVEZ CORREA     0000241                 TEMPERLEY                      LOMAS DE ZAMORA                01834\"}',\n",
              " '{\"full_address_1_to_json\":\"SUIPACHA                 0001210 PB              CIUDAD AUTONOMA BUENOS AIRES   CAPITAL FEDERAL                01011\"}',\n",
              " '{\"full_address_1_to_json\":\"SANTIAGO DEL ESTERO      0001172 12              CIUDAD AUTONOMA BUENOS AIRES   CAPITAL FEDERAL                01075\"}',\n",
              " '{\"full_address_1_to_json\":\"CALLE 866                0002776 PB              SAN FRANCISCO SOLANO           QUILMES                        01881\"}',\n",
              " '{\"full_address_1_to_json\":\"BENITO LYNCH             0002624                 VILLA SAENZ PE�A               TRES DE FEBRERO                01674\"}',\n",
              " '{\"full_address_1_to_json\":\"CALLE 14                 0000603                 LA PLATA                       112233114455                   01900\"}',\n",
              " '{\"full_address_1_to_json\":\"NESTOR DE LA PE�A        0000563                 LLAVALLOL                      LOMAS DE ZAMORA                01836\"}',\n",
              " '{\"full_address_1_to_json\":\"ESTADOS UNIDOS           0003117                 CIUDAD AUTONOMA BUENOS AIRES   CAPITAL FEDERAL                01228\"}',\n",
              " '{\"full_address_1_to_json\":\"GRAL JUAN LAVALLE        0001346                 ITUZAINGO                      ITUZAINGO                      01714\"}',\n",
              " '{\"full_address_1_to_json\":\"VIRREY LINIERS           0003607 2               VALENTIN ALSINA                LANUS                          01822\"}',\n",
              " '{\"full_address_1_to_json\":\"LAPRIDA                  0001678 7        15     CIUDAD AUTONOMA BUENOS AIRES   CAPITAL FEDERAL                01425\"}',\n",
              " '{\"full_address_1_to_json\":\"TERRERO                  0000860                 BURZACO                        ALMIRANTE BROWN                01852\"}',\n",
              " '{\"full_address_1_to_json\":\"sin_dato\"}',\n",
              " '{\"full_address_1_to_json\":\"JOSE OTAMENDI            0002394                 LANUS                          LANUS                          01824\"}',\n",
              " '{\"full_address_1_to_json\":\"ANDRES BARANDA           0003891                 EZPELETA ESTE                  QUILMES                        01882\"}',\n",
              " '{\"full_address_1_to_json\":\"BERUTI                   0000205 11       E      AVELLANEDA                     AVELLANEDA                     01870\"}',\n",
              " '{\"full_address_1_to_json\":\"AV CRAMER                0001180                 CIUDAD AUTONOMA BUENOS AIRES   CAPITAL FEDERAL                01426\"}',\n",
              " '{\"full_address_1_to_json\":\"JUAN B. JUSTO            0000130 1        C      RESISTENCIA                                                   03500\"}',\n",
              " '{\"full_address_1_to_json\":\"SALTA                    0000341                 EZPELETA ESTE                  QUILMES                        01882\"}',\n",
              " '{\"full_address_1_to_json\":\"DR NICOLAS REPETTO       0001989                 CIUDAD AUTONOMA BUENOS AIRES   CAPITAL FEDERAL                01416\"}',\n",
              " '{\"full_address_1_to_json\":\"HUMBERTO PRIMO           0002016 PA              LANUS                          LANUS                          01824\"}',\n",
              " '{\"full_address_1_to_json\":\"J DE LA CRUZ CONTRERAS   0000408                 FLORENCIO VARELA               FLORENCIO VARELA               01888\"}',\n",
              " '{\"full_address_1_to_json\":\"ELPIDIO GONZALEZ         0005992                 CIUDAD AUTONOMA BUENOS AIRES   CAPITAL FEDERAL                01408\"}',\n",
              " '{\"full_address_1_to_json\":\"sin_dato\"}',\n",
              " '{\"full_address_1_to_json\":\"CNEL DE MARINA ROSALES   0001880                 ADROGUE                        ALMIRANTE BROWN                01846\"}',\n",
              " '{\"full_address_1_to_json\":\"TANDIL                   0002754          4      CIUDAD AUTONOMA BUENOS AIRES   CAPITAL FEDERAL                01406\"}',\n",
              " '{\"full_address_1_to_json\":\"GRAL M SOLER             0006076 5        C      CIUDAD AUTONOMA BUENOS AIRES   CAPITAL FEDERAL                01425\"}',\n",
              " '{\"full_address_1_to_json\":\"PJE SAMUEL MORSE         0004323                 CIUDAD AUTONOMA BUENOS AIRES   CAPITAL FEDERAL                01234\"}',\n",
              " '{\"full_address_1_to_json\":\"MERCEDES                 0000498                 LLAVALLOL                      LOMAS DE ZAMORA                01836\"}',\n",
              " '{\"full_address_1_to_json\":\"sin_dato\"}',\n",
              " '{\"full_address_1_to_json\":\"PARACAIDISTA ROCA        0002327                 CIUDAD JARDIN DEL PALOMAR      TRES DE FEBRERO                01684\"}',\n",
              " '{\"full_address_1_to_json\":\"GRAL JUAN LAVALLE        0001072 10       51     CIUDAD AUTONOMA BUENOS AIRES   CAPITAL FEDERAL                01048\"}',\n",
              " '{\"full_address_1_to_json\":\"AV L N ALEM              0001067 8               CIUDAD AUTONOMA BUENOS AIRES   CAPITAL FEDERAL                01001\"}',\n",
              " '{\"full_address_1_to_json\":\"LAUTARO                  0000066 9        B      CIUDAD AUTONOMA BUENOS AIRES   CAPITAL FEDERAL                01406\"}',\n",
              " '{\"full_address_1_to_json\":\"CRISTOBAL COLON          0002294                 REMEDIOS DE ESCALADA           LANUS                          01826\"}',\n",
              " '{\"full_address_1_to_json\":\"CNEL RAMON L FALCON      0001454 1        7      BAHIA BLANCA                   BAHIA BLANCA                   08000\"}',\n",
              " '{\"full_address_1_to_json\":\"ARQUIAGA                 0000965                 M.ALBERTI(APEADERO FCGB)       112233114455                   01667\"}',\n",
              " '{\"full_address_1_to_json\":\"CONGRESO                 0000970                 HAEDO                          MORON                          01706\"}',\n",
              " '{\"full_address_1_to_json\":\"BOQUERON                 0003059 PB       3      LANUS                          LANUS                          01824\"}',\n",
              " '{\"full_address_1_to_json\":\"TACUARI                  0000336 PB              CIUDAD AUTONOMA BUENOS AIRES   CAPITAL FEDERAL                01071\"}',\n",
              " '{\"full_address_1_to_json\":\"CHILE                    0001283 6        H      CIUDAD AUTONOMA BUENOS AIRES   CAPITAL FEDERAL                01098\"}',\n",
              " '{\"full_address_1_to_json\":\"E ZEBALLOS               0000800                 AVELLANEDA                     AVELLANEDA                     01870\"}',\n",
              " '{\"full_address_1_to_json\":\"DR JUAN JOSE PASO        0000564 PB              CLAYPOLE                       ALMIRANTE BROWN                01849\"}',\n",
              " '{\"full_address_1_to_json\":\"AV ASAMBLEA              0001542 6        A      CIUDAD AUTONOMA BUENOS AIRES   CAPITAL FEDERAL                01406\"}',\n",
              " '{\"full_address_1_to_json\":\"AV GRAL DIAZ VELEZ       0003864 1        12     CIUDAD AUTONOMA BUENOS AIRES   CAPITAL FEDERAL                01200\"}',\n",
              " '{\"full_address_1_to_json\":\"CHARCAS                  0000618                 RAMOS MEJIA                    LA MATANZA                     01704\"}',\n",
              " '{\"full_address_1_to_json\":\"BACACAY                  0001829                 CIUDAD AUTONOMA BUENOS AIRES   CAPITAL FEDERAL                01406\"}',\n",
              " '{\"full_address_1_to_json\":\"CNO REAL MORON           0001200 2        C      BOULOGNE                       SAN ISIDRO                     01609\"}',\n",
              " '{\"full_address_1_to_json\":\"sin_dato\"}',\n",
              " '{\"full_address_1_to_json\":\"JUAN MEDEYROS            0003464                 CIUDAD AUTONOMA BUENOS AIRES   CAPITAL FEDERAL                01431\"}',\n",
              " '{\"full_address_1_to_json\":\"CERVANTES                0000018                 RESISTENCIA                                                   03500\"}',\n",
              " '{\"full_address_1_to_json\":\"RIO CARAPARI             0002149                 SALTA                          CAPITAL                        04400\"}',\n",
              " '{\"full_address_1_to_json\":\"sin_dato\"}',\n",
              " '{\"full_address_1_to_json\":\"GRAL M DE AZCUENAGA      0001450 10       C      VICENTE LOPEZ                  VICENTE LOPEZ                  01638\"}',\n",
              " '{\"full_address_1_to_json\":\"ELPIDIO GONZALEZ         0004359 2        2      CIUDAD AUTONOMA BUENOS AIRES   CAPITAL FEDERAL                01407\"}',\n",
              " '{\"full_address_1_to_json\":\"sin_dato\"}',\n",
              " '{\"full_address_1_to_json\":\"FELIPE LLAVALLOL         0004584                 CIUDAD AUTONOMA BUENOS AIRES   CAPITAL FEDERAL                01419\"}',\n",
              " '{\"full_address_1_to_json\":\"GORRITI                  0001900 14              BOULOGNE                       SAN ISIDRO                     01609\"}',\n",
              " '{\"full_address_1_to_json\":\"sin_dato\"}',\n",
              " '{\"full_address_1_to_json\":\"L N ALEM                 0003585                 MUNRO                          VICENTE LOPEZ                  01605\"}',\n",
              " '{\"full_address_1_to_json\":\"JOSE HERNANDEZ           0000647                 VILLA BOSCH                    TRES DE FEBRERO                01682\"}',\n",
              " '{\"full_address_1_to_json\":\"IBERA                    0001701 1        C      CIUDAD AUTONOMA BUENOS AIRES   CAPITAL FEDERAL                01429\"}',\n",
              " '{\"full_address_1_to_json\":\"ARROLLO                  0000004                 CORREO CENTRAL                 112233114455                   01000\"}',\n",
              " '{\"full_address_1_to_json\":\"sin_dato\"}',\n",
              " '{\"full_address_1_to_json\":\"CHACABUCO                0004278                 OLIVOS                         VICENTE LOPEZ                  01636\"}',\n",
              " '{\"full_address_1_to_json\":\"sin_dato\"}',\n",
              " '{\"full_address_1_to_json\":\"HUMBERTO PRIMO           0001555                 LANUS                          LANUS                          01824\"}',\n",
              " '{\"full_address_1_to_json\":\"INT CASARES              0001926 4               SAN ANDRES                     GENERAL SAN MARTIN             01651\"}',\n",
              " '{\"full_address_1_to_json\":\"RAMALLO                  0002365 4        B      CIUDAD AUTONOMA BUENOS AIRES   CAPITAL FEDERAL                01429\"}',\n",
              " '{\"full_address_1_to_json\":\"9 DE JULIO               0000185 PB       F      AVELLANEDA                     AVELLANEDA                     01870\"}',\n",
              " '{\"full_address_1_to_json\":\"DR LISANDRO DE LA TORRE  0003566                 ITUZAINGO                      ITUZAINGO                      01714\"}',\n",
              " '{\"full_address_1_to_json\":\"AV CORDOBA               0002122                 CIUDAD AUTONOMA BUENOS AIRES   CAPITAL FEDERAL                01120\"}',\n",
              " '{\"full_address_1_to_json\":\"AV CORDOBA               0002122                 CIUDAD AUTONOMA BUENOS AIRES   CAPITAL FEDERAL                01120\"}',\n",
              " '{\"full_address_1_to_json\":\"IPIRANGA                 0000232                 BOULOGNE                       SAN ISIDRO                     01609\"}',\n",
              " '{\"full_address_1_to_json\":\"SANTA ELENA              0001777 PB       4      SARANDI                        AVELLANEDA                     01872\"}',\n",
              " '{\"full_address_1_to_json\":\"JULIAN ALVAREZ           0000783 PB       A      CIUDAD AUTONOMA BUENOS AIRES   CAPITAL FEDERAL                01414\"}',\n",
              " '{\"full_address_1_to_json\":\"JOSE DE ANDONAEGUI       0002397                 HURLINGHAM                     HURLINGHAM                     01686\"}',\n",
              " '{\"full_address_1_to_json\":\"sin_dato\"}',\n",
              " '{\"full_address_1_to_json\":\"sin_dato\"}',\n",
              " '{\"full_address_1_to_json\":\"SANTA ANA                0002128                 SAN MIGUEL                     SAN MIGUEL                     01663\"}',\n",
              " '{\"full_address_1_to_json\":\"ARAOZ                    0002002 PB              VILLA ADELINA                  SAN ISIDRO                     01607\"}',\n",
              " '{\"full_address_1_to_json\":\"GREGORIA PEREZ           0003446 PB       1      CIUDAD AUTONOMA BUENOS AIRES   CAPITAL FEDERAL                01426\"}',\n",
              " '{\"full_address_1_to_json\":\"AV CABILDO               0001849                 CIUDAD AUTONOMA BUENOS AIRES   CAPITAL FEDERAL                01428\"}',\n",
              " '{\"full_address_1_to_json\":\"C GARDEL                 0000636                 EL PALOMAR                     MORON                          01684\"}',\n",
              " '{\"full_address_1_to_json\":\"CALLE 16                 0000223                 LA PLATA                       112233114455                   01900\"}',\n",
              " '{\"full_address_1_to_json\":\"BLANCO ENCALADA          0001401 11       D      CIUDAD AUTONOMA BUENOS AIRES   CAPITAL FEDERAL                01428\"}',\n",
              " '{\"full_address_1_to_json\":\"CARLOS PELLEGRINI        0001079 6        F      CIUDAD AUTONOMA BUENOS AIRES   CAPITAL FEDERAL                01009\"}',\n",
              " '{\"full_address_1_to_json\":\"ALEGRIA                  0000746                 HAEDO                          MORON                          01706\"}',\n",
              " '{\"full_address_1_to_json\":\"CONCORDIA                0003019                 CIUDAD AUTONOMA BUENOS AIRES   CAPITAL FEDERAL                01417\"}',\n",
              " '{\"full_address_1_to_json\":\"sin_dato\"}',\n",
              " '{\"full_address_1_to_json\":\"SAN ISIDRO LABRADOR      0000424                 MARTINEZ                       SAN ISIDRO                     01640\"}',\n",
              " '{\"full_address_1_to_json\":\"ROCHA                    0001493                 CIUDAD AUTONOMA BUENOS AIRES   CAPITAL FEDERAL                01288\"}',\n",
              " '{\"full_address_1_to_json\":\"YAPEYU                   0001862 3        B      GENERAL SAN MARTIN             GENERAL SAN MARTIN             01650\"}',\n",
              " '{\"full_address_1_to_json\":\"AV 39                    0005146                 PLATANOS                       BERAZATEGUI                    01885\"}',\n",
              " '{\"full_address_1_to_json\":\"GRAL DEHEZA              0003122                 REMEDIOS DE ESCALADA           LANUS                          01826\"}',\n",
              " '{\"full_address_1_to_json\":\"BUENOS AIRES             0000514                 INGENIERO MASCHWITZ            ESCOBAR                        01623\"}',\n",
              " '{\"full_address_1_to_json\":\"JOSE DE AMENABAR         0002935                 CIUDAD AUTONOMA BUENOS AIRES   CAPITAL FEDERAL                01429\"}',\n",
              " '{\"full_address_1_to_json\":\"sin_dato\"}',\n",
              " '{\"full_address_1_to_json\":\"NICOLAS MEDINA           0000667                 CIUDAD AUTONOMA BUENOS AIRES   CAPITAL FEDERAL                01407\"}',\n",
              " '{\"full_address_1_to_json\":\"PTE H YRIGOYEN           0002326 PB       10     CIUDAD AUTONOMA BUENOS AIRES   CAPITAL FEDERAL                01089\"}',\n",
              " '{\"full_address_1_to_json\":\"VENEZUELA                0000770 6        F      CIUDAD AUTONOMA BUENOS AIRES   CAPITAL FEDERAL                01095\"}',\n",
              " '{\"full_address_1_to_json\":\"FRAY JULIAN LAGOS        0002257 PB              LANUS                          LANUS                          01824\"}',\n",
              " '{\"full_address_1_to_json\":\"FRANCISCO BOLLINI        0000596                 CLAYPOLE                       ALMIRANTE BROWN                01849\"}',\n",
              " '{\"full_address_1_to_json\":\"CAMPICHUELO              0001200                 MERLO                          MERLO                          01722\"}',\n",
              " '{\"full_address_1_to_json\":\"sin_dato\"}',\n",
              " '{\"full_address_1_to_json\":\"MERCEDES                 0000819 PB       3      CIUDAD AUTONOMA BUENOS AIRES   CAPITAL FEDERAL                01407\"}',\n",
              " '{\"full_address_1_to_json\":\"EDUARDO PRAYONES         0001107                 LUIS GUILLON                   ESTEBAN ECHEVERRIA             01838\"}',\n",
              " '{\"full_address_1_to_json\":\"YERBAL                   0000485                 CIUDAD AUTONOMA BUENOS AIRES   CAPITAL FEDERAL                01405\"}',\n",
              " '{\"full_address_1_to_json\":\"CALLAO                   0001037                 CIUDAD MADERO                  LA MATANZA                     01768\"}',\n",
              " '{\"full_address_1_to_json\":\"GERVASIO MENDEZ          0003705                 MUNRO                          VICENTE LOPEZ                  01605\"}',\n",
              " '{\"full_address_1_to_json\":\"AV DEL LIBERTADOR        0002698 8        I      CIUDAD AUTONOMA BUENOS AIRES   CAPITAL FEDERAL                01425\"}',\n",
              " '{\"full_address_1_to_json\":\"MARTIN FIERRO            0001242                 WILDE                          AVELLANEDA                     01875\"}',\n",
              " '{\"full_address_1_to_json\":\"CULPINA                  0001238                 CIUDAD AUTONOMA BUENOS AIRES   CAPITAL FEDERAL                01406\"}',\n",
              " '{\"full_address_1_to_json\":\"sin_dato\"}',\n",
              " '{\"full_address_1_to_json\":\"RAWSON                   0004564                 INGENIERO ADOLFO SOURDEAUX     MALVINAS ARGENTINAS            01612\"}',\n",
              " '{\"full_address_1_to_json\":\"JOSE ENRIQUE RODO        0001173 PB              WILDE                          AVELLANEDA                     01875\"}',\n",
              " '{\"full_address_1_to_json\":\"MORENO                   0001295                 RAMOS MEJIA                    LA MATANZA                     01704\"}',\n",
              " '{\"full_address_1_to_json\":\"sin_dato\"}',\n",
              " '{\"full_address_1_to_json\":\"B QUINQUELA MARTIN       0001753                 CIUDAD AUTONOMA BUENOS AIRES   CAPITAL FEDERAL                01296\"}',\n",
              " '{\"full_address_1_to_json\":\"sin_dato\"}',\n",
              " '{\"full_address_1_to_json\":\"CORRIENTES               0001849                 MARTINEZ                       SAN ISIDRO                     01640\"}',\n",
              " '{\"full_address_1_to_json\":\"ARRIBE�OS                0000198                 SARANDI                        AVELLANEDA                     01872\"}',\n",
              " '{\"full_address_1_to_json\":\"AV J DE GARAY            0001125                 CIUDAD AUTONOMA BUENOS AIRES   CAPITAL FEDERAL                01153\"}',\n",
              " '{\"full_address_1_to_json\":\"sin_dato\"}',\n",
              " '{\"full_address_1_to_json\":\"GRAL MANUEL N SAVIO      0006151                 CARAPACHAY                     VICENTE LOPEZ                  01605\"}',\n",
              " '{\"full_address_1_to_json\":\"AV BELGRANO              0000406                 CIUDAD AUTONOMA BUENOS AIRES   CAPITAL FEDERAL                01092\"}',\n",
              " '{\"full_address_1_to_json\":\"CORRALES                 0001558                 CIUDAD AUTONOMA BUENOS AIRES   CAPITAL FEDERAL                01437\"}',\n",
              " '{\"full_address_1_to_json\":\"IRIGOYEN                 0001750 PB              CIUDAD AUTONOMA BUENOS AIRES   CAPITAL FEDERAL                01408\"}',\n",
              " '{\"full_address_1_to_json\":\"GRAL VILLEGAS            0000351                 VILLA VATTEONE                 FLORENCIO VARELA               01888\"}',\n",
              " '{\"full_address_1_to_json\":\"sin_dato\"}',\n",
              " '{\"full_address_1_to_json\":\"MARCOS PAZ               0003776 1        G      CIUDAD AUTONOMA BUENOS AIRES   CAPITAL FEDERAL                01419\"}',\n",
              " '{\"full_address_1_to_json\":\"9 DE JULIO               0003170 2               LANUS                          LANUS                          01824\"}',\n",
              " '{\"full_address_1_to_json\":\"GDERO BAIGORRIA          0003061          3      CIUDAD AUTONOMA BUENOS AIRES   CAPITAL FEDERAL                01417\"}',\n",
              " '{\"full_address_1_to_json\":\"sin_dato\"}',\n",
              " '{\"full_address_1_to_json\":\"PLUMERILLOS              0002085                 HURLINGHAM                     HURLINGHAM                     01686\"}',\n",
              " '{\"full_address_1_to_json\":\"YERBAL                   0003098                 REMEDIOS DE ESCALADA           LANUS                          01826\"}',\n",
              " '{\"full_address_1_to_json\":\"GRAL JOSE G ARTIGAS      0001477                 CIUDAD AUTONOMA BUENOS AIRES   CAPITAL FEDERAL                01416\"}',\n",
              " '{\"full_address_1_to_json\":\"AV CARABOBO              0000627 2        K      CIUDAD AUTONOMA BUENOS AIRES   CAPITAL FEDERAL                01406\"}',\n",
              " '{\"full_address_1_to_json\":\"sin_dato\"}',\n",
              " '{\"full_address_1_to_json\":\"JOSE ALBERTO CAPDEVILA   0003498 3        A      CIUDAD AUTONOMA BUENOS AIRES   CAPITAL FEDERAL                01431\"}',\n",
              " '{\"full_address_1_to_json\":\"EL INDIO                 0002482                 VILLA ADELINA                  SAN ISIDRO                     01607\"}',\n",
              " '{\"full_address_1_to_json\":\"VICTOR MARTINEZ          0000231 PB       1      CIUDAD AUTONOMA BUENOS AIRES   CAPITAL FEDERAL                01406\"}',\n",
              " '{\"full_address_1_to_json\":\"USPALLATA                0003834                 CIUDAD AUTONOMA BUENOS AIRES   CAPITAL FEDERAL                01437\"}',\n",
              " '{\"full_address_1_to_json\":\"AV PTE H YRIGOYEN        0000001                 MANUEL ALBERTI                 PILAR                          01667\"}',\n",
              " '{\"full_address_1_to_json\":\"LA CRUJIA                0003252                 SAN ANDRES                     GENERAL SAN MARTIN             01651\"}',\n",
              " '{\"full_address_1_to_json\":\"sin_dato\"}',\n",
              " '{\"full_address_1_to_json\":\"PIZARRO                  0006114                 CAPITAL FEDERAL                112233114455                   01440\"}',\n",
              " '{\"full_address_1_to_json\":\"SAN JUSTO                0002876                 ITUZAINGO                      ITUZAINGO                      01714\"}',\n",
              " '{\"full_address_1_to_json\":\"DEFENSA                  0001604                 EL TALAR                       TIGRE                          01617\"}',\n",
              " '{\"full_address_1_to_json\":\"CNEL AREVALO             0002391                 CIUDAD AUTONOMA BUENOS AIRES   CAPITAL FEDERAL                01425\"}',\n",
              " '{\"full_address_1_to_json\":\"DR IGNACIO ARIETA        0003461 1               SAN JUSTO                      LA MATANZA                     01754\"}',\n",
              " '{\"full_address_1_to_json\":\"AV PTE H YRIGOYEN        0006661 5        A      REMEDIOS DE ESCALADA           LANUS                          01826\"}',\n",
              " '{\"full_address_1_to_json\":\"CNEL ARIAS               0000460                 JOSE CLEMENTE PAZ              JOSE CLEMENTE PAZ              01665\"}',\n",
              " '{\"full_address_1_to_json\":\"IGNACIO NU�EZ            0006075                 CIUDAD AUTONOMA BUENOS AIRES   CAPITAL FEDERAL                01431\"}',\n",
              " '{\"full_address_1_to_json\":\"GRAL PINTO               0002090                 SAN FERNANDO                   SAN FERNANDO                   01646\"}',\n",
              " '{\"full_address_1_to_json\":\"SANTA CATALINA           0002548                 MANUEL ALBERTI                 PILAR                          01667\"}',\n",
              " '{\"full_address_1_to_json\":\"VICENTE LOPEZ            0001874                 OLAVARRIA                      OLAVARRIA                      07400\"}',\n",
              " '{\"full_address_1_to_json\":\"DR MARIANO MORENO        0001200                 CIUDAD AUTONOMA BUENOS AIRES   CAPITAL FEDERAL                01091\"}',\n",
              " '{\"full_address_1_to_json\":\"ANTARTIDA ARGENTINA      0002126                 BOULOGNE                       SAN ISIDRO                     01609\"}',\n",
              " '{\"full_address_1_to_json\":\"PJE VICTOR CASCO         0000205                 CIUDAD AUTONOMA BUENOS AIRES   CAPITAL FEDERAL                01408\"}',\n",
              " '{\"full_address_1_to_json\":\"CUBA                     0002683 1        A      CIUDAD AUTONOMA BUENOS AIRES   CAPITAL FEDERAL                01428\"}',\n",
              " '{\"full_address_1_to_json\":\"AV TRIUNVIRATO           0003447                 CIUDAD AUTONOMA BUENOS AIRES   CAPITAL FEDERAL                01427\"}',\n",
              " '{\"full_address_1_to_json\":\"sin_dato\"}',\n",
              " '{\"full_address_1_to_json\":\"LAVALLE                  0001540 2        2      VILLA BALLESTER                GENERAL SAN MARTIN             01653\"}',\n",
              " '{\"full_address_1_to_json\":\"sin_dato\"}',\n",
              " '{\"full_address_1_to_json\":\"CALLE                    0000100                 HAEDO                          112233114455                   01706\"}',\n",
              " '{\"full_address_1_to_json\":\"AV GRAL LAS HERAS        0003753 3        D      CIUDAD AUTONOMA BUENOS AIRES   CAPITAL FEDERAL                01425\"}',\n",
              " '{\"full_address_1_to_json\":\"GRAL JUAN LAVALLE        0001290 3               CIUDAD AUTONOMA BUENOS AIRES   CAPITAL FEDERAL                01048\"}',\n",
              " '{\"full_address_1_to_json\":\"AV FONDO DE LA LEGUA     0002476 6        65     MARTINEZ                       SAN ISIDRO                     01640\"}',\n",
              " '{\"full_address_1_to_json\":\"TTE CNEL BUERAS          0003326                 LANUS                          LANUS                          01824\"}',\n",
              " '{\"full_address_1_to_json\":\"AV DE MAYO               0001360 4        B      CIUDAD AUTONOMA BUENOS AIRES   CAPITAL FEDERAL                01085\"}',\n",
              " '{\"full_address_1_to_json\":\"ANDRADE                  0003287                 QUILMES OESTE                  QUILMES                        01879\"}',\n",
              " '{\"full_address_1_to_json\":\"LA PAMPA                 0003047 1        B      CIUDAD AUTONOMA BUENOS AIRES   CAPITAL FEDERAL                01428\"}',\n",
              " '{\"full_address_1_to_json\":\"LUIS IRIBARNE            0001772                 9 DE ABRIL                     ESTEBAN ECHEVERRIA             01776\"}',\n",
              " '{\"full_address_1_to_json\":\"JURAMENTO                0001430 2        A      CIUDAD AUTONOMA BUENOS AIRES   CAPITAL FEDERAL                01428\"}',\n",
              " '{\"full_address_1_to_json\":\"MANUEL A OBARRIO         0000826                 BOULOGNE                       SAN ISIDRO                     01609\"}',\n",
              " '{\"full_address_1_to_json\":\"AV L N ALEM              0001134 14              CIUDAD AUTONOMA BUENOS AIRES   CAPITAL FEDERAL                01001\"}',\n",
              " '{\"full_address_1_to_json\":\"sin_dato\"}',\n",
              " '{\"full_address_1_to_json\":\"RECONQUISTA              0001034 6               CIUDAD AUTONOMA BUENOS AIRES   CAPITAL FEDERAL                01003\"}',\n",
              " '{\"full_address_1_to_json\":\"AV LAS HERAS             0001860                 RESISTENCIA                                                   03500\"}',\n",
              " '{\"full_address_1_to_json\":\"AYACUCHO                 0000406                 SAN FERNANDO                   SAN FERNANDO                   01646\"}',\n",
              " '{\"full_address_1_to_json\":\"INOCENCIO PIERES         0000736 PB       9      CIUDAD AUTONOMA BUENOS AIRES   CAPITAL FEDERAL                01408\"}',\n",
              " '{\"full_address_1_to_json\":\"CABRERA                  0001325 PB              BANFIELD                       LOMAS DE ZAMORA                01828\"}',\n",
              " '{\"full_address_1_to_json\":\"CHILE                    0001253 00              CIUDAD AUTONOMA BUENOS AIRES   CAPITAL FEDERAL                01098\"}',\n",
              " '{\"full_address_1_to_json\":\"ESTANISLAO DIAZ          0000960                 SAN ISIDRO                     SAN ISIDRO                     01642\"}',\n",
              " '{\"full_address_1_to_json\":\"AV CORRIENTES            0003782 10       A      CIUDAD AUTONOMA BUENOS AIRES   CAPITAL FEDERAL                01194\"}',\n",
              " '{\"full_address_1_to_json\":\"AV GDOR V VERGARA        0003005                 BERAZATEGUI                    BERAZATEGUI                    01884\"}',\n",
              " '{\"full_address_1_to_json\":\"CONDOR                   0002613 PB              CIUDAD AUTONOMA BUENOS AIRES   CAPITAL FEDERAL                01437\"}',\n",
              " '{\"full_address_1_to_json\":\"SANTA LUCIA              0001990                 ITUZAINGO                      ITUZAINGO                      01714\"}',\n",
              " '{\"full_address_1_to_json\":\"GRAL M DE AZCUENAGA      0001031 01       C      CIUDAD AUTONOMA BUENOS AIRES   CAPITAL FEDERAL                01115\"}',\n",
              " '{\"full_address_1_to_json\":\"CHACABUCO                0003837                 VILLA BALLESTER                GENERAL SAN MARTIN             01653\"}',\n",
              " '{\"full_address_1_to_json\":\"AV PTE H YRIGOYEN        0008230 PB              LOMAS DE ZAMORA                LOMAS DE ZAMORA                01832\"}',\n",
              " '{\"full_address_1_to_json\":\"CNEL MAURE               0003578 PB              MONTE CHINGOLO                 LANUS                          01825\"}',\n",
              " '{\"full_address_1_to_json\":\"ING ANTONIO ARCOS        0002696 6               CIUDAD AUTONOMA BUENOS AIRES   CAPITAL FEDERAL                01428\"}',\n",
              " '{\"full_address_1_to_json\":\"GONZALEZ DE HECHT        0000277                 VILLA SANTOS TESEI             HURLINGHAM                     01688\"}',\n",
              " '{\"full_address_1_to_json\":\"sin_dato\"}',\n",
              " '{\"full_address_1_to_json\":\"sin_dato\"}',\n",
              " '{\"full_address_1_to_json\":\"CALLE 389                0000090                 QUILMES OESTE                  QUILMES                        01879\"}',\n",
              " '{\"full_address_1_to_json\":\"sin_dato\"}',\n",
              " '{\"full_address_1_to_json\":\"LA PAMPA                 0003646                 CIUDAD AUTONOMA BUENOS AIRES   CAPITAL FEDERAL                01430\"}',\n",
              " '{\"full_address_1_to_json\":\"INTE BALLESTER           0002967                 SAN ANDRES                     GENERAL SAN MARTIN             01651\"}',\n",
              " '{\"full_address_1_to_json\":\"RUY DIAZ DE GUZMAN       0000635                 CIUDAD AUTONOMA BUENOS AIRES   CAPITAL FEDERAL                01267\"}',\n",
              " '{\"full_address_1_to_json\":\"INDEPENDENCIA            0006060                 DEL VISO                       PILAR                          01669\"}',\n",
              " '{\"full_address_1_to_json\":\"sin_dato\"}',\n",
              " '{\"full_address_1_to_json\":\"ALVARADO                 0000859                 RAMOS MEJIA                    LA MATANZA                     01704\"}',\n",
              " '{\"full_address_1_to_json\":\"BERUTI                   0000240                 AVELLANEDA                     AVELLANEDA                     01870\"}',\n",
              " '{\"full_address_1_to_json\":\"MORENO                   0001965          2      RAMOS MEJIA                    LA MATANZA                     01704\"}',\n",
              " ...]"
            ]
          },
          "metadata": {},
          "execution_count": 91
        }
      ]
    },
    {
      "cell_type": "markdown",
      "source": [
        "## **JOIN TABLAS DE CONTACTOS (BBVAW2T1-33)**\n"
      ],
      "metadata": {
        "id": "fgoCy_EQrw__"
      }
    },
    {
      "cell_type": "code",
      "source": [
        "#cambiando el primer campo podemos hacer el join de las tres bases.\n",
        "df_final_customer_phones = df_final_customer_phones.withColumnRenamed('customer_id','customer_id_B')"
      ],
      "metadata": {
        "id": "AluiDXaOo6lE"
      },
      "execution_count": null,
      "outputs": []
    },
    {
      "cell_type": "code",
      "source": [
        "df_final = df_final_customer_phones.join(df_final_customer_email, df_final_customer_phones.customer_id_B == df_final_customer_email.customer_id, how = \"left\")\n",
        "df_final = df_final.drop(\"customer_id\")\n",
        "df_final = df_final.join(df_final_customer_address, df_final.customer_id_B == df_final_customer_address.customer_id, how = \"left\")\n",
        "df_final = df_final.drop(\"customer_id\")\n",
        "df_final = df_final.withColumnRenamed('customer_id_B','customer_id')"
      ],
      "metadata": {
        "id": "3IIUcbEPp1SA"
      },
      "execution_count": null,
      "outputs": []
    },
    {
      "cell_type": "code",
      "source": [
        "df_final.show()"
      ],
      "metadata": {
        "colab": {
          "base_uri": "https://localhost:8080/"
        },
        "id": "toqtlnSArlmi",
        "outputId": "3c40b064-e4a9-4a9d-d4de-0dc3dbba2cc5"
      },
      "execution_count": null,
      "outputs": [
        {
          "output_type": "stream",
          "name": "stdout",
          "text": [
            "+-----------+-------------------+------------------+--------------+------------+----------------------+--------------------+--------------------+-------------------+-------+------------+--------------------+--------------+--------------+------------+----------------------+--------------------+\n",
            "|customer_id|     phone_number_1|    phone_number_2|phone_number_3|Contact_type|phone_number_1_to_json| phone_number_1_json|             email_1|            email_2|email_3|Contact_type|      full_address_1|full_address_2|full_address_3|Contact_type|full_address_1_to_json| full_address_1_json|\n",
            "+-----------+-------------------+------------------+--------------+------------+----------------------+--------------------+--------------------+-------------------+-------+------------+--------------------+--------------+--------------+------------+----------------------+--------------------+\n",
            "|   00000442| +54 297 15 5296284|+54 297 15 4729337|          null|       phone|    +54 297 15 5296284|{\"phone_number_1_...|                null|               null|   null|            |AGUERO           ...|          null|          null|     address|  AGUERO           ...|{\"full_address_1_...|\n",
            "|   00001419| +54 11 15 66793207|              null|          null|       phone|    +54 11 15 66793207|{\"phone_number_1_...|EMILIA.RUBIANES@H...| JU_LY1@HOTMAIL.COM|   null|       email|ALTE G BROWN     ...|          null|          null|     address|  ALTE G BROWN     ...|{\"full_address_1_...|\n",
            "|   00001939| +54 11 15 38700150|              null|          null|       phone|    +54 11 15 38700150|{\"phone_number_1_...|                null|               null|   null|            |JOSE HERNANDEZ   ...|          null|          null|     address|  JOSE HERNANDEZ   ...|{\"full_address_1_...|\n",
            "|   00002575|               null|              null|          null|            |              sin_dato|{\"phone_number_1_...|                null|               null|   null|            |                null|          null|          null|            |              sin_dato|{\"full_address_1_...|\n",
            "|   00002707|   +54 299  4477116|              null|          null|       phone|      +54 299  4477116|{\"phone_number_1_...|                null|               null|   null|            |GUATEMALA        ...|          null|          null|     address|  GUATEMALA        ...|{\"full_address_1_...|\n",
            "|   00002790|   +54 342  4883620|+54 342 15 4662478|          null|       phone|      +54 342  4883620|{\"phone_number_1_...|DIGITALIZACION@EE...|NOTIENE@HOIMAIL.COM|   null|       email|AV CORDOBA       ...|          null|          null|     address|  AV CORDOBA       ...|{\"full_address_1_...|\n",
            "|   00004287|+54 3541 15 5988799|              null|          null|       phone|   +54 3541 15 5988799|{\"phone_number_1_...|                null|               null|   null|            |CNEL DE MARINA RO...|          null|          null|     address|  CNEL DE MARINA RO...|{\"full_address_1_...|\n",
            "|   00004724| +54 11 15 24084447|              null|          null|       phone|    +54 11 15 24084447|{\"phone_number_1_...|                null|               null|   null|            |PJE MUTUALISMO   ...|          null|          null|     address|  PJE MUTUALISMO   ...|{\"full_address_1_...|\n",
            "|   00007932| +54 385 15 4065887|              null|          null|       phone|    +54 385 15 4065887|{\"phone_number_1_...|                null|               null|   null|            |AV FELIX DE OLAZA...|          null|          null|     address|  AV FELIX DE OLAZA...|{\"full_address_1_...|\n",
            "|   00011850| +54 11 15 25781080|+54 3489 15 493578|          null|       phone|    +54 11 15 25781080|{\"phone_number_1_...|                null|               null|   null|            |JUNCAL           ...|          null|          null|     address|  JUNCAL           ...|{\"full_address_1_...|\n",
            "|   00012051| +54 3401 15 534381|              null|          null|       phone|    +54 3401 15 534381|{\"phone_number_1_...|                null|               null|   null|            |AV GRAL JOSE MARI...|          null|          null|     address|  AV GRAL JOSE MARI...|{\"full_address_1_...|\n",
            "|   00012611|   +54 11  43443165|+54 11 15 61141855|          null|       phone|      +54 11  43443165|{\"phone_number_1_...|                null|               null|   null|            |ALBERTO LARROQUE ...|          null|          null|     address|  ALBERTO LARROQUE ...|{\"full_address_1_...|\n",
            "|   00012991|               null|              null|          null|            |              sin_dato|{\"phone_number_1_...|                null|               null|   null|            |                null|          null|          null|            |              sin_dato|{\"full_address_1_...|\n",
            "|   00013498| +54 221 15 6208511|              null|          null|       phone|    +54 221 15 6208511|{\"phone_number_1_...|                null|               null|   null|            |AV PTE H YRIGOYEN...|          null|          null|     address|  AV PTE H YRIGOYEN...|{\"full_address_1_...|\n",
            "|   00014664| +54 11 15 65050605|              null|          null|       phone|    +54 11 15 65050605|{\"phone_number_1_...|   alq@ciudad.com.ar|               null|   null|       email|AV TRIUNVIRATO   ...|          null|          null|     address|  AV TRIUNVIRATO   ...|{\"full_address_1_...|\n",
            "|   00015497| +54 11 15 51052460|              null|          null|       phone|    +54 11 15 51052460|{\"phone_number_1_...|                null|               null|   null|            |VUELTA DE OBLIGAD...|          null|          null|     address|  VUELTA DE OBLIGAD...|{\"full_address_1_...|\n",
            "|   00051576| +54 11 15 26531080|              null|          null|       phone|    +54 11 15 26531080|{\"phone_number_1_...|                null|               null|   null|            |ING GUILLERMO MAR...|          null|          null|     address|  ING GUILLERMO MAR...|{\"full_address_1_...|\n",
            "|   00053993| +54 3718 15 466655|              null|          null|       phone|    +54 3718 15 466655|{\"phone_number_1_...|                null|               null|   null|            |CALLE 899        ...|          null|          null|     address|  CALLE 899        ...|{\"full_address_1_...|\n",
            "|   00056407| +54 336 15 4577255|              null|          null|       phone|    +54 336 15 4577255|{\"phone_number_1_...|NELLY.S.GEREZ@GMA...|               null|   null|       email|AV DR J BAUTISTA ...|          null|          null|     address|  AV DR J BAUTISTA ...|{\"full_address_1_...|\n",
            "|   00056947| +54 297 15 4301718|+54 297 15 4577276|          null|       phone|    +54 297 15 4301718|{\"phone_number_1_...|                null|               null|   null|            |AV 25 DE MAYO    ...|          null|          null|     address|  AV 25 DE MAYO    ...|{\"full_address_1_...|\n",
            "+-----------+-------------------+------------------+--------------+------------+----------------------+--------------------+--------------------+-------------------+-------+------------+--------------------+--------------+--------------+------------+----------------------+--------------------+\n",
            "only showing top 20 rows\n",
            "\n"
          ]
        }
      ]
    },
    {
      "cell_type": "markdown",
      "source": [
        "## **RESGUARDAR 3 CONTACTOS DE CLIENTES (BBVAW2T1-34)**"
      ],
      "metadata": {
        "id": "-k4aWw_fq4SY"
      }
    },
    {
      "cell_type": "code",
      "source": [
        "# Crear las nuevas columnas con valores no nulos de las columnas de contactos, priorizando Telefono, Mail o dirección\n",
        "df_final = df_final.withColumn(\"contacto_1\", coalesce(\"phone_number_1\", \"phone_number_2\", \"phone_number_3\", \"email_1\", \"email_2\", \"email_3\", \"full_address_1\", \"full_address_1\", \"full_address_1\"))\n",
        "df_final = df_final.withColumn(\"contacto_2\", coalesce(\"phone_number_2\", \"phone_number_3\", \"email_1\", \"email_2\", \"email_3\", \"full_address_1\", \"full_address_2\", \"full_address_3\"))\n",
        "df_final = df_final.withColumn(\"contacto_3\", coalesce(\"phone_number_3\", \"email_1\", \"email_1\", \"email_1\", \"full_address_1\", \"full_address_2\", \"full_address_3\", \n",
        "                                        expr(\"coalesce(email_1, email_2, email_3, full_address_1, full_address_2, full_address_3)\")))\n",
        "\n",
        "df_final = df_final.withColumn(\"contacto_2\", \n",
        "                               when(col(\"contacto_2\").isin(col(\"contacto_1\")), None)\n",
        "                               .otherwise(col(\"contacto_2\")))\n",
        "df_final = df_final.withColumn(\"contacto_3\", \n",
        "                               when(col(\"contacto_3\").isin(col(\"contacto_1\"), col(\"contacto_2\")), None)\n",
        "                               .otherwise(col(\"contacto_3\")))\n",
        "\n",
        "df_final.show()"
      ],
      "metadata": {
        "colab": {
          "base_uri": "https://localhost:8080/"
        },
        "id": "U_pmTB_OnVuu",
        "outputId": "3fa87f14-3bd6-46d6-be87-3c9cdbb81d2c"
      },
      "execution_count": null,
      "outputs": [
        {
          "output_type": "stream",
          "name": "stdout",
          "text": [
            "+-----------+-------------------+------------------+--------------+------------+----------------------+--------------------+--------------------+-------------------+-------+------------+--------------------+--------------+--------------+------------+----------------------+--------------------+-------------------+--------------------+--------------------+\n",
            "|customer_id|     phone_number_1|    phone_number_2|phone_number_3|Contact_type|phone_number_1_to_json| phone_number_1_json|             email_1|            email_2|email_3|Contact_type|      full_address_1|full_address_2|full_address_3|Contact_type|full_address_1_to_json| full_address_1_json|         contacto_1|          contacto_2|          contacto_3|\n",
            "+-----------+-------------------+------------------+--------------+------------+----------------------+--------------------+--------------------+-------------------+-------+------------+--------------------+--------------+--------------+------------+----------------------+--------------------+-------------------+--------------------+--------------------+\n",
            "|   00000442| +54 297 15 5296284|+54 297 15 4729337|          null|       phone|    +54 297 15 5296284|{\"phone_number_1_...|                null|               null|   null|            |AGUERO           ...|          null|          null|     address|  AGUERO           ...|{\"full_address_1_...| +54 297 15 5296284|  +54 297 15 4729337|AGUERO           ...|\n",
            "|   00001419| +54 11 15 66793207|              null|          null|       phone|    +54 11 15 66793207|{\"phone_number_1_...|EMILIA.RUBIANES@H...| JU_LY1@HOTMAIL.COM|   null|       email|ALTE G BROWN     ...|          null|          null|     address|  ALTE G BROWN     ...|{\"full_address_1_...| +54 11 15 66793207|EMILIA.RUBIANES@H...|                null|\n",
            "|   00001939| +54 11 15 38700150|              null|          null|       phone|    +54 11 15 38700150|{\"phone_number_1_...|                null|               null|   null|            |JOSE HERNANDEZ   ...|          null|          null|     address|  JOSE HERNANDEZ   ...|{\"full_address_1_...| +54 11 15 38700150|JOSE HERNANDEZ   ...|                null|\n",
            "|   00002575|               null|              null|          null|            |              sin_dato|{\"phone_number_1_...|                null|               null|   null|            |                null|          null|          null|            |              sin_dato|{\"full_address_1_...|               null|                null|                null|\n",
            "|   00002707|   +54 299  4477116|              null|          null|       phone|      +54 299  4477116|{\"phone_number_1_...|                null|               null|   null|            |GUATEMALA        ...|          null|          null|     address|  GUATEMALA        ...|{\"full_address_1_...|   +54 299  4477116|GUATEMALA        ...|                null|\n",
            "|   00002790|   +54 342  4883620|+54 342 15 4662478|          null|       phone|      +54 342  4883620|{\"phone_number_1_...|DIGITALIZACION@EE...|NOTIENE@HOIMAIL.COM|   null|       email|AV CORDOBA       ...|          null|          null|     address|  AV CORDOBA       ...|{\"full_address_1_...|   +54 342  4883620|  +54 342 15 4662478|DIGITALIZACION@EE...|\n",
            "|   00004287|+54 3541 15 5988799|              null|          null|       phone|   +54 3541 15 5988799|{\"phone_number_1_...|                null|               null|   null|            |CNEL DE MARINA RO...|          null|          null|     address|  CNEL DE MARINA RO...|{\"full_address_1_...|+54 3541 15 5988799|CNEL DE MARINA RO...|                null|\n",
            "|   00004724| +54 11 15 24084447|              null|          null|       phone|    +54 11 15 24084447|{\"phone_number_1_...|                null|               null|   null|            |PJE MUTUALISMO   ...|          null|          null|     address|  PJE MUTUALISMO   ...|{\"full_address_1_...| +54 11 15 24084447|PJE MUTUALISMO   ...|                null|\n",
            "|   00007932| +54 385 15 4065887|              null|          null|       phone|    +54 385 15 4065887|{\"phone_number_1_...|                null|               null|   null|            |AV FELIX DE OLAZA...|          null|          null|     address|  AV FELIX DE OLAZA...|{\"full_address_1_...| +54 385 15 4065887|AV FELIX DE OLAZA...|                null|\n",
            "|   00011850| +54 11 15 25781080|+54 3489 15 493578|          null|       phone|    +54 11 15 25781080|{\"phone_number_1_...|                null|               null|   null|            |JUNCAL           ...|          null|          null|     address|  JUNCAL           ...|{\"full_address_1_...| +54 11 15 25781080|  +54 3489 15 493578|JUNCAL           ...|\n",
            "|   00012051| +54 3401 15 534381|              null|          null|       phone|    +54 3401 15 534381|{\"phone_number_1_...|                null|               null|   null|            |AV GRAL JOSE MARI...|          null|          null|     address|  AV GRAL JOSE MARI...|{\"full_address_1_...| +54 3401 15 534381|AV GRAL JOSE MARI...|                null|\n",
            "|   00012611|   +54 11  43443165|+54 11 15 61141855|          null|       phone|      +54 11  43443165|{\"phone_number_1_...|                null|               null|   null|            |ALBERTO LARROQUE ...|          null|          null|     address|  ALBERTO LARROQUE ...|{\"full_address_1_...|   +54 11  43443165|  +54 11 15 61141855|ALBERTO LARROQUE ...|\n",
            "|   00012991|               null|              null|          null|            |              sin_dato|{\"phone_number_1_...|                null|               null|   null|            |                null|          null|          null|            |              sin_dato|{\"full_address_1_...|               null|                null|                null|\n",
            "|   00013498| +54 221 15 6208511|              null|          null|       phone|    +54 221 15 6208511|{\"phone_number_1_...|                null|               null|   null|            |AV PTE H YRIGOYEN...|          null|          null|     address|  AV PTE H YRIGOYEN...|{\"full_address_1_...| +54 221 15 6208511|AV PTE H YRIGOYEN...|                null|\n",
            "|   00014664| +54 11 15 65050605|              null|          null|       phone|    +54 11 15 65050605|{\"phone_number_1_...|   alq@ciudad.com.ar|               null|   null|       email|AV TRIUNVIRATO   ...|          null|          null|     address|  AV TRIUNVIRATO   ...|{\"full_address_1_...| +54 11 15 65050605|   alq@ciudad.com.ar|                null|\n",
            "|   00015497| +54 11 15 51052460|              null|          null|       phone|    +54 11 15 51052460|{\"phone_number_1_...|                null|               null|   null|            |VUELTA DE OBLIGAD...|          null|          null|     address|  VUELTA DE OBLIGAD...|{\"full_address_1_...| +54 11 15 51052460|VUELTA DE OBLIGAD...|                null|\n",
            "|   00051576| +54 11 15 26531080|              null|          null|       phone|    +54 11 15 26531080|{\"phone_number_1_...|                null|               null|   null|            |ING GUILLERMO MAR...|          null|          null|     address|  ING GUILLERMO MAR...|{\"full_address_1_...| +54 11 15 26531080|ING GUILLERMO MAR...|                null|\n",
            "|   00053993| +54 3718 15 466655|              null|          null|       phone|    +54 3718 15 466655|{\"phone_number_1_...|                null|               null|   null|            |CALLE 899        ...|          null|          null|     address|  CALLE 899        ...|{\"full_address_1_...| +54 3718 15 466655|CALLE 899        ...|                null|\n",
            "|   00056407| +54 336 15 4577255|              null|          null|       phone|    +54 336 15 4577255|{\"phone_number_1_...|NELLY.S.GEREZ@GMA...|               null|   null|       email|AV DR J BAUTISTA ...|          null|          null|     address|  AV DR J BAUTISTA ...|{\"full_address_1_...| +54 336 15 4577255|NELLY.S.GEREZ@GMA...|                null|\n",
            "|   00056947| +54 297 15 4301718|+54 297 15 4577276|          null|       phone|    +54 297 15 4301718|{\"phone_number_1_...|                null|               null|   null|            |AV 25 DE MAYO    ...|          null|          null|     address|  AV 25 DE MAYO    ...|{\"full_address_1_...| +54 297 15 4301718|  +54 297 15 4577276|AV 25 DE MAYO    ...|\n",
            "+-----------+-------------------+------------------+--------------+------------+----------------------+--------------------+--------------------+-------------------+-------+------------+--------------------+--------------+--------------+------------+----------------------+--------------------+-------------------+--------------------+--------------------+\n",
            "only showing top 20 rows\n",
            "\n"
          ]
        }
      ]
    },
    {
      "cell_type": "markdown",
      "source": [
        "## **VISTA TEMPORAL DE CONTACTOS --> BBVAW2T1-35**"
      ],
      "metadata": {
        "id": "sgVonpavrjoK"
      }
    },
    {
      "cell_type": "code",
      "source": [
        "df_final.createOrReplaceTempView(\"contacts_view\")\n",
        "spark.sql(\"SELECT * FROM contacts_view\").show()"
      ],
      "metadata": {
        "id": "bzod3gvgoG7f"
      },
      "execution_count": null,
      "outputs": []
    },
    {
      "cell_type": "markdown",
      "source": [
        "## **VISTA TEMPORAL DE CLIENTES --> BBVAW2T1-36**"
      ],
      "metadata": {
        "id": "paGFXsM2rT9y"
      }
    },
    {
      "cell_type": "code",
      "source": [
        "df_customer_basics.createOrReplaceTempView(\"customer_basics_view\")\n",
        "spark.sql(\"SELECT * FROM customer_basics_view\").show(2000)"
      ],
      "metadata": {
        "id": "93lM9LWMoGye"
      },
      "execution_count": null,
      "outputs": []
    },
    {
      "cell_type": "markdown",
      "source": [
        "## **VISTA TEMPORAL DE ESTADO CIVIL --> BBVAW2T1-37**"
      ],
      "metadata": {
        "id": "aCAFsH18rzZY"
      }
    },
    {
      "cell_type": "code",
      "source": [
        "df_marital_status_type.createOrReplaceTempView(\"marital_status_type_view\")\n",
        "spark.sql(\"SELECT * FROM marital_status_type_view\").show()"
      ],
      "metadata": {
        "id": "JaZk1Hn2oHD2"
      },
      "execution_count": null,
      "outputs": []
    },
    {
      "cell_type": "markdown",
      "source": [
        "## **VISTA TEMPORAL DE NACIONALIDAD --> BBVAW2T1-38/62**\n",
        "\n",
        "\n",
        "\n"
      ],
      "metadata": {
        "id": "6pRvQf41rMJd"
      }
    },
    {
      "cell_type": "code",
      "source": [
        "df_nationality.createOrReplaceTempView(\"nationality_view\")\n",
        "spark.sql(\"SELECT * FROM nationality_view\").show(1000)"
      ],
      "metadata": {
        "id": "9yFSQaumoGr9"
      },
      "execution_count": null,
      "outputs": []
    }
  ]
}