{
  "nbformat": 4,
  "nbformat_minor": 0,
  "metadata": {
    "colab": {
      "provenance": [],
      "authorship_tag": "ABX9TyM4uB7uie8Q6PyUtDQwJazW",
      "include_colab_link": true
    },
    "kernelspec": {
      "name": "python3",
      "display_name": "Python 3"
    },
    "language_info": {
      "name": "python"
    }
  },
  "cells": [
    {
      "cell_type": "markdown",
      "metadata": {
        "id": "view-in-github",
        "colab_type": "text"
      },
      "source": [
        "<a href=\"https://colab.research.google.com/github/Bainer13/Data_BBVA_Team_1/blob/Rodri/Proyecto_Bootcamp.ipynb\" target=\"_parent\"><img src=\"https://colab.research.google.com/assets/colab-badge.svg\" alt=\"Open In Colab\"/></a>"
      ]
    },
    {
      "cell_type": "code",
      "execution_count": null,
      "metadata": {
        "id": "yqr8bTn6TlLq"
      },
      "outputs": [],
      "source": []
    },
    {
      "cell_type": "markdown",
      "source": [
        "#Armado del entorno de trabajo\n",
        "\n"
      ],
      "metadata": {
        "id": "rjxwPMfNDgy9"
      }
    },
    {
      "cell_type": "code",
      "execution_count": 1,
      "metadata": {
        "id": "lQy_QnsDh3CN"
      },
      "outputs": [],
      "source": [
        "!apt-get install openjdk-8-jdk-headless -qq > /dev/null\n"
      ]
    },
    {
      "cell_type": "code",
      "source": [
        "!wget -q https://dlcdn.apache.org/spark/spark-3.3.2/spark-3.3.2-bin-hadoop3.tgz"
      ],
      "metadata": {
        "id": "WxdDgoDQDwLC"
      },
      "execution_count": 2,
      "outputs": []
    },
    {
      "cell_type": "code",
      "source": [
        "ls"
      ],
      "metadata": {
        "id": "zxQTw235Efnl",
        "colab": {
          "base_uri": "https://localhost:8080/"
        },
        "outputId": "746b8beb-0af6-4208-e9b7-68c4e80209f8"
      },
      "execution_count": 3,
      "outputs": [
        {
          "output_type": "stream",
          "name": "stdout",
          "text": [
            "\u001b[0m\u001b[01;34msample_data\u001b[0m/  spark-3.3.2-bin-hadoop3.tgz\n"
          ]
        }
      ]
    },
    {
      "cell_type": "code",
      "source": [
        "!tar xf spark-3.3.2-bin-hadoop3.tgz"
      ],
      "metadata": {
        "id": "kTIS3_ExElWP"
      },
      "execution_count": 4,
      "outputs": []
    },
    {
      "cell_type": "code",
      "source": [
        "!java -version"
      ],
      "metadata": {
        "id": "FCeYLe11EoA5",
        "colab": {
          "base_uri": "https://localhost:8080/"
        },
        "outputId": "842c6397-1a87-4663-c5aa-38e2d2fbb3ce"
      },
      "execution_count": 5,
      "outputs": [
        {
          "output_type": "stream",
          "name": "stdout",
          "text": [
            "openjdk version \"11.0.18\" 2023-01-17\n",
            "OpenJDK Runtime Environment (build 11.0.18+10-post-Ubuntu-0ubuntu120.04.1)\n",
            "OpenJDK 64-Bit Server VM (build 11.0.18+10-post-Ubuntu-0ubuntu120.04.1, mixed mode, sharing)\n"
          ]
        }
      ]
    },
    {
      "cell_type": "code",
      "source": [
        "!readlink -f $(which java) | sed \"s:bin/java::\"\n"
      ],
      "metadata": {
        "id": "QnNvgsFKEvF0",
        "colab": {
          "base_uri": "https://localhost:8080/"
        },
        "outputId": "25f707b9-4020-4ee9-8ebe-6138d83f9e63"
      },
      "execution_count": 6,
      "outputs": [
        {
          "output_type": "stream",
          "name": "stdout",
          "text": [
            "/usr/lib/jvm/java-11-openjdk-amd64/\n"
          ]
        }
      ]
    },
    {
      "cell_type": "code",
      "source": [
        "!echo $JAVA_HOME"
      ],
      "metadata": {
        "id": "EHoXgQb0EyH4",
        "colab": {
          "base_uri": "https://localhost:8080/"
        },
        "outputId": "2eaf3783-c2b0-4553-e99d-4d10fd117fa6"
      },
      "execution_count": 7,
      "outputs": [
        {
          "output_type": "stream",
          "name": "stdout",
          "text": [
            "\n"
          ]
        }
      ]
    },
    {
      "cell_type": "code",
      "source": [
        "!pip install -q findspark"
      ],
      "metadata": {
        "id": "xA6BrWOlEzwl"
      },
      "execution_count": 8,
      "outputs": []
    },
    {
      "cell_type": "code",
      "source": [
        "!pip install pyspark "
      ],
      "metadata": {
        "id": "FWcYXxSfE-66",
        "colab": {
          "base_uri": "https://localhost:8080/"
        },
        "outputId": "8885109a-1f18-45d3-a683-222402e5f89d"
      },
      "execution_count": 9,
      "outputs": [
        {
          "output_type": "stream",
          "name": "stdout",
          "text": [
            "\u001b[2K     \u001b[90m━━━━━━━━━━━━━━━━━━━━━━━━━━━━━━━━━━━━━━━\u001b[0m \u001b[32m281.4/281.4 MB\u001b[0m \u001b[31m4.8 MB/s\u001b[0m eta \u001b[36m0:00:00\u001b[0m\n",
            "\u001b[?25h  Preparing metadata (setup.py) ... \u001b[?25l\u001b[?25hdone\n",
            "Collecting py4j==0.10.9.5\n",
            "  Downloading py4j-0.10.9.5-py2.py3-none-any.whl (199 kB)\n",
            "\u001b[2K     \u001b[90m━━━━━━━━━━━━━━━━━━━━━━━━━━━━━━━━━━━━━━\u001b[0m \u001b[32m199.7/199.7 KB\u001b[0m \u001b[31m16.6 MB/s\u001b[0m eta \u001b[36m0:00:00\u001b[0m\n",
            "\u001b[?25hBuilding wheels for collected packages: pyspark\n",
            "  Building wheel for pyspark (setup.py) ... \u001b[?25l\u001b[?25hdone\n",
            "  Created wheel for pyspark: filename=pyspark-3.3.2-py2.py3-none-any.whl size=281824028 sha256=06674267a6a44a6c7e946ae9447fd01868fd65dd9e96ddac500621f45e0fd824\n",
            "  Stored in directory: /root/.cache/pip/wheels/6c/e3/9b/0525ce8a69478916513509d43693511463c6468db0de237c86\n",
            "Successfully built pyspark\n",
            "Installing collected packages: py4j, pyspark\n",
            "  Attempting uninstall: py4j\n",
            "    Found existing installation: py4j 0.10.9.7\n",
            "    Uninstalling py4j-0.10.9.7:\n",
            "      Successfully uninstalled py4j-0.10.9.7\n",
            "Successfully installed py4j-0.10.9.5 pyspark-3.3.2\n"
          ]
        }
      ]
    },
    {
      "cell_type": "code",
      "source": [
        "from pyspark.sql import SparkSession"
      ],
      "metadata": {
        "id": "RxVvKnuTFNAX"
      },
      "execution_count": 10,
      "outputs": []
    },
    {
      "cell_type": "code",
      "source": [
        "import pyspark.sql.functions as F"
      ],
      "metadata": {
        "id": "8_ZZIDSki9dp"
      },
      "execution_count": 11,
      "outputs": []
    },
    {
      "cell_type": "code",
      "source": [
        "import pandas as pd\n",
        "pd.set_option('display.max_rows', None)"
      ],
      "metadata": {
        "id": "ZpM3yHEfjaqZ"
      },
      "execution_count": 12,
      "outputs": []
    },
    {
      "cell_type": "code",
      "source": [
        "from pyspark.sql.window import Window\n",
        "from pyspark.sql.functions import row_number\n",
        "from pyspark.sql.functions import col"
      ],
      "metadata": {
        "id": "n04j9qewV5Co"
      },
      "execution_count": 13,
      "outputs": []
    },
    {
      "cell_type": "code",
      "source": [
        "spark = SparkSession.builder.getOrCreate()"
      ],
      "metadata": {
        "id": "K6zkngyXU8C2"
      },
      "execution_count": 14,
      "outputs": []
    },
    {
      "cell_type": "markdown",
      "source": [
        "#Extraccion de datos"
      ],
      "metadata": {
        "id": "M865_XBwVRTW"
      }
    },
    {
      "cell_type": "code",
      "source": [
        "spark.conf.set('spark.sql.legacy.parquet.datetimeRebaseModeInRead', 'CORRECTED')"
      ],
      "metadata": {
        "id": "G6ICwe5mVXHZ"
      },
      "execution_count": 15,
      "outputs": []
    },
    {
      "cell_type": "code",
      "source": [
        "#Lectura de parquets\n",
        "df_address = spark.read.parquet('/content/sample_data/address.snappy.parquet')\n",
        "df_customer = spark.read.parquet('/content/sample_data/customer.snappy.parquet')\n",
        "df_customer_basics = spark.read.parquet('/content/sample_data/customer_basics.snappy.parquet')\n",
        "df_email = spark.read.parquet('/content/sample_data/email.snappy.parquet')\n",
        "df_phones = spark.read.parquet('/content/sample_data/phones.snappy.parquet')"
      ],
      "metadata": {
        "id": "fjFFL9njVZyK"
      },
      "execution_count": 17,
      "outputs": []
    },
    {
      "cell_type": "code",
      "source": [
        "df_phones.show(10) #Bloque para visualizar los datasets"
      ],
      "metadata": {
        "colab": {
          "base_uri": "https://localhost:8080/"
        },
        "id": "zGKLPdiLdBu6",
        "outputId": "707ea2f9-3acf-4f42-a9ad-d76b5c2775a2"
      },
      "execution_count": null,
      "outputs": [
        {
          "output_type": "stream",
          "name": "stdout",
          "text": [
            "+-----------+--------------+-------------------+-----------------+----------+----------------+---------------+-------------+-------------------+-----------------+-------------+------------+---------------+-----------------------+------------------+---------------------+-----------------+----------+-----------+--------------------------+---------------------+--------------------+---------------------+----------------+-------------------------+-------------------------+------------------+-------------------+-----------------+--------------------+---------------------+-----------------------+----------------------+--------------------+----------------------+------------------------------+----------------------------+-------------------+----------------+----------------+-------------------+--------------------+-----------------------+---------------------+\n",
            "|customer_id|phone_use_type|address_sequence_id|phone_sequence_id|phone_type|phone_country_id|prefix_phone_id|phone_area_id|cellphone_prefix_id|phone_exchange_id|phone_line_id|    phone_id|phone_intern_id|aditional_info_txt_desc|primary_phone_type|address_sequence_type|address_town_name|zipcode_id|province_id|customer_phone_status_type|phone_status_mod_date|contact_channel_type|sender_application_id|wrong_phone_type|normalization_status_type|normalization_reason_name|normalization_date|validity_start_date|validity_end_date|dlvy_day_monday_type|dlvy_day_tuesday_type|dlvy_day_wednesday_type|dlvy_day_thursday_type|dlvy_day_friday_type|dlvy_day_saturday_type|delivery_contact_start_hm_date|delivery_contact_end_hm_date|registry_entry_date|register_user_id|last_change_date|last_change_user_id|last_change_hms_date|last_change_terminal_id|operational_load_date|\n",
            "+-----------+--------------+-------------------+-----------------+----------+----------------+---------------+-------------+-------------------+-----------------+-------------+------------+---------------+-----------------------+------------------+---------------------+-----------------+----------+-----------+--------------------------+---------------------+--------------------+---------------------+----------------+-------------------------+-------------------------+------------------+-------------------+-----------------+--------------------+---------------------+-----------------------+----------------------+--------------------+----------------------+------------------------------+----------------------------+-------------------+----------------+----------------+-------------------+--------------------+-----------------------+---------------------+\n",
            "|   29377168|            01|                  0|                2|         1|             080|             54|         2901|                   |               43|         1039|  4442167000|               |                       |                 N|                    N|                 |          |           |                  VALIDADO|           2022-06-24|                  16|                 CTES|                |                NORM AUTO|                  COPDTEL|        2022-06-24|         1900-01-01|       1900-01-01|                    |                     |                       |                      |                    |                      |                      00:00:00|                    00:00:00|         2022-06-24|         A127760|      2022-06-24|           UPROBCAT|              135827|                   LX8E| 2022-11-30 00:42:...|\n",
            "|   29385404|            00|                  0|                1|         3|             080|             54|         3442|                 15|               51|         6913|938021189197|               |                       |                 N|                    N|                 |          |           |                COMPROBADO|           2022-07-12|                  16|                 CTES|                |                NORM AUTO|                  COPDTEL|        2022-06-24|         1900-01-01|       1900-01-01|                    |                     |                       |                      |                    |                      |                      00:00:00|                    00:00:00|         2022-06-24|         A119168|      2022-07-12|               XATM|              225915|                   XATM| 2022-11-30 00:42:...|\n",
            "|   29385404|            01|                  0|                2|         1|             080|             54|         3442|                   |               42|         6301|  7536621207|               |                       |                 N|                    N|                 |          |           |                  VALIDADO|           2022-06-24|                  16|                 CTES|                |                NORM AUTO|                  COPDTEL|        2022-06-24|         1900-01-01|       1900-01-01|                    |                     |                       |                      |                    |                      |                      00:00:00|                    00:00:00|         2022-06-24|         A119168|      2022-06-24|           UPROBCAT|              230031|                   LX5J| 2022-11-30 00:42:...|\n",
            "|   29385454|            00|                  0|                2|         1|             080|             54|          341|                   |              499|         4411|  5771417420|               |                       |                 N|                    N|                 |          |           |                 DECLARADO|           2022-06-24|                  01|                 CTES|                |                NORM AUTO|                  COPDTEL|        2022-06-24|         1900-01-01|       1900-01-01|                    |                     |                       |                      |                    |                      |                      00:00:00|                    00:00:00|         2022-06-24|         A116217|      2022-06-24|            A116217|              085051|                   3841| 2022-11-30 00:42:...|\n",
            "|   27626595|            00|                  0|                3|         3|             080|             54|          299|                 15|              553|         4316|657755481955|               |                       |                 N|                    N|                 |          |           |                 DECLARADO|           2022-06-24|                  01|                 PVTA|                |                NORM AUTO|                  COPDTEL|        2022-06-24|         1900-01-01|       1900-01-01|                    |                     |                       |                      |                    |                      |                      00:00:00|                    00:00:00|         2022-06-24|        UPROVTAS|      2022-06-24|           UPROVTAS|              085146|                   PVTA| 2022-11-30 00:42:...|\n",
            "|   24349744|            00|                  0|                5|         3|             080|             54|         3571|                 15|               54|         1998|092279035503|               |                       |                 N|                    N|                 |          |           |                 DECLARADO|           2022-06-24|                  01|                 WKFL|                |                NORM AUTO|                  COPDTEL|        2022-06-24|         1900-01-01|       1900-01-01|                    |                     |                       |                      |                    |                      |                      00:00:00|                    00:00:00|         2022-06-24|         A115419|      2022-06-24|            A115419|              085152|                   P289| 2022-11-30 00:42:...|\n",
            "|   29389994|            00|                  0|                2|         3|             080|             54|          294|                 15|              459|         8781|260757206663|               |                     04|                 N|                    N|                 |          |           |                 DECLARADO|           2022-06-24|                  01|                 CTES|                |                NORM AUTO|                  COPDTEL|        2022-06-24|         2022-06-24|       1900-01-01|                    |                     |                       |                      |                    |                      |                      00:00:00|                    00:00:00|         2022-06-24|         A128064|      2022-06-24|            PCLE20N|              180221|                   BATC| 2022-11-30 00:42:...|\n",
            "|   29389999|            00|                  0|                2|         1|             080|             54|         2657|                   |               42|         2205|  8875809347|               |                       |                 N|                    N|                 |          |           |                  VALIDADO|           2022-08-05|                  16|                 CTES|                |                NORM AUTO|                  COPDTEL|        2022-06-24|         1900-01-01|       1900-01-01|                    |                     |                       |                      |                    |                      |                      00:00:00|                    00:00:00|         2022-06-24|         A116005|      2022-08-05|           GPROBANK|              113500|                   LW6I| 2022-11-30 00:42:...|\n",
            "|   01192665|            00|                  0|                3|         3|             080|             54|          341|                 15|              308|         6577|454114496630|               |                       |                 N|                    N|                 |          |           |                COMPROBADO|           2022-06-24|                  01|                 CTES|                |                NORM AUTO|                  COPDTEL|        2022-06-24|         1900-01-01|       1900-01-01|                    |                     |                       |                      |                    |                      |                      00:00:00|                    00:00:00|         2022-06-24|         A119036|      2022-06-24|               XATM|              085512|                   XATM| 2022-11-30 00:42:...|\n",
            "|   29359207|            01|                  0|                2|         1|             080|             54|         2966|                   |               42|         6622|  3846752614|               |                       |                 N|                    N|                 |          |           |                 DECLARADO|           2022-06-24|                  01|                 CTES|                |                NORM AUTO|                  COPDTEL|        2022-06-24|         1900-01-01|       1900-01-01|                    |                     |                       |                      |                    |                      |                      00:00:00|                    00:00:00|         2022-06-24|         A125037|      2022-06-24|            A125037|              085329|                   5905| 2022-11-30 00:42:...|\n",
            "+-----------+--------------+-------------------+-----------------+----------+----------------+---------------+-------------+-------------------+-----------------+-------------+------------+---------------+-----------------------+------------------+---------------------+-----------------+----------+-----------+--------------------------+---------------------+--------------------+---------------------+----------------+-------------------------+-------------------------+------------------+-------------------+-----------------+--------------------+---------------------+-----------------------+----------------------+--------------------+----------------------+------------------------------+----------------------------+-------------------+----------------+----------------+-------------------+--------------------+-----------------------+---------------------+\n",
            "only showing top 10 rows\n",
            "\n"
          ]
        }
      ]
    },
    {
      "cell_type": "code",
      "source": [
        "#Join entre clientes y telefonos\n",
        "df_customer_basics_phones = df_customer_basics.join(df_phones, ['customer_id'], how='right').select('customer_id','phone_id')\n",
        "df_customer_basics_phones.sort(F.asc(\"customer_id\")).show()"
      ],
      "metadata": {
        "colab": {
          "base_uri": "https://localhost:8080/"
        },
        "id": "OjHiWM7KdTXb",
        "outputId": "5d9fb087-36b9-4f9d-b8e9-84e61aa6c408"
      },
      "execution_count": null,
      "outputs": [
        {
          "output_type": "stream",
          "name": "stdout",
          "text": [
            "+-----------+------------+\n",
            "|customer_id|    phone_id|\n",
            "+-----------+------------+\n",
            "|   00000007|304920118694|\n",
            "|   00000039|142040288534|\n",
            "|   00000044|150642392069|\n",
            "|   00000381|579839963031|\n",
            "|   00005527|414386216022|\n",
            "|   00005527|386965082277|\n",
            "|   00013438|867720276639|\n",
            "|   00021991|345682952298|\n",
            "|   00038236|478970404176|\n",
            "|   00041884|035048875817|\n",
            "|   00048126|415719030992|\n",
            "|   00048225|963827126204|\n",
            "|   00052103|537419593373|\n",
            "|   00064339|  7371137147|\n",
            "|   00071569|441427295031|\n",
            "|   00072996|432161765719|\n",
            "|   00076782|  2766715319|\n",
            "|   00077558|049475117647|\n",
            "|   00084439|  6954764655|\n",
            "|   00084439|358522593064|\n",
            "+-----------+------------+\n",
            "only showing top 20 rows\n",
            "\n"
          ]
        }
      ]
    },
    {
      "cell_type": "code",
      "source": [
        "#Join entre clientes y email\n",
        "df_customer_basics_email = df_customer_basics.join(df_email,['customer_id'], how='inner').select('customer_id', 'email_desc')\n",
        "df_customer_basics_email.show()"
      ],
      "metadata": {
        "colab": {
          "base_uri": "https://localhost:8080/"
        },
        "id": "vQhWOMghdTZa",
        "outputId": "b8eb9f49-44e0-4cf8-efc2-73d8d164e75a"
      },
      "execution_count": null,
      "outputs": [
        {
          "output_type": "stream",
          "name": "stdout",
          "text": [
            "+-----------+----------+\n",
            "|customer_id|email_desc|\n",
            "+-----------+----------+\n",
            "+-----------+----------+\n",
            "\n"
          ]
        }
      ]
    },
    {
      "cell_type": "code",
      "source": [
        "#join entre clientes y direccion\n",
        "df_customer_basics_address = df_customer_basics.join(df_address,['customer_id']).select('customer_id', 'street_name','address_outdoor_id')\n",
        "df_customer_basics_address.show()"
      ],
      "metadata": {
        "colab": {
          "base_uri": "https://localhost:8080/"
        },
        "id": "1LxnHUmGdTbl",
        "outputId": "ffc3d744-0d0c-4c28-8f4c-123d6f45e3a2"
      },
      "execution_count": null,
      "outputs": [
        {
          "output_type": "stream",
          "name": "stdout",
          "text": [
            "+-----------+-----------+------------------+\n",
            "|customer_id|street_name|address_outdoor_id|\n",
            "+-----------+-----------+------------------+\n",
            "+-----------+-----------+------------------+\n",
            "\n"
          ]
        }
      ]
    },
    {
      "cell_type": "code",
      "source": [
        "w = Window.partitionBy(df_phones['customer_id']).orderBy(\"last_change_date\")"
      ],
      "metadata": {
        "id": "xcpJjItfdTjJ"
      },
      "execution_count": null,
      "outputs": []
    },
    {
      "cell_type": "code",
      "source": [
        "df_phones_2 = df_phones.withColumn(\"row_num\", row_number().over(w))"
      ],
      "metadata": {
        "id": "HDQPycVraAQm"
      },
      "execution_count": null,
      "outputs": []
    },
    {
      "cell_type": "code",
      "source": [
        "df_phones_2 = df_phones_2.filter(col(\"row_num\") <= 3)"
      ],
      "metadata": {
        "id": "n3oRV3gLaAZX"
      },
      "execution_count": null,
      "outputs": []
    },
    {
      "cell_type": "code",
      "source": [
        "df_phones_2.select('customer_id', 'prefix_phone_id', 'phone_area_id', 'cellphone_prefix_id', 'phone_exchange_id', 'phone_line_id', 'phone_id').show(100)"
      ],
      "metadata": {
        "colab": {
          "base_uri": "https://localhost:8080/"
        },
        "id": "UFsI7NbyaAcH",
        "outputId": "56fd323a-ad97-4d60-a6fc-d816155552af"
      },
      "execution_count": null,
      "outputs": [
        {
          "output_type": "stream",
          "name": "stdout",
          "text": [
            "+-----------+---------------+-------------+-------------------+-----------------+-------------+------------+\n",
            "|customer_id|prefix_phone_id|phone_area_id|cellphone_prefix_id|phone_exchange_id|phone_line_id|    phone_id|\n",
            "+-----------+---------------+-------------+-------------------+-----------------+-------------+------------+\n",
            "|   00000007|             54|          266|                 15|              469|         7946|304920118694|\n",
            "|   00000381|             54|          381|                 15|              590|         9885|579839963031|\n",
            "|   00041884|             54|           11|                 15|             6157|         7947|035048875817|\n",
            "|   00048225|             54|           11|                 15|             6518|         7983|963827126204|\n",
            "|   00052103|             54|           11|                 15|             6995|         1912|537419593373|\n",
            "|   00064339|             54|         2966|                   |               42|         5661|  7371137147|\n",
            "|   00071569|             54|          358|                 15|              411|         2643|441427295031|\n",
            "|   00077558|             54|           11|                 15|             5152|         2021|049475117647|\n",
            "|   00084439|             54|          221|                   |              421|         8843|  6954764655|\n",
            "|   00084439|             54|          297|                 15|              477|         9188|358522593064|\n",
            "|   00091603|             54|         2901|                 15|               64|         5082|961657724243|\n",
            "|   00099043|             54|           11|                 15|             3091|         3482|244509862650|\n",
            "|   00101705|             54|           11|                 15|             5525|         7944|140049891659|\n",
            "|   00107748|             54|           11|                 15|             6878|         4699|124740076197|\n",
            "|   00111074|             54|           11|                   |             4744|         5559|  7305340019|\n",
            "|   00114702|             54|          370|                 15|              490|         7067|098546106182|\n",
            "|   00122414|             54|          299|                 15|              427|         6786|526693503255|\n",
            "|   00125032|             54|           11|                 15|             4054|         9658|014917201584|\n",
            "|   00126967|             54|           11|                 15|             3573|         7613|543926933676|\n",
            "|   00128491|             54|           11|                 15|             6304|         5268|231422231775|\n",
            "|   00130267|             54|           11|                   |             4854|         4427|  6271702013|\n",
            "|   00130267|             54|           11|                 15|             3564|         8266|732054678476|\n",
            "|   00142200|             54|           11|                 15|             5329|         8197|073690287637|\n",
            "|   00142651|             54|           11|                 15|             4432|         4292|783326363305|\n",
            "|   00144985|             54|          221|                 15|              568|          839| 95212052680|\n",
            "|   00147838|             54|           11|                 15|             6681|         1905|196027710508|\n",
            "|   00148013|             54|           11|                 15|             5603|         3133|644988725489|\n",
            "|   00148069|             54|           11|                   |             4207|         8159|  0847534213|\n",
            "|   00148069|             54|           11|                 15|             4098|         3654|836106411771|\n",
            "|   00148288|             54|           11|                 15|             5247|         2342|245818083187|\n",
            "|   00155421|             54|           11|                 15|             4473|         4467|114554022674|\n",
            "|   00155797|             54|           11|                 15|             2490|         3668|107905218348|\n",
            "|   00156872|             54|           11|                 15|             5064|         8865|637427538190|\n",
            "|   00156983|             54|           11|                   |             1111|         4107|  5744938690|\n",
            "|   00157181|             54|           11|                 15|             5394|         2026|089923874556|\n",
            "|   00161035|             54|           11|                   |             4828|         6866|  1510464094|\n",
            "|   00161035|             54|           11|                 15|             5665|         1829|215338845379|\n",
            "|   00163254|             54|           11|                 15|             3899|         3486|064605857532|\n",
            "|   00168569|             54|          221|                 15|              563|         5798|084528718107|\n",
            "|   00169696|             54|           11|                   |             4334|         9898|  7973314472|\n",
            "|   00169696|             54|           11|                 15|             5137|         0827|541471936538|\n",
            "|   00170035|             54|          379|                   |              444|         5349|  5243792636|\n",
            "|   00170547|             54|           11|                   |             4652|         3261|  8303389541|\n",
            "|   00173445|             54|           11|                 15|             5515|         1628|155035007501|\n",
            "|   00173445|             54|           11|                 15|             5515|         1628|155035007501|\n",
            "|   00175186|             54|           11|                 15|             6444|         8482|294217102273|\n",
            "|   00175704|             54|          294|                 15|              471|         6263|413521658548|\n",
            "|   00177120|             54|           11|                 15|             5138|         5001|253978223605|\n",
            "|   00181228|             54|           11|                 15|             5962|         3732|532814582984|\n",
            "|   00184088|             54|          345|                 15|              498|         7238|424385540319|\n",
            "|   00187762|             54|           11|                   |             4390|         3718|  0720938875|\n",
            "|   00187762|             54|           11|                   |             4390|         3718|  0720938875|\n",
            "|   00191050|             54|           11|                   |             4208|         9602|  5585298662|\n",
            "|   00192020|             54|          294|                 15|              470|         7307|622291481490|\n",
            "|   00194701|             54|           11|                   |             4899|         0899|  0874514243|\n",
            "|   00195905|             54|          261|                 15|              532|         3651|962089967821|\n",
            "|   00195941|             54|           11|                 15|             6459|         7076|137913108774|\n",
            "|   00205932|             54|           11|                 15|             5162|         5093|858851026042|\n",
            "|   00206868|             54|          291|                 15|              413|         8992|441713600733|\n",
            "|   00207725|             54|          341|                 15|              507|         7916|717945634988|\n",
            "|   00208131|             54|           11|                   |             4858|         1702|  8421275878|\n",
            "|   00209325|             54|           11|                   |             4858|         1702|  8421275878|\n",
            "|   00209555|             54|           11|                 15|             3686|         4450|860362212763|\n",
            "|   00213616|             54|           11|                 15|             6229|         4501|747371531303|\n",
            "|   00214054|             54|           11|                   |             4650|         9670|  0617923646|\n",
            "|   00214730|             54|         3772|                 15|               69|         6348|968206101577|\n",
            "|   00215386|             54|           11|                 15|             6055|         4308|870355961551|\n",
            "|   00218544|             54|           11|                   |             4373|         9845|  8283006243|\n",
            "|   00218995|             54|           11|                 15|             2575|         9400|869872603398|\n",
            "|   00219315|             54|           11|                 15|             6288|         7559|036190989588|\n",
            "|   00219486|             54|           11|                 15|             6202|         3655|267029535880|\n",
            "|   00227404|             54|           11|                 15|             2330|         4563|034094644974|\n",
            "|   00228330|             54|           11|                 15|             6690|         5475|324520077881|\n",
            "|   00228869|             54|           11|                 15|             4207|         2968|555085484765|\n",
            "|   00230090|             54|           11|                 15|             3588|         7952|639183128835|\n",
            "|   00230090|             54|           11|                 15|             3922|         2971|288145071123|\n",
            "|   00230094|             54|           11|                 15|             6189|         5535|604026490337|\n",
            "|   00234104|             54|           11|                 15|             6114|         4416|473300203257|\n",
            "|   00236644|             54|           11|                 15|             6530|         1879|868887446911|\n",
            "|   00238440|             54|           11|                 15|             4477|         8629|797352524490|\n",
            "|   00239169|             54|           11|                 15|             4492|         5033|228915523060|\n",
            "|   00239250|             54|           11|                 15|             4180|         3864|221131007360|\n",
            "|   00240525|             54|           11|                 15|             3621|         6002|215743422449|\n",
            "|   00241295|             54|           11|                 15|             2317|         7457|014542988287|\n",
            "|   00241343|             54|           11|                 15|             5026|         0506|455678276231|\n",
            "|   00243548|             54|           11|                   |             4525|         0529|  3867870212|\n",
            "|   00243548|             54|           11|                 15|             5057|         0289|398373813526|\n",
            "|   00247321|             54|           11|                   |             4861|         3165|  2969260425|\n",
            "|   00249264|             54|           11|                   |             4521|         3230|  1270256850|\n",
            "|   00251191|             54|           11|                   |             4242|         3102|  2008523910|\n",
            "|   00253409|             54|          291|                   |              400|         3200|  9839475517|\n",
            "|   00254760|             54|           11|                   |             4931|         8071|  1059447251|\n",
            "|   00254953|             54|          342|                 15|              610|         6186|571651888181|\n",
            "|   00255473|             54|           11|                 15|             3687|         2679|823090565400|\n",
            "|   00255690|             54|           11|                 15|             4050|         5276|685297450974|\n",
            "|   00256196|             54|           11|                   |             4880|         3375|  8996569759|\n",
            "|   00256948|             54|           11|                 15|             3102|         0138|979667876774|\n",
            "|   00257130|             54|           11|                 15|             3181|         8939|678124344408|\n",
            "|   00257485|             54|           11|                   |             4567|         7476|  7853624411|\n",
            "|   00257809|             54|           11|                 15|             5640|         0131|901841867340|\n",
            "+-----------+---------------+-------------+-------------------+-----------------+-------------+------------+\n",
            "only showing top 100 rows\n",
            "\n"
          ]
        }
      ]
    },
    {
      "cell_type": "code",
      "source": [],
      "metadata": {
        "id": "gupSnFRAaAd7"
      },
      "execution_count": null,
      "outputs": []
    },
    {
      "cell_type": "markdown",
      "source": [],
      "metadata": {
        "id": "_GDwNcELbEed"
      }
    }
  ]
}