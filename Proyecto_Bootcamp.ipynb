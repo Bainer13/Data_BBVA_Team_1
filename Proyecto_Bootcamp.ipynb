{
  "nbformat": 4,
  "nbformat_minor": 0,
  "metadata": {
    "colab": {
      "provenance": [],
      "authorship_tag": "ABX9TyNKp65P6AN9O0JmERzzPrDT",
      "include_colab_link": true
    },
    "kernelspec": {
      "name": "python3",
      "display_name": "Python 3"
    },
    "language_info": {
      "name": "python"
    }
  },
  "cells": [
    {
      "cell_type": "markdown",
      "metadata": {
        "id": "view-in-github",
        "colab_type": "text"
      },
      "source": [
        "<a href=\"https://colab.research.google.com/github/Bainer13/Data_BBVA_Team_1/blob/Rodri/Proyecto_Bootcamp.ipynb\" target=\"_parent\"><img src=\"https://colab.research.google.com/assets/colab-badge.svg\" alt=\"Open In Colab\"/></a>"
      ]
    },
    {
      "cell_type": "code",
      "execution_count": null,
      "metadata": {
        "id": "yqr8bTn6TlLq"
      },
      "outputs": [],
      "source": []
    },
    {
      "cell_type": "markdown",
      "source": [
        "#Armado del entorno de trabajo\n",
        "\n"
      ],
      "metadata": {
        "id": "rjxwPMfNDgy9"
      }
    },
    {
      "cell_type": "code",
      "execution_count": null,
      "metadata": {
        "id": "lQy_QnsDh3CN"
      },
      "outputs": [],
      "source": [
        "!apt-get install openjdk-8-jdk-headless -qq > /dev/null\n"
      ]
    },
    {
      "cell_type": "code",
      "source": [
        "!wget -q https://dlcdn.apache.org/spark/spark-3.3.2/spark-3.3.2-bin-hadoop3.tgz"
      ],
      "metadata": {
        "id": "WxdDgoDQDwLC"
      },
      "execution_count": null,
      "outputs": []
    },
    {
      "cell_type": "code",
      "source": [
        "ls"
      ],
      "metadata": {
        "id": "zxQTw235Efnl",
        "colab": {
          "base_uri": "https://localhost:8080/"
        },
        "outputId": "746b8beb-0af6-4208-e9b7-68c4e80209f8"
      },
      "execution_count": null,
      "outputs": [
        {
          "output_type": "stream",
          "name": "stdout",
          "text": [
            "\u001b[0m\u001b[01;34msample_data\u001b[0m/  spark-3.3.2-bin-hadoop3.tgz\n"
          ]
        }
      ]
    },
    {
      "cell_type": "code",
      "source": [
        "!tar xf spark-3.3.2-bin-hadoop3.tgz"
      ],
      "metadata": {
        "id": "kTIS3_ExElWP"
      },
      "execution_count": null,
      "outputs": []
    },
    {
      "cell_type": "code",
      "source": [
        "!java -version"
      ],
      "metadata": {
        "id": "FCeYLe11EoA5",
        "colab": {
          "base_uri": "https://localhost:8080/"
        },
        "outputId": "842c6397-1a87-4663-c5aa-38e2d2fbb3ce"
      },
      "execution_count": null,
      "outputs": [
        {
          "output_type": "stream",
          "name": "stdout",
          "text": [
            "openjdk version \"11.0.18\" 2023-01-17\n",
            "OpenJDK Runtime Environment (build 11.0.18+10-post-Ubuntu-0ubuntu120.04.1)\n",
            "OpenJDK 64-Bit Server VM (build 11.0.18+10-post-Ubuntu-0ubuntu120.04.1, mixed mode, sharing)\n"
          ]
        }
      ]
    },
    {
      "cell_type": "code",
      "source": [
        "!readlink -f $(which java) | sed \"s:bin/java::\"\n"
      ],
      "metadata": {
        "id": "QnNvgsFKEvF0",
        "colab": {
          "base_uri": "https://localhost:8080/"
        },
        "outputId": "25f707b9-4020-4ee9-8ebe-6138d83f9e63"
      },
      "execution_count": null,
      "outputs": [
        {
          "output_type": "stream",
          "name": "stdout",
          "text": [
            "/usr/lib/jvm/java-11-openjdk-amd64/\n"
          ]
        }
      ]
    },
    {
      "cell_type": "code",
      "source": [
        "!echo $JAVA_HOME"
      ],
      "metadata": {
        "id": "EHoXgQb0EyH4",
        "colab": {
          "base_uri": "https://localhost:8080/"
        },
        "outputId": "2eaf3783-c2b0-4553-e99d-4d10fd117fa6"
      },
      "execution_count": null,
      "outputs": [
        {
          "output_type": "stream",
          "name": "stdout",
          "text": [
            "\n"
          ]
        }
      ]
    },
    {
      "cell_type": "code",
      "source": [
        "!pip install -q findspark"
      ],
      "metadata": {
        "id": "xA6BrWOlEzwl"
      },
      "execution_count": null,
      "outputs": []
    },
    {
      "cell_type": "code",
      "source": [
        "!pip install pyspark "
      ],
      "metadata": {
        "id": "FWcYXxSfE-66",
        "colab": {
          "base_uri": "https://localhost:8080/"
        },
        "outputId": "8885109a-1f18-45d3-a683-222402e5f89d"
      },
      "execution_count": null,
      "outputs": [
        {
          "output_type": "stream",
          "name": "stdout",
          "text": [
            "\u001b[2K     \u001b[90m━━━━━━━━━━━━━━━━━━━━━━━━━━━━━━━━━━━━━━━\u001b[0m \u001b[32m281.4/281.4 MB\u001b[0m \u001b[31m4.8 MB/s\u001b[0m eta \u001b[36m0:00:00\u001b[0m\n",
            "\u001b[?25h  Preparing metadata (setup.py) ... \u001b[?25l\u001b[?25hdone\n",
            "Collecting py4j==0.10.9.5\n",
            "  Downloading py4j-0.10.9.5-py2.py3-none-any.whl (199 kB)\n",
            "\u001b[2K     \u001b[90m━━━━━━━━━━━━━━━━━━━━━━━━━━━━━━━━━━━━━━\u001b[0m \u001b[32m199.7/199.7 KB\u001b[0m \u001b[31m16.6 MB/s\u001b[0m eta \u001b[36m0:00:00\u001b[0m\n",
            "\u001b[?25hBuilding wheels for collected packages: pyspark\n",
            "  Building wheel for pyspark (setup.py) ... \u001b[?25l\u001b[?25hdone\n",
            "  Created wheel for pyspark: filename=pyspark-3.3.2-py2.py3-none-any.whl size=281824028 sha256=06674267a6a44a6c7e946ae9447fd01868fd65dd9e96ddac500621f45e0fd824\n",
            "  Stored in directory: /root/.cache/pip/wheels/6c/e3/9b/0525ce8a69478916513509d43693511463c6468db0de237c86\n",
            "Successfully built pyspark\n",
            "Installing collected packages: py4j, pyspark\n",
            "  Attempting uninstall: py4j\n",
            "    Found existing installation: py4j 0.10.9.7\n",
            "    Uninstalling py4j-0.10.9.7:\n",
            "      Successfully uninstalled py4j-0.10.9.7\n",
            "Successfully installed py4j-0.10.9.5 pyspark-3.3.2\n"
          ]
        }
      ]
    },
    {
      "cell_type": "code",
      "source": [
        "from pyspark.sql import SparkSession"
      ],
      "metadata": {
        "id": "RxVvKnuTFNAX"
      },
      "execution_count": null,
      "outputs": []
    },
    {
      "cell_type": "code",
      "source": [
        "import pyspark.sql.functions as F"
      ],
      "metadata": {
        "id": "8_ZZIDSki9dp"
      },
      "execution_count": null,
      "outputs": []
    },
    {
      "cell_type": "code",
      "source": [
        "import pandas as pd\n",
        "pd.set_option('display.max_rows', None)"
      ],
      "metadata": {
        "id": "ZpM3yHEfjaqZ"
      },
      "execution_count": null,
      "outputs": []
    },
    {
      "cell_type": "code",
      "source": [
        "from pyspark.sql.window import Window\n",
        "from pyspark.sql.functions import row_number\n",
        "from pyspark.sql.functions import col"
      ],
      "metadata": {
        "id": "n04j9qewV5Co"
      },
      "execution_count": null,
      "outputs": []
    },
    {
      "cell_type": "code",
      "source": [
        "spark = SparkSession.builder.getOrCreate()"
      ],
      "metadata": {
        "id": "K6zkngyXU8C2"
      },
      "execution_count": null,
      "outputs": []
    },
    {
      "cell_type": "markdown",
      "source": [
        "#Extraccion de datos"
      ],
      "metadata": {
        "id": "M865_XBwVRTW"
      }
    },
    {
      "cell_type": "code",
      "source": [
        "spark.conf.set('spark.sql.legacy.parquet.datetimeRebaseModeInRead', 'CORRECTED')"
      ],
      "metadata": {
        "id": "G6ICwe5mVXHZ"
      },
      "execution_count": null,
      "outputs": []
    },
    {
      "cell_type": "code",
      "source": [
        "#Lectura de parquets\n",
        "df_address = spark.read.parquet('/content/sample_data/address.snappy.parquet')\n",
        "df_customer = spark.read.parquet('/content/sample_data/customer.snappy.parquet')\n",
        "df_customer_basics = spark.read.parquet('/content/sample_data/customer_basics.snappy.parquet')\n",
        "df_email = spark.read.parquet('/content/sample_data/email.snappy.parquet')\n",
        "df_phones = spark.read.parquet('/content/sample_data/phones.snappy.parquet')"
      ],
      "metadata": {
        "id": "fjFFL9njVZyK"
      },
      "execution_count": null,
      "outputs": []
    },
    {
      "cell_type": "code",
      "source": [
        "#Join entre clientes y telefonos\n",
        "df_customer_basics_phones = df_customer_basics.join(df_phones, ['customer_id'], how='right').select('customer_id','phone_id')\n",
        "df_customer_basics_phones.sort(F.asc(\"customer_id\")).show()"
      ],
      "metadata": {
        "colab": {
          "base_uri": "https://localhost:8080/"
        },
        "id": "OjHiWM7KdTXb",
        "outputId": "21e04036-73b5-4e3e-b3d3-13d97d47d013"
      },
      "execution_count": null,
      "outputs": [
        {
          "output_type": "stream",
          "name": "stdout",
          "text": [
            "+-----------+------------+\n",
            "|customer_id|    phone_id|\n",
            "+-----------+------------+\n",
            "|   00000007|304920118694|\n",
            "|   00000039|142040288534|\n",
            "|   00000044|150642392069|\n",
            "|   00000381|579839963031|\n",
            "|   00005527|414386216022|\n",
            "|   00005527|386965082277|\n",
            "|   00013438|867720276639|\n",
            "|   00021991|345682952298|\n",
            "|   00038236|478970404176|\n",
            "|   00041884|035048875817|\n",
            "|   00048126|415719030992|\n",
            "|   00048225|963827126204|\n",
            "|   00052103|537419593373|\n",
            "|   00064339|  7371137147|\n",
            "|   00071569|441427295031|\n",
            "|   00072996|432161765719|\n",
            "|   00076782|  2766715319|\n",
            "|   00077558|049475117647|\n",
            "|   00084439|  6954764655|\n",
            "|   00084439|358522593064|\n",
            "+-----------+------------+\n",
            "only showing top 20 rows\n",
            "\n"
          ]
        }
      ]
    },
    {
      "cell_type": "code",
      "source": [
        "#Join entre clientes y email\n",
        "df_customer_basics_email = df_customer_basics.join(df_email,['customer_id'], how='inner').select('customer_id', 'email_desc')\n",
        "df_customer_basics_email.show()"
      ],
      "metadata": {
        "colab": {
          "base_uri": "https://localhost:8080/"
        },
        "id": "vQhWOMghdTZa",
        "outputId": "61df0d89-706c-4bc4-a356-2641e83710e2"
      },
      "execution_count": null,
      "outputs": [
        {
          "output_type": "stream",
          "name": "stdout",
          "text": [
            "+-----------+----------+\n",
            "|customer_id|email_desc|\n",
            "+-----------+----------+\n",
            "+-----------+----------+\n",
            "\n"
          ]
        }
      ]
    },
    {
      "cell_type": "code",
      "source": [
        "#join entre clientes y direccion\n",
        "df_customer_basics_address = df_customer_basics.join(df_address,['customer_id']).select('customer_id', 'street_name','address_outdoor_id')\n",
        "df_customer_basics_address.show()"
      ],
      "metadata": {
        "colab": {
          "base_uri": "https://localhost:8080/"
        },
        "id": "1LxnHUmGdTbl",
        "outputId": "348755c4-4f0e-41e9-d1cf-1f0cf07b73f8"
      },
      "execution_count": null,
      "outputs": [
        {
          "output_type": "stream",
          "name": "stdout",
          "text": [
            "+-----------+-----------+------------------+\n",
            "|customer_id|street_name|address_outdoor_id|\n",
            "+-----------+-----------+------------------+\n",
            "+-----------+-----------+------------------+\n",
            "\n"
          ]
        }
      ]
    },
    {
      "cell_type": "code",
      "source": [
        "#Filtrado y reduccion de datos --> PHONES\n",
        "w = Window.partitionBy(df_phones['customer_id']).orderBy(\"last_change_date\")"
      ],
      "metadata": {
        "id": "xcpJjItfdTjJ"
      },
      "execution_count": null,
      "outputs": []
    },
    {
      "cell_type": "code",
      "source": [
        "df_phones = df_phones.withColumn(\"row_num\", row_number().over(w))"
      ],
      "metadata": {
        "id": "HDQPycVraAQm"
      },
      "execution_count": null,
      "outputs": []
    },
    {
      "cell_type": "code",
      "source": [
        "df_phones = df_phones.filter(col(\"row_num\") <= 3)"
      ],
      "metadata": {
        "id": "n3oRV3gLaAZX"
      },
      "execution_count": null,
      "outputs": []
    },
    {
      "cell_type": "code",
      "source": [
        "df_phones = df_phones.select('customer_id', 'prefix_phone_id', 'phone_area_id', 'cellphone_prefix_id', 'phone_exchange_id', 'phone_line_id', 'phone_id').show(10)\n"
      ],
      "metadata": {
        "colab": {
          "base_uri": "https://localhost:8080/"
        },
        "id": "UFsI7NbyaAcH",
        "outputId": "6c2dd346-22a8-4e28-88d1-38d08eb18b9a"
      },
      "execution_count": null,
      "outputs": [
        {
          "output_type": "stream",
          "name": "stdout",
          "text": [
            "+-----------+---------------+-------------+-------------------+-----------------+-------------+------------+\n",
            "|customer_id|prefix_phone_id|phone_area_id|cellphone_prefix_id|phone_exchange_id|phone_line_id|    phone_id|\n",
            "+-----------+---------------+-------------+-------------------+-----------------+-------------+------------+\n",
            "|   00000007|             54|          266|                 15|              469|         7946|304920118694|\n",
            "|   00000381|             54|          381|                 15|              590|         9885|579839963031|\n",
            "|   00041884|             54|           11|                 15|             6157|         7947|035048875817|\n",
            "|   00048225|             54|           11|                 15|             6518|         7983|963827126204|\n",
            "|   00052103|             54|           11|                 15|             6995|         1912|537419593373|\n",
            "|   00064339|             54|         2966|                   |               42|         5661|  7371137147|\n",
            "|   00071569|             54|          358|                 15|              411|         2643|441427295031|\n",
            "|   00077558|             54|           11|                 15|             5152|         2021|049475117647|\n",
            "|   00084439|             54|          221|                   |              421|         8843|  6954764655|\n",
            "|   00084439|             54|          297|                 15|              477|         9188|358522593064|\n",
            "+-----------+---------------+-------------+-------------------+-----------------+-------------+------------+\n",
            "only showing top 10 rows\n",
            "\n"
          ]
        }
      ]
    },
    {
      "cell_type": "code",
      "source": [
        "#Filtrado y reduccion de datos --> ADDRESS\n",
        "w = Window.partitionBy(df_address['customer_id']).orderBy(\"last_change_date\")"
      ],
      "metadata": {
        "id": "gupSnFRAaAd7"
      },
      "execution_count": null,
      "outputs": []
    },
    {
      "cell_type": "code",
      "source": [
        "df_address = df_address.withColumn(\"row_num\", row_number().over(w))"
      ],
      "metadata": {
        "id": "I8f_1389gKFM"
      },
      "execution_count": null,
      "outputs": []
    },
    {
      "cell_type": "code",
      "source": [
        "df_address = df_address.filter(col(\"row_num\") <= 3)"
      ],
      "metadata": {
        "id": "FB5i8wPJgKIS"
      },
      "execution_count": null,
      "outputs": []
    },
    {
      "cell_type": "code",
      "source": [
        "df_address = df_address.select('customer_id','street_name', 'address_outdoor_id', 'address_indoor_id', 'indoor_number', 'address_district_name', 'address_town_name', 'zipcode_id').show(10)"
      ],
      "metadata": {
        "colab": {
          "base_uri": "https://localhost:8080/"
        },
        "id": "O19aBlJFgKLi",
        "outputId": "aec04af9-f139-44aa-8af1-129f641cb5eb"
      },
      "execution_count": null,
      "outputs": [
        {
          "output_type": "stream",
          "name": "stdout",
          "text": [
            "+--------------------+------------------+-----------------+-------------+---------------------+--------------------+----------+\n",
            "|         street_name|address_outdoor_id|address_indoor_id|indoor_number|address_district_name|   address_town_name|zipcode_id|\n",
            "+--------------------+------------------+-----------------+-------------+---------------------+--------------------+----------+\n",
            "|AV PRES BARTOLOME...|           0001500|                 |             |                  ...|CRUCESITA        ...|     01870|\n",
            "|CNEL AREVALO     ...|           0002391|                 |             |                  ...|CIUDAD AUTONOMA B...|     01425|\n",
            "|VENEZUELA 538    ...|           23     |         1       |      CAPITAL| MONSERRAT        ...|                 ...|     11111|\n",
            "|AV FELIX DE OLAZA...|           0005392|         1       |      C      |                  ...|CIUDAD AUTONOMA B...|     01431|\n",
            "|HEROES DE MALVI  ...|           0001944|         00      |             |                  ...|LANUS            ...|     01824|\n",
            "|PJE JACHAL       ...|           0003547|                 |             |                  ...|CIUDAD AUTONOMA B...|     01417|\n",
            "|AVENIDA DE MAYO  ...|           0001465|         2       |      AA     | CABA             ...|CIUDAD AUTONOMA B...|     01098|\n",
            "|NECOCHEA         ...|           0004653|         35      |      1      |                  ...|LA TABLADA       ...|     01766|\n",
            "|AGUSTIN ALVAREZ  ...|           0003051|                 |             |                  ...|                 ...|     01602|\n",
            "|ALMONACID        ...|           0000238|                 |             |                  ...|                 ...|     01667|\n",
            "+--------------------+------------------+-----------------+-------------+---------------------+--------------------+----------+\n",
            "only showing top 10 rows\n",
            "\n"
          ]
        }
      ]
    },
    {
      "cell_type": "code",
      "source": [
        "#Filtrado y reduccion de datos --> EMAILS\n",
        "w = Window.partitionBy(df_email['customer_id']).orderBy(\"last_change_date\")"
      ],
      "metadata": {
        "id": "wV_2yVOnihu4"
      },
      "execution_count": null,
      "outputs": []
    },
    {
      "cell_type": "code",
      "source": [
        "df_email = df_email.withColumn(\"row_num\", row_number().over(w))"
      ],
      "metadata": {
        "id": "ajOYCZBAiiCE"
      },
      "execution_count": null,
      "outputs": []
    },
    {
      "cell_type": "code",
      "source": [
        "df_email = df_email.filter(col(\"row_num\") <= 3)"
      ],
      "metadata": {
        "id": "W-oZZ-6niiI_"
      },
      "execution_count": null,
      "outputs": []
    },
    {
      "cell_type": "code",
      "source": [
        "df_email = df_email.select('customer_id', 'email_desc').show(10)"
      ],
      "metadata": {
        "colab": {
          "base_uri": "https://localhost:8080/"
        },
        "id": "WeE92PwQiiTQ",
        "outputId": "eb311983-962b-4fd9-9512-7b969bcf2dd3"
      },
      "execution_count": null,
      "outputs": [
        {
          "output_type": "stream",
          "name": "stdout",
          "text": [
            "+-----------+--------------------+\n",
            "|customer_id|          email_desc|\n",
            "+-----------+--------------------+\n",
            "|   00000000|LIBRERIAURUGUAY@G...|\n",
            "|   00000000|ALVAROJOSE.DAGAND...|\n",
            "|   00027555|ALEFRID666@YAHOO....|\n",
            "|   00027568|   SCATIVA@GMAIL.COM|\n",
            "|   00027595|        NO@GMAIL.COM|\n",
            "|   00027609|lindocampo@yahoo.com|\n",
            "|   00027726|MORELPUB@FIBERTEL...|\n",
            "|   00027766|HAYDINEITOR@GMAIL...|\n",
            "|   00027780|LEMOS-LILIANA@HOT...|\n",
            "|   00027781|hgrinschpun@edeno...|\n",
            "+-----------+--------------------+\n",
            "only showing top 10 rows\n",
            "\n"
          ]
        }
      ]
    },
    {
      "cell_type": "code",
      "source": [
        "df_email.show(10) #Bloque para visualizar los datasets"
      ],
      "metadata": {
        "colab": {
          "base_uri": "https://localhost:8080/"
        },
        "id": "zGKLPdiLdBu6",
        "outputId": "7e8a537f-5840-4a7f-f26c-2fdfe6bea6b4"
      },
      "execution_count": null,
      "outputs": [
        {
          "output_type": "stream",
          "name": "stdout",
          "text": [
            "+-----------+---------+-------------------+--------------+----------+------------------+--------------------+-----------------+--------------+-------------------+----------------+--------------------------+--------------+----------------+-------------------+--------------------+-----------------------+---------------------+--------------------------+-------------------+----------------+\n",
            "|customer_id|role_type|address_sequence_id|residence_type|email_type|primary_email_type|          email_desc|email_domain_type|encripted_type|field_length_number|   comments_desc|customer_email_status_type|email_app_type|register_user_id|last_change_user_id|last_change_hms_date|last_change_terminal_id|operational_load_date|customer_email_status_date|registry_entry_date|last_change_date|\n",
            "+-----------+---------+-------------------+--------------+----------+------------------+--------------------+-----------------+--------------+-------------------+----------------+--------------------------+--------------+----------------+-------------------+--------------------+-----------------------+---------------------+--------------------------+-------------------+----------------+\n",
            "|   00000000|       CL|                  1|             1|  PERSONAL|                 0|LIBRERIAURUGUAY@G...|              COM|              |                 30|                |                 DECLARADO|          CTES|          A79018|             A79018|            12:05:36|                   4560| 2021-12-09 19:39:...|                2015-10-27|         2015-10-27|      2015-10-27|\n",
            "|   00000000|       CL|                  2|             2|   LABORAL|                -1|ALVAROJOSE.DAGAND...|              COM|             N|                 30|  ALTA EMPLEADOS|                  VALIDADO|          VLCO|         PCLE30J|            PCLE30J|            23:59:14|                       | 2021-12-09 19:39:...|                2016-10-17|         2016-10-17|      2019-12-18|\n",
            "|   00027555|       CL|                  1|             1|  PERSONAL|                 0|ALEFRID666@YAHOO....|                 |             N|                 30|                |                  VALIDADO|          FNET|        GPROBANK|           GPROBANK|            18:46:25|                   Y57R| 2021-12-09 19:39:...|                2012-07-08|         2012-07-08|      2012-07-08|\n",
            "|   00027568|       CL|                  1|             1|  PERSONAL|                 0|   SCATIVA@GMAIL.COM|                 |             N|                 30|                |                  VALIDADO|          FNET|        GPROBANK|           GPROBANK|            10:50:19|                   4ZGA| 2021-12-09 19:39:...|                2016-03-15|         2016-03-15|      2016-03-15|\n",
            "|   00027595|       CL|                  1|             1|  PERSONAL|                 0|        NO@GMAIL.COM|              COM|              |                 30|                |                 DECLARADO|          CTES|          A16799|             A16799|            17:37:16|                   1582| 2021-12-09 19:39:...|                2018-08-07|         2018-08-07|      2018-08-07|\n",
            "|   00027609|       CL|                  1|             1|  PERSONAL|                 0|lindocampo@yahoo.com|              com|             N|                 30|VUELCO FRONT END|                  NO VERIF|          VLCO|                |            PCLE11O|            18:14:49|                       | 2021-12-09 19:39:...|                2007-12-12|         2001-07-19|      2009-06-27|\n",
            "|   27514336|       CL|                  1|             1|  PERSONAL|                 0|EDGAR.RIVERO@ROCK...|              COM|             N|                 30|VINCULADAS (PSA)|                COMPROBADO|          VINC|         XA05318|           PCLUPC15|            17:17:15|                   PC15| 2021-12-09 19:39:...|                2021-01-25|         2021-01-25|      2021-01-25|\n",
            "|   00027726|       CL|                  1|             1|  PERSONAL|                 0|MORELPUB@FIBERTEL...|                 |             N|                 30|                |                  VALIDADO|          FNET|        GPROBANK|           GPROBANK|            14:50:43|                   4ZLR| 2021-12-09 19:39:...|                2016-09-20|         2016-09-20|      2016-09-20|\n",
            "|   00027766|       CL|                  1|             1|  PERSONAL|                 0|HAYDINEITOR@GMAIL...|                 |             N|                 30|                |                COMPROBADO|          FNET|        GPROBANK|            RCLM131|            16:37:42|                   M131| 2021-12-09 19:39:...|                2018-11-08|         2014-11-10|      2014-11-10|\n",
            "|   00027780|       CL|                  1|             1|  PERSONAL|                 0|LEMOS-LILIANA@HOT...|              COM|              |                 30|                |                 DECLARADO|          WKFL|         a115236|            A115981|            12:02:56|                   1057| 2021-12-09 19:39:...|                2021-03-23|         2019-12-03|      2021-03-23|\n",
            "+-----------+---------+-------------------+--------------+----------+------------------+--------------------+-----------------+--------------+-------------------+----------------+--------------------------+--------------+----------------+-------------------+--------------------+-----------------------+---------------------+--------------------------+-------------------+----------------+\n",
            "only showing top 10 rows\n",
            "\n"
          ]
        }
      ]
    },
    {
      "cell_type": "markdown",
      "source": [],
      "metadata": {
        "id": "_GDwNcELbEed"
      }
    }
  ]
}