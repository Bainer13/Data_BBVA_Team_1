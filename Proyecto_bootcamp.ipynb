{
  "nbformat": 4,
  "nbformat_minor": 0,
  "metadata": {
    "colab": {
      "provenance": [],
      "collapsed_sections": [
        "AGFIYagTc8wg"
      ],
      "authorship_tag": "ABX9TyOWeEzmBUqNZHK8U98NeAAS",
      "include_colab_link": true
    },
    "kernelspec": {
      "name": "python3",
      "display_name": "Python 3"
    },
    "language_info": {
      "name": "python"
    }
  },
  "cells": [
    {
      "cell_type": "markdown",
      "metadata": {
        "id": "view-in-github",
        "colab_type": "text"
      },
      "source": [
        "<a href=\"https://colab.research.google.com/github/Bainer13/Data_BBVA_Team_1/blob/main/Proyecto_bootcamp.ipynb\" target=\"_parent\"><img src=\"https://colab.research.google.com/assets/colab-badge.svg\" alt=\"Open In Colab\"/></a>"
      ]
    },
    {
      "cell_type": "markdown",
      "source": [
        "## **Armado del entorno de trabajo**\n",
        "\n"
      ],
      "metadata": {
        "id": "rjxwPMfNDgy9"
      }
    },
    {
      "cell_type": "code",
      "execution_count": null,
      "metadata": {
        "id": "lQy_QnsDh3CN"
      },
      "outputs": [],
      "source": [
        "!apt-get install openjdk-8-jdk-headless -qq > /dev/null\n"
      ]
    },
    {
      "cell_type": "code",
      "source": [
        "!wget -q https://dlcdn.apache.org/spark/spark-3.3.2/spark-3.3.2-bin-hadoop3.tgz"
      ],
      "metadata": {
        "id": "WxdDgoDQDwLC"
      },
      "execution_count": null,
      "outputs": []
    },
    {
      "cell_type": "code",
      "source": [
        "ls"
      ],
      "metadata": {
        "id": "zxQTw235Efnl",
        "colab": {
          "base_uri": "https://localhost:8080/"
        },
        "outputId": "ea4b2e52-85bc-492f-ca61-9478942de91f"
      },
      "execution_count": null,
      "outputs": [
        {
          "output_type": "stream",
          "name": "stdout",
          "text": [
            "address_bootcamp.snappy.parquet          \u001b[0m\u001b[01;34msample_data\u001b[0m/\n",
            "customer_basics_bootcamp.snappy.parquet  \u001b[01;34mspark-3.3.2-bin-hadoop3\u001b[0m/\n",
            "emails_bootcamp.snappy.parquet           spark-3.3.2-bin-hadoop3.tgz\n",
            "phones_bootcamp.snappy.parquet           spark-3.3.2-bin-hadoop3.tgz.1\n"
          ]
        }
      ]
    },
    {
      "cell_type": "code",
      "source": [
        "!tar xf spark-3.3.2-bin-hadoop3.tgz"
      ],
      "metadata": {
        "id": "kTIS3_ExElWP",
        "colab": {
          "base_uri": "https://localhost:8080/",
          "height": 328
        },
        "outputId": "d1c6407f-a13a-43c4-9021-8d3c1a825536"
      },
      "execution_count": null,
      "outputs": [
        {
          "output_type": "error",
          "ename": "KeyboardInterrupt",
          "evalue": "ignored",
          "traceback": [
            "\u001b[0;31m---------------------------------------------------------------------------\u001b[0m",
            "\u001b[0;31mKeyboardInterrupt\u001b[0m                         Traceback (most recent call last)",
            "\u001b[0;32m<ipython-input-31-d39607dd41a6>\u001b[0m in \u001b[0;36m<module>\u001b[0;34m\u001b[0m\n\u001b[0;32m----> 1\u001b[0;31m \u001b[0mget_ipython\u001b[0m\u001b[0;34m(\u001b[0m\u001b[0;34m)\u001b[0m\u001b[0;34m.\u001b[0m\u001b[0msystem\u001b[0m\u001b[0;34m(\u001b[0m\u001b[0;34m'tar xf spark-3.3.2-bin-hadoop3.tgz'\u001b[0m\u001b[0;34m)\u001b[0m\u001b[0;34m\u001b[0m\u001b[0;34m\u001b[0m\u001b[0m\n\u001b[0m",
            "\u001b[0;32m/usr/local/lib/python3.9/dist-packages/google/colab/_shell.py\u001b[0m in \u001b[0;36msystem\u001b[0;34m(self, *args, **kwargs)\u001b[0m\n\u001b[1;32m     96\u001b[0m       \u001b[0mkwargs\u001b[0m\u001b[0;34m.\u001b[0m\u001b[0mupdate\u001b[0m\u001b[0;34m(\u001b[0m\u001b[0;34m{\u001b[0m\u001b[0;34m'also_return_output'\u001b[0m\u001b[0;34m:\u001b[0m \u001b[0;32mTrue\u001b[0m\u001b[0;34m}\u001b[0m\u001b[0;34m)\u001b[0m\u001b[0;34m\u001b[0m\u001b[0;34m\u001b[0m\u001b[0m\n\u001b[1;32m     97\u001b[0m \u001b[0;34m\u001b[0m\u001b[0m\n\u001b[0;32m---> 98\u001b[0;31m     \u001b[0moutput\u001b[0m \u001b[0;34m=\u001b[0m \u001b[0m_system_commands\u001b[0m\u001b[0;34m.\u001b[0m\u001b[0m_system_compat\u001b[0m\u001b[0;34m(\u001b[0m\u001b[0mself\u001b[0m\u001b[0;34m,\u001b[0m \u001b[0;34m*\u001b[0m\u001b[0margs\u001b[0m\u001b[0;34m,\u001b[0m \u001b[0;34m**\u001b[0m\u001b[0mkwargs\u001b[0m\u001b[0;34m)\u001b[0m  \u001b[0;31m# pylint:disable=protected-access\u001b[0m\u001b[0;34m\u001b[0m\u001b[0;34m\u001b[0m\u001b[0m\n\u001b[0m\u001b[1;32m     99\u001b[0m \u001b[0;34m\u001b[0m\u001b[0m\n\u001b[1;32m    100\u001b[0m     \u001b[0;32mif\u001b[0m \u001b[0mpip_warn\u001b[0m\u001b[0;34m:\u001b[0m\u001b[0;34m\u001b[0m\u001b[0;34m\u001b[0m\u001b[0m\n",
            "\u001b[0;32m/usr/local/lib/python3.9/dist-packages/google/colab/_system_commands.py\u001b[0m in \u001b[0;36m_system_compat\u001b[0;34m(shell, cmd, also_return_output)\u001b[0m\n\u001b[1;32m    451\u001b[0m   \u001b[0;31m# is expected to call this function, thus adding one level of nesting to the\u001b[0m\u001b[0;34m\u001b[0m\u001b[0;34m\u001b[0m\u001b[0m\n\u001b[1;32m    452\u001b[0m   \u001b[0;31m# stack.\u001b[0m\u001b[0;34m\u001b[0m\u001b[0;34m\u001b[0m\u001b[0m\n\u001b[0;32m--> 453\u001b[0;31m   result = _run_command(\n\u001b[0m\u001b[1;32m    454\u001b[0m       \u001b[0mshell\u001b[0m\u001b[0;34m.\u001b[0m\u001b[0mvar_expand\u001b[0m\u001b[0;34m(\u001b[0m\u001b[0mcmd\u001b[0m\u001b[0;34m,\u001b[0m \u001b[0mdepth\u001b[0m\u001b[0;34m=\u001b[0m\u001b[0;36m2\u001b[0m\u001b[0;34m)\u001b[0m\u001b[0;34m,\u001b[0m \u001b[0mclear_streamed_output\u001b[0m\u001b[0;34m=\u001b[0m\u001b[0;32mFalse\u001b[0m\u001b[0;34m\u001b[0m\u001b[0;34m\u001b[0m\u001b[0m\n\u001b[1;32m    455\u001b[0m   )\n",
            "\u001b[0;32m/usr/local/lib/python3.9/dist-packages/google/colab/_system_commands.py\u001b[0m in \u001b[0;36m_run_command\u001b[0;34m(cmd, clear_streamed_output)\u001b[0m\n\u001b[1;32m    189\u001b[0m       \u001b[0;31m# TODO(b/115531839): Ensure that subprocesses are terminated upon\u001b[0m\u001b[0;34m\u001b[0m\u001b[0;34m\u001b[0m\u001b[0m\n\u001b[1;32m    190\u001b[0m       \u001b[0;31m# interrupt.\u001b[0m\u001b[0;34m\u001b[0m\u001b[0;34m\u001b[0m\u001b[0m\n\u001b[0;32m--> 191\u001b[0;31m       p = subprocess.Popen(\n\u001b[0m\u001b[1;32m    192\u001b[0m           \u001b[0mcmd\u001b[0m\u001b[0;34m,\u001b[0m\u001b[0;34m\u001b[0m\u001b[0;34m\u001b[0m\u001b[0m\n\u001b[1;32m    193\u001b[0m           \u001b[0mshell\u001b[0m\u001b[0;34m=\u001b[0m\u001b[0;32mTrue\u001b[0m\u001b[0;34m,\u001b[0m\u001b[0;34m\u001b[0m\u001b[0;34m\u001b[0m\u001b[0m\n",
            "\u001b[0;32m/usr/lib/python3.9/subprocess.py\u001b[0m in \u001b[0;36m__init__\u001b[0;34m(self, args, bufsize, executable, stdin, stdout, stderr, preexec_fn, close_fds, shell, cwd, env, universal_newlines, startupinfo, creationflags, restore_signals, start_new_session, pass_fds, user, group, extra_groups, encoding, errors, text, umask)\u001b[0m\n\u001b[1;32m    949\u001b[0m                             encoding=encoding, errors=errors)\n\u001b[1;32m    950\u001b[0m \u001b[0;34m\u001b[0m\u001b[0m\n\u001b[0;32m--> 951\u001b[0;31m             self._execute_child(args, executable, preexec_fn, close_fds,\n\u001b[0m\u001b[1;32m    952\u001b[0m                                 \u001b[0mpass_fds\u001b[0m\u001b[0;34m,\u001b[0m \u001b[0mcwd\u001b[0m\u001b[0;34m,\u001b[0m \u001b[0menv\u001b[0m\u001b[0;34m,\u001b[0m\u001b[0;34m\u001b[0m\u001b[0;34m\u001b[0m\u001b[0m\n\u001b[1;32m    953\u001b[0m                                 \u001b[0mstartupinfo\u001b[0m\u001b[0;34m,\u001b[0m \u001b[0mcreationflags\u001b[0m\u001b[0;34m,\u001b[0m \u001b[0mshell\u001b[0m\u001b[0;34m,\u001b[0m\u001b[0;34m\u001b[0m\u001b[0;34m\u001b[0m\u001b[0m\n",
            "\u001b[0;32m/usr/lib/python3.9/subprocess.py\u001b[0m in \u001b[0;36m_execute_child\u001b[0;34m(self, args, executable, preexec_fn, close_fds, pass_fds, cwd, env, startupinfo, creationflags, shell, p2cread, p2cwrite, c2pread, c2pwrite, errread, errwrite, restore_signals, gid, gids, uid, umask, start_new_session)\u001b[0m\n\u001b[1;32m   1752\u001b[0m                     \u001b[0mfds_to_keep\u001b[0m \u001b[0;34m=\u001b[0m \u001b[0mset\u001b[0m\u001b[0;34m(\u001b[0m\u001b[0mpass_fds\u001b[0m\u001b[0;34m)\u001b[0m\u001b[0;34m\u001b[0m\u001b[0;34m\u001b[0m\u001b[0m\n\u001b[1;32m   1753\u001b[0m                     \u001b[0mfds_to_keep\u001b[0m\u001b[0;34m.\u001b[0m\u001b[0madd\u001b[0m\u001b[0;34m(\u001b[0m\u001b[0merrpipe_write\u001b[0m\u001b[0;34m)\u001b[0m\u001b[0;34m\u001b[0m\u001b[0;34m\u001b[0m\u001b[0m\n\u001b[0;32m-> 1754\u001b[0;31m                     self.pid = _posixsubprocess.fork_exec(\n\u001b[0m\u001b[1;32m   1755\u001b[0m                             \u001b[0margs\u001b[0m\u001b[0;34m,\u001b[0m \u001b[0mexecutable_list\u001b[0m\u001b[0;34m,\u001b[0m\u001b[0;34m\u001b[0m\u001b[0;34m\u001b[0m\u001b[0m\n\u001b[1;32m   1756\u001b[0m                             \u001b[0mclose_fds\u001b[0m\u001b[0;34m,\u001b[0m \u001b[0mtuple\u001b[0m\u001b[0;34m(\u001b[0m\u001b[0msorted\u001b[0m\u001b[0;34m(\u001b[0m\u001b[0mmap\u001b[0m\u001b[0;34m(\u001b[0m\u001b[0mint\u001b[0m\u001b[0;34m,\u001b[0m \u001b[0mfds_to_keep\u001b[0m\u001b[0;34m)\u001b[0m\u001b[0;34m)\u001b[0m\u001b[0;34m)\u001b[0m\u001b[0;34m,\u001b[0m\u001b[0;34m\u001b[0m\u001b[0;34m\u001b[0m\u001b[0m\n",
            "\u001b[0;31mKeyboardInterrupt\u001b[0m: "
          ]
        }
      ]
    },
    {
      "cell_type": "code",
      "source": [
        "!java -version"
      ],
      "metadata": {
        "id": "FCeYLe11EoA5"
      },
      "execution_count": null,
      "outputs": []
    },
    {
      "cell_type": "code",
      "source": [
        "!readlink -f $(which java) | sed \"s:bin/java::\"\n"
      ],
      "metadata": {
        "id": "QnNvgsFKEvF0"
      },
      "execution_count": null,
      "outputs": []
    },
    {
      "cell_type": "code",
      "source": [
        "!echo $JAVA_HOME"
      ],
      "metadata": {
        "id": "EHoXgQb0EyH4"
      },
      "execution_count": null,
      "outputs": []
    },
    {
      "cell_type": "code",
      "source": [
        "!pip install -q findspark"
      ],
      "metadata": {
        "id": "xA6BrWOlEzwl"
      },
      "execution_count": null,
      "outputs": []
    },
    {
      "cell_type": "code",
      "source": [
        "!pip install pyspark "
      ],
      "metadata": {
        "id": "FWcYXxSfE-66"
      },
      "execution_count": null,
      "outputs": []
    },
    {
      "cell_type": "code",
      "source": [
        "from pyspark.sql import SparkSession"
      ],
      "metadata": {
        "id": "RxVvKnuTFNAX"
      },
      "execution_count": null,
      "outputs": []
    },
    {
      "cell_type": "code",
      "source": [
        "import pyspark.sql.functions as F"
      ],
      "metadata": {
        "id": "8_ZZIDSki9dp"
      },
      "execution_count": null,
      "outputs": []
    },
    {
      "cell_type": "code",
      "source": [
        "import pandas as pd\n",
        "pd.set_option('display.max_rows', None)"
      ],
      "metadata": {
        "id": "ZpM3yHEfjaqZ"
      },
      "execution_count": null,
      "outputs": []
    },
    {
      "cell_type": "code",
      "source": [
        "from pyspark.sql.window import Window\n",
        "from pyspark.sql.functions import row_number\n",
        "from pyspark.sql.functions import col\n",
        "from pyspark.sql.functions import *\n",
        "from pyspark.sql.functions import lit"
      ],
      "metadata": {
        "id": "n04j9qewV5Co"
      },
      "execution_count": null,
      "outputs": []
    },
    {
      "cell_type": "code",
      "source": [
        "spark = SparkSession.builder.getOrCreate()"
      ],
      "metadata": {
        "id": "K6zkngyXU8C2"
      },
      "execution_count": null,
      "outputs": []
    },
    {
      "cell_type": "code",
      "source": [
        "spark.conf.set('spark.sql.legacy.parquet.datetimeRebaseModeInRead', 'CORRECTED')"
      ],
      "metadata": {
        "id": "G6ICwe5mVXHZ"
      },
      "execution_count": null,
      "outputs": []
    },
    {
      "cell_type": "markdown",
      "source": [
        "## **Extraccion de datos**"
      ],
      "metadata": {
        "id": "M865_XBwVRTW"
      }
    },
    {
      "cell_type": "code",
      "source": [
        "#Lectura de parquets\n",
        "df_address = spark.read.parquet('/content/address_bootcamp.snappy.parquet')\n",
        "df_customer_basics = spark.read.parquet('/content/customer_basics_bootcamp.snappy.parquet')\n",
        "df_email = spark.read.parquet('/content/emails_bootcamp.snappy.parquet')\n",
        "df_phones = spark.read.parquet('/content/phones_bootcamp.snappy.parquet')"
      ],
      "metadata": {
        "id": "fjFFL9njVZyK"
      },
      "execution_count": null,
      "outputs": []
    },
    {
      "cell_type": "code",
      "source": [
        "df_phones.show()"
      ],
      "metadata": {
        "colab": {
          "base_uri": "https://localhost:8080/"
        },
        "id": "1TgM0OOQNLRc",
        "outputId": "c736c7b0-84d6-4cf0-f282-0dd53b902507"
      },
      "execution_count": null,
      "outputs": [
        {
          "output_type": "stream",
          "name": "stdout",
          "text": [
            "+-----------+--------------+-------------------+-----------------+----------+----------------+---------------+-------------+-------------------+-----------------+-------------+--------------+---------------+-----------------------+------------------+---------------------+--------------------+----------+-----------+--------------------------+---------------------+--------------------+---------------------+----------------+-------------------------+-------------------------+------------------+-------------------+-----------------+--------------------+---------------------+-----------------------+----------------------+--------------------+----------------------+------------------------------+----------------------------+-------------------+----------------+----------------+-------------------+--------------------+-----------------------+---------------------+\n",
            "|customer_id|phone_use_type|address_sequence_id|phone_sequence_id|phone_type|phone_country_id|prefix_phone_id|phone_area_id|cellphone_prefix_id|phone_exchange_id|phone_line_id|      phone_id|phone_intern_id|aditional_info_txt_desc|primary_phone_type|address_sequence_type|   address_town_name|zipcode_id|province_id|customer_phone_status_type|phone_status_mod_date|contact_channel_type|sender_application_id|wrong_phone_type|normalization_status_type|normalization_reason_name|normalization_date|validity_start_date|validity_end_date|dlvy_day_monday_type|dlvy_day_tuesday_type|dlvy_day_wednesday_type|dlvy_day_thursday_type|dlvy_day_friday_type|dlvy_day_saturday_type|delivery_contact_start_hm_date|delivery_contact_end_hm_date|registry_entry_date|register_user_id|last_change_date|last_change_user_id|last_change_hms_date|last_change_terminal_id|operational_load_date|\n",
            "+-----------+--------------+-------------------+-----------------+----------+----------------+---------------+-------------+-------------------+-----------------+-------------+--------------+---------------+-----------------------+------------------+---------------------+--------------------+----------+-----------+--------------------------+---------------------+--------------------+---------------------+----------------+-------------------------+-------------------------+------------------+-------------------+-----------------+--------------------+---------------------+-----------------------+----------------------+--------------------+----------------------+------------------------------+----------------------------+-------------------+----------------+----------------+-------------------+--------------------+-----------------------+---------------------+\n",
            "|   29354201|            00|                  0|                1|         3|             080|             54|          385|                 15|              618|         8929|  696850618783|               |                       |                 N|                    N|                    |          |           |                 DECLARADO|           2022-06-24|                  01|                 CTES|                |                NORM OPER|                       NE|        2022-06-24|         1900-01-01|       1900-01-01|                    |                     |                       |                      |                    |                      |                      00:00:00|                    00:00:00|         2022-06-24|         A126810|      2022-06-24|            A126810|              085240|                   2429| 2022-11-30 00:42:...|\n",
            "|   29389432|            00|                  0|                1|         3|             080|             54|           11|                 15|             2550|         6187|  711931820675|               |                       |                 N|                    N|                    |          |           |                 DECLARADO|           2022-06-24|                  01|                 PVTA|                |                NORM AUTO|                  COPDTEL|        2022-06-24|         1900-01-01|       1900-01-01|                    |                     |                       |                      |                    |                      |                      00:00:00|                    00:00:00|         2022-06-24|        VW2CCON0|      2022-06-24|           VW2CCON0|              102004|                   PVTA| 2022-11-30 00:42:...|\n",
            "|   29382041|            01|                  0|                2|         1|             080|             54|          341|                   |              454|         3113|    3843676600|               |                       |                 N|                    N|                    |          |           |                 DECLARADO|           2022-06-24|                  01|                 CTES|                |                NORM AUTO|                  COPDTEL|        2022-06-24|         1900-01-01|       1900-01-01|                    |                     |                       |                      |                    |                      |                      00:00:00|                    00:00:00|         2022-06-24|         A126228|      2022-06-24|            A126228|              102436|                   Y2GK| 2022-11-30 00:42:...|\n",
            "|   07395331|            00|                  0|                2|         3|             080|             54|           11|                 15|             3017|         9680|  229013342402|               |                       |                 N|                    N|                    |          |           |                 DECLARADO|           2022-06-24|                  01|                 WKFL|                |                NORM AUTO|                  COPDTEL|        2022-06-24|         1900-01-01|       1900-01-01|                    |                     |                       |                      |                    |                      |                      00:00:00|                    00:00:00|         2022-06-24|         A118094|      2022-06-24|            A118094|              105750|                   P101| 2022-11-30 00:42:...|\n",
            "|   29349520|            00|                  0|                1|         3|             080|             54|           11|                 15|             4439|         4790|  589625269325|               |                       |                 N|                    N|                    |          |           |                 DECLARADO|           2022-06-24|                  01|                 CTES|                |                NORM AUTO|                   COPDTE|        2022-06-24|         1900-01-01|       1900-01-01|                    |                     |                       |                      |                    |                      |                      00:00:00|                    00:00:00|         2022-06-24|          A33643|      2022-06-24|             A33643|              105847|                   2305| 2022-11-30 00:42:...|\n",
            "|   29349520|            01|                  0|                2|         3|             080|             54|           11|                 15|             4439|         4790|  589625269325|               |                       |                 N|                    N|                    |          |           |                 DECLARADO|           2022-06-24|                  01|                 CTES|                |                NORM AUTO|                  COPDTEL|        2022-06-24|         1900-01-01|       1900-01-01|                    |                     |                       |                      |                    |                      |                      00:00:00|                    00:00:00|         2022-06-24|          A33643|      2022-06-24|             A33643|              105847|                   2305| 2022-11-30 00:42:...|\n",
            "|   29390571|            00|                  0|                1|         3|             080|             54|          388|                 15|              514|         3040|  888200805780|               |                       |                 N|                    N|SAN SALVADOR DE J...|     04600|         10|                 DECLARADO|           2022-06-24|                  01|                 CTES|                |                NORM AUTO|                   COPDTE|        2022-08-11|         1900-01-01|       1900-01-01|                    |                     |                       |                      |                    |                      |                      00:00:00|                    00:00:00|         2022-06-24|          A78911|      2022-08-11|            A115116|              092940|                   5159| 2022-11-30 00:42:...|\n",
            "|   29353393|            00|                  0|                1|         3|             080|             54|         3444|                 15|               52|         3887|  474148675676|               |                       |                 N|                    N|                    |          |           |                COMPROBADO|           2022-06-24|                  01|                 CTES|                |                NORM AUTO|                  COPDTEL|        2022-06-24|         1900-01-01|       1900-01-01|                    |                     |                       |                      |                    |                      |                      00:00:00|                    00:00:00|         2022-06-24|         A127353|      2022-06-26|           PCLUPCRT|              125515|                   OSMS| 2022-11-30 00:42:...|\n",
            "|   29387501|            01|                  0|                2|         1|             080|             54|         2317|                   |               43|         4879|    2546905684|               |                       |                 N|                    N|                    |          |           |                 DECLARADO|           2022-06-24|                  01|                 CTES|                |                NORM AUTO|                  COPDTEL|        2022-06-24|         1900-01-01|       1900-01-01|                    |                     |                       |                      |                    |                      |                      00:00:00|                    00:00:00|         2022-06-24|         A118960|      2022-06-24|            A118960|              163712|                   Y2IG| 2022-11-30 00:42:...|\n",
            "|   29391432|            05|                  0|                1|         3|             080|             54|           11|                 15|             5529|         1962|  673397682353|               |                     04|                 N|                    N|                    |          |           |                 DECLARADO|           2022-06-24|                  01|                 CTES|                |                NORM AUTO|                  COPDTEL|        2022-06-24|         2022-06-24|       1900-01-01|                    |                     |                       |                      |                    |                      |                      00:00:00|                    00:00:00|         2022-06-24|        GPROBANK|      2022-06-24|            PCLE20N|              180221|                   BATC| 2022-11-30 00:42:...|\n",
            "|   29390553|            00|                  0|                1|         3|             080|             54|          351|                 15|              256|         0268|  453595914089|               |                       |                 N|                    N|                    |          |           |                COMPROBADO|           2022-07-02|                  01|                 CTES|                |                NORM AUTO|                  COPDTEL|        2022-07-01|         1900-01-01|       1900-01-01|                    |                     |                       |                      |                    |                      |                      00:00:00|                    00:00:00|         2022-06-24|         A126703|      2022-07-02|               XATM|              164720|                   XATM| 2022-11-30 00:42:...|\n",
            "|   29389361|            00|                  0|                1|         3|             080|             54|           11|                 15|             5579|         2407|  478405248222|               |                       |                 N|                    N|                    |          |           |                 DECLARADO|           2022-06-25|                  01|                 PVTA|                |                NORM AUTO|                  COPDTEL|        2022-06-25|         1900-01-01|       1900-01-01|                    |                     |                       |                      |                    |                      |                      00:00:00|                    00:00:00|         2022-06-25|        VW2CCON0|      2022-06-25|           VW2CCON0|              021541|                   PVTA| 2022-11-30 00:42:...|\n",
            "|   29400313|            00|                  0|                1|         3|             080|             54|           11|                 15|             4030|         8325|  043683030098|               |                       |                 N|                    N|                    |          |           |                 DECLARADO|           2022-06-25|                  01|                 CTES|                |                NORM AUTO|                  COPDTEL|        2022-06-27|         1900-01-01|       1900-01-01|                    |                     |                       |                      |                    |                      |                      00:00:00|                    00:00:00|         2022-06-25|        GPROBANK|      2022-06-27|           GPROBANK|              152322|                   LWBE| 2022-11-30 00:42:...|\n",
            "|   29401025|            00|                  0|                1|         3|             080|             54|           11|                 15|             2288|         8738|  008725729120|               |                       |                 N|                    N|                    |          |           |                COMPROBADO|           2022-06-26|                  01|                 PVTA|                |                NORM AUTO|                  COPDTEL|        2022-06-26|         1900-01-01|       1900-01-01|                    |                     |                       |                      |                    |                      |                      00:00:00|                    00:00:00|         2022-06-26|        VW2CCON0|      2022-07-12|           PCLUPCRT|              215455|                   OSMS| 2022-11-30 00:42:...|\n",
            "|   29401299|            00|                  0|                1|         3|             080|             54|         0011|                 15|             6761|         8843|09893903230068|               |                       |                 N|                    N|                    |          |           |                 DECLARADO|           2022-06-27|                  01|                 CTES|                |                         |                         |        1900-01-01|         1900-01-01|       1900-01-01|                    |                     |                       |                      |                    |                      |                      00:00:00|                    00:00:00|         2022-06-27|        GPROBANK|      2022-06-27|           GPROBANK|              184500|                   LWAW| 2022-11-30 00:42:...|\n",
            "|   29325999|            00|                  0|                2|         3|             080|             54|          342|                 15|              479|         9696|  466813319125|               |                       |                 N|                    N|                    |          |           |                 DECLARADO|           2022-06-26|                  01|                 PVTA|                |                NORM AUTO|                  COPDTEL|        2022-06-26|         1900-01-01|       1900-01-01|                    |                     |                       |                      |                    |                      |                      00:00:00|                    00:00:00|         2022-06-26|        VW2CCON0|      2022-06-26|           VW2CCON0|              222823|                   PVTA| 2022-11-30 00:42:...|\n",
            "|   29402665|            00|                  0|                1|         3|             080|             54|         3564|                 15|               33|         7284|  443220384448|               |                       |                 N|                    N|       SAN FRANCISCO|     02400|         04|                 DECLARADO|           2022-06-27|                  01|                 CTES|                |                NORM AUTO|                   COPDTE|        2022-06-27|         1900-01-01|       1900-01-01|                    |                     |                       |                      |                    |                      |                      00:00:00|                    00:00:00|         2022-06-27|         A116108|      2022-06-27|            A116108|              124517|                   6104| 2022-11-30 00:42:...|\n",
            "|   29402665|            00|                  0|                2|         3|             080|             54|         3564|                 15|               33|         3190|  538542198741|               |                       |                 N|                    N|                    |          |           |                 DECLARADO|           2022-06-27|                  01|                 CTES|                |                NORM AUTO|                  COPDTEL|        2022-06-27|         1900-01-01|       1900-01-01|                    |                     |                       |                      |                    |                      |                      00:00:00|                    00:00:00|         2022-06-27|         A116108|      2022-06-27|            A116108|              124517|                   6104| 2022-11-30 00:42:...|\n",
            "|   29375587|            00|                  0|                1|         3|             080|             54|          221|                 15|              692|         9792|  061269423380|               |                       |                 N|                    N|                    |          |           |                COMPROBADO|           2022-10-03|                  01|                 CTES|                |                NORM AUTO|                     COSM|        2022-10-03|         1900-01-01|       1900-01-01|                    |                     |                       |                      |                    |                      |                      00:00:00|                    00:00:00|         2022-10-03|         A127599|      2022-10-03|           PCLUPCRT|              132855|                   OSMS| 2022-11-30 00:42:...|\n",
            "|   29375587|            01|                  0|                2|         1|             080|             54|          221|                   |              425|         9227|    7885170733|               |                       |                 N|                    N|                    |          |           |                  VALIDADO|           2022-10-03|                  01|                 CTES|                |                NORM AUTO|                  COPDTEL|        2022-07-01|         1900-01-01|       1900-01-01|                    |                     |                       |                      |                    |                      |                      00:00:00|                    00:00:00|         2022-06-27|         A118978|      2022-10-03|            A127599|              122731|                   9330| 2022-11-30 00:42:...|\n",
            "+-----------+--------------+-------------------+-----------------+----------+----------------+---------------+-------------+-------------------+-----------------+-------------+--------------+---------------+-----------------------+------------------+---------------------+--------------------+----------+-----------+--------------------------+---------------------+--------------------+---------------------+----------------+-------------------------+-------------------------+------------------+-------------------+-----------------+--------------------+---------------------+-----------------------+----------------------+--------------------+----------------------+------------------------------+----------------------------+-------------------+----------------+----------------+-------------------+--------------------+-----------------------+---------------------+\n",
            "only showing top 20 rows\n",
            "\n"
          ]
        }
      ]
    },
    {
      "cell_type": "markdown",
      "source": [
        "## **JOINS ENTRE TABLAS**"
      ],
      "metadata": {
        "id": "AGFIYagTc8wg"
      }
    },
    {
      "cell_type": "code",
      "source": [
        "#Cambio formato de columna\n",
        "df_phones = df_phones.withColumn(\"phone_area_id\", F.col(\"phone_area_id\").cast(\"integer\"))\n",
        "df_phones = df_phones.withColumn(\"phone_number\", F.concat(F.lit(\"+\"), F.col(\"prefix_phone_id\"), F.lit(\" \"), F.col(\"phone_area_id\"), F.lit(\" \"), F.col(\"cellphone_prefix_id\"), F.lit(\" \"), F.col(\"phone_exchange_id\"), F.col(\"phone_line_id\")))"
      ],
      "metadata": {
        "id": "HOVugXbXZKkM"
      },
      "execution_count": null,
      "outputs": []
    },
    {
      "cell_type": "code",
      "source": [
        "#Join entre clientes y telefonos\n",
        "df_customer_basics_phones = df_customer_basics.join(df_phones, ['customer_id'], how='left').select(df_customer_basics.customer_id, df_phones.phone_type, df_phones.phone_number, df_customer_basics.last_change_date)\n",
        "df_customer_basics_phones.sort(F.asc(\"customer_id\")).show(10)"
      ],
      "metadata": {
        "id": "OjHiWM7KdTXb",
        "colab": {
          "base_uri": "https://localhost:8080/"
        },
        "outputId": "9f2d7d0e-b36c-43bf-ed59-db449af4d72e"
      },
      "execution_count": null,
      "outputs": [
        {
          "output_type": "stream",
          "name": "stdout",
          "text": [
            "+-----------+----------+-------------------+----------------+\n",
            "|customer_id|phone_type|       phone_number|last_change_date|\n",
            "+-----------+----------+-------------------+----------------+\n",
            "|   00000442|         3| +54 297 15 5296284|      2005-05-17|\n",
            "|   00000442|         3| +54 297 15 4729337|      2005-05-17|\n",
            "|   00001419|         3| +54 11 15 66793207|      2012-01-04|\n",
            "|   00001939|         3| +54 11 15 38700150|      2009-09-18|\n",
            "|   00002575|      null|               null|      2021-04-06|\n",
            "|   00002707|         1|   +54 299  4477116|      2009-09-18|\n",
            "|   00002790|         3| +54 342 15 4662478|      2009-09-18|\n",
            "|   00002790|         1|   +54 342  4883620|      2009-09-18|\n",
            "|   00004287|         3|+54 3541 15 5988799|      2009-09-18|\n",
            "|   00004724|         3| +54 11 15 24084447|      2009-12-14|\n",
            "+-----------+----------+-------------------+----------------+\n",
            "only showing top 10 rows\n",
            "\n"
          ]
        }
      ]
    },
    {
      "cell_type": "code",
      "source": [
        "#Join entre clientes e email\n",
        "df_customer_basics_email = df_customer_basics.join(df_email,['customer_id'], how='left').select(df_customer_basics.customer_id, df_email.email_desc, df_email.last_change_date)\n",
        "df_customer_basics_email.show()"
      ],
      "metadata": {
        "id": "B_17ljUR0BOM",
        "colab": {
          "base_uri": "https://localhost:8080/"
        },
        "outputId": "8040ecc8-80e6-4924-80fc-13c0accfe8be"
      },
      "execution_count": null,
      "outputs": [
        {
          "output_type": "stream",
          "name": "stdout",
          "text": [
            "+-----------+--------------------+----------------+\n",
            "|customer_id|          email_desc|last_change_date|\n",
            "+-----------+--------------------+----------------+\n",
            "|   07867437|                null|            null|\n",
            "|   06813266|                null|            null|\n",
            "|   29604216|                null|            null|\n",
            "|   28028529|                null|            null|\n",
            "|   28366580|                null|            null|\n",
            "|   02746969|                null|            null|\n",
            "|   23441482|                null|            null|\n",
            "|   23610540|                null|            null|\n",
            "|   25935956|                null|            null|\n",
            "|   25848977|                null|            null|\n",
            "|   01957163|                null|            null|\n",
            "|   06338965|                null|            null|\n",
            "|   29676364|                null|            null|\n",
            "|   26205399|   DIONISI@YAHOO.COM|      2019-12-27|\n",
            "|   03933825|DIGITALIZACION@EE...|      1900-01-01|\n",
            "|   29416245|                null|            null|\n",
            "|   29497813|                null|            null|\n",
            "|   02568856|                null|            null|\n",
            "|   29681573|                null|            null|\n",
            "|   04348412|                null|            null|\n",
            "+-----------+--------------------+----------------+\n",
            "only showing top 20 rows\n",
            "\n"
          ]
        }
      ]
    },
    {
      "cell_type": "code",
      "source": [
        "df_address = df_address.withColumn(\"full_address\", F.concat(F.col(\"street_name\"), F.lit(\" \"), F.concat(F.col(\"address_outdoor_id\"), F.lit(\" \"), F.col(\"address_indoor_id\"), F.lit(\" \"), F.col(\"indoor_number\"), F.col(\"address_town_name\"), F.lit(\" \"), F.col(\"address_department_name\"), F.lit(\" \"), F.col(\"zipcode_id\"))))"
      ],
      "metadata": {
        "id": "eTM6Uz5bduvy"
      },
      "execution_count": null,
      "outputs": []
    },
    {
      "cell_type": "code",
      "source": [
        "#join entre clientes y direccion\n",
        "df_customer_basics_address = df_customer_basics.join(df_address,['customer_id'], how='left').select(df_customer_basics.customer_id, 'full_address', df_address.last_change_date)\n",
        "df_customer_basics_address.show()"
      ],
      "metadata": {
        "id": "FcAhH0c70Yxa",
        "colab": {
          "base_uri": "https://localhost:8080/"
        },
        "outputId": "169de866-fdd0-4630-f590-546e2c52911e"
      },
      "execution_count": null,
      "outputs": [
        {
          "output_type": "stream",
          "name": "stdout",
          "text": [
            "+-----------+--------------------+----------------+\n",
            "|customer_id|        full_address|last_change_date|\n",
            "+-----------+--------------------+----------------+\n",
            "|   07867437|ALTE FRANCISCO SE...|      2009-01-26|\n",
            "|   06813266|EL TORDO         ...|      2009-01-26|\n",
            "|   29604216|                null|            null|\n",
            "|   28028529|AMENEDO          ...|      2009-01-26|\n",
            "|   28366580|INCA AAA         ...|            null|\n",
            "|   28366580|INCA             ...|      2011-07-01|\n",
            "|   02746969|MERCEDES         ...|      2009-01-26|\n",
            "|   23441482|AV 39            ...|      2011-07-01|\n",
            "|   23610540|                null|            null|\n",
            "|   25935956|AV FERNANDEZ DE L...|      2009-01-26|\n",
            "|   25848977|                null|            null|\n",
            "|   01957163|JOSE M DE MINOGUY...|      2009-01-26|\n",
            "|   06338965|MADERO DR FRANCIS...|      2009-01-26|\n",
            "|   29676364|                null|            null|\n",
            "|   26205399|SUIPACHA         ...|      2009-01-26|\n",
            "|   03933825|HENRY DUNANT     ...|      2009-01-26|\n",
            "|   29416245|                null|            null|\n",
            "|   29497813|                null|            null|\n",
            "|   02568856|CLAUDIO MAMERTO C...|      2009-01-26|\n",
            "|   29681573|                null|            null|\n",
            "+-----------+--------------------+----------------+\n",
            "only showing top 20 rows\n",
            "\n"
          ]
        }
      ]
    },
    {
      "cell_type": "markdown",
      "source": [
        "## **FILTRADO Y REDUCCION DE DATOS --> PHONES**"
      ],
      "metadata": {
        "id": "YlsY5lSo9xK6"
      }
    },
    {
      "cell_type": "code",
      "source": [
        "#Hago una ventana por el customer_id y ordenado por la ultima actualizacion \n",
        "w = Window.partitionBy(df_customer_basics_phones['customer_id']).orderBy(\"last_change_date\")"
      ],
      "metadata": {
        "id": "xcpJjItfdTjJ"
      },
      "execution_count": null,
      "outputs": []
    },
    {
      "cell_type": "code",
      "source": [
        "#Agrego columna que cuente la cantidad de veces que se repite el ID\n",
        "df_customer_basics_phones = df_customer_basics_phones.withColumn(\"row_num\", row_number().over(w))"
      ],
      "metadata": {
        "id": "HDQPycVraAQm"
      },
      "execution_count": null,
      "outputs": []
    },
    {
      "cell_type": "code",
      "source": [
        "#Corto el dataframe quedandome con las ultimas 3 actualizaciones\n",
        "df_customer_basics_phones = df_customer_basics_phones.filter(col(\"row_num\") <= 3)"
      ],
      "metadata": {
        "id": "n3oRV3gLaAZX"
      },
      "execution_count": null,
      "outputs": []
    },
    {
      "cell_type": "code",
      "source": [
        "#Reacomodo la tabla con las columnas de interes y concatenando una nueva\n",
        "df_customer_basics_phones = df_customer_basics_phones.select('customer_id', 'phone_type', 'phone_number', 'row_num')\n",
        "df_customer_basics_phones.show(10)"
      ],
      "metadata": {
        "id": "ZLGGCQVYI6aI",
        "colab": {
          "base_uri": "https://localhost:8080/"
        },
        "outputId": "712a026e-ede1-4ceb-8397-a6074075f49d"
      },
      "execution_count": null,
      "outputs": [
        {
          "output_type": "stream",
          "name": "stdout",
          "text": [
            "+-----------+----------+-------------------+-------+\n",
            "|customer_id|phone_type|       phone_number|row_num|\n",
            "+-----------+----------+-------------------+-------+\n",
            "|   00000442|         3| +54 297 15 5296284|      1|\n",
            "|   00000442|         3| +54 297 15 4729337|      2|\n",
            "|   00001419|         3| +54 11 15 66793207|      1|\n",
            "|   00001939|         3| +54 11 15 38700150|      1|\n",
            "|   00002575|      null|               null|      1|\n",
            "|   00002707|         1|   +54 299  4477116|      1|\n",
            "|   00002790|         1|   +54 342  4883620|      1|\n",
            "|   00002790|         3| +54 342 15 4662478|      2|\n",
            "|   00004287|         3|+54 3541 15 5988799|      1|\n",
            "|   00004724|         3| +54 11 15 24084447|      1|\n",
            "+-----------+----------+-------------------+-------+\n",
            "only showing top 10 rows\n",
            "\n"
          ]
        }
      ]
    },
    {
      "cell_type": "code",
      "source": [
        "#creo una funcion pivot para una columna especificada y cambiarle el nombre a las nuevas.   \n",
        "df_final_customer_phones = df_customer_basics_phones.groupBy(\"customer_id\").pivot(\"row_num\").agg(first('phone_number'))\n",
        "df_final_customer_phones = df_final_customer_phones.withColumnRenamed(\"1\", 'phone_number' + \"_1\") \\\n",
        "       .withColumnRenamed(\"2\", 'phone_number' + \"_2\") \\\n",
        "       .withColumnRenamed(\"3\", 'phone_number' + \"_3\") "
      ],
      "metadata": {
        "id": "fLvYs7w8dn7-"
      },
      "execution_count": null,
      "outputs": []
    },
    {
      "cell_type": "code",
      "source": [
        "df_final_customer_phones.show()"
      ],
      "metadata": {
        "colab": {
          "base_uri": "https://localhost:8080/"
        },
        "id": "H45q3mKIf1Qz",
        "outputId": "a10a9147-030b-4ebf-abb7-c78c6e5548a4"
      },
      "execution_count": null,
      "outputs": [
        {
          "output_type": "stream",
          "name": "stdout",
          "text": [
            "+-----------+-------------------+------------------+--------------+\n",
            "|customer_id|     phone_number_1|    phone_number_2|phone_number_3|\n",
            "+-----------+-------------------+------------------+--------------+\n",
            "|   00000442| +54 297 15 5296284|+54 297 15 4729337|          null|\n",
            "|   00001419| +54 11 15 66793207|              null|          null|\n",
            "|   00001939| +54 11 15 38700150|              null|          null|\n",
            "|   00002575|               null|              null|          null|\n",
            "|   00002707|   +54 299  4477116|              null|          null|\n",
            "|   00002790|   +54 342  4883620|+54 342 15 4662478|          null|\n",
            "|   00004287|+54 3541 15 5988799|              null|          null|\n",
            "|   00004724| +54 11 15 24084447|              null|          null|\n",
            "|   00007932| +54 385 15 4065887|              null|          null|\n",
            "|   00011850| +54 11 15 25781080|+54 3489 15 493578|          null|\n",
            "|   00012051| +54 3401 15 534381|              null|          null|\n",
            "|   00012611|   +54 11  43443165|+54 11 15 61141855|          null|\n",
            "|   00012991|               null|              null|          null|\n",
            "|   00013498| +54 221 15 6208511|              null|          null|\n",
            "|   00014664| +54 11 15 65050605|              null|          null|\n",
            "|   00015497| +54 11 15 51052460|              null|          null|\n",
            "|   00051576| +54 11 15 26531080|              null|          null|\n",
            "|   00053993| +54 3718 15 466655|              null|          null|\n",
            "|   00056407| +54 336 15 4577255|              null|          null|\n",
            "|   00056947| +54 297 15 4577276|+54 297 15 4301718|          null|\n",
            "+-----------+-------------------+------------------+--------------+\n",
            "only showing top 20 rows\n",
            "\n"
          ]
        }
      ]
    },
    {
      "cell_type": "markdown",
      "source": [
        "## **FILTRADO Y REDUCCION DE DATOS --> EMAILS**"
      ],
      "metadata": {
        "id": "y6RECo3H_Ccw"
      }
    },
    {
      "cell_type": "code",
      "source": [
        "#Filtrado y reduccion de datos --> EMAILS\n",
        "w = Window.partitionBy(df_customer_basics_email['customer_id']).orderBy(\"last_change_date\")"
      ],
      "metadata": {
        "id": "_kCYhMHpd3wJ"
      },
      "execution_count": null,
      "outputs": []
    },
    {
      "cell_type": "code",
      "source": [
        "df_customer_basics_email = df_customer_basics_email.withColumn(\"row_num\", row_number().over(w))"
      ],
      "metadata": {
        "id": "YdI72Ndsd3wK"
      },
      "execution_count": null,
      "outputs": []
    },
    {
      "cell_type": "code",
      "source": [
        "df_customer_basics_email = df_customer_basics_email.filter(col(\"row_num\") <= 3)"
      ],
      "metadata": {
        "id": "CthW4hv1d3wK"
      },
      "execution_count": null,
      "outputs": []
    },
    {
      "cell_type": "code",
      "source": [
        "df_customer_basics_email.show(10)"
      ],
      "metadata": {
        "id": "s2B32O57d3wK",
        "colab": {
          "base_uri": "https://localhost:8080/"
        },
        "outputId": "85de57d2-a481-4aea-e4ab-d942c8551cb1"
      },
      "execution_count": null,
      "outputs": [
        {
          "output_type": "stream",
          "name": "stdout",
          "text": [
            "+-----------+--------------------+----------------+-------+\n",
            "|customer_id|          email_desc|last_change_date|row_num|\n",
            "+-----------+--------------------+----------------+-------+\n",
            "|   00000442|                null|            null|      1|\n",
            "|   00001419|EMILIA.RUBIANES@H...|      2015-10-08|      1|\n",
            "|   00001419|  JU_LY1@HOTMAIL.COM|      2019-05-11|      2|\n",
            "|   00001939|                null|            null|      1|\n",
            "|   00002575|                null|            null|      1|\n",
            "|   00002707|                null|            null|      1|\n",
            "|   00002790|DIGITALIZACION@EE...|      1900-01-01|      1|\n",
            "|   00002790| NOTIENE@HOIMAIL.COM|      2019-07-29|      2|\n",
            "|   00004287|                null|            null|      1|\n",
            "|   00004724|                null|            null|      1|\n",
            "+-----------+--------------------+----------------+-------+\n",
            "only showing top 10 rows\n",
            "\n"
          ]
        }
      ]
    },
    {
      "cell_type": "code",
      "source": [
        "#Hago primer pivot para dejar una fila por ID y tener cada email en columnas separadas\n",
        "df_final_customer_email = df_customer_basics_email.groupBy(\"customer_id\").pivot(\"row_num\").agg(first(\"email_desc\"))\n",
        "df_final_customer_email = df_final_customer_email.withColumnRenamed(\"1\", \"email_1\") \\\n",
        "       .withColumnRenamed(\"2\", \"email_2\") \\\n",
        "       .withColumnRenamed(\"3\", \"email_3\")\n",
        "df_final_customer_email.show()"
      ],
      "metadata": {
        "id": "eV1XYnSB_Yj_",
        "colab": {
          "base_uri": "https://localhost:8080/"
        },
        "outputId": "10b0e43a-6c65-4f11-a6d5-68d46c976422"
      },
      "execution_count": null,
      "outputs": [
        {
          "output_type": "stream",
          "name": "stdout",
          "text": [
            "+-----------+--------------------+-------------------+-------+\n",
            "|customer_id|             email_1|            email_2|email_3|\n",
            "+-----------+--------------------+-------------------+-------+\n",
            "|   00000442|                null|               null|   null|\n",
            "|   00001419|EMILIA.RUBIANES@H...| JU_LY1@HOTMAIL.COM|   null|\n",
            "|   00001939|                null|               null|   null|\n",
            "|   00002575|                null|               null|   null|\n",
            "|   00002707|                null|               null|   null|\n",
            "|   00002790|DIGITALIZACION@EE...|NOTIENE@HOIMAIL.COM|   null|\n",
            "|   00004287|                null|               null|   null|\n",
            "|   00004724|                null|               null|   null|\n",
            "|   00007932|                null|               null|   null|\n",
            "|   00011850|                null|               null|   null|\n",
            "|   00012051|                null|               null|   null|\n",
            "|   00012611|                null|               null|   null|\n",
            "|   00012991|                null|               null|   null|\n",
            "|   00013498|                null|               null|   null|\n",
            "|   00014664|   alq@ciudad.com.ar|               null|   null|\n",
            "|   00015497|                null|               null|   null|\n",
            "|   00051576|                null|               null|   null|\n",
            "|   00053993|                null|               null|   null|\n",
            "|   00056407|NELLY.S.GEREZ@GMA...|               null|   null|\n",
            "|   00056947|                null|               null|   null|\n",
            "+-----------+--------------------+-------------------+-------+\n",
            "only showing top 20 rows\n",
            "\n"
          ]
        }
      ]
    },
    {
      "cell_type": "markdown",
      "source": [
        "## **Filtrado y reduccion de datos --> ADDRESS**"
      ],
      "metadata": {
        "id": "ZfzFJajcCiQD"
      }
    },
    {
      "cell_type": "code",
      "source": [
        "#Hago una ventana por el customer_id y ordenado por la ultima actualizacion \n",
        "w = Window.partitionBy(df_customer_basics_address['customer_id']).orderBy(\"last_change_date\")"
      ],
      "metadata": {
        "id": "pxkks_YiUH5a"
      },
      "execution_count": null,
      "outputs": []
    },
    {
      "cell_type": "code",
      "source": [
        "#Agrego columna que cuente la cantidad de veces que se repite el ID\n",
        "df_customer_basics_address = df_customer_basics_address.withColumn(\"row_num\", row_number().over(w))"
      ],
      "metadata": {
        "id": "Re5F4bZzUH5a"
      },
      "execution_count": null,
      "outputs": []
    },
    {
      "cell_type": "code",
      "source": [
        "#Corto el dataframe quedandome con las ultimas 3 actualizaciones\n",
        "df_customer_basics_address = df_customer_basics_address.filter(col(\"row_num\") <= 3)"
      ],
      "metadata": {
        "id": "B3I6KV-zUH5b"
      },
      "execution_count": null,
      "outputs": []
    },
    {
      "cell_type": "code",
      "source": [
        "#Reacomodo la tabla con las columnas de interes.\n",
        "df_customer_basics_address = df_customer_basics_address.select('customer_id', 'full_address', 'row_num')\n",
        "df_customer_basics_address.show(10)"
      ],
      "metadata": {
        "id": "XHkQtwHzSsMm",
        "colab": {
          "base_uri": "https://localhost:8080/"
        },
        "outputId": "6a18daaa-bbd2-4d58-da9c-b021913b2ac1"
      },
      "execution_count": null,
      "outputs": [
        {
          "output_type": "stream",
          "name": "stdout",
          "text": [
            "+-----------+--------------------+-------+\n",
            "|customer_id|        full_address|row_num|\n",
            "+-----------+--------------------+-------+\n",
            "|   00000442|AGUERO           ...|      1|\n",
            "|   00001419|ALTE G BROWN     ...|      1|\n",
            "|   00001939|JOSE HERNANDEZ   ...|      1|\n",
            "|   00002575|                null|      1|\n",
            "|   00002707|GUATEMALA        ...|      1|\n",
            "|   00002790|AV CORDOBA       ...|      1|\n",
            "|   00004287|CNEL DE MARINA RO...|      1|\n",
            "|   00004724|PJE MUTUALISMO   ...|      1|\n",
            "|   00007932|AV FELIX DE OLAZA...|      1|\n",
            "|   00011850|JUNCAL           ...|      1|\n",
            "+-----------+--------------------+-------+\n",
            "only showing top 10 rows\n",
            "\n"
          ]
        }
      ]
    },
    {
      "cell_type": "code",
      "source": [
        "#creo una funcion pivot para una columna especificada y cambiarle el nombre a las nuevas.\n",
        "  \n",
        "df_final_customer_address = df_customer_basics_address.groupBy(\"customer_id\").pivot(\"row_num\").agg(first('full_address'))\n",
        "df_final_customer_address = df_final_customer_address.withColumnRenamed(\"1\", 'full_address' + \"_1\") \\\n",
        "       .withColumnRenamed(\"2\", 'full_address' + \"_2\") \\\n",
        "       .withColumnRenamed(\"3\", 'full_address' + \"_3\")"
      ],
      "metadata": {
        "id": "OhwYHQvxWu0b"
      },
      "execution_count": null,
      "outputs": []
    },
    {
      "cell_type": "code",
      "source": [
        "df_final_customer_address.show()"
      ],
      "metadata": {
        "colab": {
          "base_uri": "https://localhost:8080/"
        },
        "id": "u8fvY10hWu9F",
        "outputId": "27393371-fbec-41fe-e00e-a96184990301"
      },
      "execution_count": null,
      "outputs": [
        {
          "output_type": "stream",
          "name": "stdout",
          "text": [
            "+-----------+--------------------+--------------+--------------+\n",
            "|customer_id|      full_address_1|full_address_2|full_address_3|\n",
            "+-----------+--------------------+--------------+--------------+\n",
            "|   00000442|AGUERO           ...|          null|          null|\n",
            "|   00001419|ALTE G BROWN     ...|          null|          null|\n",
            "|   00001939|JOSE HERNANDEZ   ...|          null|          null|\n",
            "|   00002575|                null|          null|          null|\n",
            "|   00002707|GUATEMALA        ...|          null|          null|\n",
            "|   00002790|AV CORDOBA       ...|          null|          null|\n",
            "|   00004287|CNEL DE MARINA RO...|          null|          null|\n",
            "|   00004724|PJE MUTUALISMO   ...|          null|          null|\n",
            "|   00007932|AV FELIX DE OLAZA...|          null|          null|\n",
            "|   00011850|JUNCAL           ...|          null|          null|\n",
            "|   00012051|AV GRAL JOSE MARI...|          null|          null|\n",
            "|   00012611|ALBERTO LARROQUE ...|          null|          null|\n",
            "|   00012991|                null|          null|          null|\n",
            "|   00013498|AV PTE H YRIGOYEN...|          null|          null|\n",
            "|   00014664|AV TRIUNVIRATO   ...|          null|          null|\n",
            "|   00015497|VUELTA DE OBLIGAD...|          null|          null|\n",
            "|   00051576|ING GUILLERMO MAR...|          null|          null|\n",
            "|   00053993|CALLE 899        ...|          null|          null|\n",
            "|   00056407|AV DR J BAUTISTA ...|          null|          null|\n",
            "|   00056947|AV 25 DE MAYO    ...|          null|          null|\n",
            "+-----------+--------------------+--------------+--------------+\n",
            "only showing top 20 rows\n",
            "\n"
          ]
        }
      ]
    },
    {
      "cell_type": "markdown",
      "source": [
        "## **AGREGAR COLUMNA CONTACT TYPE A LOS DATAFRAME (BBVAW2T1-30)**"
      ],
      "metadata": {
        "id": "hnl4rCVlIqws"
      }
    },
    {
      "cell_type": "code",
      "source": [
        "df_final_customer_address = df_final_customer_address.withColumn(\"Contact_type\", lit('Address'))\n",
        "df_final_customer_email = df_final_customer_email.withColumn(\"Contact_type\", lit('Email'))\n",
        "df_final_customer_phones = df_final_customer_phones.withColumn(\"Contact_type\", lit('Phone'))"
      ],
      "metadata": {
        "id": "oEES11OpIukc"
      },
      "execution_count": null,
      "outputs": []
    },
    {
      "cell_type": "code",
      "source": [
        "#Reemplazo los valores en Tipo de Contacto que son null\n",
        "df_final_customer_address = df_final_customer_address.withColumn(\"Contact_type\", F.when(F.col(\"full_address_1\").isNull(), F.lit(\" \")).otherwise(F.lit(\"address\")))\n",
        "df_final_customer_phones = df_final_customer_phones.withColumn(\"Contact_type\", F.when(F.col(\"phone_number_1\").isNull(), F.lit(\" \")).otherwise(F.lit(\"phone\")))\n",
        "df_final_customer_email = df_final_customer_email.withColumn(\"Contact_type\", F.when(F.col(\"email_1\").isNull(), F.lit(\" \")).otherwise(F.lit(\"email\")))"
      ],
      "metadata": {
        "id": "kyHteyt2ivmj"
      },
      "execution_count": null,
      "outputs": []
    },
    {
      "cell_type": "code",
      "source": [
        "df_final_customer_address.show()"
      ],
      "metadata": {
        "colab": {
          "base_uri": "https://localhost:8080/"
        },
        "id": "J7C-0cLML8Fj",
        "outputId": "6474b504-a576-4759-bb85-f709882b6e94"
      },
      "execution_count": null,
      "outputs": [
        {
          "output_type": "stream",
          "name": "stdout",
          "text": [
            "+-----------+--------------------+--------------+--------------+------------+\n",
            "|customer_id|      full_address_1|full_address_2|full_address_3|Contact_type|\n",
            "+-----------+--------------------+--------------+--------------+------------+\n",
            "|   00000442|AGUERO           ...|          null|          null|     address|\n",
            "|   00001419|ALTE G BROWN     ...|          null|          null|     address|\n",
            "|   00001939|JOSE HERNANDEZ   ...|          null|          null|     address|\n",
            "|   00002575|                null|          null|          null|            |\n",
            "|   00002707|GUATEMALA        ...|          null|          null|     address|\n",
            "|   00002790|AV CORDOBA       ...|          null|          null|     address|\n",
            "|   00004287|CNEL DE MARINA RO...|          null|          null|     address|\n",
            "|   00004724|PJE MUTUALISMO   ...|          null|          null|     address|\n",
            "|   00007932|AV FELIX DE OLAZA...|          null|          null|     address|\n",
            "|   00011850|JUNCAL           ...|          null|          null|     address|\n",
            "|   00012051|AV GRAL JOSE MARI...|          null|          null|     address|\n",
            "|   00012611|ALBERTO LARROQUE ...|          null|          null|     address|\n",
            "|   00012991|                null|          null|          null|            |\n",
            "|   00013498|AV PTE H YRIGOYEN...|          null|          null|     address|\n",
            "|   00014664|AV TRIUNVIRATO   ...|          null|          null|     address|\n",
            "|   00015497|VUELTA DE OBLIGAD...|          null|          null|     address|\n",
            "|   00051576|ING GUILLERMO MAR...|          null|          null|     address|\n",
            "|   00053993|CALLE 899        ...|          null|          null|     address|\n",
            "|   00056407|AV DR J BAUTISTA ...|          null|          null|     address|\n",
            "|   00056947|AV 25 DE MAYO    ...|          null|          null|     address|\n",
            "+-----------+--------------------+--------------+--------------+------------+\n",
            "only showing top 20 rows\n",
            "\n"
          ]
        }
      ]
    },
    {
      "cell_type": "markdown",
      "source": [
        "## **AGREGAR COLUMNA DE JSON A DOMICILIO (32)** "
      ],
      "metadata": {
        "id": "hdL2DG-IMdVU"
      }
    },
    {
      "cell_type": "code",
      "source": [
        "df_final_customer_address = df_final_customer_address.withColumn(\"full_address_1_to_json\", F.when(F.col(\"full_address_1\").isNull(), F.lit(\"sin_dato\")).otherwise(F.col(\"full_address_1\")))\n",
        "df_final_customer_address = df_final_customer_address.withColumn(\"full_address_1_json\", F.to_json(F.struct(\"full_address_1_to_json\")))"
      ],
      "metadata": {
        "id": "vjo8xY4vMlUT"
      },
      "execution_count": null,
      "outputs": []
    },
    {
      "cell_type": "code",
      "source": [
        "df_final_customer_email.count()"
      ],
      "metadata": {
        "colab": {
          "base_uri": "https://localhost:8080/"
        },
        "id": "ORvTWrB-kt3l",
        "outputId": "76480ffc-7a10-41d6-b533-bd027b51ea46"
      },
      "execution_count": null,
      "outputs": [
        {
          "output_type": "execute_result",
          "data": {
            "text/plain": [
              "1614"
            ]
          },
          "metadata": {},
          "execution_count": 196
        }
      ]
    },
    {
      "cell_type": "code",
      "source": [
        "df_final_customer_address.select(F.collect_list('full_address_1_json')).first()[0]"
      ],
      "metadata": {
        "id": "rSeyuzrClDNe"
      },
      "execution_count": null,
      "outputs": []
    },
    {
      "cell_type": "markdown",
      "source": [
        "## **AGREGAR COLUMNA DE JSON A TELEFONO (31)**"
      ],
      "metadata": {
        "id": "iBaj_HxMlneH"
      }
    },
    {
      "cell_type": "code",
      "source": [
        "df_final_customer_phones = df_final_customer_phones.withColumn(\"phone_number_1_to_json\", F.when(F.col(\"phone_number_1\").isNull(), F.lit(\"sin_dato\")).otherwise(F.col(\"phone_number_1\")))\n",
        "df_final_customer_phones = df_final_customer_phones.withColumn(\"phone_number_1_json\", F.to_json(F.struct(\"phone_number_1_to_json\")))"
      ],
      "metadata": {
        "id": "kD3sk3WLlq5_"
      },
      "execution_count": null,
      "outputs": []
    },
    {
      "cell_type": "code",
      "source": [
        "df_final_customer_phones.count()"
      ],
      "metadata": {
        "colab": {
          "base_uri": "https://localhost:8080/"
        },
        "id": "2wB4PSFCngb1",
        "outputId": "cf71fa7e-4bb8-4e39-c9ef-a4367b9caa60"
      },
      "execution_count": null,
      "outputs": [
        {
          "output_type": "execute_result",
          "data": {
            "text/plain": [
              "1614"
            ]
          },
          "metadata": {},
          "execution_count": 199
        }
      ]
    },
    {
      "cell_type": "markdown",
      "source": [
        "## **JOIN TABLAS DE CONTACTOS (BBVAW2T1-33)**\n"
      ],
      "metadata": {
        "id": "fgoCy_EQrw__"
      }
    },
    {
      "cell_type": "code",
      "source": [
        "#cambiando el primer campo podemos hacer el join de las tres bases.\n",
        "df_final_customer_phones = df_final_customer_phones.withColumnRenamed('customer_id','customer_id_B')"
      ],
      "metadata": {
        "id": "AluiDXaOo6lE"
      },
      "execution_count": null,
      "outputs": []
    },
    {
      "cell_type": "code",
      "source": [
        "df_final = df_final_customer_phones.join(df_final_customer_email, df_final_customer_phones.customer_id_B == df_final_customer_email.customer_id, how = \"left\")\n",
        "df_final = df_final.drop(\"customer_id\")\n",
        "df_final = df_final.join(df_final_customer_address, df_final.customer_id_B == df_final_customer_address.customer_id, how = \"left\")\n",
        "df_final = df_final.drop(\"customer_id\")\n",
        "df_final = df_final.withColumnRenamed('customer_id_B','customer_id')"
      ],
      "metadata": {
        "id": "3IIUcbEPp1SA"
      },
      "execution_count": null,
      "outputs": []
    },
    {
      "cell_type": "code",
      "source": [
        "df_final.count()"
      ],
      "metadata": {
        "colab": {
          "base_uri": "https://localhost:8080/"
        },
        "id": "toqtlnSArlmi",
        "outputId": "724be41b-d697-4f34-e12a-3dee986637f5"
      },
      "execution_count": null,
      "outputs": [
        {
          "output_type": "execute_result",
          "data": {
            "text/plain": [
              "1614"
            ]
          },
          "metadata": {},
          "execution_count": 202
        }
      ]
    }
  ]
}