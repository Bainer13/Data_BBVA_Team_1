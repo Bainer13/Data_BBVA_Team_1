{
  "nbformat": 4,
  "nbformat_minor": 0,
  "metadata": {
    "colab": {
      "provenance": [],
      "authorship_tag": "ABX9TyN2GB1fFcHRm9FZ2XHtTJ//",
      "include_colab_link": true
    },
    "kernelspec": {
      "name": "python3",
      "display_name": "Python 3"
    },
    "language_info": {
      "name": "python"
    }
  },
  "cells": [
    {
      "cell_type": "markdown",
      "metadata": {
        "id": "view-in-github",
        "colab_type": "text"
      },
      "source": [
        "<a href=\"https://colab.research.google.com/github/Bainer13/Data_BBVA_Team_1/blob/main/Proyecto_bootcamp.ipynb\" target=\"_parent\"><img src=\"https://colab.research.google.com/assets/colab-badge.svg\" alt=\"Open In Colab\"/></a>"
      ]
    },
    {
      "cell_type": "markdown",
      "source": [
        "## **Armado del entorno de trabajo**\n",
        "\n"
      ],
      "metadata": {
        "id": "rjxwPMfNDgy9"
      }
    },
    {
      "cell_type": "code",
      "execution_count": null,
      "metadata": {
        "id": "lQy_QnsDh3CN"
      },
      "outputs": [],
      "source": [
        "!apt-get install openjdk-8-jdk-headless -qq > /dev/null\n"
      ]
    },
    {
      "cell_type": "code",
      "source": [
        "!wget -q https://dlcdn.apache.org/spark/spark-3.3.2/spark-3.3.2-bin-hadoop3.tgz"
      ],
      "metadata": {
        "id": "WxdDgoDQDwLC"
      },
      "execution_count": null,
      "outputs": []
    },
    {
      "cell_type": "code",
      "source": [
        "ls"
      ],
      "metadata": {
        "id": "zxQTw235Efnl",
        "colab": {
          "base_uri": "https://localhost:8080/"
        },
        "outputId": "0f11222f-dde8-4151-d59f-dc0fbeb0a50c"
      },
      "execution_count": null,
      "outputs": [
        {
          "output_type": "stream",
          "name": "stdout",
          "text": [
            "address_bootcamp.snappy.parquet          phones_bootcamp.snappy.parquet\n",
            "customer_basics_bootcamp.snappy.parquet  \u001b[0m\u001b[01;34msample_data\u001b[0m/\n",
            "emails_bootcamp.snappy.parquet           spark-3.3.2-bin-hadoop3.tgz\n"
          ]
        }
      ]
    },
    {
      "cell_type": "code",
      "source": [
        "!tar xf spark-3.3.2-bin-hadoop3.tgz"
      ],
      "metadata": {
        "id": "kTIS3_ExElWP"
      },
      "execution_count": null,
      "outputs": []
    },
    {
      "cell_type": "code",
      "source": [
        "!java -version"
      ],
      "metadata": {
        "id": "FCeYLe11EoA5",
        "colab": {
          "base_uri": "https://localhost:8080/"
        },
        "outputId": "0e6a0d4b-def7-43d6-8822-22bf2a0d053b"
      },
      "execution_count": null,
      "outputs": [
        {
          "output_type": "stream",
          "name": "stdout",
          "text": [
            "openjdk version \"11.0.18\" 2023-01-17\n",
            "OpenJDK Runtime Environment (build 11.0.18+10-post-Ubuntu-0ubuntu120.04.1)\n",
            "OpenJDK 64-Bit Server VM (build 11.0.18+10-post-Ubuntu-0ubuntu120.04.1, mixed mode, sharing)\n"
          ]
        }
      ]
    },
    {
      "cell_type": "code",
      "source": [
        "!readlink -f $(which java) | sed \"s:bin/java::\"\n"
      ],
      "metadata": {
        "id": "QnNvgsFKEvF0",
        "colab": {
          "base_uri": "https://localhost:8080/"
        },
        "outputId": "1069df17-e3d3-4960-d555-f1faa98cbe86"
      },
      "execution_count": null,
      "outputs": [
        {
          "output_type": "stream",
          "name": "stdout",
          "text": [
            "/usr/lib/jvm/java-11-openjdk-amd64/\n"
          ]
        }
      ]
    },
    {
      "cell_type": "code",
      "source": [
        "!echo $JAVA_HOME"
      ],
      "metadata": {
        "id": "EHoXgQb0EyH4",
        "colab": {
          "base_uri": "https://localhost:8080/"
        },
        "outputId": "77a4809a-48fa-4433-84d6-8a194888d8d2"
      },
      "execution_count": null,
      "outputs": [
        {
          "output_type": "stream",
          "name": "stdout",
          "text": [
            "\n"
          ]
        }
      ]
    },
    {
      "cell_type": "code",
      "source": [
        "!pip install -q findspark"
      ],
      "metadata": {
        "id": "xA6BrWOlEzwl"
      },
      "execution_count": null,
      "outputs": []
    },
    {
      "cell_type": "code",
      "source": [
        "!pip install pyspark "
      ],
      "metadata": {
        "id": "FWcYXxSfE-66",
        "colab": {
          "base_uri": "https://localhost:8080/"
        },
        "outputId": "cfe2c74a-1b9c-4173-8d02-c15d1c562fcc"
      },
      "execution_count": null,
      "outputs": [
        {
          "output_type": "stream",
          "name": "stdout",
          "text": [
            "Looking in indexes: https://pypi.org/simple, https://us-python.pkg.dev/colab-wheels/public/simple/\n",
            "Collecting pyspark\n",
            "  Downloading pyspark-3.3.2.tar.gz (281.4 MB)\n",
            "\u001b[2K     \u001b[90m━━━━━━━━━━━━━━━━━━━━━━━━━━━━━━━━━━━━━━━\u001b[0m \u001b[32m281.4/281.4 MB\u001b[0m \u001b[31m4.9 MB/s\u001b[0m eta \u001b[36m0:00:00\u001b[0m\n",
            "\u001b[?25h  Preparing metadata (setup.py) ... \u001b[?25l\u001b[?25hdone\n",
            "Collecting py4j==0.10.9.5\n",
            "  Downloading py4j-0.10.9.5-py2.py3-none-any.whl (199 kB)\n",
            "\u001b[2K     \u001b[90m━━━━━━━━━━━━━━━━━━━━━━━━━━━━━━━━━━━━━━\u001b[0m \u001b[32m199.7/199.7 KB\u001b[0m \u001b[31m26.0 MB/s\u001b[0m eta \u001b[36m0:00:00\u001b[0m\n",
            "\u001b[?25hBuilding wheels for collected packages: pyspark\n",
            "  Building wheel for pyspark (setup.py) ... \u001b[?25l\u001b[?25hdone\n",
            "  Created wheel for pyspark: filename=pyspark-3.3.2-py2.py3-none-any.whl size=281824028 sha256=778fb94af551c59246030c3c0d35353e9c51e6c0abf50804caa75d176bc38555\n",
            "  Stored in directory: /root/.cache/pip/wheels/6c/e3/9b/0525ce8a69478916513509d43693511463c6468db0de237c86\n",
            "Successfully built pyspark\n",
            "Installing collected packages: py4j, pyspark\n",
            "  Attempting uninstall: py4j\n",
            "    Found existing installation: py4j 0.10.9.7\n",
            "    Uninstalling py4j-0.10.9.7:\n",
            "      Successfully uninstalled py4j-0.10.9.7\n",
            "Successfully installed py4j-0.10.9.5 pyspark-3.3.2\n"
          ]
        }
      ]
    },
    {
      "cell_type": "code",
      "source": [
        "from pyspark.sql import SparkSession"
      ],
      "metadata": {
        "id": "RxVvKnuTFNAX"
      },
      "execution_count": null,
      "outputs": []
    },
    {
      "cell_type": "code",
      "source": [
        "import pyspark.sql.functions as F"
      ],
      "metadata": {
        "id": "8_ZZIDSki9dp"
      },
      "execution_count": null,
      "outputs": []
    },
    {
      "cell_type": "code",
      "source": [
        "import pandas as pd\n",
        "pd.set_option('display.max_rows', None)"
      ],
      "metadata": {
        "id": "ZpM3yHEfjaqZ"
      },
      "execution_count": null,
      "outputs": []
    },
    {
      "cell_type": "code",
      "source": [
        "from pyspark.sql.window import Window\n",
        "from pyspark.sql.functions import row_number\n",
        "from pyspark.sql.functions import col\n",
        "from pyspark.sql.functions import *\n",
        "from pyspark.sql.functions import lit\n",
        "from pyspark.sql.functions import coalesce, expr"
      ],
      "metadata": {
        "id": "n04j9qewV5Co"
      },
      "execution_count": null,
      "outputs": []
    },
    {
      "cell_type": "code",
      "source": [
        "spark = SparkSession.builder.getOrCreate()"
      ],
      "metadata": {
        "id": "K6zkngyXU8C2"
      },
      "execution_count": null,
      "outputs": []
    },
    {
      "cell_type": "code",
      "source": [
        "spark.conf.set('spark.sql.legacy.parquet.datetimeRebaseModeInRead', 'CORRECTED')"
      ],
      "metadata": {
        "id": "G6ICwe5mVXHZ"
      },
      "execution_count": null,
      "outputs": []
    },
    {
      "cell_type": "markdown",
      "source": [
        "## **Extraccion de datos**"
      ],
      "metadata": {
        "id": "M865_XBwVRTW"
      }
    },
    {
      "cell_type": "code",
      "source": [
        "#Lectura de parquets\n",
        "df_address = spark.read.parquet('/content/address_bootcamp.snappy.parquet')\n",
        "df_customer_basics = spark.read.parquet('/content/customer_basics_bootcamp.snappy.parquet')\n",
        "df_email = spark.read.parquet('/content/emails_bootcamp.snappy.parquet')\n",
        "df_phones = spark.read.parquet('/content/phones_bootcamp.snappy.parquet')\n",
        "df_nationality = spark.read.parquet('/content/nationality.snappy.parquet')\n",
        "df_marital_status_type = spark.read.parquet('/content/Marital status.snappy.parquet')"
      ],
      "metadata": {
        "id": "fjFFL9njVZyK"
      },
      "execution_count": null,
      "outputs": []
    },
    {
      "cell_type": "code",
      "source": [
        "df_phones.show()"
      ],
      "metadata": {
        "colab": {
          "base_uri": "https://localhost:8080/"
        },
        "id": "1TgM0OOQNLRc",
        "outputId": "6b6e7d27-ecb1-4f50-cdb0-799cd16b2258"
      },
      "execution_count": null,
      "outputs": [
        {
          "output_type": "stream",
          "name": "stdout",
          "text": [
            "+-----------+--------------+-------------------+-----------------+----------+----------------+---------------+-------------+-------------------+-----------------+-------------+--------------+---------------+-----------------------+------------------+---------------------+--------------------+----------+-----------+--------------------------+---------------------+--------------------+---------------------+----------------+-------------------------+-------------------------+------------------+-------------------+-----------------+--------------------+---------------------+-----------------------+----------------------+--------------------+----------------------+------------------------------+----------------------------+-------------------+----------------+----------------+-------------------+--------------------+-----------------------+---------------------+\n",
            "|customer_id|phone_use_type|address_sequence_id|phone_sequence_id|phone_type|phone_country_id|prefix_phone_id|phone_area_id|cellphone_prefix_id|phone_exchange_id|phone_line_id|      phone_id|phone_intern_id|aditional_info_txt_desc|primary_phone_type|address_sequence_type|   address_town_name|zipcode_id|province_id|customer_phone_status_type|phone_status_mod_date|contact_channel_type|sender_application_id|wrong_phone_type|normalization_status_type|normalization_reason_name|normalization_date|validity_start_date|validity_end_date|dlvy_day_monday_type|dlvy_day_tuesday_type|dlvy_day_wednesday_type|dlvy_day_thursday_type|dlvy_day_friday_type|dlvy_day_saturday_type|delivery_contact_start_hm_date|delivery_contact_end_hm_date|registry_entry_date|register_user_id|last_change_date|last_change_user_id|last_change_hms_date|last_change_terminal_id|operational_load_date|\n",
            "+-----------+--------------+-------------------+-----------------+----------+----------------+---------------+-------------+-------------------+-----------------+-------------+--------------+---------------+-----------------------+------------------+---------------------+--------------------+----------+-----------+--------------------------+---------------------+--------------------+---------------------+----------------+-------------------------+-------------------------+------------------+-------------------+-----------------+--------------------+---------------------+-----------------------+----------------------+--------------------+----------------------+------------------------------+----------------------------+-------------------+----------------+----------------+-------------------+--------------------+-----------------------+---------------------+\n",
            "|   29354201|            00|                  0|                1|         3|             080|             54|          385|                 15|              618|         8929|  696850618783|               |                       |                 N|                    N|                    |          |           |                 DECLARADO|           2022-06-24|                  01|                 CTES|                |                NORM OPER|                       NE|        2022-06-24|         1900-01-01|       1900-01-01|                    |                     |                       |                      |                    |                      |                      00:00:00|                    00:00:00|         2022-06-24|         A126810|      2022-06-24|            A126810|              085240|                   2429| 2022-11-30 00:42:...|\n",
            "|   29389432|            00|                  0|                1|         3|             080|             54|           11|                 15|             2550|         6187|  711931820675|               |                       |                 N|                    N|                    |          |           |                 DECLARADO|           2022-06-24|                  01|                 PVTA|                |                NORM AUTO|                  COPDTEL|        2022-06-24|         1900-01-01|       1900-01-01|                    |                     |                       |                      |                    |                      |                      00:00:00|                    00:00:00|         2022-06-24|        VW2CCON0|      2022-06-24|           VW2CCON0|              102004|                   PVTA| 2022-11-30 00:42:...|\n",
            "|   29382041|            01|                  0|                2|         1|             080|             54|          341|                   |              454|         3113|    3843676600|               |                       |                 N|                    N|                    |          |           |                 DECLARADO|           2022-06-24|                  01|                 CTES|                |                NORM AUTO|                  COPDTEL|        2022-06-24|         1900-01-01|       1900-01-01|                    |                     |                       |                      |                    |                      |                      00:00:00|                    00:00:00|         2022-06-24|         A126228|      2022-06-24|            A126228|              102436|                   Y2GK| 2022-11-30 00:42:...|\n",
            "|   07395331|            00|                  0|                2|         3|             080|             54|           11|                 15|             3017|         9680|  229013342402|               |                       |                 N|                    N|                    |          |           |                 DECLARADO|           2022-06-24|                  01|                 WKFL|                |                NORM AUTO|                  COPDTEL|        2022-06-24|         1900-01-01|       1900-01-01|                    |                     |                       |                      |                    |                      |                      00:00:00|                    00:00:00|         2022-06-24|         A118094|      2022-06-24|            A118094|              105750|                   P101| 2022-11-30 00:42:...|\n",
            "|   29349520|            00|                  0|                1|         3|             080|             54|           11|                 15|             4439|         4790|  589625269325|               |                       |                 N|                    N|                    |          |           |                 DECLARADO|           2022-06-24|                  01|                 CTES|                |                NORM AUTO|                   COPDTE|        2022-06-24|         1900-01-01|       1900-01-01|                    |                     |                       |                      |                    |                      |                      00:00:00|                    00:00:00|         2022-06-24|          A33643|      2022-06-24|             A33643|              105847|                   2305| 2022-11-30 00:42:...|\n",
            "|   29349520|            01|                  0|                2|         3|             080|             54|           11|                 15|             4439|         4790|  589625269325|               |                       |                 N|                    N|                    |          |           |                 DECLARADO|           2022-06-24|                  01|                 CTES|                |                NORM AUTO|                  COPDTEL|        2022-06-24|         1900-01-01|       1900-01-01|                    |                     |                       |                      |                    |                      |                      00:00:00|                    00:00:00|         2022-06-24|          A33643|      2022-06-24|             A33643|              105847|                   2305| 2022-11-30 00:42:...|\n",
            "|   29390571|            00|                  0|                1|         3|             080|             54|          388|                 15|              514|         3040|  888200805780|               |                       |                 N|                    N|SAN SALVADOR DE J...|     04600|         10|                 DECLARADO|           2022-06-24|                  01|                 CTES|                |                NORM AUTO|                   COPDTE|        2022-08-11|         1900-01-01|       1900-01-01|                    |                     |                       |                      |                    |                      |                      00:00:00|                    00:00:00|         2022-06-24|          A78911|      2022-08-11|            A115116|              092940|                   5159| 2022-11-30 00:42:...|\n",
            "|   29353393|            00|                  0|                1|         3|             080|             54|         3444|                 15|               52|         3887|  474148675676|               |                       |                 N|                    N|                    |          |           |                COMPROBADO|           2022-06-24|                  01|                 CTES|                |                NORM AUTO|                  COPDTEL|        2022-06-24|         1900-01-01|       1900-01-01|                    |                     |                       |                      |                    |                      |                      00:00:00|                    00:00:00|         2022-06-24|         A127353|      2022-06-26|           PCLUPCRT|              125515|                   OSMS| 2022-11-30 00:42:...|\n",
            "|   29387501|            01|                  0|                2|         1|             080|             54|         2317|                   |               43|         4879|    2546905684|               |                       |                 N|                    N|                    |          |           |                 DECLARADO|           2022-06-24|                  01|                 CTES|                |                NORM AUTO|                  COPDTEL|        2022-06-24|         1900-01-01|       1900-01-01|                    |                     |                       |                      |                    |                      |                      00:00:00|                    00:00:00|         2022-06-24|         A118960|      2022-06-24|            A118960|              163712|                   Y2IG| 2022-11-30 00:42:...|\n",
            "|   29391432|            05|                  0|                1|         3|             080|             54|           11|                 15|             5529|         1962|  673397682353|               |                     04|                 N|                    N|                    |          |           |                 DECLARADO|           2022-06-24|                  01|                 CTES|                |                NORM AUTO|                  COPDTEL|        2022-06-24|         2022-06-24|       1900-01-01|                    |                     |                       |                      |                    |                      |                      00:00:00|                    00:00:00|         2022-06-24|        GPROBANK|      2022-06-24|            PCLE20N|              180221|                   BATC| 2022-11-30 00:42:...|\n",
            "|   29390553|            00|                  0|                1|         3|             080|             54|          351|                 15|              256|         0268|  453595914089|               |                       |                 N|                    N|                    |          |           |                COMPROBADO|           2022-07-02|                  01|                 CTES|                |                NORM AUTO|                  COPDTEL|        2022-07-01|         1900-01-01|       1900-01-01|                    |                     |                       |                      |                    |                      |                      00:00:00|                    00:00:00|         2022-06-24|         A126703|      2022-07-02|               XATM|              164720|                   XATM| 2022-11-30 00:42:...|\n",
            "|   29389361|            00|                  0|                1|         3|             080|             54|           11|                 15|             5579|         2407|  478405248222|               |                       |                 N|                    N|                    |          |           |                 DECLARADO|           2022-06-25|                  01|                 PVTA|                |                NORM AUTO|                  COPDTEL|        2022-06-25|         1900-01-01|       1900-01-01|                    |                     |                       |                      |                    |                      |                      00:00:00|                    00:00:00|         2022-06-25|        VW2CCON0|      2022-06-25|           VW2CCON0|              021541|                   PVTA| 2022-11-30 00:42:...|\n",
            "|   29400313|            00|                  0|                1|         3|             080|             54|           11|                 15|             4030|         8325|  043683030098|               |                       |                 N|                    N|                    |          |           |                 DECLARADO|           2022-06-25|                  01|                 CTES|                |                NORM AUTO|                  COPDTEL|        2022-06-27|         1900-01-01|       1900-01-01|                    |                     |                       |                      |                    |                      |                      00:00:00|                    00:00:00|         2022-06-25|        GPROBANK|      2022-06-27|           GPROBANK|              152322|                   LWBE| 2022-11-30 00:42:...|\n",
            "|   29401025|            00|                  0|                1|         3|             080|             54|           11|                 15|             2288|         8738|  008725729120|               |                       |                 N|                    N|                    |          |           |                COMPROBADO|           2022-06-26|                  01|                 PVTA|                |                NORM AUTO|                  COPDTEL|        2022-06-26|         1900-01-01|       1900-01-01|                    |                     |                       |                      |                    |                      |                      00:00:00|                    00:00:00|         2022-06-26|        VW2CCON0|      2022-07-12|           PCLUPCRT|              215455|                   OSMS| 2022-11-30 00:42:...|\n",
            "|   29401299|            00|                  0|                1|         3|             080|             54|         0011|                 15|             6761|         8843|09893903230068|               |                       |                 N|                    N|                    |          |           |                 DECLARADO|           2022-06-27|                  01|                 CTES|                |                         |                         |        1900-01-01|         1900-01-01|       1900-01-01|                    |                     |                       |                      |                    |                      |                      00:00:00|                    00:00:00|         2022-06-27|        GPROBANK|      2022-06-27|           GPROBANK|              184500|                   LWAW| 2022-11-30 00:42:...|\n",
            "|   29325999|            00|                  0|                2|         3|             080|             54|          342|                 15|              479|         9696|  466813319125|               |                       |                 N|                    N|                    |          |           |                 DECLARADO|           2022-06-26|                  01|                 PVTA|                |                NORM AUTO|                  COPDTEL|        2022-06-26|         1900-01-01|       1900-01-01|                    |                     |                       |                      |                    |                      |                      00:00:00|                    00:00:00|         2022-06-26|        VW2CCON0|      2022-06-26|           VW2CCON0|              222823|                   PVTA| 2022-11-30 00:42:...|\n",
            "|   29402665|            00|                  0|                1|         3|             080|             54|         3564|                 15|               33|         7284|  443220384448|               |                       |                 N|                    N|       SAN FRANCISCO|     02400|         04|                 DECLARADO|           2022-06-27|                  01|                 CTES|                |                NORM AUTO|                   COPDTE|        2022-06-27|         1900-01-01|       1900-01-01|                    |                     |                       |                      |                    |                      |                      00:00:00|                    00:00:00|         2022-06-27|         A116108|      2022-06-27|            A116108|              124517|                   6104| 2022-11-30 00:42:...|\n",
            "|   29402665|            00|                  0|                2|         3|             080|             54|         3564|                 15|               33|         3190|  538542198741|               |                       |                 N|                    N|                    |          |           |                 DECLARADO|           2022-06-27|                  01|                 CTES|                |                NORM AUTO|                  COPDTEL|        2022-06-27|         1900-01-01|       1900-01-01|                    |                     |                       |                      |                    |                      |                      00:00:00|                    00:00:00|         2022-06-27|         A116108|      2022-06-27|            A116108|              124517|                   6104| 2022-11-30 00:42:...|\n",
            "|   29375587|            00|                  0|                1|         3|             080|             54|          221|                 15|              692|         9792|  061269423380|               |                       |                 N|                    N|                    |          |           |                COMPROBADO|           2022-10-03|                  01|                 CTES|                |                NORM AUTO|                     COSM|        2022-10-03|         1900-01-01|       1900-01-01|                    |                     |                       |                      |                    |                      |                      00:00:00|                    00:00:00|         2022-10-03|         A127599|      2022-10-03|           PCLUPCRT|              132855|                   OSMS| 2022-11-30 00:42:...|\n",
            "|   29375587|            01|                  0|                2|         1|             080|             54|          221|                   |              425|         9227|    7885170733|               |                       |                 N|                    N|                    |          |           |                  VALIDADO|           2022-10-03|                  01|                 CTES|                |                NORM AUTO|                  COPDTEL|        2022-07-01|         1900-01-01|       1900-01-01|                    |                     |                       |                      |                    |                      |                      00:00:00|                    00:00:00|         2022-06-27|         A118978|      2022-10-03|            A127599|              122731|                   9330| 2022-11-30 00:42:...|\n",
            "+-----------+--------------+-------------------+-----------------+----------+----------------+---------------+-------------+-------------------+-----------------+-------------+--------------+---------------+-----------------------+------------------+---------------------+--------------------+----------+-----------+--------------------------+---------------------+--------------------+---------------------+----------------+-------------------------+-------------------------+------------------+-------------------+-----------------+--------------------+---------------------+-----------------------+----------------------+--------------------+----------------------+------------------------------+----------------------------+-------------------+----------------+----------------+-------------------+--------------------+-----------------------+---------------------+\n",
            "only showing top 20 rows\n",
            "\n"
          ]
        }
      ]
    },
    {
      "cell_type": "markdown",
      "source": [
        "## **JOINS ENTRE TABLAS (BBVAW2T1-24/25/26)**"
      ],
      "metadata": {
        "id": "AGFIYagTc8wg"
      }
    },
    {
      "cell_type": "code",
      "source": [
        "#Cambio formato de columna\n",
        "df_phones = df_phones.withColumn(\"phone_area_id\", F.col(\"phone_area_id\").cast(\"integer\"))\n",
        "df_phones = df_phones.withColumn(\"phone_number\", F.concat(F.lit(\"+\"), F.col(\"prefix_phone_id\"), F.lit(\" \"), F.col(\"phone_area_id\"), F.lit(\" \"), F.col(\"cellphone_prefix_id\"), F.lit(\" \"), F.col(\"phone_exchange_id\"), F.col(\"phone_line_id\")))"
      ],
      "metadata": {
        "id": "HOVugXbXZKkM"
      },
      "execution_count": null,
      "outputs": []
    },
    {
      "cell_type": "code",
      "source": [
        "#Join entre clientes y telefonos\n",
        "df_customer_basics_phones = df_customer_basics.join(df_phones, ['customer_id'], how='left').select(df_customer_basics.customer_id, df_phones.phone_type, df_phones.phone_number, df_phones.last_change_date)\n",
        "df_customer_basics_phones.sort(F.asc(\"customer_id\")).show(10)"
      ],
      "metadata": {
        "id": "OjHiWM7KdTXb",
        "colab": {
          "base_uri": "https://localhost:8080/"
        },
        "outputId": "d82c2ccd-5f1a-4bbc-c805-32875fb66601"
      },
      "execution_count": null,
      "outputs": [
        {
          "output_type": "stream",
          "name": "stdout",
          "text": [
            "+-----------+----------+-------------------+----------------+\n",
            "|customer_id|phone_type|       phone_number|last_change_date|\n",
            "+-----------+----------+-------------------+----------------+\n",
            "|   00000442|         3| +54 297 15 5296284|      2022-07-20|\n",
            "|   00000442|         3| +54 297 15 4729337|      2022-07-20|\n",
            "|   00001419|         3| +54 11 15 66793207|      2022-11-01|\n",
            "|   00001939|         3| +54 11 15 38700150|      2022-09-21|\n",
            "|   00002575|      null|               null|            null|\n",
            "|   00002707|         1|   +54 299  4477116|      2022-08-17|\n",
            "|   00002790|         3| +54 342 15 4662478|      2022-11-18|\n",
            "|   00002790|         1|   +54 342  4883620|      2022-10-08|\n",
            "|   00004287|         3|+54 3541 15 5988799|      2022-08-29|\n",
            "|   00004724|         3| +54 11 15 24084447|      2022-11-04|\n",
            "+-----------+----------+-------------------+----------------+\n",
            "only showing top 10 rows\n",
            "\n"
          ]
        }
      ]
    },
    {
      "cell_type": "code",
      "source": [
        "#Join entre clientes e email\n",
        "df_customer_basics_email = df_customer_basics.join(df_email,['customer_id'], how='left').select(df_customer_basics.customer_id, df_email.email_desc, df_email.last_change_date)\n",
        "df_customer_basics_email.show()"
      ],
      "metadata": {
        "id": "B_17ljUR0BOM",
        "colab": {
          "base_uri": "https://localhost:8080/"
        },
        "outputId": "9d1618ac-6188-4542-ccd4-48f3c8281c2b"
      },
      "execution_count": null,
      "outputs": [
        {
          "output_type": "stream",
          "name": "stdout",
          "text": [
            "+-----------+--------------------+----------------+\n",
            "|customer_id|          email_desc|last_change_date|\n",
            "+-----------+--------------------+----------------+\n",
            "|   07867437|                null|            null|\n",
            "|   06813266|                null|            null|\n",
            "|   29604216|                null|            null|\n",
            "|   28028529|                null|            null|\n",
            "|   28366580|                null|            null|\n",
            "|   02746969|                null|            null|\n",
            "|   23441482|                null|            null|\n",
            "|   23610540|                null|            null|\n",
            "|   25935956|                null|            null|\n",
            "|   25848977|                null|            null|\n",
            "|   01957163|                null|            null|\n",
            "|   06338965|                null|            null|\n",
            "|   29676364|                null|            null|\n",
            "|   26205399|   DIONISI@YAHOO.COM|      2019-12-27|\n",
            "|   03933825|DIGITALIZACION@EE...|      1900-01-01|\n",
            "|   29416245|                null|            null|\n",
            "|   29497813|                null|            null|\n",
            "|   02568856|                null|            null|\n",
            "|   29681573|                null|            null|\n",
            "|   04348412|                null|            null|\n",
            "+-----------+--------------------+----------------+\n",
            "only showing top 20 rows\n",
            "\n"
          ]
        }
      ]
    },
    {
      "cell_type": "code",
      "source": [
        "df_address = df_address.withColumn(\"full_address\", F.concat(F.col(\"street_name\"), F.lit(\" \"), F.concat(F.col(\"address_outdoor_id\"), F.lit(\" \"), F.col(\"address_indoor_id\"), F.lit(\" \"), F.col(\"indoor_number\"), F.col(\"address_town_name\"), F.lit(\" \"), F.col(\"address_department_name\"), F.lit(\" \"), F.col(\"zipcode_id\"))))"
      ],
      "metadata": {
        "id": "eTM6Uz5bduvy"
      },
      "execution_count": null,
      "outputs": []
    },
    {
      "cell_type": "code",
      "source": [
        "#join entre clientes y direccion\n",
        "df_customer_basics_address = df_customer_basics.join(df_address,['customer_id'], how='left').select(df_customer_basics.customer_id, 'full_address', df_address.last_change_date)\n",
        "df_customer_basics_address.show()"
      ],
      "metadata": {
        "id": "FcAhH0c70Yxa",
        "colab": {
          "base_uri": "https://localhost:8080/"
        },
        "outputId": "1f067b2d-20d3-4af9-bfa5-9b35b9558a3e"
      },
      "execution_count": null,
      "outputs": [
        {
          "output_type": "stream",
          "name": "stdout",
          "text": [
            "+-----------+--------------------+----------------+\n",
            "|customer_id|        full_address|last_change_date|\n",
            "+-----------+--------------------+----------------+\n",
            "|   07867437|ALTE FRANCISCO SE...|      2009-01-26|\n",
            "|   06813266|EL TORDO         ...|      2009-01-26|\n",
            "|   29604216|                null|            null|\n",
            "|   28028529|AMENEDO          ...|      2009-01-26|\n",
            "|   28366580|INCA AAA         ...|            null|\n",
            "|   28366580|INCA             ...|      2011-07-01|\n",
            "|   02746969|MERCEDES         ...|      2009-01-26|\n",
            "|   23441482|AV 39            ...|      2011-07-01|\n",
            "|   23610540|                null|            null|\n",
            "|   25935956|AV FERNANDEZ DE L...|      2009-01-26|\n",
            "|   25848977|                null|            null|\n",
            "|   01957163|JOSE M DE MINOGUY...|      2009-01-26|\n",
            "|   06338965|MADERO DR FRANCIS...|      2009-01-26|\n",
            "|   29676364|                null|            null|\n",
            "|   26205399|SUIPACHA         ...|      2009-01-26|\n",
            "|   03933825|HENRY DUNANT     ...|      2009-01-26|\n",
            "|   29416245|                null|            null|\n",
            "|   29497813|                null|            null|\n",
            "|   02568856|CLAUDIO MAMERTO C...|      2009-01-26|\n",
            "|   29681573|                null|            null|\n",
            "+-----------+--------------------+----------------+\n",
            "only showing top 20 rows\n",
            "\n"
          ]
        }
      ]
    },
    {
      "cell_type": "markdown",
      "source": [
        "## **FILTRADO Y REDUCCION DE DATOS --> PHONES (BBVAW2T1-27/61)**"
      ],
      "metadata": {
        "id": "YlsY5lSo9xK6"
      }
    },
    {
      "cell_type": "code",
      "source": [
        "#Hago una ventana por el customer_id y ordenado por la ultima actualizacion \n",
        "w = Window.partitionBy(df_customer_basics_phones['customer_id']).orderBy(\"last_change_date\")"
      ],
      "metadata": {
        "id": "xcpJjItfdTjJ"
      },
      "execution_count": null,
      "outputs": []
    },
    {
      "cell_type": "code",
      "source": [
        "#Agrego columna que cuente la cantidad de veces que se repite el ID\n",
        "df_customer_basics_phones = df_customer_basics_phones.withColumn(\"row_num\", row_number().over(w))"
      ],
      "metadata": {
        "id": "HDQPycVraAQm"
      },
      "execution_count": null,
      "outputs": []
    },
    {
      "cell_type": "code",
      "source": [
        "#Corto el dataframe quedandome con las ultimas 3 actualizaciones\n",
        "df_customer_basics_phones = df_customer_basics_phones.filter(col(\"row_num\") <= 3)"
      ],
      "metadata": {
        "id": "n3oRV3gLaAZX"
      },
      "execution_count": null,
      "outputs": []
    },
    {
      "cell_type": "code",
      "source": [
        "#Reacomodo la tabla con las columnas de interes y concatenando una nueva\n",
        "df_customer_basics_phones = df_customer_basics_phones.select('customer_id', 'phone_type', 'phone_number', 'row_num')\n",
        "df_customer_basics_phones.show(10)"
      ],
      "metadata": {
        "id": "ZLGGCQVYI6aI",
        "colab": {
          "base_uri": "https://localhost:8080/"
        },
        "outputId": "25fd2963-a145-4dea-a5ec-947f501526da"
      },
      "execution_count": null,
      "outputs": [
        {
          "output_type": "stream",
          "name": "stdout",
          "text": [
            "+-----------+----------+-------------------+-------+\n",
            "|customer_id|phone_type|       phone_number|row_num|\n",
            "+-----------+----------+-------------------+-------+\n",
            "|   00000442|         3| +54 297 15 5296284|      1|\n",
            "|   00000442|         3| +54 297 15 4729337|      2|\n",
            "|   00001419|         3| +54 11 15 66793207|      1|\n",
            "|   00001939|         3| +54 11 15 38700150|      1|\n",
            "|   00002575|      null|               null|      1|\n",
            "|   00002707|         1|   +54 299  4477116|      1|\n",
            "|   00002790|         1|   +54 342  4883620|      1|\n",
            "|   00002790|         3| +54 342 15 4662478|      2|\n",
            "|   00004287|         3|+54 3541 15 5988799|      1|\n",
            "|   00004724|         3| +54 11 15 24084447|      1|\n",
            "+-----------+----------+-------------------+-------+\n",
            "only showing top 10 rows\n",
            "\n"
          ]
        }
      ]
    },
    {
      "cell_type": "code",
      "source": [
        "#creo una funcion pivot para una columna especificada y cambiarle el nombre a las nuevas.   \n",
        "df_final_customer_phones = df_customer_basics_phones.groupBy(\"customer_id\").pivot(\"row_num\").agg(first('phone_number'))\n",
        "df_final_customer_phones = df_final_customer_phones.withColumnRenamed(\"1\", 'phone_number' + \"_1\") \\\n",
        "       .withColumnRenamed(\"2\", 'phone_number' + \"_2\") \\\n",
        "       .withColumnRenamed(\"3\", 'phone_number' + \"_3\") "
      ],
      "metadata": {
        "id": "fLvYs7w8dn7-"
      },
      "execution_count": null,
      "outputs": []
    },
    {
      "cell_type": "code",
      "source": [
        "df_final_customer_phones.show()"
      ],
      "metadata": {
        "colab": {
          "base_uri": "https://localhost:8080/"
        },
        "id": "H45q3mKIf1Qz",
        "outputId": "fa5f7ef4-3dee-43e3-b53e-ddc7c2c3d702"
      },
      "execution_count": null,
      "outputs": [
        {
          "output_type": "stream",
          "name": "stdout",
          "text": [
            "+-----------+-------------------+------------------+--------------+\n",
            "|customer_id|     phone_number_1|    phone_number_2|phone_number_3|\n",
            "+-----------+-------------------+------------------+--------------+\n",
            "|   00000442| +54 297 15 5296284|+54 297 15 4729337|          null|\n",
            "|   00001419| +54 11 15 66793207|              null|          null|\n",
            "|   00001939| +54 11 15 38700150|              null|          null|\n",
            "|   00002575|               null|              null|          null|\n",
            "|   00002707|   +54 299  4477116|              null|          null|\n",
            "|   00002790|   +54 342  4883620|+54 342 15 4662478|          null|\n",
            "|   00004287|+54 3541 15 5988799|              null|          null|\n",
            "|   00004724| +54 11 15 24084447|              null|          null|\n",
            "|   00007932| +54 385 15 4065887|              null|          null|\n",
            "|   00011850| +54 11 15 25781080|+54 3489 15 493578|          null|\n",
            "|   00012051| +54 3401 15 534381|              null|          null|\n",
            "|   00012611|   +54 11  43443165|+54 11 15 61141855|          null|\n",
            "|   00012991|               null|              null|          null|\n",
            "|   00013498| +54 221 15 6208511|              null|          null|\n",
            "|   00014664| +54 11 15 65050605|              null|          null|\n",
            "|   00015497| +54 11 15 51052460|              null|          null|\n",
            "|   00051576| +54 11 15 26531080|              null|          null|\n",
            "|   00053993| +54 3718 15 466655|              null|          null|\n",
            "|   00056407| +54 336 15 4577255|              null|          null|\n",
            "|   00056947| +54 297 15 4301718|+54 297 15 4577276|          null|\n",
            "+-----------+-------------------+------------------+--------------+\n",
            "only showing top 20 rows\n",
            "\n"
          ]
        }
      ]
    },
    {
      "cell_type": "markdown",
      "source": [
        "## **FILTRADO Y REDUCCION DE DATOS --> ADDRESS (BBVAW2T1-28)**"
      ],
      "metadata": {
        "id": "ZfzFJajcCiQD"
      }
    },
    {
      "cell_type": "code",
      "source": [
        "#Hago una ventana por el customer_id y ordenado por la ultima actualizacion \n",
        "w = Window.partitionBy(df_customer_basics_address['customer_id']).orderBy(\"last_change_date\")"
      ],
      "metadata": {
        "id": "pxkks_YiUH5a"
      },
      "execution_count": null,
      "outputs": []
    },
    {
      "cell_type": "code",
      "source": [
        "#Agrego columna que cuente la cantidad de veces que se repite el ID\n",
        "df_customer_basics_address = df_customer_basics_address.withColumn(\"row_num\", row_number().over(w))"
      ],
      "metadata": {
        "id": "Re5F4bZzUH5a"
      },
      "execution_count": null,
      "outputs": []
    },
    {
      "cell_type": "code",
      "source": [
        "#Corto el dataframe quedandome con las ultimas 3 actualizaciones\n",
        "df_customer_basics_address = df_customer_basics_address.filter(col(\"row_num\") <= 3)"
      ],
      "metadata": {
        "id": "B3I6KV-zUH5b"
      },
      "execution_count": null,
      "outputs": []
    },
    {
      "cell_type": "code",
      "source": [
        "#Reacomodo la tabla con las columnas de interes.\n",
        "df_customer_basics_address = df_customer_basics_address.select('customer_id', 'full_address', 'row_num')\n",
        "df_customer_basics_address.show(10)"
      ],
      "metadata": {
        "id": "XHkQtwHzSsMm",
        "colab": {
          "base_uri": "https://localhost:8080/"
        },
        "outputId": "0647daa4-5847-4dc8-ff73-63949cbd1955"
      },
      "execution_count": null,
      "outputs": [
        {
          "output_type": "stream",
          "name": "stdout",
          "text": [
            "+-----------+--------------------+-------+\n",
            "|customer_id|        full_address|row_num|\n",
            "+-----------+--------------------+-------+\n",
            "|   00000442|AGUERO           ...|      1|\n",
            "|   00001419|ALTE G BROWN     ...|      1|\n",
            "|   00001939|JOSE HERNANDEZ   ...|      1|\n",
            "|   00002575|                null|      1|\n",
            "|   00002707|GUATEMALA        ...|      1|\n",
            "|   00002790|AV CORDOBA       ...|      1|\n",
            "|   00004287|CNEL DE MARINA RO...|      1|\n",
            "|   00004724|PJE MUTUALISMO   ...|      1|\n",
            "|   00007932|AV FELIX DE OLAZA...|      1|\n",
            "|   00011850|JUNCAL           ...|      1|\n",
            "+-----------+--------------------+-------+\n",
            "only showing top 10 rows\n",
            "\n"
          ]
        }
      ]
    },
    {
      "cell_type": "code",
      "source": [
        "#creo una funcion pivot para una columna especificada y cambiarle el nombre a las nuevas.\n",
        "  \n",
        "df_final_customer_address = df_customer_basics_address.groupBy(\"customer_id\").pivot(\"row_num\").agg(first('full_address'))\n",
        "df_final_customer_address = df_final_customer_address.withColumnRenamed(\"1\", 'full_address' + \"_1\") \\\n",
        "       .withColumnRenamed(\"2\", 'full_address' + \"_2\") \\\n",
        "       .withColumnRenamed(\"3\", 'full_address' + \"_3\")"
      ],
      "metadata": {
        "id": "OhwYHQvxWu0b"
      },
      "execution_count": null,
      "outputs": []
    },
    {
      "cell_type": "code",
      "source": [
        "df_final_customer_address.show()"
      ],
      "metadata": {
        "colab": {
          "base_uri": "https://localhost:8080/"
        },
        "id": "u8fvY10hWu9F",
        "outputId": "9c1538dd-5e16-419f-c730-344bfd474783"
      },
      "execution_count": null,
      "outputs": [
        {
          "output_type": "stream",
          "name": "stdout",
          "text": [
            "+-----------+--------------------+--------------+--------------+\n",
            "|customer_id|      full_address_1|full_address_2|full_address_3|\n",
            "+-----------+--------------------+--------------+--------------+\n",
            "|   00000442|AGUERO           ...|          null|          null|\n",
            "|   00001419|ALTE G BROWN     ...|          null|          null|\n",
            "|   00001939|JOSE HERNANDEZ   ...|          null|          null|\n",
            "|   00002575|                null|          null|          null|\n",
            "|   00002707|GUATEMALA        ...|          null|          null|\n",
            "|   00002790|AV CORDOBA       ...|          null|          null|\n",
            "|   00004287|CNEL DE MARINA RO...|          null|          null|\n",
            "|   00004724|PJE MUTUALISMO   ...|          null|          null|\n",
            "|   00007932|AV FELIX DE OLAZA...|          null|          null|\n",
            "|   00011850|JUNCAL           ...|          null|          null|\n",
            "|   00012051|AV GRAL JOSE MARI...|          null|          null|\n",
            "|   00012611|ALBERTO LARROQUE ...|          null|          null|\n",
            "|   00012991|                null|          null|          null|\n",
            "|   00013498|AV PTE H YRIGOYEN...|          null|          null|\n",
            "|   00014664|AV TRIUNVIRATO   ...|          null|          null|\n",
            "|   00015497|VUELTA DE OBLIGAD...|          null|          null|\n",
            "|   00051576|ING GUILLERMO MAR...|          null|          null|\n",
            "|   00053993|CALLE 899        ...|          null|          null|\n",
            "|   00056407|AV DR J BAUTISTA ...|          null|          null|\n",
            "|   00056947|AV 25 DE MAYO    ...|          null|          null|\n",
            "+-----------+--------------------+--------------+--------------+\n",
            "only showing top 20 rows\n",
            "\n"
          ]
        }
      ]
    },
    {
      "cell_type": "markdown",
      "source": [
        "## **FILTRADO Y REDUCCION DE DATOS --> EMAILS (BBVAW2T1-29)**"
      ],
      "metadata": {
        "id": "y6RECo3H_Ccw"
      }
    },
    {
      "cell_type": "code",
      "source": [
        "#Filtrado y reduccion de datos --> EMAILS\n",
        "w = Window.partitionBy(df_customer_basics_email['customer_id']).orderBy(\"last_change_date\")"
      ],
      "metadata": {
        "id": "_kCYhMHpd3wJ"
      },
      "execution_count": null,
      "outputs": []
    },
    {
      "cell_type": "code",
      "source": [
        "df_customer_basics_email = df_customer_basics_email.withColumn(\"row_num\", row_number().over(w))"
      ],
      "metadata": {
        "id": "YdI72Ndsd3wK"
      },
      "execution_count": null,
      "outputs": []
    },
    {
      "cell_type": "code",
      "source": [
        "df_customer_basics_email = df_customer_basics_email.filter(col(\"row_num\") <= 3)"
      ],
      "metadata": {
        "id": "CthW4hv1d3wK"
      },
      "execution_count": null,
      "outputs": []
    },
    {
      "cell_type": "code",
      "source": [
        "df_customer_basics_email.show(10)"
      ],
      "metadata": {
        "id": "s2B32O57d3wK",
        "colab": {
          "base_uri": "https://localhost:8080/"
        },
        "outputId": "5cade119-1d28-4c7b-d5ea-f6ddd7860146"
      },
      "execution_count": null,
      "outputs": [
        {
          "output_type": "stream",
          "name": "stdout",
          "text": [
            "+-----------+--------------------+----------------+-------+\n",
            "|customer_id|          email_desc|last_change_date|row_num|\n",
            "+-----------+--------------------+----------------+-------+\n",
            "|   00000442|                null|            null|      1|\n",
            "|   00001419|EMILIA.RUBIANES@H...|      2015-10-08|      1|\n",
            "|   00001419|  JU_LY1@HOTMAIL.COM|      2019-05-11|      2|\n",
            "|   00001939|                null|            null|      1|\n",
            "|   00002575|                null|            null|      1|\n",
            "|   00002707|                null|            null|      1|\n",
            "|   00002790|DIGITALIZACION@EE...|      1900-01-01|      1|\n",
            "|   00002790| NOTIENE@HOIMAIL.COM|      2019-07-29|      2|\n",
            "|   00004287|                null|            null|      1|\n",
            "|   00004724|                null|            null|      1|\n",
            "+-----------+--------------------+----------------+-------+\n",
            "only showing top 10 rows\n",
            "\n"
          ]
        }
      ]
    },
    {
      "cell_type": "code",
      "source": [
        "#Hago primer pivot para dejar una fila por ID y tener cada email en columnas separadas\n",
        "df_final_customer_email = df_customer_basics_email.groupBy(\"customer_id\").pivot(\"row_num\").agg(first(\"email_desc\"))\n",
        "df_final_customer_email = df_final_customer_email.withColumnRenamed(\"1\", \"email_1\") \\\n",
        "       .withColumnRenamed(\"2\", \"email_2\") \\\n",
        "       .withColumnRenamed(\"3\", \"email_3\")\n",
        "df_final_customer_email.show()"
      ],
      "metadata": {
        "id": "eV1XYnSB_Yj_",
        "colab": {
          "base_uri": "https://localhost:8080/"
        },
        "outputId": "3b5bd9fa-c05e-4bd2-8d94-556e217a13f6"
      },
      "execution_count": null,
      "outputs": [
        {
          "output_type": "stream",
          "name": "stdout",
          "text": [
            "+-----------+--------------------+-------------------+-------+\n",
            "|customer_id|             email_1|            email_2|email_3|\n",
            "+-----------+--------------------+-------------------+-------+\n",
            "|   00000442|                null|               null|   null|\n",
            "|   00001419|EMILIA.RUBIANES@H...| JU_LY1@HOTMAIL.COM|   null|\n",
            "|   00001939|                null|               null|   null|\n",
            "|   00002575|                null|               null|   null|\n",
            "|   00002707|                null|               null|   null|\n",
            "|   00002790|DIGITALIZACION@EE...|NOTIENE@HOIMAIL.COM|   null|\n",
            "|   00004287|                null|               null|   null|\n",
            "|   00004724|                null|               null|   null|\n",
            "|   00007932|                null|               null|   null|\n",
            "|   00011850|                null|               null|   null|\n",
            "|   00012051|                null|               null|   null|\n",
            "|   00012611|                null|               null|   null|\n",
            "|   00012991|                null|               null|   null|\n",
            "|   00013498|                null|               null|   null|\n",
            "|   00014664|   alq@ciudad.com.ar|               null|   null|\n",
            "|   00015497|                null|               null|   null|\n",
            "|   00051576|                null|               null|   null|\n",
            "|   00053993|                null|               null|   null|\n",
            "|   00056407|NELLY.S.GEREZ@GMA...|               null|   null|\n",
            "|   00056947|                null|               null|   null|\n",
            "+-----------+--------------------+-------------------+-------+\n",
            "only showing top 20 rows\n",
            "\n"
          ]
        }
      ]
    },
    {
      "cell_type": "markdown",
      "source": [
        "## **AGREGAR COLUMNA CONTACT TYPE A LOS DATAFRAME (BBVAW2T1-30)**"
      ],
      "metadata": {
        "id": "hnl4rCVlIqws"
      }
    },
    {
      "cell_type": "code",
      "source": [
        "df_final_customer_address = df_final_customer_address.withColumn(\"Contact_type\", lit('Address'))\n",
        "df_final_customer_email = df_final_customer_email.withColumn(\"Contact_type\", lit('Email'))\n",
        "df_final_customer_phones = df_final_customer_phones.withColumn(\"Contact_type\", lit('Phone'))"
      ],
      "metadata": {
        "id": "oEES11OpIukc"
      },
      "execution_count": null,
      "outputs": []
    },
    {
      "cell_type": "code",
      "source": [
        "#Reemplazo los valores en Tipo de Contacto que son null\n",
        "df_final_customer_address = df_final_customer_address.withColumn(\"Contact_type\", F.when(F.col(\"full_address_1\").isNull(), F.lit(\" \")).otherwise(F.lit(\"address\")))\n",
        "df_final_customer_phones = df_final_customer_phones.withColumn(\"Contact_type\", F.when(F.col(\"phone_number_1\").isNull(), F.lit(\" \")).otherwise(F.lit(\"phone\")))\n",
        "df_final_customer_email = df_final_customer_email.withColumn(\"Contact_type\", F.when(F.col(\"email_1\").isNull(), F.lit(\" \")).otherwise(F.lit(\"email\")))"
      ],
      "metadata": {
        "id": "kyHteyt2ivmj"
      },
      "execution_count": null,
      "outputs": []
    },
    {
      "cell_type": "code",
      "source": [
        "df_final_customer_address.show()"
      ],
      "metadata": {
        "colab": {
          "base_uri": "https://localhost:8080/"
        },
        "id": "J7C-0cLML8Fj",
        "outputId": "79c04fff-0ae2-4c2b-f5df-24d91d9ebbe6"
      },
      "execution_count": null,
      "outputs": [
        {
          "output_type": "stream",
          "name": "stdout",
          "text": [
            "+-----------+--------------------+--------------+--------------+------------+\n",
            "|customer_id|      full_address_1|full_address_2|full_address_3|Contact_type|\n",
            "+-----------+--------------------+--------------+--------------+------------+\n",
            "|   00000442|AGUERO           ...|          null|          null|     address|\n",
            "|   00001419|ALTE G BROWN     ...|          null|          null|     address|\n",
            "|   00001939|JOSE HERNANDEZ   ...|          null|          null|     address|\n",
            "|   00002575|                null|          null|          null|            |\n",
            "|   00002707|GUATEMALA        ...|          null|          null|     address|\n",
            "|   00002790|AV CORDOBA       ...|          null|          null|     address|\n",
            "|   00004287|CNEL DE MARINA RO...|          null|          null|     address|\n",
            "|   00004724|PJE MUTUALISMO   ...|          null|          null|     address|\n",
            "|   00007932|AV FELIX DE OLAZA...|          null|          null|     address|\n",
            "|   00011850|JUNCAL           ...|          null|          null|     address|\n",
            "|   00012051|AV GRAL JOSE MARI...|          null|          null|     address|\n",
            "|   00012611|ALBERTO LARROQUE ...|          null|          null|     address|\n",
            "|   00012991|                null|          null|          null|            |\n",
            "|   00013498|AV PTE H YRIGOYEN...|          null|          null|     address|\n",
            "|   00014664|AV TRIUNVIRATO   ...|          null|          null|     address|\n",
            "|   00015497|VUELTA DE OBLIGAD...|          null|          null|     address|\n",
            "|   00051576|ING GUILLERMO MAR...|          null|          null|     address|\n",
            "|   00053993|CALLE 899        ...|          null|          null|     address|\n",
            "|   00056407|AV DR J BAUTISTA ...|          null|          null|     address|\n",
            "|   00056947|AV 25 DE MAYO    ...|          null|          null|     address|\n",
            "+-----------+--------------------+--------------+--------------+------------+\n",
            "only showing top 20 rows\n",
            "\n"
          ]
        }
      ]
    },
    {
      "cell_type": "code",
      "source": [],
      "metadata": {
        "id": "cmTw0F8ocSuQ"
      },
      "execution_count": null,
      "outputs": []
    },
    {
      "cell_type": "markdown",
      "source": [
        "## **AGREGAR COLUMNA DE JSON A TELEFONO (BBVAW2T1-31)**"
      ],
      "metadata": {
        "id": "iBaj_HxMlneH"
      }
    },
    {
      "cell_type": "code",
      "source": [
        "df_final_customer_phones = df_final_customer_phones.withColumn(\"phone_number_1_to_json\", F.when(F.col(\"phone_number_1\").isNull(), F.lit(\"sin_dato\")).otherwise(F.col(\"phone_number_1\")))\n",
        "df_final_customer_phones = df_final_customer_phones.withColumn(\"phone_number_1_json\", F.to_json(F.struct(\"phone_number_1_to_json\")))"
      ],
      "metadata": {
        "id": "kD3sk3WLlq5_"
      },
      "execution_count": null,
      "outputs": []
    },
    {
      "cell_type": "code",
      "source": [
        "df_final_customer_phones.count()"
      ],
      "metadata": {
        "colab": {
          "base_uri": "https://localhost:8080/"
        },
        "id": "2wB4PSFCngb1",
        "outputId": "9464311b-0831-44a4-b828-33822223ad53"
      },
      "execution_count": null,
      "outputs": [
        {
          "output_type": "execute_result",
          "data": {
            "text/plain": [
              "1614"
            ]
          },
          "metadata": {},
          "execution_count": 48
        }
      ]
    },
    {
      "cell_type": "markdown",
      "source": [
        "## **AGREGAR COLUMNA DE JSON A DOMICILIO (BBVAW2T1-32)** "
      ],
      "metadata": {
        "id": "hdL2DG-IMdVU"
      }
    },
    {
      "cell_type": "code",
      "source": [
        "df_final_customer_address = df_final_customer_address.withColumn(\"full_address_1_to_json\", F.when(F.col(\"full_address_1\").isNull(), F.lit(\"sin_dato\")).otherwise(F.col(\"full_address_1\")))\n",
        "df_final_customer_address = df_final_customer_address.withColumn(\"full_address_1_json\", F.to_json(F.struct(\"full_address_1_to_json\")))"
      ],
      "metadata": {
        "id": "vjo8xY4vMlUT"
      },
      "execution_count": null,
      "outputs": []
    },
    {
      "cell_type": "code",
      "source": [
        "df_final_customer_email.count()"
      ],
      "metadata": {
        "colab": {
          "base_uri": "https://localhost:8080/"
        },
        "id": "ORvTWrB-kt3l",
        "outputId": "8499538d-75d3-45af-a3a4-7335a302b5dd"
      },
      "execution_count": null,
      "outputs": [
        {
          "output_type": "execute_result",
          "data": {
            "text/plain": [
              "1614"
            ]
          },
          "metadata": {},
          "execution_count": 45
        }
      ]
    },
    {
      "cell_type": "code",
      "source": [
        "df_final_customer_address.select(F.collect_list('full_address_1_json')).first()[0]"
      ],
      "metadata": {
        "id": "rSeyuzrClDNe"
      },
      "execution_count": null,
      "outputs": []
    },
    {
      "cell_type": "markdown",
      "source": [
        "## **JOIN TABLAS DE CONTACTOS (BBVAW2T1-33)**\n"
      ],
      "metadata": {
        "id": "fgoCy_EQrw__"
      }
    },
    {
      "cell_type": "code",
      "source": [
        "#cambiando el primer campo podemos hacer el join de las tres bases.\n",
        "df_final_customer_phones = df_final_customer_phones.withColumnRenamed('customer_id','customer_id_B')"
      ],
      "metadata": {
        "id": "AluiDXaOo6lE"
      },
      "execution_count": null,
      "outputs": []
    },
    {
      "cell_type": "code",
      "source": [
        "df_final = df_final_customer_phones.join(df_final_customer_email, df_final_customer_phones.customer_id_B == df_final_customer_email.customer_id, how = \"left\")\n",
        "df_final = df_final.drop(\"customer_id\")\n",
        "df_final = df_final.join(df_final_customer_address, df_final.customer_id_B == df_final_customer_address.customer_id, how = \"left\")\n",
        "df_final = df_final.drop(\"customer_id\")\n",
        "df_final = df_final.withColumnRenamed('customer_id_B','customer_id')"
      ],
      "metadata": {
        "id": "3IIUcbEPp1SA"
      },
      "execution_count": null,
      "outputs": []
    },
    {
      "cell_type": "code",
      "source": [
        "df_final.show()"
      ],
      "metadata": {
        "colab": {
          "base_uri": "https://localhost:8080/"
        },
        "id": "toqtlnSArlmi",
        "outputId": "3e841feb-d2f9-4045-907a-5558e8c2540b"
      },
      "execution_count": null,
      "outputs": [
        {
          "output_type": "stream",
          "name": "stdout",
          "text": [
            "+-----------+-------------------+------------------+--------------+------------+----------------------+--------------------+--------------------+-------------------+-------+------------+--------------------+--------------+--------------+------------+----------------------+--------------------+\n",
            "|customer_id|     phone_number_1|    phone_number_2|phone_number_3|Contact_type|phone_number_1_to_json| phone_number_1_json|             email_1|            email_2|email_3|Contact_type|      full_address_1|full_address_2|full_address_3|Contact_type|full_address_1_to_json| full_address_1_json|\n",
            "+-----------+-------------------+------------------+--------------+------------+----------------------+--------------------+--------------------+-------------------+-------+------------+--------------------+--------------+--------------+------------+----------------------+--------------------+\n",
            "|   00000442| +54 297 15 5296284|+54 297 15 4729337|          null|       phone|    +54 297 15 5296284|{\"phone_number_1_...|                null|               null|   null|            |AGUERO           ...|          null|          null|     address|  AGUERO           ...|{\"full_address_1_...|\n",
            "|   00001419| +54 11 15 66793207|              null|          null|       phone|    +54 11 15 66793207|{\"phone_number_1_...|EMILIA.RUBIANES@H...| JU_LY1@HOTMAIL.COM|   null|       email|ALTE G BROWN     ...|          null|          null|     address|  ALTE G BROWN     ...|{\"full_address_1_...|\n",
            "|   00001939| +54 11 15 38700150|              null|          null|       phone|    +54 11 15 38700150|{\"phone_number_1_...|                null|               null|   null|            |JOSE HERNANDEZ   ...|          null|          null|     address|  JOSE HERNANDEZ   ...|{\"full_address_1_...|\n",
            "|   00002575|               null|              null|          null|            |              sin_dato|{\"phone_number_1_...|                null|               null|   null|            |                null|          null|          null|            |              sin_dato|{\"full_address_1_...|\n",
            "|   00002707|   +54 299  4477116|              null|          null|       phone|      +54 299  4477116|{\"phone_number_1_...|                null|               null|   null|            |GUATEMALA        ...|          null|          null|     address|  GUATEMALA        ...|{\"full_address_1_...|\n",
            "|   00002790|   +54 342  4883620|+54 342 15 4662478|          null|       phone|      +54 342  4883620|{\"phone_number_1_...|DIGITALIZACION@EE...|NOTIENE@HOIMAIL.COM|   null|       email|AV CORDOBA       ...|          null|          null|     address|  AV CORDOBA       ...|{\"full_address_1_...|\n",
            "|   00004287|+54 3541 15 5988799|              null|          null|       phone|   +54 3541 15 5988799|{\"phone_number_1_...|                null|               null|   null|            |CNEL DE MARINA RO...|          null|          null|     address|  CNEL DE MARINA RO...|{\"full_address_1_...|\n",
            "|   00004724| +54 11 15 24084447|              null|          null|       phone|    +54 11 15 24084447|{\"phone_number_1_...|                null|               null|   null|            |PJE MUTUALISMO   ...|          null|          null|     address|  PJE MUTUALISMO   ...|{\"full_address_1_...|\n",
            "|   00007932| +54 385 15 4065887|              null|          null|       phone|    +54 385 15 4065887|{\"phone_number_1_...|                null|               null|   null|            |AV FELIX DE OLAZA...|          null|          null|     address|  AV FELIX DE OLAZA...|{\"full_address_1_...|\n",
            "|   00011850| +54 11 15 25781080|+54 3489 15 493578|          null|       phone|    +54 11 15 25781080|{\"phone_number_1_...|                null|               null|   null|            |JUNCAL           ...|          null|          null|     address|  JUNCAL           ...|{\"full_address_1_...|\n",
            "|   00012051| +54 3401 15 534381|              null|          null|       phone|    +54 3401 15 534381|{\"phone_number_1_...|                null|               null|   null|            |AV GRAL JOSE MARI...|          null|          null|     address|  AV GRAL JOSE MARI...|{\"full_address_1_...|\n",
            "|   00012611|   +54 11  43443165|+54 11 15 61141855|          null|       phone|      +54 11  43443165|{\"phone_number_1_...|                null|               null|   null|            |ALBERTO LARROQUE ...|          null|          null|     address|  ALBERTO LARROQUE ...|{\"full_address_1_...|\n",
            "|   00012991|               null|              null|          null|            |              sin_dato|{\"phone_number_1_...|                null|               null|   null|            |                null|          null|          null|            |              sin_dato|{\"full_address_1_...|\n",
            "|   00013498| +54 221 15 6208511|              null|          null|       phone|    +54 221 15 6208511|{\"phone_number_1_...|                null|               null|   null|            |AV PTE H YRIGOYEN...|          null|          null|     address|  AV PTE H YRIGOYEN...|{\"full_address_1_...|\n",
            "|   00014664| +54 11 15 65050605|              null|          null|       phone|    +54 11 15 65050605|{\"phone_number_1_...|   alq@ciudad.com.ar|               null|   null|       email|AV TRIUNVIRATO   ...|          null|          null|     address|  AV TRIUNVIRATO   ...|{\"full_address_1_...|\n",
            "|   00015497| +54 11 15 51052460|              null|          null|       phone|    +54 11 15 51052460|{\"phone_number_1_...|                null|               null|   null|            |VUELTA DE OBLIGAD...|          null|          null|     address|  VUELTA DE OBLIGAD...|{\"full_address_1_...|\n",
            "|   00051576| +54 11 15 26531080|              null|          null|       phone|    +54 11 15 26531080|{\"phone_number_1_...|                null|               null|   null|            |ING GUILLERMO MAR...|          null|          null|     address|  ING GUILLERMO MAR...|{\"full_address_1_...|\n",
            "|   00053993| +54 3718 15 466655|              null|          null|       phone|    +54 3718 15 466655|{\"phone_number_1_...|                null|               null|   null|            |CALLE 899        ...|          null|          null|     address|  CALLE 899        ...|{\"full_address_1_...|\n",
            "|   00056407| +54 336 15 4577255|              null|          null|       phone|    +54 336 15 4577255|{\"phone_number_1_...|NELLY.S.GEREZ@GMA...|               null|   null|       email|AV DR J BAUTISTA ...|          null|          null|     address|  AV DR J BAUTISTA ...|{\"full_address_1_...|\n",
            "|   00056947| +54 297 15 4301718|+54 297 15 4577276|          null|       phone|    +54 297 15 4301718|{\"phone_number_1_...|                null|               null|   null|            |AV 25 DE MAYO    ...|          null|          null|     address|  AV 25 DE MAYO    ...|{\"full_address_1_...|\n",
            "+-----------+-------------------+------------------+--------------+------------+----------------------+--------------------+--------------------+-------------------+-------+------------+--------------------+--------------+--------------+------------+----------------------+--------------------+\n",
            "only showing top 20 rows\n",
            "\n"
          ]
        }
      ]
    },
    {
      "cell_type": "markdown",
      "source": [
        "## **RESGUARDAR 3 CONTACTOS DE CLIENTES (BBVAW2T1-34)**"
      ],
      "metadata": {
        "id": "-k4aWw_fq4SY"
      }
    },
    {
      "cell_type": "code",
      "source": [
        "# Crear las nuevas columnas con valores no nulos de las columnas de contactos, priorizando Telefono, Mail o dirección\n",
        "df_final = df_final.withColumn(\"contacto_1\", coalesce(\"phone_number_1\", \"phone_number_2\", \"phone_number_3\", \"email_1\", \"email_2\", \"email_3\", \"full_address_1\", \"full_address_1\", \"full_address_1\"))\n",
        "df_final = df_final.withColumn(\"contacto_2\", coalesce(\"phone_number_2\", \"phone_number_3\", \"email_1\", \"email_2\", \"email_3\", \"full_address_1\", \"full_address_2\", \"full_address_3\"))\n",
        "df_final = df_final.withColumn(\"contacto_3\", coalesce(\"phone_number_3\", \"email_1\", \"email_1\", \"email_1\", \"full_address_1\", \"full_address_2\", \"full_address_3\", \n",
        "                                        expr(\"coalesce(email_1, email_2, email_3, full_address_1, full_address_2, full_address_3)\")))\n",
        "\n",
        "df_final = df_final.withColumn(\"contacto_2\", \n",
        "                               when(col(\"contacto_2\").isin(col(\"contacto_1\")), None)\n",
        "                               .otherwise(col(\"contacto_2\")))\n",
        "df_final = df_final.withColumn(\"contacto_3\", \n",
        "                               when(col(\"contacto_3\").isin(col(\"contacto_1\"), col(\"contacto_2\")), None)\n",
        "                               .otherwise(col(\"contacto_3\")))\n",
        "\n",
        "df_final.show()"
      ],
      "metadata": {
        "colab": {
          "base_uri": "https://localhost:8080/"
        },
        "id": "U_pmTB_OnVuu",
        "outputId": "0c24b69a-ad02-449c-e900-c866a5dbbcc7"
      },
      "execution_count": null,
      "outputs": [
        {
          "output_type": "stream",
          "name": "stdout",
          "text": [
            "+-----------+-------------------+------------------+--------------+------------+----------------------+--------------------+--------------------+-------------------+-------+------------+--------------------+--------------+--------------+------------+----------------------+--------------------+-------------------+--------------------+--------------------+\n",
            "|customer_id|     phone_number_1|    phone_number_2|phone_number_3|Contact_type|phone_number_1_to_json| phone_number_1_json|             email_1|            email_2|email_3|Contact_type|      full_address_1|full_address_2|full_address_3|Contact_type|full_address_1_to_json| full_address_1_json|         contacto_1|          contacto_2|          contacto_3|\n",
            "+-----------+-------------------+------------------+--------------+------------+----------------------+--------------------+--------------------+-------------------+-------+------------+--------------------+--------------+--------------+------------+----------------------+--------------------+-------------------+--------------------+--------------------+\n",
            "|   00000442| +54 297 15 5296284|+54 297 15 4729337|          null|       phone|    +54 297 15 5296284|{\"phone_number_1_...|                null|               null|   null|            |AGUERO           ...|          null|          null|     address|  AGUERO           ...|{\"full_address_1_...| +54 297 15 5296284|  +54 297 15 4729337|AGUERO           ...|\n",
            "|   00001419| +54 11 15 66793207|              null|          null|       phone|    +54 11 15 66793207|{\"phone_number_1_...|EMILIA.RUBIANES@H...| JU_LY1@HOTMAIL.COM|   null|       email|ALTE G BROWN     ...|          null|          null|     address|  ALTE G BROWN     ...|{\"full_address_1_...| +54 11 15 66793207|EMILIA.RUBIANES@H...|EMILIA.RUBIANES@H...|\n",
            "|   00001939| +54 11 15 38700150|              null|          null|       phone|    +54 11 15 38700150|{\"phone_number_1_...|                null|               null|   null|            |JOSE HERNANDEZ   ...|          null|          null|     address|  JOSE HERNANDEZ   ...|{\"full_address_1_...| +54 11 15 38700150|JOSE HERNANDEZ   ...|JOSE HERNANDEZ   ...|\n",
            "|   00002575|               null|              null|          null|            |              sin_dato|{\"phone_number_1_...|                null|               null|   null|            |                null|          null|          null|            |              sin_dato|{\"full_address_1_...|               null|                null|                null|\n",
            "|   00002707|   +54 299  4477116|              null|          null|       phone|      +54 299  4477116|{\"phone_number_1_...|                null|               null|   null|            |GUATEMALA        ...|          null|          null|     address|  GUATEMALA        ...|{\"full_address_1_...|   +54 299  4477116|GUATEMALA        ...|GUATEMALA        ...|\n",
            "|   00002790|   +54 342  4883620|+54 342 15 4662478|          null|       phone|      +54 342  4883620|{\"phone_number_1_...|DIGITALIZACION@EE...|NOTIENE@HOIMAIL.COM|   null|       email|AV CORDOBA       ...|          null|          null|     address|  AV CORDOBA       ...|{\"full_address_1_...|   +54 342  4883620|  +54 342 15 4662478|DIGITALIZACION@EE...|\n",
            "|   00004287|+54 3541 15 5988799|              null|          null|       phone|   +54 3541 15 5988799|{\"phone_number_1_...|                null|               null|   null|            |CNEL DE MARINA RO...|          null|          null|     address|  CNEL DE MARINA RO...|{\"full_address_1_...|+54 3541 15 5988799|CNEL DE MARINA RO...|CNEL DE MARINA RO...|\n",
            "|   00004724| +54 11 15 24084447|              null|          null|       phone|    +54 11 15 24084447|{\"phone_number_1_...|                null|               null|   null|            |PJE MUTUALISMO   ...|          null|          null|     address|  PJE MUTUALISMO   ...|{\"full_address_1_...| +54 11 15 24084447|PJE MUTUALISMO   ...|PJE MUTUALISMO   ...|\n",
            "|   00007932| +54 385 15 4065887|              null|          null|       phone|    +54 385 15 4065887|{\"phone_number_1_...|                null|               null|   null|            |AV FELIX DE OLAZA...|          null|          null|     address|  AV FELIX DE OLAZA...|{\"full_address_1_...| +54 385 15 4065887|AV FELIX DE OLAZA...|AV FELIX DE OLAZA...|\n",
            "|   00011850| +54 11 15 25781080|+54 3489 15 493578|          null|       phone|    +54 11 15 25781080|{\"phone_number_1_...|                null|               null|   null|            |JUNCAL           ...|          null|          null|     address|  JUNCAL           ...|{\"full_address_1_...| +54 11 15 25781080|  +54 3489 15 493578|JUNCAL           ...|\n",
            "|   00012051| +54 3401 15 534381|              null|          null|       phone|    +54 3401 15 534381|{\"phone_number_1_...|                null|               null|   null|            |AV GRAL JOSE MARI...|          null|          null|     address|  AV GRAL JOSE MARI...|{\"full_address_1_...| +54 3401 15 534381|AV GRAL JOSE MARI...|AV GRAL JOSE MARI...|\n",
            "|   00012611|   +54 11  43443165|+54 11 15 61141855|          null|       phone|      +54 11  43443165|{\"phone_number_1_...|                null|               null|   null|            |ALBERTO LARROQUE ...|          null|          null|     address|  ALBERTO LARROQUE ...|{\"full_address_1_...|   +54 11  43443165|  +54 11 15 61141855|ALBERTO LARROQUE ...|\n",
            "|   00012991|               null|              null|          null|            |              sin_dato|{\"phone_number_1_...|                null|               null|   null|            |                null|          null|          null|            |              sin_dato|{\"full_address_1_...|               null|                null|                null|\n",
            "|   00013498| +54 221 15 6208511|              null|          null|       phone|    +54 221 15 6208511|{\"phone_number_1_...|                null|               null|   null|            |AV PTE H YRIGOYEN...|          null|          null|     address|  AV PTE H YRIGOYEN...|{\"full_address_1_...| +54 221 15 6208511|AV PTE H YRIGOYEN...|AV PTE H YRIGOYEN...|\n",
            "|   00014664| +54 11 15 65050605|              null|          null|       phone|    +54 11 15 65050605|{\"phone_number_1_...|   alq@ciudad.com.ar|               null|   null|       email|AV TRIUNVIRATO   ...|          null|          null|     address|  AV TRIUNVIRATO   ...|{\"full_address_1_...| +54 11 15 65050605|   alq@ciudad.com.ar|   alq@ciudad.com.ar|\n",
            "|   00015497| +54 11 15 51052460|              null|          null|       phone|    +54 11 15 51052460|{\"phone_number_1_...|                null|               null|   null|            |VUELTA DE OBLIGAD...|          null|          null|     address|  VUELTA DE OBLIGAD...|{\"full_address_1_...| +54 11 15 51052460|VUELTA DE OBLIGAD...|VUELTA DE OBLIGAD...|\n",
            "|   00051576| +54 11 15 26531080|              null|          null|       phone|    +54 11 15 26531080|{\"phone_number_1_...|                null|               null|   null|            |ING GUILLERMO MAR...|          null|          null|     address|  ING GUILLERMO MAR...|{\"full_address_1_...| +54 11 15 26531080|ING GUILLERMO MAR...|ING GUILLERMO MAR...|\n",
            "|   00053993| +54 3718 15 466655|              null|          null|       phone|    +54 3718 15 466655|{\"phone_number_1_...|                null|               null|   null|            |CALLE 899        ...|          null|          null|     address|  CALLE 899        ...|{\"full_address_1_...| +54 3718 15 466655|CALLE 899        ...|CALLE 899        ...|\n",
            "|   00056407| +54 336 15 4577255|              null|          null|       phone|    +54 336 15 4577255|{\"phone_number_1_...|NELLY.S.GEREZ@GMA...|               null|   null|       email|AV DR J BAUTISTA ...|          null|          null|     address|  AV DR J BAUTISTA ...|{\"full_address_1_...| +54 336 15 4577255|NELLY.S.GEREZ@GMA...|NELLY.S.GEREZ@GMA...|\n",
            "|   00056947| +54 297 15 4301718|+54 297 15 4577276|          null|       phone|    +54 297 15 4301718|{\"phone_number_1_...|                null|               null|   null|            |AV 25 DE MAYO    ...|          null|          null|     address|  AV 25 DE MAYO    ...|{\"full_address_1_...| +54 297 15 4301718|  +54 297 15 4577276|AV 25 DE MAYO    ...|\n",
            "+-----------+-------------------+------------------+--------------+------------+----------------------+--------------------+--------------------+-------------------+-------+------------+--------------------+--------------+--------------+------------+----------------------+--------------------+-------------------+--------------------+--------------------+\n",
            "only showing top 20 rows\n",
            "\n"
          ]
        }
      ]
    },
    {
      "cell_type": "markdown",
      "source": [
        "## **VISTA TEMPORAL DE CONTACTOS --> BBVAW2T1-35**"
      ],
      "metadata": {
        "id": "sgVonpavrjoK"
      }
    },
    {
      "cell_type": "code",
      "source": [
        "df_final.createOrReplaceTempView(\"contacts_view\")\n",
        "spark.sql(\"SELECT * FROM contacts_view\").show()"
      ],
      "metadata": {
        "id": "bzod3gvgoG7f"
      },
      "execution_count": null,
      "outputs": []
    },
    {
      "cell_type": "markdown",
      "source": [
        "## **VISTA TEMPORAL DE CLIENTES --> BBVAW2T1-36**"
      ],
      "metadata": {
        "id": "paGFXsM2rT9y"
      }
    },
    {
      "cell_type": "code",
      "source": [
        "df_customer_basics.createOrReplaceTempView(\"customer_basics_view\")\n",
        "spark.sql(\"SELECT * FROM customer_basics_view\").show(2000)"
      ],
      "metadata": {
        "id": "93lM9LWMoGye"
      },
      "execution_count": null,
      "outputs": []
    },
    {
      "cell_type": "markdown",
      "source": [
        "## **VISTA TEMPORAL DE ESTADO CIVIL --> BBVAW2T1-37**"
      ],
      "metadata": {
        "id": "aCAFsH18rzZY"
      }
    },
    {
      "cell_type": "code",
      "source": [
        "df_marital_status_type.createOrReplaceTempView(\"marital_status_type_view\")\n",
        "spark.sql(\"SELECT * FROM marital_status_type_view\").show()"
      ],
      "metadata": {
        "id": "JaZk1Hn2oHD2"
      },
      "execution_count": null,
      "outputs": []
    },
    {
      "cell_type": "markdown",
      "source": [
        "## **VISTA TEMPORAL DE NACIONALIDAD --> BBVAW2T1-38/62**\n",
        "\n",
        "\n",
        "\n"
      ],
      "metadata": {
        "id": "6pRvQf41rMJd"
      }
    },
    {
      "cell_type": "code",
      "source": [
        "df_nationality.createOrReplaceTempView(\"nationality_view\")\n",
        "spark.sql(\"SELECT * FROM nationality_view\").show(1000)"
      ],
      "metadata": {
        "id": "9yFSQaumoGr9"
      },
      "execution_count": null,
      "outputs": []
    }
  ]
}