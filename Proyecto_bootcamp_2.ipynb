{
  "nbformat": 4,
  "nbformat_minor": 0,
  "metadata": {
    "colab": {
      "provenance": [],
      "authorship_tag": "ABX9TyNn1EJh6aOvASnAG7QNCrJ/",
      "include_colab_link": true
    },
    "kernelspec": {
      "name": "python3",
      "display_name": "Python 3"
    },
    "language_info": {
      "name": "python"
    }
  },
  "cells": [
    {
      "cell_type": "markdown",
      "metadata": {
        "id": "view-in-github",
        "colab_type": "text"
      },
      "source": [
        "<a href=\"https://colab.research.google.com/github/Bainer13/Data_BBVA_Team_1/blob/Rodri/Proyecto_bootcamp_2.ipynb\" target=\"_parent\"><img src=\"https://colab.research.google.com/assets/colab-badge.svg\" alt=\"Open In Colab\"/></a>"
      ]
    },
    {
      "cell_type": "markdown",
      "source": [
        "#Armado del entorno de trabajo\n",
        "\n"
      ],
      "metadata": {
        "id": "rjxwPMfNDgy9"
      }
    },
    {
      "cell_type": "code",
      "execution_count": 1,
      "metadata": {
        "id": "lQy_QnsDh3CN"
      },
      "outputs": [],
      "source": [
        "!apt-get install openjdk-8-jdk-headless -qq > /dev/null\n"
      ]
    },
    {
      "cell_type": "code",
      "source": [
        "!wget -q https://dlcdn.apache.org/spark/spark-3.3.2/spark-3.3.2-bin-hadoop3.tgz"
      ],
      "metadata": {
        "id": "WxdDgoDQDwLC"
      },
      "execution_count": 2,
      "outputs": []
    },
    {
      "cell_type": "code",
      "source": [
        "ls"
      ],
      "metadata": {
        "id": "zxQTw235Efnl",
        "colab": {
          "base_uri": "https://localhost:8080/"
        },
        "outputId": "c3205518-7da7-400e-d69c-f991195241d4"
      },
      "execution_count": 3,
      "outputs": [
        {
          "output_type": "stream",
          "name": "stdout",
          "text": [
            "address_bootcamp.snappy.parquet          phones_bootcamp.snappy.parquet\n",
            "customer_basics_bootcamp.snappy.parquet  \u001b[0m\u001b[01;34msample_data\u001b[0m/\n",
            "emails_bootcamp.snappy.parquet           spark-3.3.2-bin-hadoop3.tgz\n"
          ]
        }
      ]
    },
    {
      "cell_type": "code",
      "source": [
        "!tar xf spark-3.3.2-bin-hadoop3.tgz"
      ],
      "metadata": {
        "id": "kTIS3_ExElWP"
      },
      "execution_count": 4,
      "outputs": []
    },
    {
      "cell_type": "code",
      "source": [
        "!java -version"
      ],
      "metadata": {
        "id": "FCeYLe11EoA5",
        "colab": {
          "base_uri": "https://localhost:8080/"
        },
        "outputId": "fbf5cd30-ed08-406e-f540-5b427ed73d4a"
      },
      "execution_count": 5,
      "outputs": [
        {
          "output_type": "stream",
          "name": "stdout",
          "text": [
            "openjdk version \"11.0.18\" 2023-01-17\n",
            "OpenJDK Runtime Environment (build 11.0.18+10-post-Ubuntu-0ubuntu120.04.1)\n",
            "OpenJDK 64-Bit Server VM (build 11.0.18+10-post-Ubuntu-0ubuntu120.04.1, mixed mode, sharing)\n"
          ]
        }
      ]
    },
    {
      "cell_type": "code",
      "source": [
        "!readlink -f $(which java) | sed \"s:bin/java::\"\n"
      ],
      "metadata": {
        "id": "QnNvgsFKEvF0",
        "colab": {
          "base_uri": "https://localhost:8080/"
        },
        "outputId": "df8b845e-5f8d-4418-b35c-79593e984187"
      },
      "execution_count": 6,
      "outputs": [
        {
          "output_type": "stream",
          "name": "stdout",
          "text": [
            "/usr/lib/jvm/java-11-openjdk-amd64/\n"
          ]
        }
      ]
    },
    {
      "cell_type": "code",
      "source": [
        "!echo $JAVA_HOME"
      ],
      "metadata": {
        "id": "EHoXgQb0EyH4",
        "colab": {
          "base_uri": "https://localhost:8080/"
        },
        "outputId": "b2c7b992-a65b-4c03-fa45-a51bf4da1d50"
      },
      "execution_count": 7,
      "outputs": [
        {
          "output_type": "stream",
          "name": "stdout",
          "text": [
            "\n"
          ]
        }
      ]
    },
    {
      "cell_type": "code",
      "source": [
        "!pip install -q findspark"
      ],
      "metadata": {
        "id": "xA6BrWOlEzwl"
      },
      "execution_count": 8,
      "outputs": []
    },
    {
      "cell_type": "code",
      "source": [
        "!pip install pyspark "
      ],
      "metadata": {
        "id": "FWcYXxSfE-66",
        "colab": {
          "base_uri": "https://localhost:8080/"
        },
        "outputId": "ebd7a978-c355-4664-f710-1aa13960d17d"
      },
      "execution_count": 9,
      "outputs": [
        {
          "output_type": "stream",
          "name": "stdout",
          "text": [
            "Looking in indexes: https://pypi.org/simple, https://us-python.pkg.dev/colab-wheels/public/simple/\n",
            "Collecting pyspark\n",
            "  Downloading pyspark-3.3.2.tar.gz (281.4 MB)\n",
            "\u001b[2K     \u001b[90m━━━━━━━━━━━━━━━━━━━━━━━━━━━━━━━━━━━━━━━\u001b[0m \u001b[32m281.4/281.4 MB\u001b[0m \u001b[31m4.3 MB/s\u001b[0m eta \u001b[36m0:00:00\u001b[0m\n",
            "\u001b[?25h  Preparing metadata (setup.py) ... \u001b[?25l\u001b[?25hdone\n",
            "Collecting py4j==0.10.9.5\n",
            "  Downloading py4j-0.10.9.5-py2.py3-none-any.whl (199 kB)\n",
            "\u001b[2K     \u001b[90m━━━━━━━━━━━━━━━━━━━━━━━━━━━━━━━━━━━━━━\u001b[0m \u001b[32m199.7/199.7 KB\u001b[0m \u001b[31m18.1 MB/s\u001b[0m eta \u001b[36m0:00:00\u001b[0m\n",
            "\u001b[?25hBuilding wheels for collected packages: pyspark\n",
            "  Building wheel for pyspark (setup.py) ... \u001b[?25l\u001b[?25hdone\n",
            "  Created wheel for pyspark: filename=pyspark-3.3.2-py2.py3-none-any.whl size=281824028 sha256=0bede9f4aa81b2a6dc12cde9c6f1ee600298abf2c9454c133ebccc268cb550e5\n",
            "  Stored in directory: /root/.cache/pip/wheels/6c/e3/9b/0525ce8a69478916513509d43693511463c6468db0de237c86\n",
            "Successfully built pyspark\n",
            "Installing collected packages: py4j, pyspark\n",
            "  Attempting uninstall: py4j\n",
            "    Found existing installation: py4j 0.10.9.7\n",
            "    Uninstalling py4j-0.10.9.7:\n",
            "      Successfully uninstalled py4j-0.10.9.7\n",
            "Successfully installed py4j-0.10.9.5 pyspark-3.3.2\n"
          ]
        }
      ]
    },
    {
      "cell_type": "code",
      "source": [
        "from pyspark.sql import SparkSession"
      ],
      "metadata": {
        "id": "RxVvKnuTFNAX"
      },
      "execution_count": 10,
      "outputs": []
    },
    {
      "cell_type": "code",
      "source": [
        "import pyspark.sql.functions as F"
      ],
      "metadata": {
        "id": "8_ZZIDSki9dp"
      },
      "execution_count": 11,
      "outputs": []
    },
    {
      "cell_type": "code",
      "source": [
        "import pandas as pd\n",
        "pd.set_option('display.max_rows', None)"
      ],
      "metadata": {
        "id": "ZpM3yHEfjaqZ"
      },
      "execution_count": 12,
      "outputs": []
    },
    {
      "cell_type": "code",
      "source": [
        "from pyspark.sql.window import Window\n",
        "from pyspark.sql.functions import row_number\n",
        "from pyspark.sql.functions import col"
      ],
      "metadata": {
        "id": "n04j9qewV5Co"
      },
      "execution_count": 13,
      "outputs": []
    },
    {
      "cell_type": "code",
      "source": [
        "spark = SparkSession.builder.getOrCreate()"
      ],
      "metadata": {
        "id": "K6zkngyXU8C2"
      },
      "execution_count": 14,
      "outputs": []
    },
    {
      "cell_type": "markdown",
      "source": [
        "#Extraccion de datos"
      ],
      "metadata": {
        "id": "M865_XBwVRTW"
      }
    },
    {
      "cell_type": "code",
      "source": [
        "spark.conf.set('spark.sql.legacy.parquet.datetimeRebaseModeInRead', 'CORRECTED')"
      ],
      "metadata": {
        "id": "G6ICwe5mVXHZ"
      },
      "execution_count": 15,
      "outputs": []
    },
    {
      "cell_type": "code",
      "source": [
        "#Lectura de parquets\n",
        "df_address = spark.read.parquet('/content/address_bootcamp.snappy.parquet')\n",
        "df_customer_basics = spark.read.parquet('/content/customer_basics_bootcamp.snappy.parquet')\n",
        "df_email = spark.read.parquet('/content/emails_bootcamp.snappy.parquet')\n",
        "df_phones = spark.read.parquet('/content/phones_bootcamp.snappy.parquet')"
      ],
      "metadata": {
        "id": "fjFFL9njVZyK"
      },
      "execution_count": 123,
      "outputs": []
    },
    {
      "cell_type": "code",
      "source": [
        "#Join entre clientes y telefonos\n",
        "df_customer_basics_phones = df_customer_basics.join(df_phones, ['customer_id'], how='left').select(df_customer_basics.customer_id, df_phones.prefix_phone_id, df_phones.phone_area_id, df_phones.cellphone_prefix_id, df_phones.phone_exchange_id, df_phones.phone_line_id, df_phones.phone_id, df_phones.last_change_date)\n",
        "df_customer_basics_phones.sort(F.asc(\"customer_id\")).show(10)"
      ],
      "metadata": {
        "colab": {
          "base_uri": "https://localhost:8080/"
        },
        "id": "OjHiWM7KdTXb",
        "outputId": "e63cce73-3ffd-44c1-ad89-2c3c34648560"
      },
      "execution_count": 124,
      "outputs": [
        {
          "output_type": "stream",
          "name": "stdout",
          "text": [
            "+-----------+---------------+-------------+-------------------+-----------------+-------------+-------------+----------------+\n",
            "|customer_id|prefix_phone_id|phone_area_id|cellphone_prefix_id|phone_exchange_id|phone_line_id|     phone_id|last_change_date|\n",
            "+-----------+---------------+-------------+-------------------+-----------------+-------------+-------------+----------------+\n",
            "|   00000442|             54|          297|                 15|              529|         6284| 712455962424|      2022-07-20|\n",
            "|   00000442|             54|          297|                 15|              472|         9337| 384498667593|      2022-07-20|\n",
            "|   00001419|             54|           11|                 15|             6679|         3207| 044982237001|      2022-11-01|\n",
            "|   00001939|             54|           11|                 15|             3870|         0150| 008960137788|      2022-09-21|\n",
            "|   00002575|           null|         null|               null|             null|         null|         null|            null|\n",
            "|   00002707|             54|          299|                   |              447|         7116|   6116490163|      2022-08-17|\n",
            "|   00002790|             54|          342|                 15|              466|         2478| 051880599267|      2022-11-18|\n",
            "|   00002790|             54|          342|                   |              488|         3620|   4330463819|      2022-10-08|\n",
            "|   00004287|             54|         3541|                 15|             5988|          799|1456900382957|      2022-08-29|\n",
            "|   00004724|             54|           11|                 15|             2408|         4447| 820582605809|      2022-11-04|\n",
            "+-----------+---------------+-------------+-------------------+-----------------+-------------+-------------+----------------+\n",
            "only showing top 10 rows\n",
            "\n"
          ]
        }
      ]
    },
    {
      "cell_type": "code",
      "source": [
        "#Join entre clientes y email\n",
        "df_customer_basics_email = df_customer_basics.join(df_email,['customer_id'], how='left').select(df_customer_basics.customer_id, df_email.email_desc, df_email.last_change_date)\n",
        "df_customer_basics_email.show()"
      ],
      "metadata": {
        "colab": {
          "base_uri": "https://localhost:8080/"
        },
        "id": "B_17ljUR0BOM",
        "outputId": "3e88581a-07f7-4f1c-f86d-cd136b421e15"
      },
      "execution_count": 125,
      "outputs": [
        {
          "output_type": "stream",
          "name": "stdout",
          "text": [
            "+-----------+--------------------+----------------+\n",
            "|customer_id|          email_desc|last_change_date|\n",
            "+-----------+--------------------+----------------+\n",
            "|   07867437|                null|            null|\n",
            "|   06813266|                null|            null|\n",
            "|   29604216|                null|            null|\n",
            "|   28028529|                null|            null|\n",
            "|   28366580|                null|            null|\n",
            "|   02746969|                null|            null|\n",
            "|   23441482|                null|            null|\n",
            "|   23610540|                null|            null|\n",
            "|   25935956|                null|            null|\n",
            "|   25848977|                null|            null|\n",
            "|   01957163|                null|            null|\n",
            "|   06338965|                null|            null|\n",
            "|   29676364|                null|            null|\n",
            "|   26205399|   DIONISI@YAHOO.COM|      2019-12-27|\n",
            "|   03933825|DIGITALIZACION@EE...|      1900-01-01|\n",
            "|   29416245|                null|            null|\n",
            "|   29497813|                null|            null|\n",
            "|   02568856|                null|            null|\n",
            "|   29681573|                null|            null|\n",
            "|   04348412|                null|            null|\n",
            "+-----------+--------------------+----------------+\n",
            "only showing top 20 rows\n",
            "\n"
          ]
        }
      ]
    },
    {
      "cell_type": "code",
      "source": [
        "#join entre clientes y direccion\n",
        "df_customer_basics_address = df_customer_basics.join(df_address,['customer_id'], how='left').select(df_customer_basics.customer_id, 'street_name', 'address_outdoor_id','address_indoor_id', 'indoor_number', 'address_town_name', 'address_department_name', 'zipcode_id', df_address.last_change_date)\n",
        "df_customer_basics_address.show()"
      ],
      "metadata": {
        "colab": {
          "base_uri": "https://localhost:8080/"
        },
        "id": "FcAhH0c70Yxa",
        "outputId": "769c2124-be36-4f72-f3ad-57dcb55d3da4"
      },
      "execution_count": 126,
      "outputs": [
        {
          "output_type": "stream",
          "name": "stdout",
          "text": [
            "+-----------+--------------------+------------------+-----------------+-------------+--------------------+-----------------------+----------+----------------+\n",
            "|customer_id|         street_name|address_outdoor_id|address_indoor_id|indoor_number|   address_town_name|address_department_name|zipcode_id|last_change_date|\n",
            "+-----------+--------------------+------------------+-----------------+-------------+--------------------+-----------------------+----------+----------------+\n",
            "|   07867437|ALTE FRANCISCO SE...|           0001971|         PB      |      3      |CIUDAD AUTONOMA B...|   CAPITAL FEDERAL  ...|     01416|      2009-01-26|\n",
            "|   06813266|EL TORDO         ...|           0000866|                 |             |ITUZAINGO        ...|   ITUZAINGO        ...|     01714|      2009-01-26|\n",
            "|   29604216|                null|              null|             null|         null|                null|                   null|      null|            null|\n",
            "|   28028529|AMENEDO          ...|           0000302|                 |             |ADROGUE          ...|   ALMIRANTE BROWN  ...|     01846|      2009-01-26|\n",
            "|   28366580|INCA AAA         ...|           0000155|                 |             |LLAVALLOL        ...|   112233114455     ...|     01836|            null|\n",
            "|   28366580|INCA             ...|           0000155|                 |             |LLAVALLOL        ...|   LOMAS DE ZAMORA  ...|     01836|      2011-07-01|\n",
            "|   02746969|MERCEDES         ...|           0004364|         6       |      P      |CIUDAD AUTONOMA B...|   CAPITAL FEDERAL  ...|     01419|      2009-01-26|\n",
            "|   23441482|AV 39            ...|           0005146|                 |             |PLATANOS         ...|   BERAZATEGUI      ...|     01885|      2011-07-01|\n",
            "|   23610540|                null|              null|             null|         null|                null|                   null|      null|            null|\n",
            "|   25935956|AV FERNANDEZ DE L...|           0001602|                 |             |CIUDAD AUTONOMA B...|   CAPITAL FEDERAL  ...|     01437|      2009-01-26|\n",
            "|   25848977|                null|              null|             null|         null|                null|                   null|      null|            null|\n",
            "|   01957163|JOSE M DE MINOGUY...|           0001748|                 |             |HURLINGHAM       ...|   HURLINGHAM       ...|     01686|      2009-01-26|\n",
            "|   06338965|MADERO DR FRANCIS...|           0001125|                 |             |ACASSUSO         ...|   112233114455     ...|     01641|      2009-01-26|\n",
            "|   29676364|                null|              null|             null|         null|                null|                   null|      null|            null|\n",
            "|   26205399|SUIPACHA         ...|           0001081|                 |             |SAN FRANCISCO    ...|   SAN JUSTO        ...|     02400|      2009-01-26|\n",
            "|   03933825|HENRY DUNANT     ...|           0001649|                 |             |ITUZAINGO        ...|   ITUZAINGO        ...|     01714|      2009-01-26|\n",
            "|   29416245|                null|              null|             null|         null|                null|                   null|      null|            null|\n",
            "|   29497813|                null|              null|             null|         null|                null|                   null|      null|            null|\n",
            "|   02568856|CLAUDIO MAMERTO C...|           0003729|                 |             |CIUDAD AUTONOMA B...|   CAPITAL FEDERAL  ...|     01419|      2009-01-26|\n",
            "|   29681573|                null|              null|             null|         null|                null|                   null|      null|            null|\n",
            "+-----------+--------------------+------------------+-----------------+-------------+--------------------+-----------------------+----------+----------------+\n",
            "only showing top 20 rows\n",
            "\n"
          ]
        }
      ]
    },
    {
      "cell_type": "code",
      "source": [
        "df_address.show() #Bloque para visualizar DFs"
      ],
      "metadata": {
        "colab": {
          "base_uri": "https://localhost:8080/"
        },
        "id": "o6tdpu8I0tG-",
        "outputId": "f6386a56-70f6-4d5d-c133-226459f18879"
      },
      "execution_count": 127,
      "outputs": [
        {
          "output_type": "stream",
          "name": "stdout",
          "text": [
            "+-----------+-----------------------+-------------------+--------------+--------------------+------------------+---------------------------+-----------------+-------------+---------------------+--------------------+-----------------------+----------+---------------+-----------+------------------+----------------------+-------------------------+------------------+---------------------+------------------------------+-----------------------+--------------------+---------------------+------------------+-------------------------+-------------------------+------------------+-----------------------------+--------------------+---------------------+-----------------------+----------------------+--------------------+----------------------+------------------------------+----------------------------+------------------------+-------------------+----------------+----------------+-------------------+--------------------+-----------------------+-----------------+---------------------+\n",
            "|customer_id|address_priority_number|address_sequence_id|residence_type|         street_name|address_outdoor_id|address_without_number_type|address_indoor_id|indoor_number|address_district_name|   address_town_name|address_department_name|zipcode_id|long_zipcode_id|province_id|address_country_id|other_information_desc|address_relationship_type|address_start_date|address_verified_date|customer_locator_verified_type|address_status_mod_date|contact_channel_type|sender_application_id|returned_mail_type|normalization_status_type|normalization_reason_name|normalization_date|normalized_level_match_number|dlvy_day_monday_type|dlvy_day_tuesday_type|dlvy_day_wednesday_type|dlvy_day_thursday_type|dlvy_day_friday_type|dlvy_day_saturday_type|delivery_contact_start_hm_date|delivery_contact_end_hm_date|prev_address_sequence_id|registry_entry_date|register_user_id|last_change_date|last_change_user_id|last_change_hms_date|last_change_terminal_id|registration_type|operational_load_date|\n",
            "+-----------+-----------------------+-------------------+--------------+--------------------+------------------+---------------------------+-----------------+-------------+---------------------+--------------------+-----------------------+----------+---------------+-----------+------------------+----------------------+-------------------------+------------------+---------------------+------------------------------+-----------------------+--------------------+---------------------+------------------+-------------------------+-------------------------+------------------+-----------------------------+--------------------+---------------------+-----------------------+----------------------+--------------------+----------------------+------------------------------+----------------------------+------------------------+-------------------+----------------+----------------+-------------------+--------------------+-----------------------+-----------------+---------------------+\n",
            "|   00000660|                      1|                  0|            06|PASCUALA DEL JUNC...|           0000850|                          N|                 |             |                  ...|VIRREYES         ...|   112233114455     ...|     01646|               |         02|               080|                   ...|                        0|              null|                 null|                    NO VERIF  |             2008-07-16|                  00|                 CTES|                 1|               NORM USU  |               NEAI      |        2008-07-16|                         0.00|                    |                     |                       |                      |                    |                      |                          0000|                        0000|                       0|         2008-07-16|        PCLE510 |      2011-07-01|           PCLE05T |              144535|                   B   |                -| 2022-01-13 21:32:...|\n",
            "|   07121078|                      1|                  0|            06|SAN NICOLAS      ...|           0002478|                          N|                 |             |                  ...|VILLA VATTEONE   ...|   FLORENCIO VARELA ...|     01888|       B1853AMP|         02|               080|                   ...|                        0|              null|                 null|                    NO VERIF  |             2008-07-16|                  00|                 CTES|                 1|               NORM AUTO |               CO        |        2008-07-16|                         0.00|                    |                     |                       |                      |                    |                      |                          0000|                        0000|                       0|         2008-07-16|        PCLE510 |      2016-09-29|           PCLE05T |              145753|                   D265|                -| 2022-01-13 21:32:...|\n",
            "|   22374047|                      1|                  0|            06|J DE LA CRUZ CONT...|           0000408|                          N|                 |             |                  ...|FLORENCIO VARELA ...|   FLORENCIO VARELA ...|     01888|       B1888IIJ|         02|               080|                   ...|                        0|              null|                 null|                    NO VERIF  |             2008-07-16|                  00|                 CTES|                 1|               NORM AUTO |               CO        |        2008-07-16|                         0.00|                    |                     |                       |                      |                    |                      |                          0000|                        0000|                       0|         2008-07-16|        PCLE510 |      2011-07-01|           PCLE05T |              144535|                   B   |                -| 2022-01-13 21:32:...|\n",
            "|   00002450|                      1|                  0|            06|BACACAY          ...|           0001466|                          N|                 |             |                  ...|ITUZAINGO        ...|   ITUZAINGO        ...|     01714|       B1714ERV|         02|               080|                   ...|                        0|              null|                 null|                    NO VERIF  |             2009-01-26|                  00|                 CTES|                 0|               NORM AUTO |               CO        |        2009-01-26|                         0.00|                    |                     |                       |                      |                    |                      |                          0000|                        0000|                       0|         2009-01-26|        PCLE510 |      2009-01-26|           PCLE510 |              134000|                   B   |                -| 2022-01-13 21:32:...|\n",
            "|   00003925|                      1|                  0|            06|MANUELA PEDRAZA  ...|           0001715|                          N|         5       |      B      |                  ...|CIUDAD AUTONOMA B...|   CAPITAL FEDERAL  ...|     01429|       C1429CBE|         01|               080|                   ...|                        0|              null|                 null|                    NO VERIF  |             2009-01-26|                  00|                 CTES|                 0|               NORM AUTO |               CO        |        2009-01-26|                         0.00|                    |                     |                       |                      |                    |                      |                          0000|                        0000|                       0|         2009-01-26|        PCLE07Q |      2009-01-26|           PCLE07Q |              155342|                   BAT |                -| 2022-01-13 21:32:...|\n",
            "|   00004038|                      1|                  0|            06|BELGRANO         ...|           0001445|                          N|                 |             |                  ...|QUILMES          ...|   QUILMES          ...|     01878|       B1878GLC|         02|               080|                   ...|                        0|              null|                 null|                    NO VERIF  |             2009-01-26|                  00|                 CTES|                 0|               NORM AUTO |               CO        |        2009-01-26|                         0.00|                    |                     |                       |                      |                    |                      |                          0000|                        0000|                       0|         2009-01-26|        PCLE07Q |      2009-01-26|           PCLE07Q |              155342|                   BAT |                -| 2022-01-13 21:32:...|\n",
            "|   01188067|                      1|                  0|            06|VENTURA BOSCH    ...|           0006320|                          N|                 |             |                  ...|CIUDAD AUTONOMA B...|   CAPITAL FEDERAL  ...|     01408|       C1408ECB|         01|               080|                   ...|                        0|              null|                 null|                    NO VERIF  |             2009-01-26|                  00|                 CTES|                 0|               NORM AUTO |               CO        |        2009-01-26|                         0.00|                    |                     |                       |                      |                    |                      |                          0000|                        0000|                       0|         2009-01-26|        PCLE07Q |      2009-01-26|           PCLE07Q |              155342|                   BAT |                -| 2022-01-13 21:32:...|\n",
            "|   00006509|                      1|                  0|            06|CHILE            ...|           0000672|                          N|         4       |      16     |                  ...|CIUDAD AUTONOMA B...|   CAPITAL FEDERAL  ...|     01098|       C1098AAN|         01|               080|                   ...|                        0|              null|                 null|                    NO VERIF  |             2009-01-26|                  00|                 CTES|                 0|               NORM AUTO |               CO        |        2009-01-26|                         0.00|                    |                     |                       |                      |                    |                      |                          0000|                        0000|                       0|         2009-01-26|        PCLE07Q |      2009-01-26|           PCLE07Q |              155342|                   BAT |                -| 2022-01-13 21:32:...|\n",
            "|   00006754|                      1|                  0|            06|CHASSAING        ...|           0004377|                          N|                 |             |                  ...|GREGORIO DE LAFER...|   LA MATANZA       ...|     01757|       B1757LIO|         02|               080|                   ...|                        0|              null|                 null|                    NO VERIF  |             2009-01-26|                  00|                 CTES|                 0|               NORM AUTO |               CO        |        2009-01-26|                         0.00|                    |                     |                       |                      |                    |                      |                          0000|                        0000|                       0|         2009-01-26|        PCLE07Q |      2009-01-26|           PCLE07Q |              155342|                   BAT |                -| 2022-01-13 21:32:...|\n",
            "|   00009582|                      1|                  0|            06|J DE GARAY       ...|           0004818|                          N|                 |             |                  ...|CASEROS          ...|   TRES DE FEBRERO  ...|     01678|       B1678BJV|         02|               080|                   ...|                        0|              null|                 null|                    NO VERIF  |             2009-01-26|                  00|                 CTES|                 0|               NORM AUTO |               CO        |        2009-01-26|                         0.00|                    |                     |                       |                      |                    |                      |                          0000|                        0000|                       0|         2009-01-26|        PCLE07Q |      2009-01-26|           PCLE07Q |              155342|                   BAT |                -| 2022-01-13 21:32:...|\n",
            "|   26761763|                      1|                  0|            06|PICO             ...|           0003366|                          N|         1       |             |                  ...|CIUDAD AUTONOMA B...|   CAPITAL FEDERAL  ...|     01429|       C1429EGH|         01|               080|                   ...|                        0|              null|                 null|                    NO VERIF  |             2009-01-26|                  00|                 CTES|                 0|               NORM AUTO |               CO        |        2009-01-26|                         0.00|                    |                     |                       |                      |                    |                      |                          0000|                        0000|                       0|         2009-01-26|        PCLE07Q |      2009-01-26|           PCLE07Q |              155342|                   BAT |                -| 2022-01-13 21:32:...|\n",
            "|   00012730|                      1|                  0|            06|DR SALVADOR MAZZA...|           0003170|                          N|                 |             |                  ...|QUILMES OESTE    ...|   QUILMES          ...|     01879|       B1879CMB|         02|               080|                   ...|                        0|              null|                 null|                    NO VERIF  |             2009-01-26|                  00|                 CTES|                 0|               NORM AUTO |               CO        |        2009-01-26|                         0.00|                    |                     |                       |                      |                    |                      |                          0000|                        0000|                       0|         2009-01-26|        PCLE07Q |      2009-01-26|           PCLE07Q |              155342|                   BAT |                -| 2022-01-13 21:32:...|\n",
            "|   23483616|                      1|                  0|            06|NICOLAS MEDINA   ...|           0000667|                          N|                 |             |                  ...|CIUDAD AUTONOMA B...|   CAPITAL FEDERAL  ...|     01407|       C1407JEM|         01|               080|                   ...|                        0|              null|                 null|                    NO VERIF  |             2009-01-26|                  00|                 CTES|                 0|               NORM AUTO |               CO        |        2009-01-26|                         0.00|                    |                     |                       |                      |                    |                      |                          0000|                        0000|                       0|         2009-01-26|        PCLE07Q |      2009-01-26|           PCLE07Q |              155342|                   BAT |                -| 2022-01-13 21:32:...|\n",
            "|   00051576|                      1|                  0|            06|ING GUILLERMO MAR...|           0003215|                          N|                 |             |                  ...|BECCAR           ...|   SAN ISIDRO       ...|     01643|       B1643FFQ|         02|               080|                   ...|                        0|              null|                 null|                    NO VERIF  |             2009-01-26|                  00|                 CTES|                 0|               NORM AUTO |               CO        |        2009-01-26|                         0.00|                    |                     |                       |                      |                    |                      |                          0000|                        0000|                       0|         2009-01-26|        PCLE07Q |      2009-01-26|           PCLE07Q |              155342|                   BAT |                -| 2022-01-13 21:32:...|\n",
            "|   00016049|                      4|                  0|            10|*****************...|           0000000|                          S|                 |             |                  ...|*****************...|   112233114455     ...|     00000|               |         00|               080|                   ...|                        0|              null|                 null|                    NO VERIF  |             2007-12-21|                  00|                 VLCO|                 0|               NO NORM   |                         |              null|                         0.00|                    |                     |                       |                      |                    |                      |                          0000|                        0000|                       0|         1996-11-30|                |      1996-11-30|           CONV    |              173959|                   FUSI|                -| 2022-01-13 21:32:...|\n",
            "|   00016995|                      1|                  0|            06|AGUERO           ...|           0000777|                          N|         2       |      7      |                  ...|CIUDAD AUTONOMA B...|   CAPITAL FEDERAL  ...|     01171|       C1171ABK|         01|               080|                   ...|                        0|              null|                 null|                    NO VERIF  |             2009-01-26|                  00|                 CTES|                 0|               NORM AUTO |               CO        |        2009-01-26|                         0.00|                    |                     |                       |                      |                    |                      |                          0000|                        0000|                       0|         2009-01-26|        PCLE07Q |      2009-01-26|           PCLE07Q |              155342|                   BAT |                -| 2022-01-13 21:32:...|\n",
            "|   26074313|                      1|                  0|            06|GRAL M DE AZCUENA...|           0000396|                          N|         2       |      A      |                  ...|CIUDAD AUTONOMA B...|   CAPITAL FEDERAL  ...|     01029|       C1029AAH|         01|               080|                   ...|                        0|              null|                 null|                    NO VERIF  |             2009-01-26|                  00|                 CTES|                 0|               NORM AUTO |               CO        |        2009-01-26|                         0.00|                    |                     |                       |                      |                    |                      |                          0000|                        0000|                       0|         2009-01-26|        PCLE07Q |      2009-01-26|           PCLE07Q |              155342|                   BAT |                -| 2022-01-13 21:32:...|\n",
            "|   27666452|                      1|                  0|            06|PUEYRREDON       ...|           0002728|                          N|                 |             |                  ...|MANUEL ALBERTI   ...|   PILAR            ...|     01667|       B1664JLA|         02|               080|                   ...|                        0|              null|                 null|                    NO VERIF  |             2008-07-16|                  00|                 CTES|                 1|               NORM AUTO |               CO        |        2008-07-16|                         0.00|                    |                     |                       |                      |                    |                      |                          0000|                        0000|                       0|         2008-07-16|        PCLE510 |      2011-07-01|           PCLE05T |              144535|                   B   |                -| 2022-01-13 21:32:...|\n",
            "|   00001213|                      8|                  3|            00|CLAUDIO MAMERTO C...|           0000111|                          N|         1       |      C      |                  ...|CIUDAD AUTONOMA B...|   CAPITAL FEDERAL  ...|     01406|       C1406ARA|         01|               080|                   ...|                        0|              null|                 null|                    DECLARADO |             2008-12-16|                  01|                 CTES|                 0|               NORM AUTO |               CO        |        2008-12-16|                         0.00|                    |                     |                       |                      |                    |                      |                          0000|                        0000|                       0|         2008-12-16|        XA01006 |      2008-12-16|           XA01006 |              105545|                   M903|                -| 2022-01-13 21:32:...|\n",
            "|   00001213|                      3|                  2|            01|TUCUMAN          ...|           0001332|                          N|         4       |      B      |                  ...|CIUDAD AUTONOMA B...|   CAPITAL FEDERAL  ...|     01050|       C1050AAB|         01|               080|                   ...|                        0|              null|                 null|                    DECLARADO |             2008-12-17|                  01|                 CTES|                 0|               NORM AUTO |               CO        |        2008-12-17|                         0.00|                    |                     |                       |                      |                    |                      |                          0000|                        0000|                       0|         2008-12-12|        XA01006 |      2008-12-17|           XA01006 |              111852|                   M903|                -| 2022-01-13 21:32:...|\n",
            "+-----------+-----------------------+-------------------+--------------+--------------------+------------------+---------------------------+-----------------+-------------+---------------------+--------------------+-----------------------+----------+---------------+-----------+------------------+----------------------+-------------------------+------------------+---------------------+------------------------------+-----------------------+--------------------+---------------------+------------------+-------------------------+-------------------------+------------------+-----------------------------+--------------------+---------------------+-----------------------+----------------------+--------------------+----------------------+------------------------------+----------------------------+------------------------+-------------------+----------------+----------------+-------------------+--------------------+-----------------------+-----------------+---------------------+\n",
            "only showing top 20 rows\n",
            "\n"
          ]
        }
      ]
    },
    {
      "cell_type": "code",
      "source": [],
      "metadata": {
        "id": "fYNV9rlTYVnr"
      },
      "execution_count": null,
      "outputs": []
    },
    {
      "cell_type": "code",
      "source": [
        "#Filtrado y reduccion de datos --> PHONES\n",
        "w = Window.partitionBy(df_customer_basics_phones['customer_id']).orderBy(\"last_change_date\")"
      ],
      "metadata": {
        "id": "xcpJjItfdTjJ"
      },
      "execution_count": 128,
      "outputs": []
    },
    {
      "cell_type": "code",
      "source": [
        "df_customer_basics_phones = df_customer_basics_phones.withColumn(\"row_num\", row_number().over(w))"
      ],
      "metadata": {
        "id": "HDQPycVraAQm"
      },
      "execution_count": 129,
      "outputs": []
    },
    {
      "cell_type": "code",
      "source": [
        "df_customer_basics_phones = df_customer_basics_phones.filter(col(\"row_num\") <= 3)"
      ],
      "metadata": {
        "id": "n3oRV3gLaAZX"
      },
      "execution_count": 130,
      "outputs": []
    },
    {
      "cell_type": "code",
      "source": [
        "df_customer_basics_phones = df_customer_basics_phones.withColumn('Numero_Telefono', F.concat_ws(\"-\", df_phones.prefix_phone_id, df_phones.phone_area_id, df_phones.cellphone_prefix_id, df_phones.phone_exchange_id, df_phones.phone_line_id))\n",
        "df_customer_basics_phones = df_customer_basics_phones.select('customer_id', 'Numero_Telefono', 'phone_id', 'last_change_date')\n",
        "df_customer_basics_phones.show(10)"
      ],
      "metadata": {
        "colab": {
          "base_uri": "https://localhost:8080/"
        },
        "id": "ZLGGCQVYI6aI",
        "outputId": "a2950f49-72bc-4840-fd3e-f2cdaf0a0f2c"
      },
      "execution_count": 131,
      "outputs": [
        {
          "output_type": "stream",
          "name": "stdout",
          "text": [
            "+-----------+-------------------+-------------+----------------+\n",
            "|customer_id|    Numero_Telefono|     phone_id|last_change_date|\n",
            "+-----------+-------------------+-------------+----------------+\n",
            "|   00000442| 54-297-15-529-6284| 712455962424|      2022-07-20|\n",
            "|   00000442| 54-297-15-472-9337| 384498667593|      2022-07-20|\n",
            "|   00001419| 54-11-15-6679-3207| 044982237001|      2022-11-01|\n",
            "|   00001939| 54-11-15-3870-0150| 008960137788|      2022-09-21|\n",
            "|   00002575|                   |         null|            null|\n",
            "|   00002707|   54-299--447-7116|   6116490163|      2022-08-17|\n",
            "|   00002790|   54-342--488-3620|   4330463819|      2022-10-08|\n",
            "|   00002790| 54-342-15-466-2478| 051880599267|      2022-11-18|\n",
            "|   00004287|54-3541-15-5988-799|1456900382957|      2022-08-29|\n",
            "|   00004724| 54-11-15-2408-4447| 820582605809|      2022-11-04|\n",
            "+-----------+-------------------+-------------+----------------+\n",
            "only showing top 10 rows\n",
            "\n"
          ]
        }
      ]
    },
    {
      "cell_type": "code",
      "source": [
        "df_customer_basics_phones.count()"
      ],
      "metadata": {
        "colab": {
          "base_uri": "https://localhost:8080/"
        },
        "id": "8DwLf5qId3kp",
        "outputId": "8acc74fc-764c-4202-b5d8-4e8219b1ba2d"
      },
      "execution_count": 132,
      "outputs": [
        {
          "output_type": "execute_result",
          "data": {
            "text/plain": [
              "2070"
            ]
          },
          "metadata": {},
          "execution_count": 132
        }
      ]
    },
    {
      "cell_type": "code",
      "source": [
        "#Filtrado y reduccion de datos --> EMAILS\n",
        "w = Window.partitionBy(df_customer_basics_email['customer_id']).orderBy(\"last_change_date\")"
      ],
      "metadata": {
        "id": "_kCYhMHpd3wJ"
      },
      "execution_count": 133,
      "outputs": []
    },
    {
      "cell_type": "code",
      "source": [
        "df_customer_basics_email = df_customer_basics_email.withColumn(\"row_num\", row_number().over(w))"
      ],
      "metadata": {
        "id": "YdI72Ndsd3wK"
      },
      "execution_count": 134,
      "outputs": []
    },
    {
      "cell_type": "code",
      "source": [
        "df_customer_basics_email = df_customer_basics_email.filter(col(\"row_num\") <= 3)"
      ],
      "metadata": {
        "id": "CthW4hv1d3wK"
      },
      "execution_count": 135,
      "outputs": []
    },
    {
      "cell_type": "code",
      "source": [
        "df_customer_basics_email.show(10)"
      ],
      "metadata": {
        "colab": {
          "base_uri": "https://localhost:8080/"
        },
        "outputId": "4fc41749-c43e-4275-ad78-9a6e9aa8dc3c",
        "id": "s2B32O57d3wK"
      },
      "execution_count": 136,
      "outputs": [
        {
          "output_type": "stream",
          "name": "stdout",
          "text": [
            "+-----------+--------------------+----------------+-------+\n",
            "|customer_id|          email_desc|last_change_date|row_num|\n",
            "+-----------+--------------------+----------------+-------+\n",
            "|   00000442|                null|            null|      1|\n",
            "|   00001419|EMILIA.RUBIANES@H...|      2015-10-08|      1|\n",
            "|   00001419|  JU_LY1@HOTMAIL.COM|      2019-05-11|      2|\n",
            "|   00001939|                null|            null|      1|\n",
            "|   00002575|                null|            null|      1|\n",
            "|   00002707|                null|            null|      1|\n",
            "|   00002790|DIGITALIZACION@EE...|      1900-01-01|      1|\n",
            "|   00002790| NOTIENE@HOIMAIL.COM|      2019-07-29|      2|\n",
            "|   00004287|                null|            null|      1|\n",
            "|   00004724|                null|            null|      1|\n",
            "+-----------+--------------------+----------------+-------+\n",
            "only showing top 10 rows\n",
            "\n"
          ]
        }
      ]
    },
    {
      "cell_type": "code",
      "source": [
        "df_customer_basics_email.count()"
      ],
      "metadata": {
        "colab": {
          "base_uri": "https://localhost:8080/"
        },
        "id": "LRux0NdLfv_l",
        "outputId": "9a14114a-b802-48a4-ad03-2fd8058b735a"
      },
      "execution_count": 137,
      "outputs": [
        {
          "output_type": "execute_result",
          "data": {
            "text/plain": [
              "1667"
            ]
          },
          "metadata": {},
          "execution_count": 137
        }
      ]
    },
    {
      "cell_type": "code",
      "source": [
        "#Filtrado y reduccion de datos --> EMAILS\n",
        "w = Window.partitionBy(df_customer_basics_address['customer_id']).orderBy(\"last_change_date\")"
      ],
      "metadata": {
        "id": "2-9Om_B2fwLy"
      },
      "execution_count": 138,
      "outputs": []
    },
    {
      "cell_type": "code",
      "source": [
        "df_customer_basics_address = df_customer_basics_address.withColumn(\"row_num\", row_number().over(w))"
      ],
      "metadata": {
        "id": "Bq1_m5GsfwLz"
      },
      "execution_count": 139,
      "outputs": []
    },
    {
      "cell_type": "code",
      "source": [
        "df_customer_basics_address = df_customer_basics_address.filter(col(\"row_num\") <= 3)"
      ],
      "metadata": {
        "id": "p3EwGIlYfwLz"
      },
      "execution_count": 140,
      "outputs": []
    },
    {
      "cell_type": "code",
      "source": [
        "df_customer_basics_address.show(10)"
      ],
      "metadata": {
        "colab": {
          "base_uri": "https://localhost:8080/"
        },
        "outputId": "87062452-31a2-4790-fb7f-b2a1c67f5fda",
        "id": "FIuBrqn8fwLz"
      },
      "execution_count": 141,
      "outputs": [
        {
          "output_type": "stream",
          "name": "stdout",
          "text": [
            "+-----------+--------------------+------------------+-----------------+-------------+--------------------+-----------------------+----------+----------------+-------+\n",
            "|customer_id|         street_name|address_outdoor_id|address_indoor_id|indoor_number|   address_town_name|address_department_name|zipcode_id|last_change_date|row_num|\n",
            "+-----------+--------------------+------------------+-----------------+-------------+--------------------+-----------------------+----------+----------------+-------+\n",
            "|   00000442|AGUERO           ...|           0000842|         PB      |      B      |CAPITAL FEDERAL  ...|   112233114455     ...|     01171|      2008-04-21|      1|\n",
            "|   00001419|ALTE G BROWN     ...|           0001074|         1       |      A      |MORON            ...|   MORON            ...|     01708|      2009-01-26|      1|\n",
            "|   00001939|JOSE HERNANDEZ   ...|           0002045|         1       |      C      |CIUDAD AUTONOMA B...|   CAPITAL FEDERAL  ...|     01426|      2009-01-26|      1|\n",
            "|   00002575|                null|              null|             null|         null|                null|                   null|      null|            null|      1|\n",
            "|   00002707|GUATEMALA        ...|           0001846|                 |             |VIRREYES         ...|   112233114455     ...|     01646|      2011-07-01|      1|\n",
            "|   00002790|AV CORDOBA       ...|           0002206|         4       |      30     |CIUDAD AUTONOMA B...|   CAPITAL FEDERAL  ...|     01120|      2009-01-26|      1|\n",
            "|   00004287|CNEL DE MARINA RO...|           0002750|         5       |      C      |OLIVOS           ...|   VICENTE LOPEZ    ...|     01636|      2009-01-26|      1|\n",
            "|   00004724|PJE MUTUALISMO   ...|           0002559|                 |             |CIUDAD AUTONOMA B...|   CAPITAL FEDERAL  ...|     01284|      2009-01-26|      1|\n",
            "|   00007932|AV FELIX DE OLAZA...|           0005392|         1       |      C      |CIUDAD AUTONOMA B...|   CAPITAL FEDERAL  ...|     01431|      2007-11-02|      1|\n",
            "|   00011850|JUNCAL           ...|           0001027|                 |             |CIUDAD AUTONOMA B...|   CAPITAL FEDERAL  ...|     01062|      2009-01-26|      1|\n",
            "+-----------+--------------------+------------------+-----------------+-------------+--------------------+-----------------------+----------+----------------+-------+\n",
            "only showing top 10 rows\n",
            "\n"
          ]
        }
      ]
    },
    {
      "cell_type": "code",
      "source": [
        "df_customer_basics_address.count()"
      ],
      "metadata": {
        "colab": {
          "base_uri": "https://localhost:8080/"
        },
        "id": "XhLkSE2GiESC",
        "outputId": "0bebdf2b-7351-4fc1-b640-60d56c778c60"
      },
      "execution_count": 142,
      "outputs": [
        {
          "output_type": "execute_result",
          "data": {
            "text/plain": [
              "1660"
            ]
          },
          "metadata": {},
          "execution_count": 142
        }
      ]
    }
  ]
}