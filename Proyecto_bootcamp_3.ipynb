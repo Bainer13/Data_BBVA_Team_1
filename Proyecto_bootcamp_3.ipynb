{
  "nbformat": 4,
  "nbformat_minor": 0,
  "metadata": {
    "colab": {
      "provenance": [],
      "authorship_tag": "ABX9TyPk6mjFAC6EdPIs3y2ARd+Y",
      "include_colab_link": true
    },
    "kernelspec": {
      "name": "python3",
      "display_name": "Python 3"
    },
    "language_info": {
      "name": "python"
    }
  },
  "cells": [
    {
      "cell_type": "markdown",
      "metadata": {
        "id": "view-in-github",
        "colab_type": "text"
      },
      "source": [
        "<a href=\"https://colab.research.google.com/github/Bainer13/Data_BBVA_Team_1/blob/Rodri/Proyecto_bootcamp_3.ipynb\" target=\"_parent\"><img src=\"https://colab.research.google.com/assets/colab-badge.svg\" alt=\"Open In Colab\"/></a>"
      ]
    },
    {
      "cell_type": "markdown",
      "source": [
        "#Armado del entorno de trabajo\n",
        "\n"
      ],
      "metadata": {
        "id": "rjxwPMfNDgy9"
      }
    },
    {
      "cell_type": "code",
      "execution_count": 1,
      "metadata": {
        "id": "lQy_QnsDh3CN"
      },
      "outputs": [],
      "source": [
        "!apt-get install openjdk-8-jdk-headless -qq > /dev/null\n"
      ]
    },
    {
      "cell_type": "code",
      "source": [
        "!wget -q https://dlcdn.apache.org/spark/spark-3.3.2/spark-3.3.2-bin-hadoop3.tgz"
      ],
      "metadata": {
        "id": "WxdDgoDQDwLC"
      },
      "execution_count": 2,
      "outputs": []
    },
    {
      "cell_type": "code",
      "source": [
        "ls"
      ],
      "metadata": {
        "id": "zxQTw235Efnl",
        "colab": {
          "base_uri": "https://localhost:8080/"
        },
        "outputId": "c3205518-7da7-400e-d69c-f991195241d4"
      },
      "execution_count": 3,
      "outputs": [
        {
          "output_type": "stream",
          "name": "stdout",
          "text": [
            "address_bootcamp.snappy.parquet          phones_bootcamp.snappy.parquet\n",
            "customer_basics_bootcamp.snappy.parquet  \u001b[0m\u001b[01;34msample_data\u001b[0m/\n",
            "emails_bootcamp.snappy.parquet           spark-3.3.2-bin-hadoop3.tgz\n"
          ]
        }
      ]
    },
    {
      "cell_type": "code",
      "source": [
        "!tar xf spark-3.3.2-bin-hadoop3.tgz"
      ],
      "metadata": {
        "id": "kTIS3_ExElWP"
      },
      "execution_count": 4,
      "outputs": []
    },
    {
      "cell_type": "code",
      "source": [
        "!java -version"
      ],
      "metadata": {
        "id": "FCeYLe11EoA5",
        "colab": {
          "base_uri": "https://localhost:8080/"
        },
        "outputId": "fbf5cd30-ed08-406e-f540-5b427ed73d4a"
      },
      "execution_count": 5,
      "outputs": [
        {
          "output_type": "stream",
          "name": "stdout",
          "text": [
            "openjdk version \"11.0.18\" 2023-01-17\n",
            "OpenJDK Runtime Environment (build 11.0.18+10-post-Ubuntu-0ubuntu120.04.1)\n",
            "OpenJDK 64-Bit Server VM (build 11.0.18+10-post-Ubuntu-0ubuntu120.04.1, mixed mode, sharing)\n"
          ]
        }
      ]
    },
    {
      "cell_type": "code",
      "source": [
        "!readlink -f $(which java) | sed \"s:bin/java::\"\n"
      ],
      "metadata": {
        "id": "QnNvgsFKEvF0",
        "colab": {
          "base_uri": "https://localhost:8080/"
        },
        "outputId": "df8b845e-5f8d-4418-b35c-79593e984187"
      },
      "execution_count": 6,
      "outputs": [
        {
          "output_type": "stream",
          "name": "stdout",
          "text": [
            "/usr/lib/jvm/java-11-openjdk-amd64/\n"
          ]
        }
      ]
    },
    {
      "cell_type": "code",
      "source": [
        "!echo $JAVA_HOME"
      ],
      "metadata": {
        "id": "EHoXgQb0EyH4",
        "colab": {
          "base_uri": "https://localhost:8080/"
        },
        "outputId": "b2c7b992-a65b-4c03-fa45-a51bf4da1d50"
      },
      "execution_count": 7,
      "outputs": [
        {
          "output_type": "stream",
          "name": "stdout",
          "text": [
            "\n"
          ]
        }
      ]
    },
    {
      "cell_type": "code",
      "source": [
        "!pip install -q findspark"
      ],
      "metadata": {
        "id": "xA6BrWOlEzwl"
      },
      "execution_count": 8,
      "outputs": []
    },
    {
      "cell_type": "code",
      "source": [
        "!pip install pyspark "
      ],
      "metadata": {
        "id": "FWcYXxSfE-66",
        "colab": {
          "base_uri": "https://localhost:8080/"
        },
        "outputId": "ebd7a978-c355-4664-f710-1aa13960d17d"
      },
      "execution_count": 9,
      "outputs": [
        {
          "output_type": "stream",
          "name": "stdout",
          "text": [
            "Looking in indexes: https://pypi.org/simple, https://us-python.pkg.dev/colab-wheels/public/simple/\n",
            "Collecting pyspark\n",
            "  Downloading pyspark-3.3.2.tar.gz (281.4 MB)\n",
            "\u001b[2K     \u001b[90m━━━━━━━━━━━━━━━━━━━━━━━━━━━━━━━━━━━━━━━\u001b[0m \u001b[32m281.4/281.4 MB\u001b[0m \u001b[31m4.3 MB/s\u001b[0m eta \u001b[36m0:00:00\u001b[0m\n",
            "\u001b[?25h  Preparing metadata (setup.py) ... \u001b[?25l\u001b[?25hdone\n",
            "Collecting py4j==0.10.9.5\n",
            "  Downloading py4j-0.10.9.5-py2.py3-none-any.whl (199 kB)\n",
            "\u001b[2K     \u001b[90m━━━━━━━━━━━━━━━━━━━━━━━━━━━━━━━━━━━━━━\u001b[0m \u001b[32m199.7/199.7 KB\u001b[0m \u001b[31m18.1 MB/s\u001b[0m eta \u001b[36m0:00:00\u001b[0m\n",
            "\u001b[?25hBuilding wheels for collected packages: pyspark\n",
            "  Building wheel for pyspark (setup.py) ... \u001b[?25l\u001b[?25hdone\n",
            "  Created wheel for pyspark: filename=pyspark-3.3.2-py2.py3-none-any.whl size=281824028 sha256=0bede9f4aa81b2a6dc12cde9c6f1ee600298abf2c9454c133ebccc268cb550e5\n",
            "  Stored in directory: /root/.cache/pip/wheels/6c/e3/9b/0525ce8a69478916513509d43693511463c6468db0de237c86\n",
            "Successfully built pyspark\n",
            "Installing collected packages: py4j, pyspark\n",
            "  Attempting uninstall: py4j\n",
            "    Found existing installation: py4j 0.10.9.7\n",
            "    Uninstalling py4j-0.10.9.7:\n",
            "      Successfully uninstalled py4j-0.10.9.7\n",
            "Successfully installed py4j-0.10.9.5 pyspark-3.3.2\n"
          ]
        }
      ]
    },
    {
      "cell_type": "code",
      "source": [
        "from pyspark.sql import SparkSession"
      ],
      "metadata": {
        "id": "RxVvKnuTFNAX"
      },
      "execution_count": 10,
      "outputs": []
    },
    {
      "cell_type": "code",
      "source": [
        "import pyspark.sql.functions as F"
      ],
      "metadata": {
        "id": "8_ZZIDSki9dp"
      },
      "execution_count": 11,
      "outputs": []
    },
    {
      "cell_type": "code",
      "source": [
        "import pandas as pd\n",
        "pd.set_option('display.max_rows', None)"
      ],
      "metadata": {
        "id": "ZpM3yHEfjaqZ"
      },
      "execution_count": 12,
      "outputs": []
    },
    {
      "cell_type": "code",
      "source": [
        "from pyspark.sql.window import Window\n",
        "from pyspark.sql.functions import row_number\n",
        "from pyspark.sql.functions import col\n",
        "from pyspark.sql.functions import *"
      ],
      "metadata": {
        "id": "n04j9qewV5Co"
      },
      "execution_count": 158,
      "outputs": []
    },
    {
      "cell_type": "code",
      "source": [
        "spark = SparkSession.builder.getOrCreate()"
      ],
      "metadata": {
        "id": "K6zkngyXU8C2"
      },
      "execution_count": 14,
      "outputs": []
    },
    {
      "cell_type": "code",
      "source": [
        "spark.conf.set('spark.sql.legacy.parquet.datetimeRebaseModeInRead', 'CORRECTED')"
      ],
      "metadata": {
        "id": "G6ICwe5mVXHZ"
      },
      "execution_count": 15,
      "outputs": []
    },
    {
      "cell_type": "markdown",
      "source": [
        "#Extraccion de datos"
      ],
      "metadata": {
        "id": "M865_XBwVRTW"
      }
    },
    {
      "cell_type": "code",
      "source": [
        "#Lectura de parquets\n",
        "df_address = spark.read.parquet('/content/address_bootcamp.snappy.parquet')\n",
        "df_customer_basics = spark.read.parquet('/content/customer_basics_bootcamp.snappy.parquet')\n",
        "df_email = spark.read.parquet('/content/emails_bootcamp.snappy.parquet')\n",
        "df_phones = spark.read.parquet('/content/phones_bootcamp.snappy.parquet')"
      ],
      "metadata": {
        "id": "fjFFL9njVZyK"
      },
      "execution_count": 267,
      "outputs": []
    },
    {
      "cell_type": "markdown",
      "source": [
        "**HAGO LOS JOIN DE LA TABLA DE CLIENTES CON LAS TABLAS DE DATOS POR SEPARADO**"
      ],
      "metadata": {
        "id": "-QaxnC9a-yhF"
      }
    },
    {
      "cell_type": "code",
      "source": [
        "#Join entre clientes y telefonos\n",
        "df_customer_basics_phones = df_customer_basics.join(df_phones, ['customer_id'], how='left').select(df_customer_basics.customer_id, df_phones.prefix_phone_id, df_phones.phone_area_id, df_phones.cellphone_prefix_id, df_phones.phone_exchange_id, df_phones.phone_line_id, df_phones.phone_id, df_phones.last_change_date)\n",
        "df_customer_basics_phones.sort(F.asc(\"customer_id\")).show(10)"
      ],
      "metadata": {
        "id": "OjHiWM7KdTXb"
      },
      "execution_count": null,
      "outputs": []
    },
    {
      "cell_type": "code",
      "source": [
        "#Join entre clientes y email\n",
        "df_customer_basics_email = df_customer_basics.join(df_email,['customer_id'], how='left').select(df_customer_basics.customer_id, df_email.email_desc, df_email.last_change_date)\n",
        "df_customer_basics_email.show()"
      ],
      "metadata": {
        "id": "B_17ljUR0BOM"
      },
      "execution_count": null,
      "outputs": []
    },
    {
      "cell_type": "code",
      "source": [
        "#join entre clientes y direccion\n",
        "df_customer_basics_address = df_customer_basics.join(df_address,['customer_id'], how='left').select(df_customer_basics.customer_id, 'street_name', 'address_outdoor_id','address_indoor_id', 'indoor_number', 'address_town_name', 'address_department_name', 'zipcode_id', df_address.last_change_date)\n",
        "df_customer_basics_address.show()"
      ],
      "metadata": {
        "id": "FcAhH0c70Yxa"
      },
      "execution_count": null,
      "outputs": []
    },
    {
      "cell_type": "code",
      "source": [],
      "metadata": {
        "id": "fYNV9rlTYVnr"
      },
      "execution_count": null,
      "outputs": []
    },
    {
      "cell_type": "markdown",
      "source": [
        "**FILTRADO Y REDUCCION DE DATOS --> PHONES**"
      ],
      "metadata": {
        "id": "YlsY5lSo9xK6"
      }
    },
    {
      "cell_type": "code",
      "source": [
        "#Hago una ventana por el customer_id y ordenado por la ultima actualizacion \n",
        "w = Window.partitionBy(df_customer_basics_phones['customer_id']).orderBy(\"last_change_date\")"
      ],
      "metadata": {
        "id": "xcpJjItfdTjJ"
      },
      "execution_count": 272,
      "outputs": []
    },
    {
      "cell_type": "code",
      "source": [
        "#Agrego columna que cuente la cantidad de veces que se repite el ID\n",
        "df_customer_basics_phones = df_customer_basics_phones.withColumn(\"row_num\", row_number().over(w))"
      ],
      "metadata": {
        "id": "HDQPycVraAQm"
      },
      "execution_count": 273,
      "outputs": []
    },
    {
      "cell_type": "code",
      "source": [
        "#Corto el dataframe quedandome con las ultimas 3 actualizaciones\n",
        "df_customer_basics_phones = df_customer_basics_phones.filter(col(\"row_num\") <= 3)"
      ],
      "metadata": {
        "id": "n3oRV3gLaAZX"
      },
      "execution_count": 274,
      "outputs": []
    },
    {
      "cell_type": "code",
      "source": [
        "#Reacomodo la tabla con las columnas de interes y concatenando una nueva\n",
        "df_customer_basics_phones = df_customer_basics_phones.withColumn('phone_number', F.concat('phone_exchange_id', 'phone_line_id'))\n",
        "df_customer_basics_phones = df_customer_basics_phones.select('customer_id', 'prefix_phone_id', 'phone_area_id', 'phone_number', 'row_num')\n",
        "df_customer_basics_phones.show(10)"
      ],
      "metadata": {
        "id": "ZLGGCQVYI6aI"
      },
      "execution_count": null,
      "outputs": []
    },
    {
      "cell_type": "code",
      "source": [
        "#creo una funcion pivot para una columna especificada y cambiarle el nombre a las nuevas.\n",
        "def pivote(a):   \n",
        "    df_pivote = df_customer_basics_phones.groupBy(\"customer_id\").pivot(\"row_num\").agg(first(a))\n",
        "    df_pivote = df_pivote.withColumnRenamed(\"1\", a + \"_1\") \\\n",
        "       .withColumnRenamed(\"2\", a + \"_2\") \\\n",
        "       .withColumnRenamed(\"3\", a + \"_3\")\n",
        "    return df_pivote "
      ],
      "metadata": {
        "id": "fLvYs7w8dn7-"
      },
      "execution_count": 276,
      "outputs": []
    },
    {
      "cell_type": "code",
      "source": [
        "df_pivot = pivote('prefix_phone_id')\n",
        "df_pivot2 = pivote('phone_area_id')\n",
        "df_pivot3 = pivote('phone_number')"
      ],
      "metadata": {
        "id": "2CvaTvR_d6IQ"
      },
      "execution_count": 277,
      "outputs": []
    },
    {
      "cell_type": "code",
      "source": [
        "#Uno las tres tablas pivot y reacomodo las columnas.\n",
        "joined_df = df_pivot.join(df_pivot2, on='customer_id', how='outer')\n",
        "df_final_customer_phones = joined_df.join(df_pivot3, on='customer_id', how='outer')\n",
        "df_final_customer_phones = df_final_customer_phones.select('customer_id', 'prefix_phone_id_1', 'phone_area_id_1', 'phone_number_1', 'prefix_phone_id_2', 'phone_area_id_2', 'phone_number_2', 'prefix_phone_id_3', 'phone_area_id_3', 'phone_number_3')\n",
        "df_final_customer_phones.show()"
      ],
      "metadata": {
        "colab": {
          "base_uri": "https://localhost:8080/"
        },
        "id": "bkM3CCHq5Iqt",
        "outputId": "1383b30d-7975-49a3-8f1e-4005beb7625b"
      },
      "execution_count": 278,
      "outputs": [
        {
          "output_type": "stream",
          "name": "stdout",
          "text": [
            "+-----------+-----------------+---------------+--------------+-----------------+---------------+--------------+-----------------+---------------+--------------+\n",
            "|customer_id|prefix_phone_id_1|phone_area_id_1|phone_number_1|prefix_phone_id_2|phone_area_id_2|phone_number_2|prefix_phone_id_3|phone_area_id_3|phone_number_3|\n",
            "+-----------+-----------------+---------------+--------------+-----------------+---------------+--------------+-----------------+---------------+--------------+\n",
            "|   00000442|               54|            297|       5296284|               54|            297|       4729337|             null|           null|          null|\n",
            "|   00001419|               54|             11|      66793207|             null|           null|          null|             null|           null|          null|\n",
            "|   00001939|               54|             11|      38700150|             null|           null|          null|             null|           null|          null|\n",
            "|   00002575|             null|           null|          null|             null|           null|          null|             null|           null|          null|\n",
            "|   00002707|               54|            299|       4477116|             null|           null|          null|             null|           null|          null|\n",
            "|   00002790|               54|            342|       4883620|               54|            342|       4662478|             null|           null|          null|\n",
            "|   00004287|               54|           3541|       5988799|             null|           null|          null|             null|           null|          null|\n",
            "|   00004724|               54|             11|      24084447|             null|           null|          null|             null|           null|          null|\n",
            "|   00007932|               54|            385|       4065887|             null|           null|          null|             null|           null|          null|\n",
            "|   00011850|               54|             11|      25781080|               54|           3489|        493578|             null|           null|          null|\n",
            "|   00012051|               54|           3401|        534381|             null|           null|          null|             null|           null|          null|\n",
            "|   00012611|               54|             11|      43443165|               54|             11|      61141855|             null|           null|          null|\n",
            "|   00012991|             null|           null|          null|             null|           null|          null|             null|           null|          null|\n",
            "|   00013498|               54|            221|       6208511|             null|           null|          null|             null|           null|          null|\n",
            "|   00014664|               54|             11|      65050605|             null|           null|          null|             null|           null|          null|\n",
            "|   00015497|               54|             11|      51052460|             null|           null|          null|             null|           null|          null|\n",
            "|   00051576|               54|             11|      26531080|             null|           null|          null|             null|           null|          null|\n",
            "|   00053993|               54|           3718|        466655|             null|           null|          null|             null|           null|          null|\n",
            "|   00056407|               54|            336|       4577255|             null|           null|          null|             null|           null|          null|\n",
            "|   00056947|               54|            297|       4301718|               54|            297|       4577276|             null|           null|          null|\n",
            "+-----------+-----------------+---------------+--------------+-----------------+---------------+--------------+-----------------+---------------+--------------+\n",
            "only showing top 20 rows\n",
            "\n"
          ]
        }
      ]
    },
    {
      "cell_type": "markdown",
      "source": [
        "**FILTRADO Y REDUCCION DE DATOS --> EMAILS**"
      ],
      "metadata": {
        "id": "y6RECo3H_Ccw"
      }
    },
    {
      "cell_type": "code",
      "source": [
        "#Filtrado y reduccion de datos --> EMAILS\n",
        "w = Window.partitionBy(df_customer_basics_email['customer_id']).orderBy(\"last_change_date\")"
      ],
      "metadata": {
        "id": "_kCYhMHpd3wJ"
      },
      "execution_count": 279,
      "outputs": []
    },
    {
      "cell_type": "code",
      "source": [
        "df_customer_basics_email = df_customer_basics_email.withColumn(\"row_num\", row_number().over(w))"
      ],
      "metadata": {
        "id": "YdI72Ndsd3wK"
      },
      "execution_count": 280,
      "outputs": []
    },
    {
      "cell_type": "code",
      "source": [
        "df_customer_basics_email = df_customer_basics_email.filter(col(\"row_num\") <= 3)"
      ],
      "metadata": {
        "id": "CthW4hv1d3wK"
      },
      "execution_count": 281,
      "outputs": []
    },
    {
      "cell_type": "code",
      "source": [
        "df_customer_basics_email.show(10)"
      ],
      "metadata": {
        "id": "s2B32O57d3wK"
      },
      "execution_count": null,
      "outputs": []
    },
    {
      "cell_type": "code",
      "source": [
        "#Hago primer tabla pivot para dejar una fila por ID y tener cada email en columnas separadas\n",
        "df_final_customer_email = df_customer_basics_email.groupBy(\"customer_id\").pivot(\"row_num\").agg(first(\"email_desc\"))\n",
        "df_final_customer_email = df_final_customer_email.withColumnRenamed(\"1\", \"email_1\") \\\n",
        "       .withColumnRenamed(\"2\", \"email_2\") \\\n",
        "       .withColumnRenamed(\"3\", \"email_3\")\n",
        "df_final_customer_email.show()"
      ],
      "metadata": {
        "id": "eV1XYnSB_Yj_"
      },
      "execution_count": null,
      "outputs": []
    },
    {
      "cell_type": "markdown",
      "source": [
        "**Filtrado y reduccion de datos --> ADDRESS**"
      ],
      "metadata": {
        "id": "ZfzFJajcCiQD"
      }
    },
    {
      "cell_type": "code",
      "source": [
        "#Hago una ventana por el customer_id y ordenado por la ultima actualizacion \n",
        "w = Window.partitionBy(df_customer_basics_address['customer_id']).orderBy(\"last_change_date\")"
      ],
      "metadata": {
        "id": "pxkks_YiUH5a"
      },
      "execution_count": 284,
      "outputs": []
    },
    {
      "cell_type": "code",
      "source": [
        "#Agrego columna que cuente la cantidad de veces que se repite el ID\n",
        "df_customer_basics_address = df_customer_basics_address.withColumn(\"row_num\", row_number().over(w))"
      ],
      "metadata": {
        "id": "Re5F4bZzUH5a"
      },
      "execution_count": 285,
      "outputs": []
    },
    {
      "cell_type": "code",
      "source": [
        "#Corto el dataframe quedandome con las ultimas 3 actualizaciones\n",
        "df_customer_basics_address = df_customer_basics_address.filter(col(\"row_num\") <= 3)"
      ],
      "metadata": {
        "id": "B3I6KV-zUH5b"
      },
      "execution_count": 286,
      "outputs": []
    },
    {
      "cell_type": "code",
      "source": [
        "#Reacomodo la tabla con las columnas de interes.\n",
        "df_customer_basics_address = df_customer_basics_address.select('customer_id', 'street_name', 'address_outdoor_id', 'address_indoor_id', 'indoor_number', 'address_town_name', 'address_department_name', 'zipcode_id', 'row_num')\n",
        "df_customer_basics_address.show(10)"
      ],
      "metadata": {
        "id": "XHkQtwHzSsMm"
      },
      "execution_count": null,
      "outputs": []
    },
    {
      "cell_type": "code",
      "source": [
        "#creo una funcion pivot para una columna especificada y cambiarle el nombre a las nuevas.\n",
        "def pivote2(a):   \n",
        "    df_pivote = df_customer_basics_address.groupBy(\"customer_id\").pivot(\"row_num\").agg(first(a))\n",
        "    df_pivote = df_pivote.withColumnRenamed(\"1\", a + \"_1\") \\\n",
        "       .withColumnRenamed(\"2\", a + \"_2\") \\\n",
        "       .withColumnRenamed(\"3\", a + \"_3\")\n",
        "    return df_pivote "
      ],
      "metadata": {
        "id": "OhwYHQvxWu0b"
      },
      "execution_count": 288,
      "outputs": []
    },
    {
      "cell_type": "code",
      "source": [
        "#Aplico la funcion para cada una de las columnas de la tabla de customers-address\n",
        "df_pivot4 = pivote2('street_name')\n",
        "df_pivot5 = pivote2('address_outdoor_id')\n",
        "df_pivot6 = pivote2('address_indoor_id')\n",
        "df_pivot7 = pivote2('indoor_number')\n",
        "df_pivot8 = pivote2('address_town_name')\n",
        "df_pivot9 = pivote2('address_department_name')\n",
        "df_pivot10 = pivote2('zipcode_id')"
      ],
      "metadata": {
        "id": "P-CBCv9bacfv"
      },
      "execution_count": 289,
      "outputs": []
    },
    {
      "cell_type": "code",
      "source": [
        "#Uno las tres tablas pivot y reacomodo las columnas.\n",
        "join1 = df_pivot4.join(df_pivot5, on='customer_id', how='outer')\n",
        "join2 = join1.join(df_pivot6, on='customer_id', how='outer')\n",
        "join3 = join2.join(df_pivot7, on='customer_id', how='outer')\n",
        "join4 = join3.join(df_pivot8, on='customer_id', how='outer')\n",
        "join5 = join4.join(df_pivot9, on='customer_id', how='outer')\n",
        "join6 = join5.join(df_pivot10, on='customer_id', how='outer')\n",
        "df_final_customer_address = join6.select('customer_id', 'street_name_1', 'address_outdoor_id_1', 'address_indoor_id_1', 'indoor_number_1', 'address_department_name_1', 'zipcode_id_1', 'street_name_2', 'address_outdoor_id_2', 'address_indoor_id_2', 'indoor_number_2', 'address_department_name_2', 'zipcode_id_2', 'street_name_3', 'address_outdoor_id_3', 'address_indoor_id_3', 'indoor_number_3', 'address_department_name_3', 'zipcode_id_3')\n",
        "df_final_customer_address.show()"
      ],
      "metadata": {
        "colab": {
          "base_uri": "https://localhost:8080/"
        },
        "id": "u8fvY10hWu9F",
        "outputId": "8a8f0e39-568f-4a6b-b933-4b547764c847"
      },
      "execution_count": 290,
      "outputs": [
        {
          "output_type": "stream",
          "name": "stdout",
          "text": [
            "+-----------+--------------------+--------------------+-------------------+---------------+-------------------------+------------+-------------+--------------------+-------------------+---------------+-------------------------+------------+-------------+--------------------+-------------------+---------------+-------------------------+------------+\n",
            "|customer_id|       street_name_1|address_outdoor_id_1|address_indoor_id_1|indoor_number_1|address_department_name_1|zipcode_id_1|street_name_2|address_outdoor_id_2|address_indoor_id_2|indoor_number_2|address_department_name_2|zipcode_id_2|street_name_3|address_outdoor_id_3|address_indoor_id_3|indoor_number_3|address_department_name_3|zipcode_id_3|\n",
            "+-----------+--------------------+--------------------+-------------------+---------------+-------------------------+------------+-------------+--------------------+-------------------+---------------+-------------------------+------------+-------------+--------------------+-------------------+---------------+-------------------------+------------+\n",
            "|   00000442|AGUERO           ...|             0000842|           PB      |        B      |     112233114455     ...|       01171|         null|                null|               null|           null|                     null|        null|         null|                null|               null|           null|                     null|        null|\n",
            "|   00001419|ALTE G BROWN     ...|             0001074|           1       |        A      |     MORON            ...|       01708|         null|                null|               null|           null|                     null|        null|         null|                null|               null|           null|                     null|        null|\n",
            "|   00001939|JOSE HERNANDEZ   ...|             0002045|           1       |        C      |     CAPITAL FEDERAL  ...|       01426|         null|                null|               null|           null|                     null|        null|         null|                null|               null|           null|                     null|        null|\n",
            "|   00002575|                null|                null|               null|           null|                     null|        null|         null|                null|               null|           null|                     null|        null|         null|                null|               null|           null|                     null|        null|\n",
            "|   00002707|GUATEMALA        ...|             0001846|                   |               |     112233114455     ...|       01646|         null|                null|               null|           null|                     null|        null|         null|                null|               null|           null|                     null|        null|\n",
            "|   00002790|AV CORDOBA       ...|             0002206|           4       |        30     |     CAPITAL FEDERAL  ...|       01120|         null|                null|               null|           null|                     null|        null|         null|                null|               null|           null|                     null|        null|\n",
            "|   00004287|CNEL DE MARINA RO...|             0002750|           5       |        C      |     VICENTE LOPEZ    ...|       01636|         null|                null|               null|           null|                     null|        null|         null|                null|               null|           null|                     null|        null|\n",
            "|   00004724|PJE MUTUALISMO   ...|             0002559|                   |               |     CAPITAL FEDERAL  ...|       01284|         null|                null|               null|           null|                     null|        null|         null|                null|               null|           null|                     null|        null|\n",
            "|   00007932|AV FELIX DE OLAZA...|             0005392|           1       |        C      |     CAPITAL FEDERAL  ...|       01431|         null|                null|               null|           null|                     null|        null|         null|                null|               null|           null|                     null|        null|\n",
            "|   00011850|JUNCAL           ...|             0001027|                   |               |     CAPITAL FEDERAL  ...|       01062|         null|                null|               null|           null|                     null|        null|         null|                null|               null|           null|                     null|        null|\n",
            "|   00012051|AV GRAL JOSE MARI...|             0005310|           3       |        E      |     CAPITAL FEDERAL  ...|       01419|         null|                null|               null|           null|                     null|        null|         null|                null|               null|           null|                     null|        null|\n",
            "|   00012611|ALBERTO LARROQUE ...|             0000991|                   |               |     LOMAS DE ZAMORA  ...|       01828|         null|                null|               null|           null|                     null|        null|         null|                null|               null|           null|                     null|        null|\n",
            "|   00012991|                null|                null|               null|           null|                     null|        null|         null|                null|               null|           null|                     null|        null|         null|                null|               null|           null|                     null|        null|\n",
            "|   00013498|AV PTE H YRIGOYEN...|             0010600|                   |               |     LOMAS DE ZAMORA  ...|       01834|         null|                null|               null|           null|                     null|        null|         null|                null|               null|           null|                     null|        null|\n",
            "|   00014664|AV TRIUNVIRATO   ...|             0004337|           PB      |        C      |     CAPITAL FEDERAL  ...|       01431|         null|                null|               null|           null|                     null|        null|         null|                null|               null|           null|                     null|        null|\n",
            "|   00015497|VUELTA DE OBLIGAD...|             0002561|           7       |        A      |     CAPITAL FEDERAL  ...|       01428|         null|                null|               null|           null|                     null|        null|         null|                null|               null|           null|                     null|        null|\n",
            "|   00051576|ING GUILLERMO MAR...|             0003215|                   |               |     SAN ISIDRO       ...|       01643|         null|                null|               null|           null|                     null|        null|         null|                null|               null|           null|                     null|        null|\n",
            "|   00053993|CALLE 899        ...|             0001434|                   |               |     QUILMES          ...|       01879|         null|                null|               null|           null|                     null|        null|         null|                null|               null|           null|                     null|        null|\n",
            "|   00056407|AV DR J BAUTISTA ...|             0001421|           2       |        C      |     CAPITAL FEDERAL  ...|       01414|         null|                null|               null|           null|                     null|        null|         null|                null|               null|           null|                     null|        null|\n",
            "|   00056947|AV 25 DE MAYO    ...|             0001301|                   |               |     LANUS            ...|       01824|         null|                null|               null|           null|                     null|        null|         null|                null|               null|           null|                     null|        null|\n",
            "+-----------+--------------------+--------------------+-------------------+---------------+-------------------------+------------+-------------+--------------------+-------------------+---------------+-------------------------+------------+-------------+--------------------+-------------------+---------------+-------------------------+------------+\n",
            "only showing top 20 rows\n",
            "\n"
          ]
        }
      ]
    }
  ]
}