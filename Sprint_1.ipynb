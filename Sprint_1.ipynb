{
  "nbformat": 4,
  "nbformat_minor": 0,
  "metadata": {
    "colab": {
      "provenance": [],
      "collapsed_sections": [
        "ZIpBYdh4BbTz",
        "59s_pqBQG4Eu"
      ],
      "authorship_tag": "ABX9TyPQdsqmWpFItuDDhWx36tof",
      "include_colab_link": true
    },
    "kernelspec": {
      "name": "python3",
      "display_name": "Python 3"
    },
    "language_info": {
      "name": "python"
    }
  },
  "cells": [
    {
      "cell_type": "markdown",
      "metadata": {
        "id": "view-in-github",
        "colab_type": "text"
      },
      "source": [
        "<a href=\"https://colab.research.google.com/github/Bainer13/Data_BBVA_Team_1/blob/Espe/Sprint_1.ipynb\" target=\"_parent\"><img src=\"https://colab.research.google.com/assets/colab-badge.svg\" alt=\"Open In Colab\"/></a>"
      ]
    },
    {
      "cell_type": "markdown",
      "source": [
        "#Armado del entorno\n",
        "\n"
      ],
      "metadata": {
        "id": "rjxwPMfNDgy9"
      }
    },
    {
      "cell_type": "code",
      "execution_count": 2,
      "metadata": {
        "id": "lQy_QnsDh3CN"
      },
      "outputs": [],
      "source": [
        "!apt-get install openjdk-8-jdk-headless -qq > /dev/null\n"
      ]
    },
    {
      "cell_type": "code",
      "source": [
        "!wget -q https://dlcdn.apache.org/spark/spark-3.3.2/spark-3.3.2-bin-hadoop3.tgz"
      ],
      "metadata": {
        "id": "WxdDgoDQDwLC"
      },
      "execution_count": 3,
      "outputs": []
    },
    {
      "cell_type": "code",
      "source": [
        "ls"
      ],
      "metadata": {
        "colab": {
          "base_uri": "https://localhost:8080/"
        },
        "id": "zxQTw235Efnl",
        "outputId": "6131393d-d90a-4c50-a703-6d16aef4b75c"
      },
      "execution_count": 4,
      "outputs": [
        {
          "output_type": "stream",
          "name": "stdout",
          "text": [
            "\u001b[0m\u001b[01;34msample_data\u001b[0m/  spark-3.3.2-bin-hadoop3.tgz\n"
          ]
        }
      ]
    },
    {
      "cell_type": "code",
      "source": [
        "!tar xf spark-3.3.2-bin-hadoop3.tgz"
      ],
      "metadata": {
        "id": "kTIS3_ExElWP"
      },
      "execution_count": 5,
      "outputs": []
    },
    {
      "cell_type": "code",
      "source": [
        "!java -version"
      ],
      "metadata": {
        "colab": {
          "base_uri": "https://localhost:8080/"
        },
        "id": "FCeYLe11EoA5",
        "outputId": "edc29663-ccc2-4772-ea24-2a1d22bd57e4"
      },
      "execution_count": 6,
      "outputs": [
        {
          "output_type": "stream",
          "name": "stdout",
          "text": [
            "openjdk version \"11.0.18\" 2023-01-17\n",
            "OpenJDK Runtime Environment (build 11.0.18+10-post-Ubuntu-0ubuntu120.04.1)\n",
            "OpenJDK 64-Bit Server VM (build 11.0.18+10-post-Ubuntu-0ubuntu120.04.1, mixed mode, sharing)\n"
          ]
        }
      ]
    },
    {
      "cell_type": "code",
      "source": [
        "!readlink -f $(which java) | sed \"s:bin/java::\"\n"
      ],
      "metadata": {
        "colab": {
          "base_uri": "https://localhost:8080/"
        },
        "id": "QnNvgsFKEvF0",
        "outputId": "5f8cd051-eb77-4a4b-a0fb-5c085e93c9a4"
      },
      "execution_count": 7,
      "outputs": [
        {
          "output_type": "stream",
          "name": "stdout",
          "text": [
            "/usr/lib/jvm/java-11-openjdk-amd64/\n"
          ]
        }
      ]
    },
    {
      "cell_type": "code",
      "source": [
        "!echo $JAVA_HOME"
      ],
      "metadata": {
        "colab": {
          "base_uri": "https://localhost:8080/"
        },
        "id": "EHoXgQb0EyH4",
        "outputId": "8c3e55b5-4e83-4458-cfef-1bf2dace2d34"
      },
      "execution_count": 8,
      "outputs": [
        {
          "output_type": "stream",
          "name": "stdout",
          "text": [
            "\n"
          ]
        }
      ]
    },
    {
      "cell_type": "code",
      "source": [
        "!pip install -q findspark"
      ],
      "metadata": {
        "id": "xA6BrWOlEzwl"
      },
      "execution_count": 9,
      "outputs": []
    },
    {
      "cell_type": "code",
      "source": [
        "!pip install pyspark "
      ],
      "metadata": {
        "colab": {
          "base_uri": "https://localhost:8080/"
        },
        "id": "FWcYXxSfE-66",
        "outputId": "6a165699-0090-4645-db27-e92c01436158"
      },
      "execution_count": 10,
      "outputs": [
        {
          "output_type": "stream",
          "name": "stdout",
          "text": [
            "Looking in indexes: https://pypi.org/simple, https://us-python.pkg.dev/colab-wheels/public/simple/\n",
            "Collecting pyspark\n",
            "  Downloading pyspark-3.3.2.tar.gz (281.4 MB)\n",
            "\u001b[2K     \u001b[90m━━━━━━━━━━━━━━━━━━━━━━━━━━━━━━━━━━━━━━━\u001b[0m \u001b[32m281.4/281.4 MB\u001b[0m \u001b[31m4.6 MB/s\u001b[0m eta \u001b[36m0:00:00\u001b[0m\n",
            "\u001b[?25h  Preparing metadata (setup.py) ... \u001b[?25l\u001b[?25hdone\n",
            "Collecting py4j==0.10.9.5\n",
            "  Downloading py4j-0.10.9.5-py2.py3-none-any.whl (199 kB)\n",
            "\u001b[2K     \u001b[90m━━━━━━━━━━━━━━━━━━━━━━━━━━━━━━━━━━━━━━\u001b[0m \u001b[32m199.7/199.7 KB\u001b[0m \u001b[31m23.3 MB/s\u001b[0m eta \u001b[36m0:00:00\u001b[0m\n",
            "\u001b[?25hBuilding wheels for collected packages: pyspark\n",
            "  Building wheel for pyspark (setup.py) ... \u001b[?25l\u001b[?25hdone\n",
            "  Created wheel for pyspark: filename=pyspark-3.3.2-py2.py3-none-any.whl size=281824028 sha256=65e1ae78994ff9f93e6a8e4adc95eb216485fb77c1204e4eb9a6122611a299e0\n",
            "  Stored in directory: /root/.cache/pip/wheels/6c/e3/9b/0525ce8a69478916513509d43693511463c6468db0de237c86\n",
            "Successfully built pyspark\n",
            "Installing collected packages: py4j, pyspark\n",
            "  Attempting uninstall: py4j\n",
            "    Found existing installation: py4j 0.10.9.7\n",
            "    Uninstalling py4j-0.10.9.7:\n",
            "      Successfully uninstalled py4j-0.10.9.7\n",
            "Successfully installed py4j-0.10.9.5 pyspark-3.3.2\n"
          ]
        }
      ]
    },
    {
      "cell_type": "markdown",
      "source": [
        "#Librerias y funcionamiento de spark"
      ],
      "metadata": {
        "id": "HkroyDlOesEe"
      }
    },
    {
      "cell_type": "code",
      "source": [
        "from pyspark.sql import SparkSession\n",
        "from pyspark.sql.window import Window\n",
        "import pyspark.sql.functions as F\n",
        "from pyspark import SparkContext\n",
        "from pyspark.sql.functions import row_number, desc"
      ],
      "metadata": {
        "id": "5VMANW26xSwT"
      },
      "execution_count": 11,
      "outputs": []
    },
    {
      "cell_type": "code",
      "source": [
        "spark = SparkSession.builder.getOrCreate()"
      ],
      "metadata": {
        "id": "3phDiYoZQESN"
      },
      "execution_count": 12,
      "outputs": []
    },
    {
      "cell_type": "code",
      "source": [
        "spark.conf.set('spark.sql.legacy.parquet.datetimeRebaseModeInRead', 'CORRECTED')"
      ],
      "metadata": {
        "id": "MKGbLjZ0QnBF"
      },
      "execution_count": 13,
      "outputs": []
    },
    {
      "cell_type": "markdown",
      "source": [
        "#Dataframes. "
      ],
      "metadata": {
        "id": "-p6_c9uDsC0M"
      }
    },
    {
      "cell_type": "code",
      "source": [
        "df_address = spark.read.parquet('/content/sample_data/Datasets/address_bootcamp.snappy.parquet')\n",
        "df_customer_basics = spark.read.parquet('/content/sample_data/Datasets/customer_basics_bootcamp.snappy.parquet')\n",
        "df_emails = spark.read.parquet('/content/sample_data/Datasets/emails_bootcamp.snappy.parquet')\n",
        "df_phones = spark.read.parquet('/content/sample_data/Datasets/phones_bootcamp.snappy.parquet')"
      ],
      "metadata": {
        "id": "XSsX1tdhL_HX"
      },
      "execution_count": 14,
      "outputs": []
    },
    {
      "cell_type": "code",
      "source": [
        "df_address.show()"
      ],
      "metadata": {
        "colab": {
          "base_uri": "https://localhost:8080/"
        },
        "id": "jGHeUE9B-h2v",
        "outputId": "8cd2f2c3-8a58-4373-9c29-9fe5074b350f"
      },
      "execution_count": 15,
      "outputs": [
        {
          "output_type": "stream",
          "name": "stdout",
          "text": [
            "+-----------+-----------------------+-------------------+--------------+--------------------+------------------+---------------------------+-----------------+-------------+---------------------+--------------------+-----------------------+----------+---------------+-----------+------------------+----------------------+-------------------------+------------------+---------------------+------------------------------+-----------------------+--------------------+---------------------+------------------+-------------------------+-------------------------+------------------+-----------------------------+--------------------+---------------------+-----------------------+----------------------+--------------------+----------------------+------------------------------+----------------------------+------------------------+-------------------+----------------+----------------+-------------------+--------------------+-----------------------+-----------------+---------------------+\n",
            "|customer_id|address_priority_number|address_sequence_id|residence_type|         street_name|address_outdoor_id|address_without_number_type|address_indoor_id|indoor_number|address_district_name|   address_town_name|address_department_name|zipcode_id|long_zipcode_id|province_id|address_country_id|other_information_desc|address_relationship_type|address_start_date|address_verified_date|customer_locator_verified_type|address_status_mod_date|contact_channel_type|sender_application_id|returned_mail_type|normalization_status_type|normalization_reason_name|normalization_date|normalized_level_match_number|dlvy_day_monday_type|dlvy_day_tuesday_type|dlvy_day_wednesday_type|dlvy_day_thursday_type|dlvy_day_friday_type|dlvy_day_saturday_type|delivery_contact_start_hm_date|delivery_contact_end_hm_date|prev_address_sequence_id|registry_entry_date|register_user_id|last_change_date|last_change_user_id|last_change_hms_date|last_change_terminal_id|registration_type|operational_load_date|\n",
            "+-----------+-----------------------+-------------------+--------------+--------------------+------------------+---------------------------+-----------------+-------------+---------------------+--------------------+-----------------------+----------+---------------+-----------+------------------+----------------------+-------------------------+------------------+---------------------+------------------------------+-----------------------+--------------------+---------------------+------------------+-------------------------+-------------------------+------------------+-----------------------------+--------------------+---------------------+-----------------------+----------------------+--------------------+----------------------+------------------------------+----------------------------+------------------------+-------------------+----------------+----------------+-------------------+--------------------+-----------------------+-----------------+---------------------+\n",
            "|   00000660|                      1|                  0|            06|PASCUALA DEL JUNC...|           0000850|                          N|                 |             |                  ...|VIRREYES         ...|   112233114455     ...|     01646|               |         02|               080|                   ...|                        0|              null|                 null|                    NO VERIF  |             2008-07-16|                  00|                 CTES|                 1|               NORM USU  |               NEAI      |        2008-07-16|                         0.00|                    |                     |                       |                      |                    |                      |                          0000|                        0000|                       0|         2008-07-16|        PCLE510 |      2011-07-01|           PCLE05T |              144535|                   B   |                -| 2022-01-13 21:32:...|\n",
            "|   07121078|                      1|                  0|            06|SAN NICOLAS      ...|           0002478|                          N|                 |             |                  ...|VILLA VATTEONE   ...|   FLORENCIO VARELA ...|     01888|       B1853AMP|         02|               080|                   ...|                        0|              null|                 null|                    NO VERIF  |             2008-07-16|                  00|                 CTES|                 1|               NORM AUTO |               CO        |        2008-07-16|                         0.00|                    |                     |                       |                      |                    |                      |                          0000|                        0000|                       0|         2008-07-16|        PCLE510 |      2016-09-29|           PCLE05T |              145753|                   D265|                -| 2022-01-13 21:32:...|\n",
            "|   22374047|                      1|                  0|            06|J DE LA CRUZ CONT...|           0000408|                          N|                 |             |                  ...|FLORENCIO VARELA ...|   FLORENCIO VARELA ...|     01888|       B1888IIJ|         02|               080|                   ...|                        0|              null|                 null|                    NO VERIF  |             2008-07-16|                  00|                 CTES|                 1|               NORM AUTO |               CO        |        2008-07-16|                         0.00|                    |                     |                       |                      |                    |                      |                          0000|                        0000|                       0|         2008-07-16|        PCLE510 |      2011-07-01|           PCLE05T |              144535|                   B   |                -| 2022-01-13 21:32:...|\n",
            "|   00002450|                      1|                  0|            06|BACACAY          ...|           0001466|                          N|                 |             |                  ...|ITUZAINGO        ...|   ITUZAINGO        ...|     01714|       B1714ERV|         02|               080|                   ...|                        0|              null|                 null|                    NO VERIF  |             2009-01-26|                  00|                 CTES|                 0|               NORM AUTO |               CO        |        2009-01-26|                         0.00|                    |                     |                       |                      |                    |                      |                          0000|                        0000|                       0|         2009-01-26|        PCLE510 |      2009-01-26|           PCLE510 |              134000|                   B   |                -| 2022-01-13 21:32:...|\n",
            "|   00003925|                      1|                  0|            06|MANUELA PEDRAZA  ...|           0001715|                          N|         5       |      B      |                  ...|CIUDAD AUTONOMA B...|   CAPITAL FEDERAL  ...|     01429|       C1429CBE|         01|               080|                   ...|                        0|              null|                 null|                    NO VERIF  |             2009-01-26|                  00|                 CTES|                 0|               NORM AUTO |               CO        |        2009-01-26|                         0.00|                    |                     |                       |                      |                    |                      |                          0000|                        0000|                       0|         2009-01-26|        PCLE07Q |      2009-01-26|           PCLE07Q |              155342|                   BAT |                -| 2022-01-13 21:32:...|\n",
            "|   00004038|                      1|                  0|            06|BELGRANO         ...|           0001445|                          N|                 |             |                  ...|QUILMES          ...|   QUILMES          ...|     01878|       B1878GLC|         02|               080|                   ...|                        0|              null|                 null|                    NO VERIF  |             2009-01-26|                  00|                 CTES|                 0|               NORM AUTO |               CO        |        2009-01-26|                         0.00|                    |                     |                       |                      |                    |                      |                          0000|                        0000|                       0|         2009-01-26|        PCLE07Q |      2009-01-26|           PCLE07Q |              155342|                   BAT |                -| 2022-01-13 21:32:...|\n",
            "|   01188067|                      1|                  0|            06|VENTURA BOSCH    ...|           0006320|                          N|                 |             |                  ...|CIUDAD AUTONOMA B...|   CAPITAL FEDERAL  ...|     01408|       C1408ECB|         01|               080|                   ...|                        0|              null|                 null|                    NO VERIF  |             2009-01-26|                  00|                 CTES|                 0|               NORM AUTO |               CO        |        2009-01-26|                         0.00|                    |                     |                       |                      |                    |                      |                          0000|                        0000|                       0|         2009-01-26|        PCLE07Q |      2009-01-26|           PCLE07Q |              155342|                   BAT |                -| 2022-01-13 21:32:...|\n",
            "|   00006509|                      1|                  0|            06|CHILE            ...|           0000672|                          N|         4       |      16     |                  ...|CIUDAD AUTONOMA B...|   CAPITAL FEDERAL  ...|     01098|       C1098AAN|         01|               080|                   ...|                        0|              null|                 null|                    NO VERIF  |             2009-01-26|                  00|                 CTES|                 0|               NORM AUTO |               CO        |        2009-01-26|                         0.00|                    |                     |                       |                      |                    |                      |                          0000|                        0000|                       0|         2009-01-26|        PCLE07Q |      2009-01-26|           PCLE07Q |              155342|                   BAT |                -| 2022-01-13 21:32:...|\n",
            "|   00006754|                      1|                  0|            06|CHASSAING        ...|           0004377|                          N|                 |             |                  ...|GREGORIO DE LAFER...|   LA MATANZA       ...|     01757|       B1757LIO|         02|               080|                   ...|                        0|              null|                 null|                    NO VERIF  |             2009-01-26|                  00|                 CTES|                 0|               NORM AUTO |               CO        |        2009-01-26|                         0.00|                    |                     |                       |                      |                    |                      |                          0000|                        0000|                       0|         2009-01-26|        PCLE07Q |      2009-01-26|           PCLE07Q |              155342|                   BAT |                -| 2022-01-13 21:32:...|\n",
            "|   00009582|                      1|                  0|            06|J DE GARAY       ...|           0004818|                          N|                 |             |                  ...|CASEROS          ...|   TRES DE FEBRERO  ...|     01678|       B1678BJV|         02|               080|                   ...|                        0|              null|                 null|                    NO VERIF  |             2009-01-26|                  00|                 CTES|                 0|               NORM AUTO |               CO        |        2009-01-26|                         0.00|                    |                     |                       |                      |                    |                      |                          0000|                        0000|                       0|         2009-01-26|        PCLE07Q |      2009-01-26|           PCLE07Q |              155342|                   BAT |                -| 2022-01-13 21:32:...|\n",
            "|   26761763|                      1|                  0|            06|PICO             ...|           0003366|                          N|         1       |             |                  ...|CIUDAD AUTONOMA B...|   CAPITAL FEDERAL  ...|     01429|       C1429EGH|         01|               080|                   ...|                        0|              null|                 null|                    NO VERIF  |             2009-01-26|                  00|                 CTES|                 0|               NORM AUTO |               CO        |        2009-01-26|                         0.00|                    |                     |                       |                      |                    |                      |                          0000|                        0000|                       0|         2009-01-26|        PCLE07Q |      2009-01-26|           PCLE07Q |              155342|                   BAT |                -| 2022-01-13 21:32:...|\n",
            "|   00012730|                      1|                  0|            06|DR SALVADOR MAZZA...|           0003170|                          N|                 |             |                  ...|QUILMES OESTE    ...|   QUILMES          ...|     01879|       B1879CMB|         02|               080|                   ...|                        0|              null|                 null|                    NO VERIF  |             2009-01-26|                  00|                 CTES|                 0|               NORM AUTO |               CO        |        2009-01-26|                         0.00|                    |                     |                       |                      |                    |                      |                          0000|                        0000|                       0|         2009-01-26|        PCLE07Q |      2009-01-26|           PCLE07Q |              155342|                   BAT |                -| 2022-01-13 21:32:...|\n",
            "|   23483616|                      1|                  0|            06|NICOLAS MEDINA   ...|           0000667|                          N|                 |             |                  ...|CIUDAD AUTONOMA B...|   CAPITAL FEDERAL  ...|     01407|       C1407JEM|         01|               080|                   ...|                        0|              null|                 null|                    NO VERIF  |             2009-01-26|                  00|                 CTES|                 0|               NORM AUTO |               CO        |        2009-01-26|                         0.00|                    |                     |                       |                      |                    |                      |                          0000|                        0000|                       0|         2009-01-26|        PCLE07Q |      2009-01-26|           PCLE07Q |              155342|                   BAT |                -| 2022-01-13 21:32:...|\n",
            "|   00051576|                      1|                  0|            06|ING GUILLERMO MAR...|           0003215|                          N|                 |             |                  ...|BECCAR           ...|   SAN ISIDRO       ...|     01643|       B1643FFQ|         02|               080|                   ...|                        0|              null|                 null|                    NO VERIF  |             2009-01-26|                  00|                 CTES|                 0|               NORM AUTO |               CO        |        2009-01-26|                         0.00|                    |                     |                       |                      |                    |                      |                          0000|                        0000|                       0|         2009-01-26|        PCLE07Q |      2009-01-26|           PCLE07Q |              155342|                   BAT |                -| 2022-01-13 21:32:...|\n",
            "|   00016049|                      4|                  0|            10|*****************...|           0000000|                          S|                 |             |                  ...|*****************...|   112233114455     ...|     00000|               |         00|               080|                   ...|                        0|              null|                 null|                    NO VERIF  |             2007-12-21|                  00|                 VLCO|                 0|               NO NORM   |                         |              null|                         0.00|                    |                     |                       |                      |                    |                      |                          0000|                        0000|                       0|         1996-11-30|                |      1996-11-30|           CONV    |              173959|                   FUSI|                -| 2022-01-13 21:32:...|\n",
            "|   00016995|                      1|                  0|            06|AGUERO           ...|           0000777|                          N|         2       |      7      |                  ...|CIUDAD AUTONOMA B...|   CAPITAL FEDERAL  ...|     01171|       C1171ABK|         01|               080|                   ...|                        0|              null|                 null|                    NO VERIF  |             2009-01-26|                  00|                 CTES|                 0|               NORM AUTO |               CO        |        2009-01-26|                         0.00|                    |                     |                       |                      |                    |                      |                          0000|                        0000|                       0|         2009-01-26|        PCLE07Q |      2009-01-26|           PCLE07Q |              155342|                   BAT |                -| 2022-01-13 21:32:...|\n",
            "|   26074313|                      1|                  0|            06|GRAL M DE AZCUENA...|           0000396|                          N|         2       |      A      |                  ...|CIUDAD AUTONOMA B...|   CAPITAL FEDERAL  ...|     01029|       C1029AAH|         01|               080|                   ...|                        0|              null|                 null|                    NO VERIF  |             2009-01-26|                  00|                 CTES|                 0|               NORM AUTO |               CO        |        2009-01-26|                         0.00|                    |                     |                       |                      |                    |                      |                          0000|                        0000|                       0|         2009-01-26|        PCLE07Q |      2009-01-26|           PCLE07Q |              155342|                   BAT |                -| 2022-01-13 21:32:...|\n",
            "|   27666452|                      1|                  0|            06|PUEYRREDON       ...|           0002728|                          N|                 |             |                  ...|MANUEL ALBERTI   ...|   PILAR            ...|     01667|       B1664JLA|         02|               080|                   ...|                        0|              null|                 null|                    NO VERIF  |             2008-07-16|                  00|                 CTES|                 1|               NORM AUTO |               CO        |        2008-07-16|                         0.00|                    |                     |                       |                      |                    |                      |                          0000|                        0000|                       0|         2008-07-16|        PCLE510 |      2011-07-01|           PCLE05T |              144535|                   B   |                -| 2022-01-13 21:32:...|\n",
            "|   00001213|                      8|                  3|            00|CLAUDIO MAMERTO C...|           0000111|                          N|         1       |      C      |                  ...|CIUDAD AUTONOMA B...|   CAPITAL FEDERAL  ...|     01406|       C1406ARA|         01|               080|                   ...|                        0|              null|                 null|                    DECLARADO |             2008-12-16|                  01|                 CTES|                 0|               NORM AUTO |               CO        |        2008-12-16|                         0.00|                    |                     |                       |                      |                    |                      |                          0000|                        0000|                       0|         2008-12-16|        XA01006 |      2008-12-16|           XA01006 |              105545|                   M903|                -| 2022-01-13 21:32:...|\n",
            "|   00001213|                      3|                  2|            01|TUCUMAN          ...|           0001332|                          N|         4       |      B      |                  ...|CIUDAD AUTONOMA B...|   CAPITAL FEDERAL  ...|     01050|       C1050AAB|         01|               080|                   ...|                        0|              null|                 null|                    DECLARADO |             2008-12-17|                  01|                 CTES|                 0|               NORM AUTO |               CO        |        2008-12-17|                         0.00|                    |                     |                       |                      |                    |                      |                          0000|                        0000|                       0|         2008-12-12|        XA01006 |      2008-12-17|           XA01006 |              111852|                   M903|                -| 2022-01-13 21:32:...|\n",
            "+-----------+-----------------------+-------------------+--------------+--------------------+------------------+---------------------------+-----------------+-------------+---------------------+--------------------+-----------------------+----------+---------------+-----------+------------------+----------------------+-------------------------+------------------+---------------------+------------------------------+-----------------------+--------------------+---------------------+------------------+-------------------------+-------------------------+------------------+-----------------------------+--------------------+---------------------+-----------------------+----------------------+--------------------+----------------------+------------------------------+----------------------------+------------------------+-------------------+----------------+----------------+-------------------+--------------------+-----------------------+-----------------+---------------------+\n",
            "only showing top 20 rows\n",
            "\n"
          ]
        }
      ]
    },
    {
      "cell_type": "markdown",
      "source": [
        "#Extraccion de datos \n",
        "\n"
      ],
      "metadata": {
        "id": "tTtCa41jAb58"
      }
    },
    {
      "cell_type": "markdown",
      "source": [
        "### JOIN de la tabla t_abtq_customer_basics y tabla t_abtq_customer_phones.  "
      ],
      "metadata": {
        "id": "iBGaJ4SKVreN"
      }
    },
    {
      "cell_type": "code",
      "source": [
        "df_customerbasics_phones = df_customer_basics.join(df_phones, ['customer_id'], how='left').select(df_customer_basics.customer_id, df_phones.prefix_phone_id, df_phones.phone_area_id, df_phones.cellphone_prefix_id, df_phones.phone_exchange_id, df_phones.phone_line_id, df_phones.phone_id, df_phones.last_change_date)\n",
        "df_customerbasics_phones.sort(F.asc('customer_id')).show()"
      ],
      "metadata": {
        "colab": {
          "base_uri": "https://localhost:8080/"
        },
        "id": "JAYMxh06TXgh",
        "outputId": "e2789a7b-e3a7-4cdd-9a1d-28bcb515daa9"
      },
      "execution_count": 35,
      "outputs": [
        {
          "output_type": "stream",
          "name": "stdout",
          "text": [
            "+-----------+---------------+-------------+-------------------+-----------------+-------------+-------------+----------------+\n",
            "|customer_id|prefix_phone_id|phone_area_id|cellphone_prefix_id|phone_exchange_id|phone_line_id|     phone_id|last_change_date|\n",
            "+-----------+---------------+-------------+-------------------+-----------------+-------------+-------------+----------------+\n",
            "|   00000442|             54|          297|                 15|              529|         6284| 712455962424|      2022-07-20|\n",
            "|   00000442|             54|          297|                 15|              472|         9337| 384498667593|      2022-07-20|\n",
            "|   00001419|             54|           11|                 15|             6679|         3207| 044982237001|      2022-11-01|\n",
            "|   00001939|             54|           11|                 15|             3870|         0150| 008960137788|      2022-09-21|\n",
            "|   00002575|           null|         null|               null|             null|         null|         null|            null|\n",
            "|   00002707|             54|          299|                   |              447|         7116|   6116490163|      2022-08-17|\n",
            "|   00002790|             54|          342|                   |              488|         3620|   4330463819|      2022-10-08|\n",
            "|   00002790|             54|          342|                 15|              466|         2478| 051880599267|      2022-11-18|\n",
            "|   00004287|             54|         3541|                 15|             5988|          799|1456900382957|      2022-08-29|\n",
            "|   00004724|             54|           11|                 15|             2408|         4447| 820582605809|      2022-11-04|\n",
            "|   00007932|             54|          385|                 15|              406|         5887| 402572158909|      2022-09-29|\n",
            "|   00011850|             54|           11|                 15|             2578|         1080| 790484486094|      2022-10-24|\n",
            "|   00011850|             54|         3489|                 15|               49|         3578| 163848812051|      2022-10-27|\n",
            "|   00012051|             54|         3401|                 15|               53|         4381| 226398993225|      2022-10-06|\n",
            "|   00012611|             54|           11|                   |             4344|         3165|   0647016054|      2022-08-30|\n",
            "|   00012611|             54|           11|                 15|             6114|         1855| 162848642527|      2022-08-30|\n",
            "|   00012991|           null|         null|               null|             null|         null|         null|            null|\n",
            "|   00013498|             54|          221|                 15|              620|         8511| 533666791591|      2022-08-22|\n",
            "|   00014664|             54|           11|                 15|             6505|         0605| 451978668757|      2022-10-06|\n",
            "|   00015497|             54|           11|                 15|             5105|         2460| 975842902003|      2022-07-28|\n",
            "+-----------+---------------+-------------+-------------------+-----------------+-------------+-------------+----------------+\n",
            "only showing top 20 rows\n",
            "\n"
          ]
        }
      ]
    },
    {
      "cell_type": "markdown",
      "source": [
        "### JOIN de la tabla t_abtq_customer_basics y tabla t_abtq_customer_email."
      ],
      "metadata": {
        "id": "ZIpBYdh4BbTz"
      }
    },
    {
      "cell_type": "code",
      "source": [
        "df_customerbasics_emails = df_customer_basics.join(df_emails,['customer_id'], how = 'left').select(df_customer_basics.customer_id, df_emails.email_desc, df_emails.last_change_date)\n",
        "df_customerbasics_emails.show()"
      ],
      "metadata": {
        "colab": {
          "base_uri": "https://localhost:8080/"
        },
        "id": "B3RhfgyUBmt-",
        "outputId": "9a063763-d211-4b2e-82e1-815f9802eab8"
      },
      "execution_count": 33,
      "outputs": [
        {
          "output_type": "stream",
          "name": "stdout",
          "text": [
            "+-----------+--------------------+----------------+\n",
            "|customer_id|          email_desc|last_change_date|\n",
            "+-----------+--------------------+----------------+\n",
            "|   07867437|                null|            null|\n",
            "|   06813266|                null|            null|\n",
            "|   29604216|                null|            null|\n",
            "|   28028529|                null|            null|\n",
            "|   28366580|                null|            null|\n",
            "|   02746969|                null|            null|\n",
            "|   23441482|                null|            null|\n",
            "|   23610540|                null|            null|\n",
            "|   25935956|                null|            null|\n",
            "|   25848977|                null|            null|\n",
            "|   01957163|                null|            null|\n",
            "|   06338965|                null|            null|\n",
            "|   29676364|                null|            null|\n",
            "|   26205399|   DIONISI@YAHOO.COM|      2019-12-27|\n",
            "|   03933825|DIGITALIZACION@EE...|      1900-01-01|\n",
            "|   29416245|                null|            null|\n",
            "|   29497813|                null|            null|\n",
            "|   02568856|                null|            null|\n",
            "|   29681573|                null|            null|\n",
            "|   04348412|                null|            null|\n",
            "+-----------+--------------------+----------------+\n",
            "only showing top 20 rows\n",
            "\n"
          ]
        }
      ]
    },
    {
      "cell_type": "markdown",
      "source": [
        "### JOIN de la tabla t_abtq_customer_basics y tabla t_abtq_customer_adress.  "
      ],
      "metadata": {
        "id": "MAW0oWpgUmgk"
      }
    },
    {
      "cell_type": "code",
      "source": [
        "df_customerbasics_address = df_customer_basics.join(df_address,['customer_id'], how='left').select(df_customer_basics.customer_id, 'street_name', 'address_outdoor_id','address_indoor_id', 'indoor_number', 'address_town_name', 'address_department_name', 'zipcode_id', df_address.last_change_date)\n",
        "df_customerbasics_address.show()"
      ],
      "metadata": {
        "colab": {
          "base_uri": "https://localhost:8080/"
        },
        "id": "JgiJTMZJUnCQ",
        "outputId": "4f6c1de0-89a4-4419-d82b-ad7cfd8a0698"
      },
      "execution_count": 34,
      "outputs": [
        {
          "output_type": "stream",
          "name": "stdout",
          "text": [
            "+-----------+--------------------+------------------+-----------------+-------------+--------------------+-----------------------+----------+----------------+\n",
            "|customer_id|         street_name|address_outdoor_id|address_indoor_id|indoor_number|   address_town_name|address_department_name|zipcode_id|last_change_date|\n",
            "+-----------+--------------------+------------------+-----------------+-------------+--------------------+-----------------------+----------+----------------+\n",
            "|   07867437|ALTE FRANCISCO SE...|           0001971|         PB      |      3      |CIUDAD AUTONOMA B...|   CAPITAL FEDERAL  ...|     01416|      2009-01-26|\n",
            "|   06813266|EL TORDO         ...|           0000866|                 |             |ITUZAINGO        ...|   ITUZAINGO        ...|     01714|      2009-01-26|\n",
            "|   29604216|                null|              null|             null|         null|                null|                   null|      null|            null|\n",
            "|   28028529|AMENEDO          ...|           0000302|                 |             |ADROGUE          ...|   ALMIRANTE BROWN  ...|     01846|      2009-01-26|\n",
            "|   28366580|INCA AAA         ...|           0000155|                 |             |LLAVALLOL        ...|   112233114455     ...|     01836|            null|\n",
            "|   28366580|INCA             ...|           0000155|                 |             |LLAVALLOL        ...|   LOMAS DE ZAMORA  ...|     01836|      2011-07-01|\n",
            "|   02746969|MERCEDES         ...|           0004364|         6       |      P      |CIUDAD AUTONOMA B...|   CAPITAL FEDERAL  ...|     01419|      2009-01-26|\n",
            "|   23441482|AV 39            ...|           0005146|                 |             |PLATANOS         ...|   BERAZATEGUI      ...|     01885|      2011-07-01|\n",
            "|   23610540|                null|              null|             null|         null|                null|                   null|      null|            null|\n",
            "|   25935956|AV FERNANDEZ DE L...|           0001602|                 |             |CIUDAD AUTONOMA B...|   CAPITAL FEDERAL  ...|     01437|      2009-01-26|\n",
            "|   25848977|                null|              null|             null|         null|                null|                   null|      null|            null|\n",
            "|   01957163|JOSE M DE MINOGUY...|           0001748|                 |             |HURLINGHAM       ...|   HURLINGHAM       ...|     01686|      2009-01-26|\n",
            "|   06338965|MADERO DR FRANCIS...|           0001125|                 |             |ACASSUSO         ...|   112233114455     ...|     01641|      2009-01-26|\n",
            "|   29676364|                null|              null|             null|         null|                null|                   null|      null|            null|\n",
            "|   26205399|SUIPACHA         ...|           0001081|                 |             |SAN FRANCISCO    ...|   SAN JUSTO        ...|     02400|      2009-01-26|\n",
            "|   03933825|HENRY DUNANT     ...|           0001649|                 |             |ITUZAINGO        ...|   ITUZAINGO        ...|     01714|      2009-01-26|\n",
            "|   29416245|                null|              null|             null|         null|                null|                   null|      null|            null|\n",
            "|   29497813|                null|              null|             null|         null|                null|                   null|      null|            null|\n",
            "|   02568856|CLAUDIO MAMERTO C...|           0003729|                 |             |CIUDAD AUTONOMA B...|   CAPITAL FEDERAL  ...|     01419|      2009-01-26|\n",
            "|   29681573|                null|              null|             null|         null|                null|                   null|      null|            null|\n",
            "+-----------+--------------------+------------------+-----------------+-------------+--------------------+-----------------------+----------+----------------+\n",
            "only showing top 20 rows\n",
            "\n"
          ]
        }
      ]
    },
    {
      "cell_type": "markdown",
      "source": [
        "#3 ultimos telefonos"
      ],
      "metadata": {
        "id": "gX4UrhVOsn0A"
      }
    },
    {
      "cell_type": "markdown",
      "source": [
        "### Opcion A\n",
        "\n",
        "---\n",
        "\n"
      ],
      "metadata": {
        "id": "akbdF4gWRGkl"
      }
    },
    {
      "cell_type": "code",
      "source": [
        "# Ordenar el DataFrame por fecha de contacto en orden descendente\n",
        "df_phones_new = df_customerbasics_phones.orderBy(F.desc(\"last_change_date\"))\n",
        "\n",
        "# Definir una ventana de partición por cliente y ordenar por fecha de contacto\n",
        "w = Window.partitionBy(\"customer_id\").orderBy(desc(\"last_change_date\"))\n",
        "\n",
        "# Agregar una columna de número de fila para cada contacto de cliente\n",
        "df_phones_new = df_customerbasics_phones.withColumn(\"fila\", F.row_number().over(w))\n",
        "\n",
        "# Seleccionar los tres primeros contactos de cada grupo de clientes\n",
        "df_phones_new = df_phones_new.filter(df_phones_new.fila <= 3)\n",
        "df_phones_new.show(100)\n"
      ],
      "metadata": {
        "colab": {
          "base_uri": "https://localhost:8080/"
        },
        "id": "aoRWhOAGhpCB",
        "outputId": "bee02903-cdf9-4b5f-8048-5043ecf54d2c"
      },
      "execution_count": 37,
      "outputs": [
        {
          "output_type": "stream",
          "name": "stdout",
          "text": [
            "+-----------+---------------+-------------+-------------------+-----------------+-------------+-------------+----------------+----+\n",
            "|customer_id|prefix_phone_id|phone_area_id|cellphone_prefix_id|phone_exchange_id|phone_line_id|     phone_id|last_change_date|fila|\n",
            "+-----------+---------------+-------------+-------------------+-----------------+-------------+-------------+----------------+----+\n",
            "|   00000442|             54|          297|                 15|              529|         6284| 712455962424|      2022-07-20|   1|\n",
            "|   00000442|             54|          297|                 15|              472|         9337| 384498667593|      2022-07-20|   2|\n",
            "|   00001419|             54|           11|                 15|             6679|         3207| 044982237001|      2022-11-01|   1|\n",
            "|   00001939|             54|           11|                 15|             3870|         0150| 008960137788|      2022-09-21|   1|\n",
            "|   00002575|           null|         null|               null|             null|         null|         null|            null|   1|\n",
            "|   00002707|             54|          299|                   |              447|         7116|   6116490163|      2022-08-17|   1|\n",
            "|   00002790|             54|          342|                 15|              466|         2478| 051880599267|      2022-11-18|   1|\n",
            "|   00002790|             54|          342|                   |              488|         3620|   4330463819|      2022-10-08|   2|\n",
            "|   00004287|             54|         3541|                 15|             5988|          799|1456900382957|      2022-08-29|   1|\n",
            "|   00004724|             54|           11|                 15|             2408|         4447| 820582605809|      2022-11-04|   1|\n",
            "|   00007932|             54|          385|                 15|              406|         5887| 402572158909|      2022-09-29|   1|\n",
            "|   00011850|             54|         3489|                 15|               49|         3578| 163848812051|      2022-10-27|   1|\n",
            "|   00011850|             54|           11|                 15|             2578|         1080| 790484486094|      2022-10-24|   2|\n",
            "|   00012051|             54|         3401|                 15|               53|         4381| 226398993225|      2022-10-06|   1|\n",
            "|   00012611|             54|           11|                   |             4344|         3165|   0647016054|      2022-08-30|   1|\n",
            "|   00012611|             54|           11|                 15|             6114|         1855| 162848642527|      2022-08-30|   2|\n",
            "|   00012991|           null|         null|               null|             null|         null|         null|            null|   1|\n",
            "|   00013498|             54|          221|                 15|              620|         8511| 533666791591|      2022-08-22|   1|\n",
            "|   00014664|             54|           11|                 15|             6505|         0605| 451978668757|      2022-10-06|   1|\n",
            "|   00015497|             54|           11|                 15|             5105|         2460| 975842902003|      2022-07-28|   1|\n",
            "|   00051576|             54|           11|                 15|             2653|         1080| 959943195039|      2022-10-12|   1|\n",
            "|   00053993|             54|         3718|                 15|               46|         6655| 730405560071|      2022-08-12|   1|\n",
            "|   00056407|             54|          336|                 15|              457|         7255| 385510065017|      2022-10-17|   1|\n",
            "|   00056947|             54|          297|                 15|              457|         7276| 572186748298|      2022-11-10|   1|\n",
            "|   00056947|             54|          297|                 15|              430|         1718| 826642789473|      2022-10-05|   2|\n",
            "|   00058519|             54|          341|                 15|              274|         0967| 015854503488|      2022-10-26|   1|\n",
            "|   00058801|             54|           11|                 15|             3663|         8083| 173981015151|      2022-08-09|   1|\n",
            "|   00058909|             54|           11|                 15|             2522|         2584| 266019840962|      2022-08-03|   1|\n",
            "|   00061198|             54|         3442|                 15|               54|         6062| 825116106664|      2022-08-10|   1|\n",
            "|   00064043|             54|          297|                 15|              621|         9525| 878402331088|      2022-11-23|   1|\n",
            "|   00064043|             54|          297|                 15|              513|         3355| 293412896867|      2022-08-19|   2|\n",
            "|   00066159|             54|          263|                 15|              403|         1112| 094106514369|      2022-10-21|   1|\n",
            "|   00066159|             54|          263|                 15|              503|         1112| 882708922369|      2022-10-21|   2|\n",
            "|   00079624|             54|          351|                 15|              621|         7254| 607360046230|      2022-10-13|   1|\n",
            "|   00079642|             54|           11|                 15|             6870|         7818| 335775940062|      2022-09-22|   1|\n",
            "|   00080625|             54|         2262|                 15|               32|         3396| 192308861002|      2022-08-22|   1|\n",
            "|   00080843|             54|          381|                 15|              684|         7975| 514984146202|      2022-11-17|   1|\n",
            "|   00080970|             54|          221|                   |              424|         3200|   2439520577|      2022-09-06|   1|\n",
            "|   00080970|             54|          221|                 15|              643|         9937| 067065642645|      2022-09-06|   2|\n",
            "|   00082207|             54|          351|                 15|              791|         4632| 057043837746|      2022-09-28|   1|\n",
            "|   00082207|             54|          351|                 15|              398|         6222| 918897054743|      2022-09-28|   2|\n",
            "|   00083908|             54|          351|                   |              450|         3200|   8861057138|      2022-10-04|   1|\n",
            "|   00083908|             54|          351|                 15|              392|         9443| 956952372251|      2022-10-04|   2|\n",
            "|   00093940|             54|          294|                 15|              465|         2918| 833281785951|      2022-11-04|   1|\n",
            "|   00094290|             54|         2622|                 15|               46|         0710| 388487896531|      2022-07-01|   1|\n",
            "|   00094522|             54|           11|                   |             4409|         7117|   9029192542|      2022-11-11|   1|\n",
            "|   00096091|             54|          249|                 15|              428|         3832| 157501657500|      2022-07-04|   1|\n",
            "|   00096091|             54|          297|                 15|              480|         7508| 454566406489|      2022-07-04|   2|\n",
            "|   00096670|             54|           11|                 15|             4407|         1782| 051522105168|      2022-10-24|   1|\n",
            "|   00098340|             54|          351|                 15|              361|         8014| 055507814467|      2022-08-22|   1|\n",
            "|   00098340|             54|          351|                   |              432|         9734|   0986570760|      2022-06-24|   2|\n",
            "|   00099612|             54|          351|                 15|              753|         2530| 171753365769|      2022-10-05|   1|\n",
            "|   00100409|             54|          280|                 15|              495|         3104| 830379954333|      2022-09-16|   1|\n",
            "|   00101437|             54|          381|                 15|              585|         3371| 715736810367|      2022-09-23|   1|\n",
            "|   00101679|             54|           11|                 15|             3303|         3879| 638447608589|      2022-10-02|   1|\n",
            "|   00101679|             54|           11|                 15|             6596|         0038| 469052910231|      2022-10-02|   2|\n",
            "|   00104207|             54|          351|                 15|              611|         9057| 729121333835|      2022-09-12|   1|\n",
            "|   00104838|             54|           11|                   |             4918|         5928|   8171711917|      2022-08-23|   1|\n",
            "|   00221785|             54|           11|                 15|             3696|         6021| 370603596368|      2022-08-25|   1|\n",
            "|   00403678|             54|         3564|                 15|               64|         7949| 729762290176|      2022-07-25|   1|\n",
            "|   00403678|             54|         3564|                 15|               59|         6535| 480417530361|      2022-07-25|   2|\n",
            "|   00403970|             54|           11|                 15|             6782|         0647| 946801995441|      2022-09-29|   1|\n",
            "|   00403970|             54|           11|                   |             5263|         2117|   5730726469|      2022-09-28|   2|\n",
            "|   00404017|             54|           11|                 15|             2304|         2041| 467130987915|      2022-08-12|   1|\n",
            "|   00404485|             54|           11|                 15|             5768|         8559| 263813759761|      2022-10-24|   1|\n",
            "|   00405500|             54|           11|                 15|             3840|         0565| 528620032594|      2022-10-13|   1|\n",
            "|   00406382|             54|           11|                 15|             6838|         4023| 008051529998|      2022-10-05|   1|\n",
            "|   00406630|             54|          376|                 15|              461|         5160| 888772188285|      2022-07-04|   1|\n",
            "|   00408984|             54|          223|                 15|              591|         4804| 965745435056|      2022-10-12|   1|\n",
            "|   00468825|             54|           11|                 15|             3578|         9754| 886191177616|      2022-07-01|   1|\n",
            "|   00468825|             54|           11|                   |             4581|         4354|   6315174814|      2022-07-01|   2|\n",
            "|   00468968|             54|          387|                 15|              464|         6741| 462851945747|      2022-07-11|   1|\n",
            "|   00469131|             54|           11|                 15|             2896|         3556| 660301132875|      2022-11-11|   1|\n",
            "|   00470779|             54|           11|                 15|             6006|         7289| 719026679586|      2022-09-20|   1|\n",
            "|   00477188|             54|         3447|                 15|               46|         7872| 807435877366|      2022-11-24|   1|\n",
            "|   00477803|             54|          341|                 15|              664|         6849| 660984191879|      2022-09-04|   1|\n",
            "|   00505761|             54|          351|                 15|              857|         8402| 274897310614|      2022-07-12|   1|\n",
            "|   00505761|             54|          351|                   |              424|         9159|   4108291572|      2022-06-29|   2|\n",
            "|   00506592|             54|          351|                 15|              761|         9961| 502467719919|      2022-08-07|   1|\n",
            "|   00509325|             54|         3329|                 15|               33|         7419| 218370539897|      2022-11-10|   1|\n",
            "|   00510760|             54|           11|                 15|             3796|         5049| 948812272420|      2022-10-29|   1|\n",
            "|   00511426|             54|          379|                 15|              401|         5461| 640662856737|      2022-11-25|   1|\n",
            "|   00585832|             54|           11|                 15|             5339|         4383| 049644675774|      2022-11-04|   1|\n",
            "|   00693242|             54|          341|                 15|              273|         9800| 548283032359|      2022-11-04|   1|\n",
            "|   00693242|             54|          341|                   |              400|         3200|   5214077064|      2022-10-26|   2|\n",
            "|   00694367|             54|          379|                 15|              507|         5995| 719865379808|      2022-08-05|   1|\n",
            "|   00729305|             54|          297|                 15|              513|         0940| 420764355210|      2022-06-28|   1|\n",
            "|   00730948|             54|           15|                   |             2365|         5880|   4422048444|      2022-07-06|   1|\n",
            "|   00731569|             54|           11|                   |             4734|         2864|   6732662277|      2022-10-19|   1|\n",
            "|   00731569|             54|           11|                 15|             2326|         4892| 001560154840|      2022-10-19|   2|\n",
            "|   00736194|             54|           11|                 15|             7363|         3586| 141736961194|      2022-11-16|   1|\n",
            "|   00736997|             54|          387|                 15|              601|         8453| 060961778364|      2022-08-01|   1|\n",
            "|   00737446|             54|           11|                 15|             7015|         4760| 335330503483|      2022-06-29|   1|\n",
            "|   00857998|             54|          388|                 15|              409|         9742| 652142012322|      2022-10-12|   1|\n",
            "|   00885341|             54|          345|                 15|              493|         0946| 998139729026|      2022-07-26|   1|\n",
            "|   00886522|             54|          341|                 15|              016|          444|  09440575715|      2022-10-13|   1|\n",
            "|   00888642|             54|           11|                 15|             6754|         2717| 285584635138|      2022-10-01|   1|\n",
            "|   00888642|             54|           11|                 15|             6754|         2717| 285584635138|      2022-10-01|   2|\n",
            "|   00889683|             54|           11|                 15|             2868|         9103| 870885961213|      2022-09-18|   1|\n",
            "|   00890271|             54|           11|                 15|             2492|         4876| 117581306807|      2022-07-15|   1|\n",
            "+-----------+---------------+-------------+-------------------+-----------------+-------------+-------------+----------------+----+\n",
            "only showing top 100 rows\n",
            "\n"
          ]
        }
      ]
    },
    {
      "cell_type": "markdown",
      "source": [
        "### Opcion B"
      ],
      "metadata": {
        "id": "vPnu9TB3QnCx"
      }
    },
    {
      "cell_type": "code",
      "source": [
        "# Define the window specification\n",
        "window_spec_phones = Window.partitionBy(\"customer_id\").orderBy(df_customerbasics_phones[\"last_change_date\"].desc()) \n",
        "\n",
        "# Assign a row number to each row within the window\n",
        "df_with_rn = df_customerbasics_phones.withColumn(\"rn\", F.row_number().over(window_spec_phones))\n",
        "\n",
        "#creamos un campo por numero de telefono\n",
        "df_with_rn = df_with_rn.withColumn(\"phone_1\", F.when(df_with_rn.rn == 1, F.col('phone_id')).otherwise(None))\n",
        "df_with_rn = df_with_rn.withColumn(\"phone_2\", F.when(df_with_rn.rn == 2,F.col('phone_id')).otherwise(None))\n",
        "df_with_rn = df_with_rn.withColumn(\"phone_3\", F.when(df_with_rn.rn == 3,F.col('phone_id')).otherwise(None))\n",
        "\n",
        "# Group by customer_id and select the first non-null value for each phone number column\n",
        "grouped_df = df_with_rn.groupBy(\"customer_id\").agg(F.first(\"phone_1\", ignorenulls=True),F.first(\"phone_2\", ignorenulls=True),F.first(\"phone_3\", ignorenulls=True))\n",
        "\n",
        "# Rename the columns to phone_1, phone_2, and phone_3\n",
        "renamed_df = grouped_df.withColumnRenamed(\"first(phone_1)\", \"phone_1\") \\\n",
        "                      .withColumnRenamed(\"first(phone_2)\", \"phone_2\") \\\n",
        "                      .withColumnRenamed(\"first(phone_3)\", \"phone_3\")\n",
        "# Show the result\n",
        "renamed_df.show()"
      ],
      "metadata": {
        "colab": {
          "base_uri": "https://localhost:8080/"
        },
        "id": "hKI3ruwCQqGI",
        "outputId": "9e87fc6f-dd93-4b08-db80-aac787ae6b95"
      },
      "execution_count": 40,
      "outputs": [
        {
          "output_type": "stream",
          "name": "stdout",
          "text": [
            "+-----------+-------------+------------+-------+\n",
            "|customer_id|      phone_1|     phone_2|phone_3|\n",
            "+-----------+-------------+------------+-------+\n",
            "|   00000442| 712455962424|384498667593|   null|\n",
            "|   00001419| 044982237001|        null|   null|\n",
            "|   00001939| 008960137788|        null|   null|\n",
            "|   00002575|         null|        null|   null|\n",
            "|   00002707|   6116490163|        null|   null|\n",
            "|   00002790| 051880599267|  4330463819|   null|\n",
            "|   00004287|1456900382957|        null|   null|\n",
            "|   00004724| 820582605809|        null|   null|\n",
            "|   00007932| 402572158909|        null|   null|\n",
            "|   00011850| 163848812051|790484486094|   null|\n",
            "|   00012051| 226398993225|        null|   null|\n",
            "|   00012611|   0647016054|162848642527|   null|\n",
            "|   00012991|         null|        null|   null|\n",
            "|   00013498| 533666791591|        null|   null|\n",
            "|   00014664| 451978668757|        null|   null|\n",
            "|   00015497| 975842902003|        null|   null|\n",
            "|   00051576| 959943195039|        null|   null|\n",
            "|   00053993| 730405560071|        null|   null|\n",
            "|   00056407| 385510065017|        null|   null|\n",
            "|   00056947| 572186748298|826642789473|   null|\n",
            "+-----------+-------------+------------+-------+\n",
            "only showing top 20 rows\n",
            "\n"
          ]
        }
      ]
    },
    {
      "cell_type": "code",
      "source": [
        "filtro = [\"customer_id\",\"phone_1\", \"phone_2\", \"phone_3\"]\n",
        "ejemplo = renamed_df.select(filtro)"
      ],
      "metadata": {
        "id": "abe48sa1AE1D"
      },
      "execution_count": null,
      "outputs": []
    },
    {
      "cell_type": "markdown",
      "source": [
        "#3 ultimos mails"
      ],
      "metadata": {
        "id": "59s_pqBQG4Eu"
      }
    },
    {
      "cell_type": "code",
      "source": [
        "# Define the window specification\n",
        "window_spec_emails = Window.partitionBy(\"customer_id\").orderBy(df_customerbasics_emails[\"last_change_date\"].desc()) \n",
        "\n",
        "# Assign a row number to each row within the window\n",
        "df_with_rn_emails = df_customerbasics_emails.withColumn(\"rn\", F.row_number().over(window_spec_emails))\n",
        "\n",
        "#creamos un campo por email\n",
        "df_with_rn_emails = df_with_rn_emails.withColumn(\"email_1\", F.when(df_with_rn_emails.rn == 1, F.col('email_desc')).otherwise(None))\n",
        "df_with_rn_emails = df_with_rn_emails.withColumn(\"email_2\", F.when(df_with_rn_emails.rn == 2,F.col('email_desc')).otherwise(None))\n",
        "df_with_rn_emails = df_with_rn_emails.withColumn(\"email_3\", F.when(df_with_rn_emails.rn == 3,F.col('email_desc')).otherwise(None))\n",
        "\n",
        "# Group by customer_id and select the first non-null value for each phone number column\n",
        "grouped_df_emails = df_with_rn_emails.groupBy(\"customer_id\").agg(F.first(\"email_1\", ignorenulls=True),F.first(\"email_2\", ignorenulls=True),F.first(\"email_3\", ignorenulls=True))\n",
        "\n",
        "# Rename the columns to email_1, email_2, and email_3\n",
        "renamed_df_emails = grouped_df_emails.withColumnRenamed(\"first(email_1)\", \"email_1\") \\\n",
        "                      .withColumnRenamed(\"first(email_2)\", \"email_2\") \\\n",
        "                      .withColumnRenamed(\"first(email_3)\", \"email_3\")\n",
        "# Show the result\n",
        "renamed_df_emails.show()"
      ],
      "metadata": {
        "colab": {
          "base_uri": "https://localhost:8080/"
        },
        "id": "JfnDZmnITZZm",
        "outputId": "70f8531e-71c2-4a20-f23f-c6cc3588379b"
      },
      "execution_count": 39,
      "outputs": [
        {
          "output_type": "stream",
          "name": "stdout",
          "text": [
            "+-----------+--------------------+--------------------+-------+\n",
            "|customer_id|             email_1|             email_2|email_3|\n",
            "+-----------+--------------------+--------------------+-------+\n",
            "|   00000442|                null|                null|   null|\n",
            "|   00001419|  JU_LY1@HOTMAIL.COM|EMILIA.RUBIANES@H...|   null|\n",
            "|   00001939|                null|                null|   null|\n",
            "|   00002575|                null|                null|   null|\n",
            "|   00002707|                null|                null|   null|\n",
            "|   00002790| NOTIENE@HOIMAIL.COM|DIGITALIZACION@EE...|   null|\n",
            "|   00004287|                null|                null|   null|\n",
            "|   00004724|                null|                null|   null|\n",
            "|   00007932|                null|                null|   null|\n",
            "|   00011850|                null|                null|   null|\n",
            "|   00012051|                null|                null|   null|\n",
            "|   00012611|                null|                null|   null|\n",
            "|   00012991|                null|                null|   null|\n",
            "|   00013498|                null|                null|   null|\n",
            "|   00014664|   alq@ciudad.com.ar|                null|   null|\n",
            "|   00015497|                null|                null|   null|\n",
            "|   00051576|                null|                null|   null|\n",
            "|   00053993|                null|                null|   null|\n",
            "|   00056407|NELLY.S.GEREZ@GMA...|                null|   null|\n",
            "|   00056947|                null|                null|   null|\n",
            "+-----------+--------------------+--------------------+-------+\n",
            "only showing top 20 rows\n",
            "\n"
          ]
        }
      ]
    },
    {
      "cell_type": "markdown",
      "source": [
        "#3 ultimas direcciones"
      ],
      "metadata": {
        "id": "Gxi7pvoteTx9"
      }
    },
    {
      "cell_type": "code",
      "source": [
        "# Define the window specification\n",
        "window_spec_address = Window.partitionBy(\"customer_id\").orderBy(df_customerbasics_address[\"last_change_date\"].desc()) \n",
        "\n",
        "# Assign a row number to each row within the window\n",
        "df_with_rn_address = df_customerbasics_address.withColumn(\"rn\", F.row_number().over(window_spec_address))\n",
        "\n",
        "#creamos un campo por address\n",
        "df_with_rn_address = df_with_rn_address.withColumn(\"address_1\", F.when(df_with_rn_address.rn == 1, F.col('street_name')).otherwise(None))\n",
        "df_with_rn_address = df_with_rn_address.withColumn(\"address_2\", F.when(df_with_rn_address.rn == 2,F.col('street_name')).otherwise(None))\n",
        "df_with_rn_address = df_with_rn_address.withColumn(\"address_3\", F.when(df_with_rn_address.rn == 3,F.col('street_name')).otherwise(None))\n",
        "\n",
        "# Group by customer_id and select the first non-null value for each phone number column\n",
        "grouped_df_address = df_with_rn_address.groupBy(\"customer_id\").agg(F.first(\"address_1\", ignorenulls=True),F.first(\"address_2\", ignorenulls=True),F.first(\"address_3\", ignorenulls=True))\n",
        "\n",
        "# Rename the columns to address_1, address_2, and address_3\n",
        "renamed_df_address = grouped_df_address.withColumnRenamed(\"first(address_1)\", \"address_1\") \\\n",
        "                      .withColumnRenamed(\"first(address_2)\", \"address_2\") \\\n",
        "                      .withColumnRenamed(\"first(address_3)\", \"address_3\")\n",
        "# Show the result\n",
        "renamed_df_address.show()"
      ],
      "metadata": {
        "colab": {
          "base_uri": "https://localhost:8080/"
        },
        "id": "Hc6mmmnpeZC0",
        "outputId": "58b45de2-7a36-428d-b0c3-ec41b7379b2c"
      },
      "execution_count": 41,
      "outputs": [
        {
          "output_type": "stream",
          "name": "stdout",
          "text": [
            "+-----------+--------------------+---------+---------+\n",
            "|customer_id|           address_1|address_2|address_3|\n",
            "+-----------+--------------------+---------+---------+\n",
            "|   00000442|AGUERO           ...|     null|     null|\n",
            "|   00001419|ALTE G BROWN     ...|     null|     null|\n",
            "|   00001939|JOSE HERNANDEZ   ...|     null|     null|\n",
            "|   00002575|                null|     null|     null|\n",
            "|   00002707|GUATEMALA        ...|     null|     null|\n",
            "|   00002790|AV CORDOBA       ...|     null|     null|\n",
            "|   00004287|CNEL DE MARINA RO...|     null|     null|\n",
            "|   00004724|PJE MUTUALISMO   ...|     null|     null|\n",
            "|   00007932|AV FELIX DE OLAZA...|     null|     null|\n",
            "|   00011850|JUNCAL           ...|     null|     null|\n",
            "|   00012051|AV GRAL JOSE MARI...|     null|     null|\n",
            "|   00012611|ALBERTO LARROQUE ...|     null|     null|\n",
            "|   00012991|                null|     null|     null|\n",
            "|   00013498|AV PTE H YRIGOYEN...|     null|     null|\n",
            "|   00014664|AV TRIUNVIRATO   ...|     null|     null|\n",
            "|   00015497|VUELTA DE OBLIGAD...|     null|     null|\n",
            "|   00051576|ING GUILLERMO MAR...|     null|     null|\n",
            "|   00053993|CALLE 899        ...|     null|     null|\n",
            "|   00056407|AV DR J BAUTISTA ...|     null|     null|\n",
            "|   00056947|AV 25 DE MAYO    ...|     null|     null|\n",
            "+-----------+--------------------+---------+---------+\n",
            "only showing top 20 rows\n",
            "\n"
          ]
        }
      ]
    },
    {
      "cell_type": "markdown",
      "source": [
        "Agregar una nueva columna a los DataFrame de contactos, indicando el contact_type según corresponda (address, email, phone)\n",
        "PARA: Enriquecer los datos agregando su categoría"
      ],
      "metadata": {
        "id": "siUAaPc7iKaF"
      }
    },
    {
      "cell_type": "markdown",
      "source": [
        "QUIERO: Agregar una nueva columna al DataFrame de contactos telefónicos de clientes, resguardando el contacto en formato json contenido en string, con los datos: Phone_type (mobile, landline ), Código país., Código de Área, Número teléfono\n",
        "PARA: Enriquecer los datos aplicando el formato requerido"
      ],
      "metadata": {
        "id": "LKPjipjfiMmi"
      }
    },
    {
      "cell_type": "markdown",
      "source": [
        "QUIERO: Agregar una nueva columna al DataFrame de direcciones de clientes, resguardando el contacto en formato json contenido en string, con los datos: Calle, Número, Piso, Depto, Localidad, Provincia, Código postal\n",
        "PARA: Enriquecer los datos aplicando el formato requerido"
      ],
      "metadata": {
        "id": "c3XKQI5piSMh"
      }
    },
    {
      "cell_type": "markdown",
      "source": [
        "QUIERO: Combinar los DataFrame de contactos telefónicos de clientes, direcciones de clientes y email de clientes en uno solo.\n",
        "PARA: Enriquecer los datos, combinar distintas fuentes ."
      ],
      "metadata": {
        "id": "-BRnO1GFibS1"
      }
    },
    {
      "cell_type": "markdown",
      "source": [
        "QUIERO: Filtrar el DataFrame de contactos y resguardar solo 3 contactos por cliente respetando la prioridad phone, email, address. Resguardar el resultado como una vista temporal.\n",
        "PARA: Reducir el volumen de datos y trabajar solo con los más actualizados. **"
      ],
      "metadata": {
        "id": "wi6mPp9qigov"
      }
    }
  ]
}