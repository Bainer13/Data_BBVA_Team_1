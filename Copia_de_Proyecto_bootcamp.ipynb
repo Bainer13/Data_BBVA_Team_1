{
  "nbformat": 4,
  "nbformat_minor": 0,
  "metadata": {
    "colab": {
      "provenance": [],
      "include_colab_link": true
    },
    "kernelspec": {
      "name": "python3",
      "display_name": "Python 3"
    },
    "language_info": {
      "name": "python"
    }
  },
  "cells": [
    {
      "cell_type": "markdown",
      "metadata": {
        "id": "view-in-github",
        "colab_type": "text"
      },
      "source": [
        "<a href=\"https://colab.research.google.com/github/Bainer13/Data_BBVA_Team_1/blob/main/Copia_de_Proyecto_bootcamp.ipynb\" target=\"_parent\"><img src=\"https://colab.research.google.com/assets/colab-badge.svg\" alt=\"Open In Colab\"/></a>"
      ]
    },
    {
      "cell_type": "markdown",
      "source": [
        "## **Armado del entorno de trabajo**\n",
        "\n"
      ],
      "metadata": {
        "id": "rjxwPMfNDgy9"
      }
    },
    {
      "cell_type": "code",
      "execution_count": 2,
      "metadata": {
        "id": "lQy_QnsDh3CN"
      },
      "outputs": [],
      "source": [
        "!apt-get install openjdk-8-jdk-headless -qq > /dev/null\n"
      ]
    },
    {
      "cell_type": "code",
      "source": [
        "!wget -q https://dlcdn.apache.org/spark/spark-3.3.2/spark-3.3.2-bin-hadoop3.tgz"
      ],
      "metadata": {
        "id": "WxdDgoDQDwLC"
      },
      "execution_count": 3,
      "outputs": []
    },
    {
      "cell_type": "code",
      "source": [
        "ls"
      ],
      "metadata": {
        "id": "zxQTw235Efnl",
        "colab": {
          "base_uri": "https://localhost:8080/"
        },
        "outputId": "c9482a92-dfcf-4329-e81e-c3b38d5f954e"
      },
      "execution_count": 4,
      "outputs": [
        {
          "output_type": "stream",
          "name": "stdout",
          "text": [
            "\u001b[0m\u001b[01;34msample_data\u001b[0m/  spark-3.3.2-bin-hadoop3.tgz\n"
          ]
        }
      ]
    },
    {
      "cell_type": "code",
      "source": [
        "!tar xf spark-3.3.2-bin-hadoop3.tgz"
      ],
      "metadata": {
        "id": "kTIS3_ExElWP"
      },
      "execution_count": 5,
      "outputs": []
    },
    {
      "cell_type": "code",
      "source": [
        "!java -version"
      ],
      "metadata": {
        "id": "FCeYLe11EoA5",
        "colab": {
          "base_uri": "https://localhost:8080/"
        },
        "outputId": "59ded01a-5ac7-4485-c0a0-5925b2e7d1d1"
      },
      "execution_count": 6,
      "outputs": [
        {
          "output_type": "stream",
          "name": "stdout",
          "text": [
            "openjdk version \"11.0.18\" 2023-01-17\n",
            "OpenJDK Runtime Environment (build 11.0.18+10-post-Ubuntu-0ubuntu120.04.1)\n",
            "OpenJDK 64-Bit Server VM (build 11.0.18+10-post-Ubuntu-0ubuntu120.04.1, mixed mode, sharing)\n"
          ]
        }
      ]
    },
    {
      "cell_type": "code",
      "source": [
        "!readlink -f $(which java) | sed \"s:bin/java::\"\n"
      ],
      "metadata": {
        "id": "QnNvgsFKEvF0",
        "colab": {
          "base_uri": "https://localhost:8080/"
        },
        "outputId": "4b634ca2-80dd-4c5f-9633-ec9d15f5b78b"
      },
      "execution_count": 7,
      "outputs": [
        {
          "output_type": "stream",
          "name": "stdout",
          "text": [
            "/usr/lib/jvm/java-11-openjdk-amd64/\n"
          ]
        }
      ]
    },
    {
      "cell_type": "code",
      "source": [
        "!echo $JAVA_HOME"
      ],
      "metadata": {
        "id": "EHoXgQb0EyH4",
        "colab": {
          "base_uri": "https://localhost:8080/"
        },
        "outputId": "ec003882-a7e3-431d-d7ea-3de79a24c5f7"
      },
      "execution_count": 8,
      "outputs": [
        {
          "output_type": "stream",
          "name": "stdout",
          "text": [
            "\n"
          ]
        }
      ]
    },
    {
      "cell_type": "code",
      "source": [
        "!pip install -q findspark"
      ],
      "metadata": {
        "id": "xA6BrWOlEzwl"
      },
      "execution_count": 9,
      "outputs": []
    },
    {
      "cell_type": "code",
      "source": [
        "!pip install pyspark "
      ],
      "metadata": {
        "id": "FWcYXxSfE-66",
        "colab": {
          "base_uri": "https://localhost:8080/"
        },
        "outputId": "4504eac5-679e-45d9-b487-e01cbe5fdbb3"
      },
      "execution_count": 10,
      "outputs": [
        {
          "output_type": "stream",
          "name": "stdout",
          "text": [
            "Looking in indexes: https://pypi.org/simple, https://us-python.pkg.dev/colab-wheels/public/simple/\n",
            "Collecting pyspark\n",
            "  Downloading pyspark-3.3.2.tar.gz (281.4 MB)\n",
            "\u001b[2K     \u001b[90m━━━━━━━━━━━━━━━━━━━━━━━━━━━━━━━━━━━━━━━\u001b[0m \u001b[32m281.4/281.4 MB\u001b[0m \u001b[31m4.7 MB/s\u001b[0m eta \u001b[36m0:00:00\u001b[0m\n",
            "\u001b[?25h  Preparing metadata (setup.py) ... \u001b[?25l\u001b[?25hdone\n",
            "Collecting py4j==0.10.9.5\n",
            "  Downloading py4j-0.10.9.5-py2.py3-none-any.whl (199 kB)\n",
            "\u001b[2K     \u001b[90m━━━━━━━━━━━━━━━━━━━━━━━━━━━━━━━━━━━━━━\u001b[0m \u001b[32m199.7/199.7 KB\u001b[0m \u001b[31m21.5 MB/s\u001b[0m eta \u001b[36m0:00:00\u001b[0m\n",
            "\u001b[?25hBuilding wheels for collected packages: pyspark\n",
            "  Building wheel for pyspark (setup.py) ... \u001b[?25l\u001b[?25hdone\n",
            "  Created wheel for pyspark: filename=pyspark-3.3.2-py2.py3-none-any.whl size=281824028 sha256=88940d97ed31628528916c3c6c7d8b5f557e5577adb879b472562cc6e0822a0b\n",
            "  Stored in directory: /root/.cache/pip/wheels/6c/e3/9b/0525ce8a69478916513509d43693511463c6468db0de237c86\n",
            "Successfully built pyspark\n",
            "Installing collected packages: py4j, pyspark\n",
            "  Attempting uninstall: py4j\n",
            "    Found existing installation: py4j 0.10.9.7\n",
            "    Uninstalling py4j-0.10.9.7:\n",
            "      Successfully uninstalled py4j-0.10.9.7\n",
            "Successfully installed py4j-0.10.9.5 pyspark-3.3.2\n"
          ]
        }
      ]
    },
    {
      "cell_type": "code",
      "source": [
        "from pyspark.sql import SparkSession"
      ],
      "metadata": {
        "id": "RxVvKnuTFNAX"
      },
      "execution_count": 11,
      "outputs": []
    },
    {
      "cell_type": "code",
      "source": [
        "import pyspark.sql.functions as F"
      ],
      "metadata": {
        "id": "8_ZZIDSki9dp"
      },
      "execution_count": 12,
      "outputs": []
    },
    {
      "cell_type": "code",
      "source": [
        "import pandas as pd\n",
        "pd.set_option('display.max_rows', None)"
      ],
      "metadata": {
        "id": "ZpM3yHEfjaqZ"
      },
      "execution_count": 13,
      "outputs": []
    },
    {
      "cell_type": "code",
      "source": [
        "from pyspark.sql.window import Window\n",
        "from pyspark.sql.functions import row_number\n",
        "from pyspark.sql.functions import col\n",
        "from pyspark.sql.functions import *\n",
        "from pyspark.sql.functions import lit\n",
        "from pyspark.sql.functions import coalesce, expr"
      ],
      "metadata": {
        "id": "n04j9qewV5Co"
      },
      "execution_count": 14,
      "outputs": []
    },
    {
      "cell_type": "code",
      "source": [
        "spark = SparkSession.builder.getOrCreate()"
      ],
      "metadata": {
        "id": "K6zkngyXU8C2"
      },
      "execution_count": 15,
      "outputs": []
    },
    {
      "cell_type": "code",
      "source": [
        "spark.conf.set('spark.sql.legacy.parquet.datetimeRebaseModeInRead', 'CORRECTED')"
      ],
      "metadata": {
        "id": "G6ICwe5mVXHZ"
      },
      "execution_count": 16,
      "outputs": []
    },
    {
      "cell_type": "markdown",
      "source": [
        "## **Extraccion de datos**"
      ],
      "metadata": {
        "id": "M865_XBwVRTW"
      }
    },
    {
      "cell_type": "code",
      "source": [
        "#Lectura de parquets\n",
        "df_address = spark.read.parquet('/content/address_bootcamp.snappy.parquet')\n",
        "df_customer_basics = spark.read.parquet('/content/customer_basics_bootcamp.snappy.parquet')\n",
        "df_email = spark.read.parquet('/content/emails_bootcamp.snappy.parquet')\n",
        "df_phones = spark.read.parquet('/content/phones_bootcamp.snappy.parquet')\n",
        "df_nationality = spark.read.parquet('/content/nationality.snappy.parquet')\n",
        "df_marital_status_type = spark.read.parquet('/content/Marital status.snappy.parquet')"
      ],
      "metadata": {
        "id": "fjFFL9njVZyK"
      },
      "execution_count": 24,
      "outputs": []
    },
    {
      "cell_type": "code",
      "source": [
        "df_phones.show()"
      ],
      "metadata": {
        "colab": {
          "base_uri": "https://localhost:8080/"
        },
        "id": "1TgM0OOQNLRc",
        "outputId": "6b6e7d27-ecb1-4f50-cdb0-799cd16b2258"
      },
      "execution_count": null,
      "outputs": [
        {
          "output_type": "stream",
          "name": "stdout",
          "text": [
            "+-----------+--------------+-------------------+-----------------+----------+----------------+---------------+-------------+-------------------+-----------------+-------------+--------------+---------------+-----------------------+------------------+---------------------+--------------------+----------+-----------+--------------------------+---------------------+--------------------+---------------------+----------------+-------------------------+-------------------------+------------------+-------------------+-----------------+--------------------+---------------------+-----------------------+----------------------+--------------------+----------------------+------------------------------+----------------------------+-------------------+----------------+----------------+-------------------+--------------------+-----------------------+---------------------+\n",
            "|customer_id|phone_use_type|address_sequence_id|phone_sequence_id|phone_type|phone_country_id|prefix_phone_id|phone_area_id|cellphone_prefix_id|phone_exchange_id|phone_line_id|      phone_id|phone_intern_id|aditional_info_txt_desc|primary_phone_type|address_sequence_type|   address_town_name|zipcode_id|province_id|customer_phone_status_type|phone_status_mod_date|contact_channel_type|sender_application_id|wrong_phone_type|normalization_status_type|normalization_reason_name|normalization_date|validity_start_date|validity_end_date|dlvy_day_monday_type|dlvy_day_tuesday_type|dlvy_day_wednesday_type|dlvy_day_thursday_type|dlvy_day_friday_type|dlvy_day_saturday_type|delivery_contact_start_hm_date|delivery_contact_end_hm_date|registry_entry_date|register_user_id|last_change_date|last_change_user_id|last_change_hms_date|last_change_terminal_id|operational_load_date|\n",
            "+-----------+--------------+-------------------+-----------------+----------+----------------+---------------+-------------+-------------------+-----------------+-------------+--------------+---------------+-----------------------+------------------+---------------------+--------------------+----------+-----------+--------------------------+---------------------+--------------------+---------------------+----------------+-------------------------+-------------------------+------------------+-------------------+-----------------+--------------------+---------------------+-----------------------+----------------------+--------------------+----------------------+------------------------------+----------------------------+-------------------+----------------+----------------+-------------------+--------------------+-----------------------+---------------------+\n",
            "|   29354201|            00|                  0|                1|         3|             080|             54|          385|                 15|              618|         8929|  696850618783|               |                       |                 N|                    N|                    |          |           |                 DECLARADO|           2022-06-24|                  01|                 CTES|                |                NORM OPER|                       NE|        2022-06-24|         1900-01-01|       1900-01-01|                    |                     |                       |                      |                    |                      |                      00:00:00|                    00:00:00|         2022-06-24|         A126810|      2022-06-24|            A126810|              085240|                   2429| 2022-11-30 00:42:...|\n",
            "|   29389432|            00|                  0|                1|         3|             080|             54|           11|                 15|             2550|         6187|  711931820675|               |                       |                 N|                    N|                    |          |           |                 DECLARADO|           2022-06-24|                  01|                 PVTA|                |                NORM AUTO|                  COPDTEL|        2022-06-24|         1900-01-01|       1900-01-01|                    |                     |                       |                      |                    |                      |                      00:00:00|                    00:00:00|         2022-06-24|        VW2CCON0|      2022-06-24|           VW2CCON0|              102004|                   PVTA| 2022-11-30 00:42:...|\n",
            "|   29382041|            01|                  0|                2|         1|             080|             54|          341|                   |              454|         3113|    3843676600|               |                       |                 N|                    N|                    |          |           |                 DECLARADO|           2022-06-24|                  01|                 CTES|                |                NORM AUTO|                  COPDTEL|        2022-06-24|         1900-01-01|       1900-01-01|                    |                     |                       |                      |                    |                      |                      00:00:00|                    00:00:00|         2022-06-24|         A126228|      2022-06-24|            A126228|              102436|                   Y2GK| 2022-11-30 00:42:...|\n",
            "|   07395331|            00|                  0|                2|         3|             080|             54|           11|                 15|             3017|         9680|  229013342402|               |                       |                 N|                    N|                    |          |           |                 DECLARADO|           2022-06-24|                  01|                 WKFL|                |                NORM AUTO|                  COPDTEL|        2022-06-24|         1900-01-01|       1900-01-01|                    |                     |                       |                      |                    |                      |                      00:00:00|                    00:00:00|         2022-06-24|         A118094|      2022-06-24|            A118094|              105750|                   P101| 2022-11-30 00:42:...|\n",
            "|   29349520|            00|                  0|                1|         3|             080|             54|           11|                 15|             4439|         4790|  589625269325|               |                       |                 N|                    N|                    |          |           |                 DECLARADO|           2022-06-24|                  01|                 CTES|                |                NORM AUTO|                   COPDTE|        2022-06-24|         1900-01-01|       1900-01-01|                    |                     |                       |                      |                    |                      |                      00:00:00|                    00:00:00|         2022-06-24|          A33643|      2022-06-24|             A33643|              105847|                   2305| 2022-11-30 00:42:...|\n",
            "|   29349520|            01|                  0|                2|         3|             080|             54|           11|                 15|             4439|         4790|  589625269325|               |                       |                 N|                    N|                    |          |           |                 DECLARADO|           2022-06-24|                  01|                 CTES|                |                NORM AUTO|                  COPDTEL|        2022-06-24|         1900-01-01|       1900-01-01|                    |                     |                       |                      |                    |                      |                      00:00:00|                    00:00:00|         2022-06-24|          A33643|      2022-06-24|             A33643|              105847|                   2305| 2022-11-30 00:42:...|\n",
            "|   29390571|            00|                  0|                1|         3|             080|             54|          388|                 15|              514|         3040|  888200805780|               |                       |                 N|                    N|SAN SALVADOR DE J...|     04600|         10|                 DECLARADO|           2022-06-24|                  01|                 CTES|                |                NORM AUTO|                   COPDTE|        2022-08-11|         1900-01-01|       1900-01-01|                    |                     |                       |                      |                    |                      |                      00:00:00|                    00:00:00|         2022-06-24|          A78911|      2022-08-11|            A115116|              092940|                   5159| 2022-11-30 00:42:...|\n",
            "|   29353393|            00|                  0|                1|         3|             080|             54|         3444|                 15|               52|         3887|  474148675676|               |                       |                 N|                    N|                    |          |           |                COMPROBADO|           2022-06-24|                  01|                 CTES|                |                NORM AUTO|                  COPDTEL|        2022-06-24|         1900-01-01|       1900-01-01|                    |                     |                       |                      |                    |                      |                      00:00:00|                    00:00:00|         2022-06-24|         A127353|      2022-06-26|           PCLUPCRT|              125515|                   OSMS| 2022-11-30 00:42:...|\n",
            "|   29387501|            01|                  0|                2|         1|             080|             54|         2317|                   |               43|         4879|    2546905684|               |                       |                 N|                    N|                    |          |           |                 DECLARADO|           2022-06-24|                  01|                 CTES|                |                NORM AUTO|                  COPDTEL|        2022-06-24|         1900-01-01|       1900-01-01|                    |                     |                       |                      |                    |                      |                      00:00:00|                    00:00:00|         2022-06-24|         A118960|      2022-06-24|            A118960|              163712|                   Y2IG| 2022-11-30 00:42:...|\n",
            "|   29391432|            05|                  0|                1|         3|             080|             54|           11|                 15|             5529|         1962|  673397682353|               |                     04|                 N|                    N|                    |          |           |                 DECLARADO|           2022-06-24|                  01|                 CTES|                |                NORM AUTO|                  COPDTEL|        2022-06-24|         2022-06-24|       1900-01-01|                    |                     |                       |                      |                    |                      |                      00:00:00|                    00:00:00|         2022-06-24|        GPROBANK|      2022-06-24|            PCLE20N|              180221|                   BATC| 2022-11-30 00:42:...|\n",
            "|   29390553|            00|                  0|                1|         3|             080|             54|          351|                 15|              256|         0268|  453595914089|               |                       |                 N|                    N|                    |          |           |                COMPROBADO|           2022-07-02|                  01|                 CTES|                |                NORM AUTO|                  COPDTEL|        2022-07-01|         1900-01-01|       1900-01-01|                    |                     |                       |                      |                    |                      |                      00:00:00|                    00:00:00|         2022-06-24|         A126703|      2022-07-02|               XATM|              164720|                   XATM| 2022-11-30 00:42:...|\n",
            "|   29389361|            00|                  0|                1|         3|             080|             54|           11|                 15|             5579|         2407|  478405248222|               |                       |                 N|                    N|                    |          |           |                 DECLARADO|           2022-06-25|                  01|                 PVTA|                |                NORM AUTO|                  COPDTEL|        2022-06-25|         1900-01-01|       1900-01-01|                    |                     |                       |                      |                    |                      |                      00:00:00|                    00:00:00|         2022-06-25|        VW2CCON0|      2022-06-25|           VW2CCON0|              021541|                   PVTA| 2022-11-30 00:42:...|\n",
            "|   29400313|            00|                  0|                1|         3|             080|             54|           11|                 15|             4030|         8325|  043683030098|               |                       |                 N|                    N|                    |          |           |                 DECLARADO|           2022-06-25|                  01|                 CTES|                |                NORM AUTO|                  COPDTEL|        2022-06-27|         1900-01-01|       1900-01-01|                    |                     |                       |                      |                    |                      |                      00:00:00|                    00:00:00|         2022-06-25|        GPROBANK|      2022-06-27|           GPROBANK|              152322|                   LWBE| 2022-11-30 00:42:...|\n",
            "|   29401025|            00|                  0|                1|         3|             080|             54|           11|                 15|             2288|         8738|  008725729120|               |                       |                 N|                    N|                    |          |           |                COMPROBADO|           2022-06-26|                  01|                 PVTA|                |                NORM AUTO|                  COPDTEL|        2022-06-26|         1900-01-01|       1900-01-01|                    |                     |                       |                      |                    |                      |                      00:00:00|                    00:00:00|         2022-06-26|        VW2CCON0|      2022-07-12|           PCLUPCRT|              215455|                   OSMS| 2022-11-30 00:42:...|\n",
            "|   29401299|            00|                  0|                1|         3|             080|             54|         0011|                 15|             6761|         8843|09893903230068|               |                       |                 N|                    N|                    |          |           |                 DECLARADO|           2022-06-27|                  01|                 CTES|                |                         |                         |        1900-01-01|         1900-01-01|       1900-01-01|                    |                     |                       |                      |                    |                      |                      00:00:00|                    00:00:00|         2022-06-27|        GPROBANK|      2022-06-27|           GPROBANK|              184500|                   LWAW| 2022-11-30 00:42:...|\n",
            "|   29325999|            00|                  0|                2|         3|             080|             54|          342|                 15|              479|         9696|  466813319125|               |                       |                 N|                    N|                    |          |           |                 DECLARADO|           2022-06-26|                  01|                 PVTA|                |                NORM AUTO|                  COPDTEL|        2022-06-26|         1900-01-01|       1900-01-01|                    |                     |                       |                      |                    |                      |                      00:00:00|                    00:00:00|         2022-06-26|        VW2CCON0|      2022-06-26|           VW2CCON0|              222823|                   PVTA| 2022-11-30 00:42:...|\n",
            "|   29402665|            00|                  0|                1|         3|             080|             54|         3564|                 15|               33|         7284|  443220384448|               |                       |                 N|                    N|       SAN FRANCISCO|     02400|         04|                 DECLARADO|           2022-06-27|                  01|                 CTES|                |                NORM AUTO|                   COPDTE|        2022-06-27|         1900-01-01|       1900-01-01|                    |                     |                       |                      |                    |                      |                      00:00:00|                    00:00:00|         2022-06-27|         A116108|      2022-06-27|            A116108|              124517|                   6104| 2022-11-30 00:42:...|\n",
            "|   29402665|            00|                  0|                2|         3|             080|             54|         3564|                 15|               33|         3190|  538542198741|               |                       |                 N|                    N|                    |          |           |                 DECLARADO|           2022-06-27|                  01|                 CTES|                |                NORM AUTO|                  COPDTEL|        2022-06-27|         1900-01-01|       1900-01-01|                    |                     |                       |                      |                    |                      |                      00:00:00|                    00:00:00|         2022-06-27|         A116108|      2022-06-27|            A116108|              124517|                   6104| 2022-11-30 00:42:...|\n",
            "|   29375587|            00|                  0|                1|         3|             080|             54|          221|                 15|              692|         9792|  061269423380|               |                       |                 N|                    N|                    |          |           |                COMPROBADO|           2022-10-03|                  01|                 CTES|                |                NORM AUTO|                     COSM|        2022-10-03|         1900-01-01|       1900-01-01|                    |                     |                       |                      |                    |                      |                      00:00:00|                    00:00:00|         2022-10-03|         A127599|      2022-10-03|           PCLUPCRT|              132855|                   OSMS| 2022-11-30 00:42:...|\n",
            "|   29375587|            01|                  0|                2|         1|             080|             54|          221|                   |              425|         9227|    7885170733|               |                       |                 N|                    N|                    |          |           |                  VALIDADO|           2022-10-03|                  01|                 CTES|                |                NORM AUTO|                  COPDTEL|        2022-07-01|         1900-01-01|       1900-01-01|                    |                     |                       |                      |                    |                      |                      00:00:00|                    00:00:00|         2022-06-27|         A118978|      2022-10-03|            A127599|              122731|                   9330| 2022-11-30 00:42:...|\n",
            "+-----------+--------------+-------------------+-----------------+----------+----------------+---------------+-------------+-------------------+-----------------+-------------+--------------+---------------+-----------------------+------------------+---------------------+--------------------+----------+-----------+--------------------------+---------------------+--------------------+---------------------+----------------+-------------------------+-------------------------+------------------+-------------------+-----------------+--------------------+---------------------+-----------------------+----------------------+--------------------+----------------------+------------------------------+----------------------------+-------------------+----------------+----------------+-------------------+--------------------+-----------------------+---------------------+\n",
            "only showing top 20 rows\n",
            "\n"
          ]
        }
      ]
    },
    {
      "cell_type": "markdown",
      "source": [
        "## **JOINS ENTRE TABLAS (BBVAW2T1-24/25/26)**"
      ],
      "metadata": {
        "id": "AGFIYagTc8wg"
      }
    },
    {
      "cell_type": "code",
      "source": [
        "#Cambio formato de columna\n",
        "df_phones = df_phones.withColumn(\"phone_area_id\", F.col(\"phone_area_id\").cast(\"integer\"))\n",
        "df_phones = df_phones.withColumn(\"phone_number\", F.concat(F.lit(\"+\"), F.col(\"prefix_phone_id\"), F.lit(\" \"), F.col(\"phone_area_id\"), F.lit(\" \"), F.col(\"cellphone_prefix_id\"), F.lit(\" \"), F.col(\"phone_exchange_id\"), F.col(\"phone_line_id\")))"
      ],
      "metadata": {
        "id": "HOVugXbXZKkM"
      },
      "execution_count": null,
      "outputs": []
    },
    {
      "cell_type": "code",
      "source": [
        "#Join entre clientes y telefonos\n",
        "df_customer_basics_phones = df_customer_basics.join(df_phones, ['customer_id'], how='left').select(df_customer_basics.customer_id, df_phones.phone_type, df_phones.phone_number, df_phones.last_change_date)\n",
        "df_customer_basics_phones.sort(F.asc(\"customer_id\")).show(10)"
      ],
      "metadata": {
        "id": "OjHiWM7KdTXb",
        "colab": {
          "base_uri": "https://localhost:8080/"
        },
        "outputId": "d82c2ccd-5f1a-4bbc-c805-32875fb66601"
      },
      "execution_count": null,
      "outputs": [
        {
          "output_type": "stream",
          "name": "stdout",
          "text": [
            "+-----------+----------+-------------------+----------------+\n",
            "|customer_id|phone_type|       phone_number|last_change_date|\n",
            "+-----------+----------+-------------------+----------------+\n",
            "|   00000442|         3| +54 297 15 5296284|      2022-07-20|\n",
            "|   00000442|         3| +54 297 15 4729337|      2022-07-20|\n",
            "|   00001419|         3| +54 11 15 66793207|      2022-11-01|\n",
            "|   00001939|         3| +54 11 15 38700150|      2022-09-21|\n",
            "|   00002575|      null|               null|            null|\n",
            "|   00002707|         1|   +54 299  4477116|      2022-08-17|\n",
            "|   00002790|         3| +54 342 15 4662478|      2022-11-18|\n",
            "|   00002790|         1|   +54 342  4883620|      2022-10-08|\n",
            "|   00004287|         3|+54 3541 15 5988799|      2022-08-29|\n",
            "|   00004724|         3| +54 11 15 24084447|      2022-11-04|\n",
            "+-----------+----------+-------------------+----------------+\n",
            "only showing top 10 rows\n",
            "\n"
          ]
        }
      ]
    },
    {
      "cell_type": "code",
      "source": [
        "#Join entre clientes e email\n",
        "df_customer_basics_email = df_customer_basics.join(df_email,['customer_id'], how='left').select(df_customer_basics.customer_id, df_email.email_desc, df_email.last_change_date)\n",
        "df_customer_basics_email.show()"
      ],
      "metadata": {
        "id": "B_17ljUR0BOM",
        "colab": {
          "base_uri": "https://localhost:8080/"
        },
        "outputId": "9d1618ac-6188-4542-ccd4-48f3c8281c2b"
      },
      "execution_count": null,
      "outputs": [
        {
          "output_type": "stream",
          "name": "stdout",
          "text": [
            "+-----------+--------------------+----------------+\n",
            "|customer_id|          email_desc|last_change_date|\n",
            "+-----------+--------------------+----------------+\n",
            "|   07867437|                null|            null|\n",
            "|   06813266|                null|            null|\n",
            "|   29604216|                null|            null|\n",
            "|   28028529|                null|            null|\n",
            "|   28366580|                null|            null|\n",
            "|   02746969|                null|            null|\n",
            "|   23441482|                null|            null|\n",
            "|   23610540|                null|            null|\n",
            "|   25935956|                null|            null|\n",
            "|   25848977|                null|            null|\n",
            "|   01957163|                null|            null|\n",
            "|   06338965|                null|            null|\n",
            "|   29676364|                null|            null|\n",
            "|   26205399|   DIONISI@YAHOO.COM|      2019-12-27|\n",
            "|   03933825|DIGITALIZACION@EE...|      1900-01-01|\n",
            "|   29416245|                null|            null|\n",
            "|   29497813|                null|            null|\n",
            "|   02568856|                null|            null|\n",
            "|   29681573|                null|            null|\n",
            "|   04348412|                null|            null|\n",
            "+-----------+--------------------+----------------+\n",
            "only showing top 20 rows\n",
            "\n"
          ]
        }
      ]
    },
    {
      "cell_type": "code",
      "source": [
        "df_address = df_address.withColumn(\"full_address\", F.concat(F.col(\"street_name\"), F.lit(\" \"), F.concat(F.col(\"address_outdoor_id\"), F.lit(\" \"), F.col(\"address_indoor_id\"), F.lit(\" \"), F.col(\"indoor_number\"), F.col(\"address_town_name\"), F.lit(\" \"), F.col(\"address_department_name\"), F.lit(\" \"), F.col(\"zipcode_id\"))))"
      ],
      "metadata": {
        "id": "eTM6Uz5bduvy"
      },
      "execution_count": null,
      "outputs": []
    },
    {
      "cell_type": "code",
      "source": [
        "#join entre clientes y direccion\n",
        "df_customer_basics_address = df_customer_basics.join(df_address,['customer_id'], how='left').select(df_customer_basics.customer_id, 'full_address', df_address.last_change_date)\n",
        "df_customer_basics_address.show()"
      ],
      "metadata": {
        "id": "FcAhH0c70Yxa",
        "colab": {
          "base_uri": "https://localhost:8080/"
        },
        "outputId": "1f067b2d-20d3-4af9-bfa5-9b35b9558a3e"
      },
      "execution_count": null,
      "outputs": [
        {
          "output_type": "stream",
          "name": "stdout",
          "text": [
            "+-----------+--------------------+----------------+\n",
            "|customer_id|        full_address|last_change_date|\n",
            "+-----------+--------------------+----------------+\n",
            "|   07867437|ALTE FRANCISCO SE...|      2009-01-26|\n",
            "|   06813266|EL TORDO         ...|      2009-01-26|\n",
            "|   29604216|                null|            null|\n",
            "|   28028529|AMENEDO          ...|      2009-01-26|\n",
            "|   28366580|INCA AAA         ...|            null|\n",
            "|   28366580|INCA             ...|      2011-07-01|\n",
            "|   02746969|MERCEDES         ...|      2009-01-26|\n",
            "|   23441482|AV 39            ...|      2011-07-01|\n",
            "|   23610540|                null|            null|\n",
            "|   25935956|AV FERNANDEZ DE L...|      2009-01-26|\n",
            "|   25848977|                null|            null|\n",
            "|   01957163|JOSE M DE MINOGUY...|      2009-01-26|\n",
            "|   06338965|MADERO DR FRANCIS...|      2009-01-26|\n",
            "|   29676364|                null|            null|\n",
            "|   26205399|SUIPACHA         ...|      2009-01-26|\n",
            "|   03933825|HENRY DUNANT     ...|      2009-01-26|\n",
            "|   29416245|                null|            null|\n",
            "|   29497813|                null|            null|\n",
            "|   02568856|CLAUDIO MAMERTO C...|      2009-01-26|\n",
            "|   29681573|                null|            null|\n",
            "+-----------+--------------------+----------------+\n",
            "only showing top 20 rows\n",
            "\n"
          ]
        }
      ]
    },
    {
      "cell_type": "markdown",
      "source": [
        "## **FILTRADO Y REDUCCION DE DATOS --> PHONES (BBVAW2T1-27/61)**"
      ],
      "metadata": {
        "id": "YlsY5lSo9xK6"
      }
    },
    {
      "cell_type": "code",
      "source": [
        "#Hago una ventana por el customer_id y ordenado por la ultima actualizacion \n",
        "w = Window.partitionBy(df_customer_basics_phones['customer_id']).orderBy(\"last_change_date\")"
      ],
      "metadata": {
        "id": "xcpJjItfdTjJ"
      },
      "execution_count": null,
      "outputs": []
    },
    {
      "cell_type": "code",
      "source": [
        "#Agrego columna que cuente la cantidad de veces que se repite el ID\n",
        "df_customer_basics_phones = df_customer_basics_phones.withColumn(\"row_num\", row_number().over(w))"
      ],
      "metadata": {
        "id": "HDQPycVraAQm"
      },
      "execution_count": null,
      "outputs": []
    },
    {
      "cell_type": "code",
      "source": [
        "#Corto el dataframe quedandome con las ultimas 3 actualizaciones\n",
        "df_customer_basics_phones = df_customer_basics_phones.filter(col(\"row_num\") <= 3)"
      ],
      "metadata": {
        "id": "n3oRV3gLaAZX"
      },
      "execution_count": null,
      "outputs": []
    },
    {
      "cell_type": "code",
      "source": [
        "#Reacomodo la tabla con las columnas de interes y concatenando una nueva\n",
        "df_customer_basics_phones = df_customer_basics_phones.select('customer_id', 'phone_type', 'phone_number', 'row_num')\n",
        "df_customer_basics_phones.show(10)"
      ],
      "metadata": {
        "id": "ZLGGCQVYI6aI",
        "colab": {
          "base_uri": "https://localhost:8080/"
        },
        "outputId": "25fd2963-a145-4dea-a5ec-947f501526da"
      },
      "execution_count": null,
      "outputs": [
        {
          "output_type": "stream",
          "name": "stdout",
          "text": [
            "+-----------+----------+-------------------+-------+\n",
            "|customer_id|phone_type|       phone_number|row_num|\n",
            "+-----------+----------+-------------------+-------+\n",
            "|   00000442|         3| +54 297 15 5296284|      1|\n",
            "|   00000442|         3| +54 297 15 4729337|      2|\n",
            "|   00001419|         3| +54 11 15 66793207|      1|\n",
            "|   00001939|         3| +54 11 15 38700150|      1|\n",
            "|   00002575|      null|               null|      1|\n",
            "|   00002707|         1|   +54 299  4477116|      1|\n",
            "|   00002790|         1|   +54 342  4883620|      1|\n",
            "|   00002790|         3| +54 342 15 4662478|      2|\n",
            "|   00004287|         3|+54 3541 15 5988799|      1|\n",
            "|   00004724|         3| +54 11 15 24084447|      1|\n",
            "+-----------+----------+-------------------+-------+\n",
            "only showing top 10 rows\n",
            "\n"
          ]
        }
      ]
    },
    {
      "cell_type": "code",
      "source": [
        "#creo una funcion pivot para una columna especificada y cambiarle el nombre a las nuevas.   \n",
        "df_final_customer_phones = df_customer_basics_phones.groupBy(\"customer_id\").pivot(\"row_num\").agg(first('phone_number'))\n",
        "df_final_customer_phones = df_final_customer_phones.withColumnRenamed(\"1\", 'phone_number' + \"_1\") \\\n",
        "       .withColumnRenamed(\"2\", 'phone_number' + \"_2\") \\\n",
        "       .withColumnRenamed(\"3\", 'phone_number' + \"_3\") "
      ],
      "metadata": {
        "id": "fLvYs7w8dn7-"
      },
      "execution_count": null,
      "outputs": []
    },
    {
      "cell_type": "code",
      "source": [
        "df_final_customer_phones.show()"
      ],
      "metadata": {
        "colab": {
          "base_uri": "https://localhost:8080/"
        },
        "id": "H45q3mKIf1Qz",
        "outputId": "fa5f7ef4-3dee-43e3-b53e-ddc7c2c3d702"
      },
      "execution_count": null,
      "outputs": [
        {
          "output_type": "stream",
          "name": "stdout",
          "text": [
            "+-----------+-------------------+------------------+--------------+\n",
            "|customer_id|     phone_number_1|    phone_number_2|phone_number_3|\n",
            "+-----------+-------------------+------------------+--------------+\n",
            "|   00000442| +54 297 15 5296284|+54 297 15 4729337|          null|\n",
            "|   00001419| +54 11 15 66793207|              null|          null|\n",
            "|   00001939| +54 11 15 38700150|              null|          null|\n",
            "|   00002575|               null|              null|          null|\n",
            "|   00002707|   +54 299  4477116|              null|          null|\n",
            "|   00002790|   +54 342  4883620|+54 342 15 4662478|          null|\n",
            "|   00004287|+54 3541 15 5988799|              null|          null|\n",
            "|   00004724| +54 11 15 24084447|              null|          null|\n",
            "|   00007932| +54 385 15 4065887|              null|          null|\n",
            "|   00011850| +54 11 15 25781080|+54 3489 15 493578|          null|\n",
            "|   00012051| +54 3401 15 534381|              null|          null|\n",
            "|   00012611|   +54 11  43443165|+54 11 15 61141855|          null|\n",
            "|   00012991|               null|              null|          null|\n",
            "|   00013498| +54 221 15 6208511|              null|          null|\n",
            "|   00014664| +54 11 15 65050605|              null|          null|\n",
            "|   00015497| +54 11 15 51052460|              null|          null|\n",
            "|   00051576| +54 11 15 26531080|              null|          null|\n",
            "|   00053993| +54 3718 15 466655|              null|          null|\n",
            "|   00056407| +54 336 15 4577255|              null|          null|\n",
            "|   00056947| +54 297 15 4301718|+54 297 15 4577276|          null|\n",
            "+-----------+-------------------+------------------+--------------+\n",
            "only showing top 20 rows\n",
            "\n"
          ]
        }
      ]
    },
    {
      "cell_type": "markdown",
      "source": [
        "## **FILTRADO Y REDUCCION DE DATOS --> ADDRESS (BBVAW2T1-28)**"
      ],
      "metadata": {
        "id": "ZfzFJajcCiQD"
      }
    },
    {
      "cell_type": "code",
      "source": [
        "#Hago una ventana por el customer_id y ordenado por la ultima actualizacion \n",
        "w = Window.partitionBy(df_customer_basics_address['customer_id']).orderBy(\"last_change_date\")"
      ],
      "metadata": {
        "id": "pxkks_YiUH5a"
      },
      "execution_count": null,
      "outputs": []
    },
    {
      "cell_type": "code",
      "source": [
        "#Agrego columna que cuente la cantidad de veces que se repite el ID\n",
        "df_customer_basics_address = df_customer_basics_address.withColumn(\"row_num\", row_number().over(w))"
      ],
      "metadata": {
        "id": "Re5F4bZzUH5a"
      },
      "execution_count": null,
      "outputs": []
    },
    {
      "cell_type": "code",
      "source": [
        "#Corto el dataframe quedandome con las ultimas 3 actualizaciones\n",
        "df_customer_basics_address = df_customer_basics_address.filter(col(\"row_num\") <= 3)"
      ],
      "metadata": {
        "id": "B3I6KV-zUH5b"
      },
      "execution_count": null,
      "outputs": []
    },
    {
      "cell_type": "code",
      "source": [
        "#Reacomodo la tabla con las columnas de interes.\n",
        "df_customer_basics_address = df_customer_basics_address.select('customer_id', 'full_address', 'row_num')\n",
        "df_customer_basics_address.show(10)"
      ],
      "metadata": {
        "id": "XHkQtwHzSsMm",
        "colab": {
          "base_uri": "https://localhost:8080/"
        },
        "outputId": "0647daa4-5847-4dc8-ff73-63949cbd1955"
      },
      "execution_count": null,
      "outputs": [
        {
          "output_type": "stream",
          "name": "stdout",
          "text": [
            "+-----------+--------------------+-------+\n",
            "|customer_id|        full_address|row_num|\n",
            "+-----------+--------------------+-------+\n",
            "|   00000442|AGUERO           ...|      1|\n",
            "|   00001419|ALTE G BROWN     ...|      1|\n",
            "|   00001939|JOSE HERNANDEZ   ...|      1|\n",
            "|   00002575|                null|      1|\n",
            "|   00002707|GUATEMALA        ...|      1|\n",
            "|   00002790|AV CORDOBA       ...|      1|\n",
            "|   00004287|CNEL DE MARINA RO...|      1|\n",
            "|   00004724|PJE MUTUALISMO   ...|      1|\n",
            "|   00007932|AV FELIX DE OLAZA...|      1|\n",
            "|   00011850|JUNCAL           ...|      1|\n",
            "+-----------+--------------------+-------+\n",
            "only showing top 10 rows\n",
            "\n"
          ]
        }
      ]
    },
    {
      "cell_type": "code",
      "source": [
        "#creo una funcion pivot para una columna especificada y cambiarle el nombre a las nuevas.\n",
        "  \n",
        "df_final_customer_address = df_customer_basics_address.groupBy(\"customer_id\").pivot(\"row_num\").agg(first('full_address'))\n",
        "df_final_customer_address = df_final_customer_address.withColumnRenamed(\"1\", 'full_address' + \"_1\") \\\n",
        "       .withColumnRenamed(\"2\", 'full_address' + \"_2\") \\\n",
        "       .withColumnRenamed(\"3\", 'full_address' + \"_3\")"
      ],
      "metadata": {
        "id": "OhwYHQvxWu0b"
      },
      "execution_count": null,
      "outputs": []
    },
    {
      "cell_type": "code",
      "source": [
        "df_final_customer_address.show()"
      ],
      "metadata": {
        "colab": {
          "base_uri": "https://localhost:8080/"
        },
        "id": "u8fvY10hWu9F",
        "outputId": "9c1538dd-5e16-419f-c730-344bfd474783"
      },
      "execution_count": null,
      "outputs": [
        {
          "output_type": "stream",
          "name": "stdout",
          "text": [
            "+-----------+--------------------+--------------+--------------+\n",
            "|customer_id|      full_address_1|full_address_2|full_address_3|\n",
            "+-----------+--------------------+--------------+--------------+\n",
            "|   00000442|AGUERO           ...|          null|          null|\n",
            "|   00001419|ALTE G BROWN     ...|          null|          null|\n",
            "|   00001939|JOSE HERNANDEZ   ...|          null|          null|\n",
            "|   00002575|                null|          null|          null|\n",
            "|   00002707|GUATEMALA        ...|          null|          null|\n",
            "|   00002790|AV CORDOBA       ...|          null|          null|\n",
            "|   00004287|CNEL DE MARINA RO...|          null|          null|\n",
            "|   00004724|PJE MUTUALISMO   ...|          null|          null|\n",
            "|   00007932|AV FELIX DE OLAZA...|          null|          null|\n",
            "|   00011850|JUNCAL           ...|          null|          null|\n",
            "|   00012051|AV GRAL JOSE MARI...|          null|          null|\n",
            "|   00012611|ALBERTO LARROQUE ...|          null|          null|\n",
            "|   00012991|                null|          null|          null|\n",
            "|   00013498|AV PTE H YRIGOYEN...|          null|          null|\n",
            "|   00014664|AV TRIUNVIRATO   ...|          null|          null|\n",
            "|   00015497|VUELTA DE OBLIGAD...|          null|          null|\n",
            "|   00051576|ING GUILLERMO MAR...|          null|          null|\n",
            "|   00053993|CALLE 899        ...|          null|          null|\n",
            "|   00056407|AV DR J BAUTISTA ...|          null|          null|\n",
            "|   00056947|AV 25 DE MAYO    ...|          null|          null|\n",
            "+-----------+--------------------+--------------+--------------+\n",
            "only showing top 20 rows\n",
            "\n"
          ]
        }
      ]
    },
    {
      "cell_type": "markdown",
      "source": [
        "## **FILTRADO Y REDUCCION DE DATOS --> EMAILS (BBVAW2T1-29)**"
      ],
      "metadata": {
        "id": "y6RECo3H_Ccw"
      }
    },
    {
      "cell_type": "code",
      "source": [
        "#Filtrado y reduccion de datos --> EMAILS\n",
        "w = Window.partitionBy(df_customer_basics_email['customer_id']).orderBy(\"last_change_date\")"
      ],
      "metadata": {
        "id": "_kCYhMHpd3wJ"
      },
      "execution_count": null,
      "outputs": []
    },
    {
      "cell_type": "code",
      "source": [
        "df_customer_basics_email = df_customer_basics_email.withColumn(\"row_num\", row_number().over(w))"
      ],
      "metadata": {
        "id": "YdI72Ndsd3wK"
      },
      "execution_count": null,
      "outputs": []
    },
    {
      "cell_type": "code",
      "source": [
        "df_customer_basics_email = df_customer_basics_email.filter(col(\"row_num\") <= 3)"
      ],
      "metadata": {
        "id": "CthW4hv1d3wK"
      },
      "execution_count": null,
      "outputs": []
    },
    {
      "cell_type": "code",
      "source": [
        "df_customer_basics_email.show(10)"
      ],
      "metadata": {
        "id": "s2B32O57d3wK",
        "colab": {
          "base_uri": "https://localhost:8080/"
        },
        "outputId": "5cade119-1d28-4c7b-d5ea-f6ddd7860146"
      },
      "execution_count": null,
      "outputs": [
        {
          "output_type": "stream",
          "name": "stdout",
          "text": [
            "+-----------+--------------------+----------------+-------+\n",
            "|customer_id|          email_desc|last_change_date|row_num|\n",
            "+-----------+--------------------+----------------+-------+\n",
            "|   00000442|                null|            null|      1|\n",
            "|   00001419|EMILIA.RUBIANES@H...|      2015-10-08|      1|\n",
            "|   00001419|  JU_LY1@HOTMAIL.COM|      2019-05-11|      2|\n",
            "|   00001939|                null|            null|      1|\n",
            "|   00002575|                null|            null|      1|\n",
            "|   00002707|                null|            null|      1|\n",
            "|   00002790|DIGITALIZACION@EE...|      1900-01-01|      1|\n",
            "|   00002790| NOTIENE@HOIMAIL.COM|      2019-07-29|      2|\n",
            "|   00004287|                null|            null|      1|\n",
            "|   00004724|                null|            null|      1|\n",
            "+-----------+--------------------+----------------+-------+\n",
            "only showing top 10 rows\n",
            "\n"
          ]
        }
      ]
    },
    {
      "cell_type": "code",
      "source": [
        "#Hago primer pivot para dejar una fila por ID y tener cada email en columnas separadas\n",
        "df_final_customer_email = df_customer_basics_email.groupBy(\"customer_id\").pivot(\"row_num\").agg(first(\"email_desc\"))\n",
        "df_final_customer_email = df_final_customer_email.withColumnRenamed(\"1\", \"email_1\") \\\n",
        "       .withColumnRenamed(\"2\", \"email_2\") \\\n",
        "       .withColumnRenamed(\"3\", \"email_3\")\n",
        "df_final_customer_email.show()"
      ],
      "metadata": {
        "id": "eV1XYnSB_Yj_",
        "colab": {
          "base_uri": "https://localhost:8080/"
        },
        "outputId": "3b5bd9fa-c05e-4bd2-8d94-556e217a13f6"
      },
      "execution_count": null,
      "outputs": [
        {
          "output_type": "stream",
          "name": "stdout",
          "text": [
            "+-----------+--------------------+-------------------+-------+\n",
            "|customer_id|             email_1|            email_2|email_3|\n",
            "+-----------+--------------------+-------------------+-------+\n",
            "|   00000442|                null|               null|   null|\n",
            "|   00001419|EMILIA.RUBIANES@H...| JU_LY1@HOTMAIL.COM|   null|\n",
            "|   00001939|                null|               null|   null|\n",
            "|   00002575|                null|               null|   null|\n",
            "|   00002707|                null|               null|   null|\n",
            "|   00002790|DIGITALIZACION@EE...|NOTIENE@HOIMAIL.COM|   null|\n",
            "|   00004287|                null|               null|   null|\n",
            "|   00004724|                null|               null|   null|\n",
            "|   00007932|                null|               null|   null|\n",
            "|   00011850|                null|               null|   null|\n",
            "|   00012051|                null|               null|   null|\n",
            "|   00012611|                null|               null|   null|\n",
            "|   00012991|                null|               null|   null|\n",
            "|   00013498|                null|               null|   null|\n",
            "|   00014664|   alq@ciudad.com.ar|               null|   null|\n",
            "|   00015497|                null|               null|   null|\n",
            "|   00051576|                null|               null|   null|\n",
            "|   00053993|                null|               null|   null|\n",
            "|   00056407|NELLY.S.GEREZ@GMA...|               null|   null|\n",
            "|   00056947|                null|               null|   null|\n",
            "+-----------+--------------------+-------------------+-------+\n",
            "only showing top 20 rows\n",
            "\n"
          ]
        }
      ]
    },
    {
      "cell_type": "markdown",
      "source": [
        "## **AGREGAR COLUMNA CONTACT TYPE A LOS DATAFRAME (BBVAW2T1-30)**"
      ],
      "metadata": {
        "id": "hnl4rCVlIqws"
      }
    },
    {
      "cell_type": "code",
      "source": [
        "df_final_customer_address = df_final_customer_address.withColumn(\"Contact_type\", lit('Address'))\n",
        "df_final_customer_email = df_final_customer_email.withColumn(\"Contact_type\", lit('Email'))\n",
        "df_final_customer_phones = df_final_customer_phones.withColumn(\"Contact_type\", lit('Phone'))"
      ],
      "metadata": {
        "id": "oEES11OpIukc"
      },
      "execution_count": null,
      "outputs": []
    },
    {
      "cell_type": "code",
      "source": [
        "#Reemplazo los valores en Tipo de Contacto que son null\n",
        "df_final_customer_address = df_final_customer_address.withColumn(\"Contact_type\", F.when(F.col(\"full_address_1\").isNull(), F.lit(\" \")).otherwise(F.lit(\"address\")))\n",
        "df_final_customer_phones = df_final_customer_phones.withColumn(\"Contact_type\", F.when(F.col(\"phone_number_1\").isNull(), F.lit(\" \")).otherwise(F.lit(\"phone\")))\n",
        "df_final_customer_email = df_final_customer_email.withColumn(\"Contact_type\", F.when(F.col(\"email_1\").isNull(), F.lit(\" \")).otherwise(F.lit(\"email\")))"
      ],
      "metadata": {
        "id": "kyHteyt2ivmj"
      },
      "execution_count": null,
      "outputs": []
    },
    {
      "cell_type": "code",
      "source": [
        "df_final_customer_address.show()"
      ],
      "metadata": {
        "colab": {
          "base_uri": "https://localhost:8080/"
        },
        "id": "J7C-0cLML8Fj",
        "outputId": "79c04fff-0ae2-4c2b-f5df-24d91d9ebbe6"
      },
      "execution_count": null,
      "outputs": [
        {
          "output_type": "stream",
          "name": "stdout",
          "text": [
            "+-----------+--------------------+--------------+--------------+------------+\n",
            "|customer_id|      full_address_1|full_address_2|full_address_3|Contact_type|\n",
            "+-----------+--------------------+--------------+--------------+------------+\n",
            "|   00000442|AGUERO           ...|          null|          null|     address|\n",
            "|   00001419|ALTE G BROWN     ...|          null|          null|     address|\n",
            "|   00001939|JOSE HERNANDEZ   ...|          null|          null|     address|\n",
            "|   00002575|                null|          null|          null|            |\n",
            "|   00002707|GUATEMALA        ...|          null|          null|     address|\n",
            "|   00002790|AV CORDOBA       ...|          null|          null|     address|\n",
            "|   00004287|CNEL DE MARINA RO...|          null|          null|     address|\n",
            "|   00004724|PJE MUTUALISMO   ...|          null|          null|     address|\n",
            "|   00007932|AV FELIX DE OLAZA...|          null|          null|     address|\n",
            "|   00011850|JUNCAL           ...|          null|          null|     address|\n",
            "|   00012051|AV GRAL JOSE MARI...|          null|          null|     address|\n",
            "|   00012611|ALBERTO LARROQUE ...|          null|          null|     address|\n",
            "|   00012991|                null|          null|          null|            |\n",
            "|   00013498|AV PTE H YRIGOYEN...|          null|          null|     address|\n",
            "|   00014664|AV TRIUNVIRATO   ...|          null|          null|     address|\n",
            "|   00015497|VUELTA DE OBLIGAD...|          null|          null|     address|\n",
            "|   00051576|ING GUILLERMO MAR...|          null|          null|     address|\n",
            "|   00053993|CALLE 899        ...|          null|          null|     address|\n",
            "|   00056407|AV DR J BAUTISTA ...|          null|          null|     address|\n",
            "|   00056947|AV 25 DE MAYO    ...|          null|          null|     address|\n",
            "+-----------+--------------------+--------------+--------------+------------+\n",
            "only showing top 20 rows\n",
            "\n"
          ]
        }
      ]
    },
    {
      "cell_type": "code",
      "source": [],
      "metadata": {
        "id": "cmTw0F8ocSuQ"
      },
      "execution_count": null,
      "outputs": []
    },
    {
      "cell_type": "markdown",
      "source": [
        "## **AGREGAR COLUMNA DE JSON A TELEFONO (BBVAW2T1-31)**"
      ],
      "metadata": {
        "id": "iBaj_HxMlneH"
      }
    },
    {
      "cell_type": "code",
      "source": [
        "df_final_customer_phones = df_final_customer_phones.withColumn(\"phone_number_1_to_json\", F.when(F.col(\"phone_number_1\").isNull(), F.lit(\"sin_dato\")).otherwise(F.col(\"phone_number_1\")))\n",
        "df_final_customer_phones = df_final_customer_phones.withColumn(\"phone_number_1_json\", F.to_json(F.struct(\"phone_number_1_to_json\")))"
      ],
      "metadata": {
        "id": "kD3sk3WLlq5_"
      },
      "execution_count": null,
      "outputs": []
    },
    {
      "cell_type": "code",
      "source": [
        "df_final_customer_phones.count()"
      ],
      "metadata": {
        "colab": {
          "base_uri": "https://localhost:8080/"
        },
        "id": "2wB4PSFCngb1",
        "outputId": "9464311b-0831-44a4-b828-33822223ad53"
      },
      "execution_count": null,
      "outputs": [
        {
          "output_type": "execute_result",
          "data": {
            "text/plain": [
              "1614"
            ]
          },
          "metadata": {},
          "execution_count": 48
        }
      ]
    },
    {
      "cell_type": "markdown",
      "source": [
        "## **AGREGAR COLUMNA DE JSON A DOMICILIO (BBVAW2T1-32)** "
      ],
      "metadata": {
        "id": "hdL2DG-IMdVU"
      }
    },
    {
      "cell_type": "code",
      "source": [
        "df_final_customer_address = df_final_customer_address.withColumn(\"full_address_1_to_json\", F.when(F.col(\"full_address_1\").isNull(), F.lit(\"sin_dato\")).otherwise(F.col(\"full_address_1\")))\n",
        "df_final_customer_address = df_final_customer_address.withColumn(\"full_address_1_json\", F.to_json(F.struct(\"full_address_1_to_json\")))"
      ],
      "metadata": {
        "id": "vjo8xY4vMlUT"
      },
      "execution_count": null,
      "outputs": []
    },
    {
      "cell_type": "code",
      "source": [
        "df_final_customer_email.count()"
      ],
      "metadata": {
        "colab": {
          "base_uri": "https://localhost:8080/"
        },
        "id": "ORvTWrB-kt3l",
        "outputId": "8499538d-75d3-45af-a3a4-7335a302b5dd"
      },
      "execution_count": null,
      "outputs": [
        {
          "output_type": "execute_result",
          "data": {
            "text/plain": [
              "1614"
            ]
          },
          "metadata": {},
          "execution_count": 45
        }
      ]
    },
    {
      "cell_type": "code",
      "source": [
        "df_final_customer_address.select(F.collect_list('full_address_1_json')).first()[0]"
      ],
      "metadata": {
        "id": "rSeyuzrClDNe"
      },
      "execution_count": null,
      "outputs": []
    },
    {
      "cell_type": "markdown",
      "source": [
        "## **JOIN TABLAS DE CONTACTOS (BBVAW2T1-33)**\n"
      ],
      "metadata": {
        "id": "fgoCy_EQrw__"
      }
    },
    {
      "cell_type": "code",
      "source": [
        "#cambiando el primer campo podemos hacer el join de las tres bases.\n",
        "df_final_customer_phones = df_final_customer_phones.withColumnRenamed('customer_id','customer_id_B')"
      ],
      "metadata": {
        "id": "AluiDXaOo6lE"
      },
      "execution_count": null,
      "outputs": []
    },
    {
      "cell_type": "code",
      "source": [
        "df_final = df_final_customer_phones.join(df_final_customer_email, df_final_customer_phones.customer_id_B == df_final_customer_email.customer_id, how = \"left\")\n",
        "df_final = df_final.drop(\"customer_id\")\n",
        "df_final = df_final.join(df_final_customer_address, df_final.customer_id_B == df_final_customer_address.customer_id, how = \"left\")\n",
        "df_final = df_final.drop(\"customer_id\")\n",
        "df_final = df_final.withColumnRenamed('customer_id_B','customer_id')"
      ],
      "metadata": {
        "id": "3IIUcbEPp1SA"
      },
      "execution_count": null,
      "outputs": []
    },
    {
      "cell_type": "code",
      "source": [
        "df_final.show()"
      ],
      "metadata": {
        "colab": {
          "base_uri": "https://localhost:8080/"
        },
        "id": "toqtlnSArlmi",
        "outputId": "3e841feb-d2f9-4045-907a-5558e8c2540b"
      },
      "execution_count": null,
      "outputs": [
        {
          "output_type": "stream",
          "name": "stdout",
          "text": [
            "+-----------+-------------------+------------------+--------------+------------+----------------------+--------------------+--------------------+-------------------+-------+------------+--------------------+--------------+--------------+------------+----------------------+--------------------+\n",
            "|customer_id|     phone_number_1|    phone_number_2|phone_number_3|Contact_type|phone_number_1_to_json| phone_number_1_json|             email_1|            email_2|email_3|Contact_type|      full_address_1|full_address_2|full_address_3|Contact_type|full_address_1_to_json| full_address_1_json|\n",
            "+-----------+-------------------+------------------+--------------+------------+----------------------+--------------------+--------------------+-------------------+-------+------------+--------------------+--------------+--------------+------------+----------------------+--------------------+\n",
            "|   00000442| +54 297 15 5296284|+54 297 15 4729337|          null|       phone|    +54 297 15 5296284|{\"phone_number_1_...|                null|               null|   null|            |AGUERO           ...|          null|          null|     address|  AGUERO           ...|{\"full_address_1_...|\n",
            "|   00001419| +54 11 15 66793207|              null|          null|       phone|    +54 11 15 66793207|{\"phone_number_1_...|EMILIA.RUBIANES@H...| JU_LY1@HOTMAIL.COM|   null|       email|ALTE G BROWN     ...|          null|          null|     address|  ALTE G BROWN     ...|{\"full_address_1_...|\n",
            "|   00001939| +54 11 15 38700150|              null|          null|       phone|    +54 11 15 38700150|{\"phone_number_1_...|                null|               null|   null|            |JOSE HERNANDEZ   ...|          null|          null|     address|  JOSE HERNANDEZ   ...|{\"full_address_1_...|\n",
            "|   00002575|               null|              null|          null|            |              sin_dato|{\"phone_number_1_...|                null|               null|   null|            |                null|          null|          null|            |              sin_dato|{\"full_address_1_...|\n",
            "|   00002707|   +54 299  4477116|              null|          null|       phone|      +54 299  4477116|{\"phone_number_1_...|                null|               null|   null|            |GUATEMALA        ...|          null|          null|     address|  GUATEMALA        ...|{\"full_address_1_...|\n",
            "|   00002790|   +54 342  4883620|+54 342 15 4662478|          null|       phone|      +54 342  4883620|{\"phone_number_1_...|DIGITALIZACION@EE...|NOTIENE@HOIMAIL.COM|   null|       email|AV CORDOBA       ...|          null|          null|     address|  AV CORDOBA       ...|{\"full_address_1_...|\n",
            "|   00004287|+54 3541 15 5988799|              null|          null|       phone|   +54 3541 15 5988799|{\"phone_number_1_...|                null|               null|   null|            |CNEL DE MARINA RO...|          null|          null|     address|  CNEL DE MARINA RO...|{\"full_address_1_...|\n",
            "|   00004724| +54 11 15 24084447|              null|          null|       phone|    +54 11 15 24084447|{\"phone_number_1_...|                null|               null|   null|            |PJE MUTUALISMO   ...|          null|          null|     address|  PJE MUTUALISMO   ...|{\"full_address_1_...|\n",
            "|   00007932| +54 385 15 4065887|              null|          null|       phone|    +54 385 15 4065887|{\"phone_number_1_...|                null|               null|   null|            |AV FELIX DE OLAZA...|          null|          null|     address|  AV FELIX DE OLAZA...|{\"full_address_1_...|\n",
            "|   00011850| +54 11 15 25781080|+54 3489 15 493578|          null|       phone|    +54 11 15 25781080|{\"phone_number_1_...|                null|               null|   null|            |JUNCAL           ...|          null|          null|     address|  JUNCAL           ...|{\"full_address_1_...|\n",
            "|   00012051| +54 3401 15 534381|              null|          null|       phone|    +54 3401 15 534381|{\"phone_number_1_...|                null|               null|   null|            |AV GRAL JOSE MARI...|          null|          null|     address|  AV GRAL JOSE MARI...|{\"full_address_1_...|\n",
            "|   00012611|   +54 11  43443165|+54 11 15 61141855|          null|       phone|      +54 11  43443165|{\"phone_number_1_...|                null|               null|   null|            |ALBERTO LARROQUE ...|          null|          null|     address|  ALBERTO LARROQUE ...|{\"full_address_1_...|\n",
            "|   00012991|               null|              null|          null|            |              sin_dato|{\"phone_number_1_...|                null|               null|   null|            |                null|          null|          null|            |              sin_dato|{\"full_address_1_...|\n",
            "|   00013498| +54 221 15 6208511|              null|          null|       phone|    +54 221 15 6208511|{\"phone_number_1_...|                null|               null|   null|            |AV PTE H YRIGOYEN...|          null|          null|     address|  AV PTE H YRIGOYEN...|{\"full_address_1_...|\n",
            "|   00014664| +54 11 15 65050605|              null|          null|       phone|    +54 11 15 65050605|{\"phone_number_1_...|   alq@ciudad.com.ar|               null|   null|       email|AV TRIUNVIRATO   ...|          null|          null|     address|  AV TRIUNVIRATO   ...|{\"full_address_1_...|\n",
            "|   00015497| +54 11 15 51052460|              null|          null|       phone|    +54 11 15 51052460|{\"phone_number_1_...|                null|               null|   null|            |VUELTA DE OBLIGAD...|          null|          null|     address|  VUELTA DE OBLIGAD...|{\"full_address_1_...|\n",
            "|   00051576| +54 11 15 26531080|              null|          null|       phone|    +54 11 15 26531080|{\"phone_number_1_...|                null|               null|   null|            |ING GUILLERMO MAR...|          null|          null|     address|  ING GUILLERMO MAR...|{\"full_address_1_...|\n",
            "|   00053993| +54 3718 15 466655|              null|          null|       phone|    +54 3718 15 466655|{\"phone_number_1_...|                null|               null|   null|            |CALLE 899        ...|          null|          null|     address|  CALLE 899        ...|{\"full_address_1_...|\n",
            "|   00056407| +54 336 15 4577255|              null|          null|       phone|    +54 336 15 4577255|{\"phone_number_1_...|NELLY.S.GEREZ@GMA...|               null|   null|       email|AV DR J BAUTISTA ...|          null|          null|     address|  AV DR J BAUTISTA ...|{\"full_address_1_...|\n",
            "|   00056947| +54 297 15 4301718|+54 297 15 4577276|          null|       phone|    +54 297 15 4301718|{\"phone_number_1_...|                null|               null|   null|            |AV 25 DE MAYO    ...|          null|          null|     address|  AV 25 DE MAYO    ...|{\"full_address_1_...|\n",
            "+-----------+-------------------+------------------+--------------+------------+----------------------+--------------------+--------------------+-------------------+-------+------------+--------------------+--------------+--------------+------------+----------------------+--------------------+\n",
            "only showing top 20 rows\n",
            "\n"
          ]
        }
      ]
    },
    {
      "cell_type": "markdown",
      "source": [
        "## **RESGUARDAR 3 CONTACTOS DE CLIENTES (BBVAW2T1-34)**"
      ],
      "metadata": {
        "id": "-k4aWw_fq4SY"
      }
    },
    {
      "cell_type": "code",
      "source": [
        "# Crear las nuevas columnas con valores no nulos de las columnas de contactos, priorizando Telefono, Mail o dirección\n",
        "df_final = df_final.withColumn(\"contacto_1\", coalesce(\"phone_number_1\", \"phone_number_2\", \"phone_number_3\", \"email_1\", \"email_2\", \"email_3\", \"full_address_1\", \"full_address_1\", \"full_address_1\"))\n",
        "df_final = df_final.withColumn(\"contacto_2\", coalesce(\"phone_number_2\", \"phone_number_3\", \"email_1\", \"email_2\", \"email_3\", \"full_address_1\", \"full_address_2\", \"full_address_3\"))\n",
        "df_final = df_final.withColumn(\"contacto_3\", coalesce(\"phone_number_3\", \"email_1\", \"email_1\", \"email_1\", \"full_address_1\", \"full_address_2\", \"full_address_3\", \n",
        "                                        expr(\"coalesce(email_1, email_2, email_3, full_address_1, full_address_2, full_address_3)\")))\n",
        "\n",
        "df_final = df_final.withColumn(\"contacto_2\", \n",
        "                               when(col(\"contacto_2\").isin(col(\"contacto_1\")), None)\n",
        "                               .otherwise(col(\"contacto_2\")))\n",
        "df_final = df_final.withColumn(\"contacto_3\", \n",
        "                               when(col(\"contacto_3\").isin(col(\"contacto_1\"), col(\"contacto_2\")), None)\n",
        "                               .otherwise(col(\"contacto_3\")))\n",
        "\n",
        "df_final.show()"
      ],
      "metadata": {
        "colab": {
          "base_uri": "https://localhost:8080/"
        },
        "id": "U_pmTB_OnVuu",
        "outputId": "0c24b69a-ad02-449c-e900-c866a5dbbcc7"
      },
      "execution_count": null,
      "outputs": [
        {
          "output_type": "stream",
          "name": "stdout",
          "text": [
            "+-----------+-------------------+------------------+--------------+------------+----------------------+--------------------+--------------------+-------------------+-------+------------+--------------------+--------------+--------------+------------+----------------------+--------------------+-------------------+--------------------+--------------------+\n",
            "|customer_id|     phone_number_1|    phone_number_2|phone_number_3|Contact_type|phone_number_1_to_json| phone_number_1_json|             email_1|            email_2|email_3|Contact_type|      full_address_1|full_address_2|full_address_3|Contact_type|full_address_1_to_json| full_address_1_json|         contacto_1|          contacto_2|          contacto_3|\n",
            "+-----------+-------------------+------------------+--------------+------------+----------------------+--------------------+--------------------+-------------------+-------+------------+--------------------+--------------+--------------+------------+----------------------+--------------------+-------------------+--------------------+--------------------+\n",
            "|   00000442| +54 297 15 5296284|+54 297 15 4729337|          null|       phone|    +54 297 15 5296284|{\"phone_number_1_...|                null|               null|   null|            |AGUERO           ...|          null|          null|     address|  AGUERO           ...|{\"full_address_1_...| +54 297 15 5296284|  +54 297 15 4729337|AGUERO           ...|\n",
            "|   00001419| +54 11 15 66793207|              null|          null|       phone|    +54 11 15 66793207|{\"phone_number_1_...|EMILIA.RUBIANES@H...| JU_LY1@HOTMAIL.COM|   null|       email|ALTE G BROWN     ...|          null|          null|     address|  ALTE G BROWN     ...|{\"full_address_1_...| +54 11 15 66793207|EMILIA.RUBIANES@H...|EMILIA.RUBIANES@H...|\n",
            "|   00001939| +54 11 15 38700150|              null|          null|       phone|    +54 11 15 38700150|{\"phone_number_1_...|                null|               null|   null|            |JOSE HERNANDEZ   ...|          null|          null|     address|  JOSE HERNANDEZ   ...|{\"full_address_1_...| +54 11 15 38700150|JOSE HERNANDEZ   ...|JOSE HERNANDEZ   ...|\n",
            "|   00002575|               null|              null|          null|            |              sin_dato|{\"phone_number_1_...|                null|               null|   null|            |                null|          null|          null|            |              sin_dato|{\"full_address_1_...|               null|                null|                null|\n",
            "|   00002707|   +54 299  4477116|              null|          null|       phone|      +54 299  4477116|{\"phone_number_1_...|                null|               null|   null|            |GUATEMALA        ...|          null|          null|     address|  GUATEMALA        ...|{\"full_address_1_...|   +54 299  4477116|GUATEMALA        ...|GUATEMALA        ...|\n",
            "|   00002790|   +54 342  4883620|+54 342 15 4662478|          null|       phone|      +54 342  4883620|{\"phone_number_1_...|DIGITALIZACION@EE...|NOTIENE@HOIMAIL.COM|   null|       email|AV CORDOBA       ...|          null|          null|     address|  AV CORDOBA       ...|{\"full_address_1_...|   +54 342  4883620|  +54 342 15 4662478|DIGITALIZACION@EE...|\n",
            "|   00004287|+54 3541 15 5988799|              null|          null|       phone|   +54 3541 15 5988799|{\"phone_number_1_...|                null|               null|   null|            |CNEL DE MARINA RO...|          null|          null|     address|  CNEL DE MARINA RO...|{\"full_address_1_...|+54 3541 15 5988799|CNEL DE MARINA RO...|CNEL DE MARINA RO...|\n",
            "|   00004724| +54 11 15 24084447|              null|          null|       phone|    +54 11 15 24084447|{\"phone_number_1_...|                null|               null|   null|            |PJE MUTUALISMO   ...|          null|          null|     address|  PJE MUTUALISMO   ...|{\"full_address_1_...| +54 11 15 24084447|PJE MUTUALISMO   ...|PJE MUTUALISMO   ...|\n",
            "|   00007932| +54 385 15 4065887|              null|          null|       phone|    +54 385 15 4065887|{\"phone_number_1_...|                null|               null|   null|            |AV FELIX DE OLAZA...|          null|          null|     address|  AV FELIX DE OLAZA...|{\"full_address_1_...| +54 385 15 4065887|AV FELIX DE OLAZA...|AV FELIX DE OLAZA...|\n",
            "|   00011850| +54 11 15 25781080|+54 3489 15 493578|          null|       phone|    +54 11 15 25781080|{\"phone_number_1_...|                null|               null|   null|            |JUNCAL           ...|          null|          null|     address|  JUNCAL           ...|{\"full_address_1_...| +54 11 15 25781080|  +54 3489 15 493578|JUNCAL           ...|\n",
            "|   00012051| +54 3401 15 534381|              null|          null|       phone|    +54 3401 15 534381|{\"phone_number_1_...|                null|               null|   null|            |AV GRAL JOSE MARI...|          null|          null|     address|  AV GRAL JOSE MARI...|{\"full_address_1_...| +54 3401 15 534381|AV GRAL JOSE MARI...|AV GRAL JOSE MARI...|\n",
            "|   00012611|   +54 11  43443165|+54 11 15 61141855|          null|       phone|      +54 11  43443165|{\"phone_number_1_...|                null|               null|   null|            |ALBERTO LARROQUE ...|          null|          null|     address|  ALBERTO LARROQUE ...|{\"full_address_1_...|   +54 11  43443165|  +54 11 15 61141855|ALBERTO LARROQUE ...|\n",
            "|   00012991|               null|              null|          null|            |              sin_dato|{\"phone_number_1_...|                null|               null|   null|            |                null|          null|          null|            |              sin_dato|{\"full_address_1_...|               null|                null|                null|\n",
            "|   00013498| +54 221 15 6208511|              null|          null|       phone|    +54 221 15 6208511|{\"phone_number_1_...|                null|               null|   null|            |AV PTE H YRIGOYEN...|          null|          null|     address|  AV PTE H YRIGOYEN...|{\"full_address_1_...| +54 221 15 6208511|AV PTE H YRIGOYEN...|AV PTE H YRIGOYEN...|\n",
            "|   00014664| +54 11 15 65050605|              null|          null|       phone|    +54 11 15 65050605|{\"phone_number_1_...|   alq@ciudad.com.ar|               null|   null|       email|AV TRIUNVIRATO   ...|          null|          null|     address|  AV TRIUNVIRATO   ...|{\"full_address_1_...| +54 11 15 65050605|   alq@ciudad.com.ar|   alq@ciudad.com.ar|\n",
            "|   00015497| +54 11 15 51052460|              null|          null|       phone|    +54 11 15 51052460|{\"phone_number_1_...|                null|               null|   null|            |VUELTA DE OBLIGAD...|          null|          null|     address|  VUELTA DE OBLIGAD...|{\"full_address_1_...| +54 11 15 51052460|VUELTA DE OBLIGAD...|VUELTA DE OBLIGAD...|\n",
            "|   00051576| +54 11 15 26531080|              null|          null|       phone|    +54 11 15 26531080|{\"phone_number_1_...|                null|               null|   null|            |ING GUILLERMO MAR...|          null|          null|     address|  ING GUILLERMO MAR...|{\"full_address_1_...| +54 11 15 26531080|ING GUILLERMO MAR...|ING GUILLERMO MAR...|\n",
            "|   00053993| +54 3718 15 466655|              null|          null|       phone|    +54 3718 15 466655|{\"phone_number_1_...|                null|               null|   null|            |CALLE 899        ...|          null|          null|     address|  CALLE 899        ...|{\"full_address_1_...| +54 3718 15 466655|CALLE 899        ...|CALLE 899        ...|\n",
            "|   00056407| +54 336 15 4577255|              null|          null|       phone|    +54 336 15 4577255|{\"phone_number_1_...|NELLY.S.GEREZ@GMA...|               null|   null|       email|AV DR J BAUTISTA ...|          null|          null|     address|  AV DR J BAUTISTA ...|{\"full_address_1_...| +54 336 15 4577255|NELLY.S.GEREZ@GMA...|NELLY.S.GEREZ@GMA...|\n",
            "|   00056947| +54 297 15 4301718|+54 297 15 4577276|          null|       phone|    +54 297 15 4301718|{\"phone_number_1_...|                null|               null|   null|            |AV 25 DE MAYO    ...|          null|          null|     address|  AV 25 DE MAYO    ...|{\"full_address_1_...| +54 297 15 4301718|  +54 297 15 4577276|AV 25 DE MAYO    ...|\n",
            "+-----------+-------------------+------------------+--------------+------------+----------------------+--------------------+--------------------+-------------------+-------+------------+--------------------+--------------+--------------+------------+----------------------+--------------------+-------------------+--------------------+--------------------+\n",
            "only showing top 20 rows\n",
            "\n"
          ]
        }
      ]
    },
    {
      "cell_type": "markdown",
      "source": [
        "## **VISTA TEMPORAL DE CONTACTOS --> BBVAW2T1-35**"
      ],
      "metadata": {
        "id": "sgVonpavrjoK"
      }
    },
    {
      "cell_type": "code",
      "source": [
        "df_final.createOrReplaceTempView(\"contacts_view\")\n",
        "spark.sql(\"SELECT * FROM contacts_view\").show()"
      ],
      "metadata": {
        "id": "bzod3gvgoG7f",
        "colab": {
          "base_uri": "https://localhost:8080/",
          "height": 183
        },
        "outputId": "8228d62c-5354-4c75-b241-238738155f40"
      },
      "execution_count": null,
      "outputs": [
        {
          "output_type": "error",
          "ename": "NameError",
          "evalue": "ignored",
          "traceback": [
            "\u001b[0;31m---------------------------------------------------------------------------\u001b[0m",
            "\u001b[0;31mNameError\u001b[0m                                 Traceback (most recent call last)",
            "\u001b[0;32m<ipython-input-18-f544b5a6ae9e>\u001b[0m in \u001b[0;36m<module>\u001b[0;34m\u001b[0m\n\u001b[0;32m----> 1\u001b[0;31m \u001b[0mdf_final\u001b[0m\u001b[0;34m.\u001b[0m\u001b[0mcreateOrReplaceTempView\u001b[0m\u001b[0;34m(\u001b[0m\u001b[0;34m\"contacts_view\"\u001b[0m\u001b[0;34m)\u001b[0m\u001b[0;34m\u001b[0m\u001b[0;34m\u001b[0m\u001b[0m\n\u001b[0m\u001b[1;32m      2\u001b[0m \u001b[0mspark\u001b[0m\u001b[0;34m.\u001b[0m\u001b[0msql\u001b[0m\u001b[0;34m(\u001b[0m\u001b[0;34m\"SELECT * FROM contacts_view\"\u001b[0m\u001b[0;34m)\u001b[0m\u001b[0;34m.\u001b[0m\u001b[0mshow\u001b[0m\u001b[0;34m(\u001b[0m\u001b[0;34m)\u001b[0m\u001b[0;34m\u001b[0m\u001b[0;34m\u001b[0m\u001b[0m\n",
            "\u001b[0;31mNameError\u001b[0m: name 'df_final' is not defined"
          ]
        }
      ]
    },
    {
      "cell_type": "markdown",
      "source": [
        "## **VISTA TEMPORAL DE CLIENTES --> BBVAW2T1-36**"
      ],
      "metadata": {
        "id": "paGFXsM2rT9y"
      }
    },
    {
      "cell_type": "code",
      "source": [
        "df_customer_basics.createOrReplaceTempView(\"customer_basics_view\")\n",
        "spark.sql(\"SELECT * FROM customer_basics_view\").show(10)"
      ],
      "metadata": {
        "id": "93lM9LWMoGye",
        "colab": {
          "base_uri": "https://localhost:8080/"
        },
        "outputId": "1a8c338b-f29d-47ff-d9dc-a844d1c65936"
      },
      "execution_count": 26,
      "outputs": [
        {
          "output_type": "stream",
          "name": "stdout",
          "text": [
            "+-----------+-------------+-------------+--------------+---------------+--------------------+---------+----------------+-----------+-----------------------+-----------------------+----------+-------------------+-----------------+--------------------------+---------+----------------+-------------------+-------------------+-----------+----------+----------------------+--------------------+---------------------+-----------+--------------------------+----------------------------+-------------------------------+------------------------+------------------------+--------------------------+------------------------+--------------------------+----------------------------+------------------+------------------------+-------------------+-------------------+---------------------------+-----------------+-------------------+-----------------+-------------------------------+--------------------+---------------------+------------------+----------------+--------------------+--------------------------+----------------+--------------------------+--------------------+-------------+----------------+--------------------+-------------------+--------+---------------------+-------------------------+--------------------------+----------------+--------------------+--------------------+----------------+-------------+-------------------------+-----------------------+---------------------+\n",
            "|customer_id|personal_type|  personal_id|admission_date|sale_channel_id|operation_channel_id|branch_id|business_area_id|campaing_id|customer_situation_type|customer_condition_type|manager_id|tracking_manager_id|credit_manager_id|credit_recovery_manager_id|last_name|second_last_name|         first_name|marital_status_type|gender_type|birth_date|country_nationality_id|residence_country_id|customer_subject_type|sector_type|customer_level_access_type|cust_bcra_econ_activity_type|internal_economic_activity_type|bbva_inhabilitation_type|customer_block_bbva_date|customer_unblock_bbva_date|customer_block_bcra_date|customer_unblock_bcra_date|customer_pending_notice_type|last_notice_number|last_reference_number_id|last_service_number|last_address_number|last_unlinking_account_date|customer_end_date|last_change_user_id|customer_pep_type|bbva_family_lnk_weighted_number|customer_status_type|scoring_activity_type|refinancing_number|refinancing_date|coholder_customer_id|customer_bcra_situation_id|customer_cuit_id|customer_position_vat_type|balance_closing_date|profession_id|bbva_cust_number|customer_linked_type|customer_entry_type|job_type|profession_start_date|customer_first_block_date|customer_registration_date|last_change_date|last_change_hms_date|register_terminal_id|register_user_id|customer_type|customer_seniority_number|last_status_change_date|operational_load_date|\n",
            "+-----------+-------------+-------------+--------------+---------------+--------------------+---------+----------------+-----------+-----------------------+-----------------------+----------+-------------------+-----------------+--------------------------+---------+----------------+-------------------+-------------------+-----------+----------+----------------------+--------------------+---------------------+-----------+--------------------------+----------------------------+-------------------------------+------------------------+------------------------+--------------------------+------------------------+--------------------------+----------------------------+------------------+------------------------+-------------------+-------------------+---------------------------+-----------------+-------------------+-----------------+-------------------------------+--------------------+---------------------+------------------+----------------+--------------------+--------------------------+----------------+--------------------------+--------------------+-------------+----------------+--------------------+-------------------+--------+---------------------+-------------------------+--------------------------+----------------+--------------------+--------------------+----------------+-------------+-------------------------+-----------------------+---------------------+\n",
            "|   07867437|           00|0000022367134|    2007-07-10|          10000|                    |      143|              34|          0|                      1|                      1|       489|                   |                 |                          |   KATTAN|                |    ALBERTO GERARDO|                  1|          M|1971-08-10|                    80|                 080|                  201|        100|                         0|                          82|                       21101000|                       0|                    null|                      null|                    null|                      null|                           0|                 0|                       0|                  0|                  1|                       null|             null|            PCLE06R|                0|                              1|                  PO|                   47|              null|            null|                    |                      null|   0023223671349|                       042|                null|          016|       007867437|                   N|                   |     001|           2009-01-01|                     null|                2007-07-10|      2008-05-02|              181547|                P37B|          VUELCO|            S|                     null|                   null| 2022-03-10 01:05:...|\n",
            "|   06813266|           00|0000013343738|    2006-02-22|          10000|                    |      418|              34|          0|                      1|                      1|       139|                   |                 |                          |  FERRERO|                |       ISIDRO ROQUE|                  1|          M|1959-02-06|                    80|                 080|                  201|        100|                         0|                          82|                       21101000|                       0|                    null|                      null|                    null|                      null|                            |                 0|                       0|                  0|                  1|                       null|             null|            PCLE02P|                0|                              1|                  CA|                   47|              null|            null|                    |                      null|   0020133437380|                       043|                null|          016|       006813266|                   N|                   |     001|           2009-01-01|                     null|                2006-02-22|      2008-11-10|              145508|                P37B|          VUELCO|            S|                     null|                   null| 2022-03-10 01:05:...|\n",
            "|   29604216|           00|0000020589841|    2001-08-17|          10000|                  01|      199|              30|          0|                      1|                      1|       661|                   |                 |                          |   TOLOZA|                |       MIGUEL ANGEL|                  5|          M|1969-11-03|                    80|                 080|                  201|        100|                         0|                          82|                       21101000|                       0|                    null|                      null|                    null|                      null|                            |                 0|                       0|                  0|                  3|                       null|             null|            PCLE825|                2|                              1|                  AC|                   18|              null|            null|                    |                        21|   0020205898418|                       042|                null|          013|       005564899|                   N|                   |     001|           2016-12-26|                     null|                2001-08-17|      2022-02-21|              125716|                   B|          VUELCO|            N|                     null|             2016-12-26| 2022-03-10 01:05:...|\n",
            "|   28028529|           00|0000039730521|    2021-08-24|          10000|                  01|      995|              34|          0|                      1|                      8|      2603|                   |             PVTA|                          |   ZURITA|                |             CARLOS|                  5|          M|1996-04-27|                    80|                 080|                  201|        100|                         0|                          82|                       21101000|                       0|                    null|                      null|                    null|                      null|                           0|                 0|                       0|                  0|                  0|                       null|             null|            PCLE06R|                1|                              1|                  PO|                    4|              null|            null|                    |                      null|   0000000000000|                       042|                null|          016|       028028529|                   N|                 MD|     001|           2021-08-24|                     null|                2021-08-24|      2021-08-24|              172924|                P37B|        VW2CEVA0|            S|                     null|                   null| 2022-03-10 01:05:...|\n",
            "|   28366580|           00|0000039786049|    2022-01-11|          10000|                  00|       82|              34|          0|                      1|                      1|       234|                080|                 |                          | BEATRICE|                |   SEBASTIAN DANIEL|                  5|          M|1996-08-03|                    80|                 080|                  201|        100|                         0|                          82|                       21101000|                       0|                    null|                      null|                    null|                      null|                           0|                 2|                       0|                  0|                  2|                       null|             null|            PCLE06R|                2|                              2|                  AC|                   47|              null|            null|                    |                      null|   0020397860494|                       042|                null|          016|       028366580|                   N|                   |     001|           2022-01-20|                     null|                2022-01-11|      2022-01-25|              204956|                BATC|         PCLE510|            N|                     null|                   null| 2022-03-10 01:05:...|\n",
            "|   02746969|           00|0000025684535|    2010-10-21|          10000|                  00|       74|              34|          0|                      1|                      1|       192|                   |                 |                          |     RUIZ|                |RUIZ MIRIAM LILIANA|                  1|          F|1977-01-01|                    80|                 080|                  201|        100|                         0|                          82|                       21101000|                       0|                    null|                      null|                    null|                      null|                           0|                 0|                       0|                  0|                  1|                       null|             null|            PCLE06R|                1|                              1|                  PO|                   47|              null|            null|                    |                      null|   0027256845356|                       042|                null|          016|       002746969|                   N|                   |     001|           2010-10-21|                     null|                2010-10-21|      2010-10-21|              162741|                P37B|          VUELCO|            S|                     null|                   null| 2022-03-10 01:05:...|\n",
            "|   23441482|           00|0000038990587|    2016-12-22|          10000|                  00|      302|              34|          0|                      1|                      1|       591|                   |                 |                          |   ACOSTA|                |      FRANCO LEONEL|                  5|          M|1995-09-10|                    80|                 080|                  201|        100|                         0|                          82|                       21101000|                       0|                    null|                      null|                    null|                      null|                            |                 0|                       0|                  0|                  2|                       null|             null|            PCLE06R|                2|                              1|                  CA|                   47|              null|            null|                    |                      null|   0023389905879|                       042|                null|          007|       023441482|                   N|                   |     001|           2017-01-04|                     null|                2016-12-22|      2017-01-04|              035408|                P37B|         PCLE510|            S|                     null|             2017-01-04| 2022-03-10 01:05:...|\n",
            "|   23610540|           00|0000021823184|    2004-05-04|          10000|                  01|      130|              34|          0|                      1|                      1|       452|                   |                 |                          |BALMACEDA|                |        MARIA ESTER|                  5|          F|1971-01-31|                    80|                 080|                  201|        100|                         0|                          82|                       21101000|                       0|                    null|                      null|                    null|                      null|                            |                 0|                       0|                  0|                  1|                       null|             null|            PCLE06R|                0|                              1|                  PO|                   50|              null|            null|                    |                      null|   0027218231840|                       042|                null|          034|       006341634|                   N|                   |     004|           2009-01-01|                     null|                2004-05-04|      2021-04-10|              191538|                P37B|          VUELCO|            S|                     null|             2014-07-17| 2022-03-10 01:05:...|\n",
            "|   25935956|           00|0000036876523|    2019-06-24|          10000|                  01|       75|              30|          0|                      1|                      1|       200|                080|             PVTA|                          |  BUIATTI|                | VERONICA ESTEFANIA|                  5|          F|1992-05-12|                    80|                 080|                  201|        100|                         0|                          82|                       21101000|                       0|                    null|                      null|                    null|                      null|                           2|                30|                       0|                  0|                  1|                       null|             null|            PCLE02P|                2|                              3|                  AC|                    4|              null|            null|                    |                      null|   0027368765231|                       042|                null|          016|       025935956|                   N|                   |     001|           2019-06-24|                     null|                2019-06-24|      2022-01-20|              230746|                BATC|        VW2CEVA0|            N|                     null|                   null| 2022-03-10 01:05:...|\n",
            "|   25848977|           00|0000036916954|    2022-03-08|          10000|                  00|      603|              30|          0|                      1|                      8|      2603|                   |                 |                          | ONTIVERO|                |    NATALIA SOLEDAD|                  1|          F|1992-10-02|                    80|                 080|                  201|        100|                         0|                          82|                       21101000|                       0|                    null|                      null|                    null|                      null|                           0|                 0|                       0|                  0|                  0|                       null|             null|            PCLE25H|                1|                              0|                    |                   47|              null|            null|                    |                      null|   0027369169543|                       042|                null|          016|       028990968|                   N|                 MD|     001|           2022-03-08|                     null|                2022-03-08|      2022-03-08|              003155|                 BAT|         PCLE25H|             |                     null|                   null| 2022-03-10 01:05:...|\n",
            "+-----------+-------------+-------------+--------------+---------------+--------------------+---------+----------------+-----------+-----------------------+-----------------------+----------+-------------------+-----------------+--------------------------+---------+----------------+-------------------+-------------------+-----------+----------+----------------------+--------------------+---------------------+-----------+--------------------------+----------------------------+-------------------------------+------------------------+------------------------+--------------------------+------------------------+--------------------------+----------------------------+------------------+------------------------+-------------------+-------------------+---------------------------+-----------------+-------------------+-----------------+-------------------------------+--------------------+---------------------+------------------+----------------+--------------------+--------------------------+----------------+--------------------------+--------------------+-------------+----------------+--------------------+-------------------+--------+---------------------+-------------------------+--------------------------+----------------+--------------------+--------------------+----------------+-------------+-------------------------+-----------------------+---------------------+\n",
            "only showing top 10 rows\n",
            "\n"
          ]
        }
      ]
    },
    {
      "cell_type": "markdown",
      "source": [
        "## **VISTA TEMPORAL DE ESTADO CIVIL --> BBVAW2T1-37**"
      ],
      "metadata": {
        "id": "aCAFsH18rzZY"
      }
    },
    {
      "cell_type": "code",
      "source": [
        "df_marital_status_type.createOrReplaceTempView(\"marital_status_type_view\")\n",
        "spark.sql(\"SELECT * FROM marital_status_type_view\").show()"
      ],
      "metadata": {
        "id": "JaZk1Hn2oHD2",
        "colab": {
          "base_uri": "https://localhost:8080/"
        },
        "outputId": "2e655302-aacf-4d2d-8fe8-1aa39974591f"
      },
      "execution_count": null,
      "outputs": [
        {
          "output_type": "stream",
          "name": "stdout",
          "text": [
            "+-------------------+------------------------+-------------------------+--------------------+-------------------------+-------------------+----------------+--------------------+-----------------------+-------------------+---------------------+-----------------+\n",
            "|marital_status_type|first_record_filter_type|second_record_filter_type| martial_status_desc|martial_status_short_desc|registry_entry_date|last_change_date|last_change_hms_date|last_change_terminal_id|last_change_user_id|operational_load_date|customer_end_date|\n",
            "+-------------------+------------------------+-------------------------+--------------------+-------------------------+-------------------+----------------+--------------------+-----------------------+-------------------+---------------------+-----------------+\n",
            "|                  3|                        |                         |NO INFORMA       ...|               NO INFORMA|         2016-08-11|      2016-08-11|              205030|                   BTCH|           TC4C0100| 2022-01-14 02:08:...|       1900-01-01|\n",
            "|                  3|                   C    |                    00001|CASADO/A         ...|               CASADO/A  |         2016-08-11|      2016-08-11|              205030|                   BTCH|           TC4C0100| 2022-01-14 02:08:...|       1900-01-01|\n",
            "|                  3|                        |                    00002|VIUDO/A          ...|               VIUDO/A   |         2016-08-11|      2016-08-11|              205030|                   BTCH|           TC4C0100| 2022-01-14 02:08:...|       1900-01-01|\n",
            "|                  3|                   C    |                    00003|SEPARADO/A       ...|               SEPARADO/A|         2016-08-11|      2016-08-11|              205030|                   BTCH|           TC4C0100| 2022-01-14 02:08:...|       1900-01-01|\n",
            "|                  3|                        |                    00003|DIVORCIADO       ...|               DIVORCIADO|         2016-08-11|      2016-08-11|              205030|                   BTCH|           TC4C0100| 2022-01-14 02:08:...|       1900-01-01|\n",
            "|                  3|                        |                    00000|SOLTERO/A        ...|               SOLTERO/A |         2016-08-11|      2016-08-11|              205030|                   BTCH|           TC4C0100| 2022-01-14 02:08:...|       1900-01-01|\n",
            "|                  3|                        |                         |CONVIVIENT       ...|               CONVIVIENT|         2016-08-11|      2016-08-11|              205030|                   BTCH|           TC4C0100| 2022-01-14 02:08:...|       1900-01-01|\n",
            "|                  3|                        |                         |OTROS            ...|               OTROS     |         2016-08-11|      2016-08-11|              205030|                   BTCH|           TC4C0100| 2022-01-14 02:08:...|       1900-01-01|\n",
            "|                  3|                        |                         |CONV. INSC       ...|               CONV. INSC|         2016-08-11|      2016-08-11|              205030|                   BTCH|           TC4C0100| 2022-01-14 02:08:...|       1900-01-01|\n",
            "+-------------------+------------------------+-------------------------+--------------------+-------------------------+-------------------+----------------+--------------------+-----------------------+-------------------+---------------------+-----------------+\n",
            "\n"
          ]
        }
      ]
    },
    {
      "cell_type": "markdown",
      "source": [
        "## **VISTA TEMPORAL DE NACIONALIDAD --> BBVAW2T1-38/62**\n",
        "\n",
        "\n",
        "\n"
      ],
      "metadata": {
        "id": "6pRvQf41rMJd"
      }
    },
    {
      "cell_type": "code",
      "source": [
        "df_nationality.createOrReplaceTempView(\"nationality_view\")\n",
        "spark.sql(\"SELECT * FROM nationality_view\").show(10)"
      ],
      "metadata": {
        "id": "9yFSQaumoGr9",
        "colab": {
          "base_uri": "https://localhost:8080/"
        },
        "outputId": "fae63622-6f64-4eeb-e6be-468564c0f937"
      },
      "execution_count": null,
      "outputs": [
        {
          "output_type": "stream",
          "name": "stdout",
          "text": [
            "+----------------------+-------------------------+-----------------+--------------+------------------+----------+---------------------+\n",
            "|country_nationality_id|country_group_branch_type|phone_1_prefix_id|  country_name|country_short_desc|country_id|operational_load_date|\n",
            "+----------------------+-------------------------+-----------------+--------------+------------------+----------+---------------------+\n",
            "|                     1|                         |               44|   REINO UNIDO|               GBR|        GB| 2021-11-22 16:07:...|\n",
            "|                     2|                         |                1|ESTADOS UNIDOS|               USA|        US| 2021-11-22 16:07:...|\n",
            "|                     3|                         |               49|      ALEMANIA|               DEU|        DE| 2021-11-22 16:07:...|\n",
            "|                     4|                         |               33|       FRANCIA|               FRA|        FR| 2021-11-22 16:07:...|\n",
            "|                     5|                         |               41|         SUIZA|               CHE|        CH| 2021-11-22 16:07:...|\n",
            "|                     6|                         |               32|       BELGICA|               BEL|        BE| 2021-11-22 16:07:...|\n",
            "|                     7|                         |               39|        ITALIA|               ITA|        IT| 2021-11-22 16:07:...|\n",
            "|                     8|                         |               31|       HOLANDA|               NLD|        NL| 2021-11-22 16:07:...|\n",
            "|                     9|                         |               34|       ESPANIA|               ESP|        ES| 2021-11-22 16:07:...|\n",
            "|                    10|                      LIM|              598|       URUGUAY|               URY|        UY| 2021-11-22 16:07:...|\n",
            "+----------------------+-------------------------+-----------------+--------------+------------------+----------+---------------------+\n",
            "only showing top 10 rows\n",
            "\n"
          ]
        }
      ]
    },
    {
      "cell_type": "markdown",
      "source": [
        "## **Querys en spark SQL --> BBVAW2T1-39**"
      ],
      "metadata": {
        "id": "EIvcT8dDypTE"
      }
    },
    {
      "cell_type": "markdown",
      "source": [
        "Generar un público objetivo (1) que cumpla los siguientes puntos:\n",
        "* Cliente\n",
        "* Antigüedad superior a 5 años.\n",
        "* Asalariado Fijo.\n",
        "* Estado civil Casado"
      ],
      "metadata": {
        "id": "TkgPQExFy5Ia"
      }
    },
    {
      "cell_type": "code",
      "source": [
        "spark.sql(\"SELECT * , current_date() as current_date, round(months_between(current_date(), customer_registration_date)/12,2) as years_reg \\\n",
        "        FROM customer_basics_view \\\n",
        "        WHERE (round(months_between(current_date(), customer_registration_date)/12,2)) > 5 \\\n",
        "        AND job_type = '001' \\\n",
        "        AND marital_status_type = 1\").show()"
      ],
      "metadata": {
        "colab": {
          "base_uri": "https://localhost:8080/"
        },
        "id": "gOVTryon9fd0",
        "outputId": "be6659e8-5c3b-49e1-9d2d-dfc17e7e169e"
      },
      "execution_count": 32,
      "outputs": [
        {
          "output_type": "stream",
          "name": "stdout",
          "text": [
            "+-----------+-------------+-------------+--------------+---------------+--------------------+---------+----------------+-----------+-----------------------+-----------------------+----------+-------------------+-----------------+--------------------------+------------+----------------+-------------------+-------------------+-----------+----------+----------------------+--------------------+---------------------+-----------+--------------------------+----------------------------+-------------------------------+------------------------+------------------------+--------------------------+------------------------+--------------------------+----------------------------+------------------+------------------------+-------------------+-------------------+---------------------------+-----------------+-------------------+-----------------+-------------------------------+--------------------+---------------------+------------------+----------------+--------------------+--------------------------+----------------+--------------------------+--------------------+-------------+----------------+--------------------+-------------------+--------+---------------------+-------------------------+--------------------------+----------------+--------------------+--------------------+----------------+-------------+-------------------------+-----------------------+---------------------+------------+---------+\n",
            "|customer_id|personal_type|  personal_id|admission_date|sale_channel_id|operation_channel_id|branch_id|business_area_id|campaing_id|customer_situation_type|customer_condition_type|manager_id|tracking_manager_id|credit_manager_id|credit_recovery_manager_id|   last_name|second_last_name|         first_name|marital_status_type|gender_type|birth_date|country_nationality_id|residence_country_id|customer_subject_type|sector_type|customer_level_access_type|cust_bcra_econ_activity_type|internal_economic_activity_type|bbva_inhabilitation_type|customer_block_bbva_date|customer_unblock_bbva_date|customer_block_bcra_date|customer_unblock_bcra_date|customer_pending_notice_type|last_notice_number|last_reference_number_id|last_service_number|last_address_number|last_unlinking_account_date|customer_end_date|last_change_user_id|customer_pep_type|bbva_family_lnk_weighted_number|customer_status_type|scoring_activity_type|refinancing_number|refinancing_date|coholder_customer_id|customer_bcra_situation_id|customer_cuit_id|customer_position_vat_type|balance_closing_date|profession_id|bbva_cust_number|customer_linked_type|customer_entry_type|job_type|profession_start_date|customer_first_block_date|customer_registration_date|last_change_date|last_change_hms_date|register_terminal_id|register_user_id|customer_type|customer_seniority_number|last_status_change_date|operational_load_date|current_date|years_reg|\n",
            "+-----------+-------------+-------------+--------------+---------------+--------------------+---------+----------------+-----------+-----------------------+-----------------------+----------+-------------------+-----------------+--------------------------+------------+----------------+-------------------+-------------------+-----------+----------+----------------------+--------------------+---------------------+-----------+--------------------------+----------------------------+-------------------------------+------------------------+------------------------+--------------------------+------------------------+--------------------------+----------------------------+------------------+------------------------+-------------------+-------------------+---------------------------+-----------------+-------------------+-----------------+-------------------------------+--------------------+---------------------+------------------+----------------+--------------------+--------------------------+----------------+--------------------------+--------------------+-------------+----------------+--------------------+-------------------+--------+---------------------+-------------------------+--------------------------+----------------+--------------------+--------------------+----------------+-------------+-------------------------+-----------------------+---------------------+------------+---------+\n",
            "|   07867437|           00|0000022367134|    2007-07-10|          10000|                    |      143|              34|          0|                      1|                      1|       489|                   |                 |                          |      KATTAN|                |    ALBERTO GERARDO|                  1|          M|1971-08-10|                    80|                 080|                  201|        100|                         0|                          82|                       21101000|                       0|                    null|                      null|                    null|                      null|                           0|                 0|                       0|                  0|                  1|                       null|             null|            PCLE06R|                0|                              1|                  PO|                   47|              null|            null|                    |                      null|   0023223671349|                       042|                null|          016|       007867437|                   N|                   |     001|           2009-01-01|                     null|                2007-07-10|      2008-05-02|              181547|                P37B|          VUELCO|            S|                     null|                   null| 2022-03-10 01:05:...|  2023-03-30|    15.72|\n",
            "|   06813266|           00|0000013343738|    2006-02-22|          10000|                    |      418|              34|          0|                      1|                      1|       139|                   |                 |                          |     FERRERO|                |       ISIDRO ROQUE|                  1|          M|1959-02-06|                    80|                 080|                  201|        100|                         0|                          82|                       21101000|                       0|                    null|                      null|                    null|                      null|                            |                 0|                       0|                  0|                  1|                       null|             null|            PCLE02P|                0|                              1|                  CA|                   47|              null|            null|                    |                      null|   0020133437380|                       043|                null|          016|       006813266|                   N|                   |     001|           2009-01-01|                     null|                2006-02-22|      2008-11-10|              145508|                P37B|          VUELCO|            S|                     null|                   null| 2022-03-10 01:05:...|  2023-03-30|     17.1|\n",
            "|   02746969|           00|0000025684535|    2010-10-21|          10000|                  00|       74|              34|          0|                      1|                      1|       192|                   |                 |                          |        RUIZ|                |RUIZ MIRIAM LILIANA|                  1|          F|1977-01-01|                    80|                 080|                  201|        100|                         0|                          82|                       21101000|                       0|                    null|                      null|                    null|                      null|                           0|                 0|                       0|                  0|                  1|                       null|             null|            PCLE06R|                1|                              1|                  PO|                   47|              null|            null|                    |                      null|   0027256845356|                       042|                null|          016|       002746969|                   N|                   |     001|           2010-10-21|                     null|                2010-10-21|      2010-10-21|              162741|                P37B|          VUELCO|            S|                     null|                   null| 2022-03-10 01:05:...|  2023-03-30|    12.44|\n",
            "|   03933825|           00|0000025583974|    2011-07-13|          10000|                  00|      177|              34|          0|                      1|                      1|       600|                   |                 |                          |        SOSA|                |      MARIA CECILIA|                  1|          F|1977-08-04|                    80|                 080|                  201|        100|                         0|                          82|                       21101000|                       0|                    null|                      null|                    null|                      null|                           0|                 0|                       0|                  0|                  1|                       null|             null|            PCLE06R|                1|                              1|                  PO|                   47|              null|            null|                    |                      null|   0027255839743|                       042|                null|          016|       003933825|                   N|                   |     001|           2011-07-13|                     null|                2011-07-13|      2011-07-13|              161542|                P37B|         PCLE10P|            S|                     null|                   null| 2022-03-10 01:05:...|  2023-03-30|    11.71|\n",
            "|   29416245|           27|0000007954354|    2014-10-07|          10000|                  00|      603|              34|          0|                      1|                      8|      2603|                   |                 |                          |   GERVASONI|                |     JOSE FRANCISCO|                  1|          M|1945-10-04|                    80|                 080|                  201|        100|                         0|                          82|                       21101000|                       0|                    null|                      null|                    null|                      null|                           0|                 0|                       0|                  0|                  0|                       null|             null|            PCLE25Q|                1|                              1|                  PO|                   47|              null|            null|                    |                      null|   0020079543544|                       042|                null|          016|       020773121|                   N|                 MD|     001|           2014-10-07|                     null|                2014-10-07|      2014-10-07|              175751|                P37B|         PCLE10P|            S|                     null|                   null| 2022-03-10 01:05:...|  2023-03-30|     8.48|\n",
            "|   29497813|           25|0000001670239|    1992-06-20|          20050|                  01|      317|              34|          0|                      1|                      8|       609|                   |                 |                          |CIANCIABELLA|                |                JUA|                  1|          M|1922-06-25|                    80|                 080|                  201|        100|                          |                          82|                       21101000|                       0|                    null|                      null|                    null|                      null|                            |                 0|                       0|                  0|                  2|                       null|             null|            PCLE06R|                0|                              1|                  CA|                   47|              null|            null|                    |                      null|   0020016702391|                       042|                null|          016|       000569590|                   N|                 AD|     001|           2009-01-01|                     null|                1992-06-20|      2013-03-09|              150515|                P37B|          VUELCO|            S|                     null|                   null| 2022-03-10 01:05:...|  2023-03-30|    30.78|\n",
            "|   02568856|           00|0000017440976|    2010-08-12|          10000|                  00|      223|              34|          0|                      1|                      1|       729|                   |                 |                          |       ARIAS|                |  PATRICIA GRACIELA|                  1|          F|1965-08-04|                    80|                 080|                  201|        100|                         0|                          82|                       21101000|                       0|                    null|                      null|                    null|                      null|                           0|                 0|                       0|                  0|                  1|                       null|             null|            PCLE06R|                1|                              1|                  PO|                   47|              null|            null|                    |                      null|   0027174409760|                       042|                null|          016|       002568856|                   N|                   |     001|           2010-08-12|                     null|                2010-08-12|      2010-08-12|              163210|                P37B|          VUELCO|            S|                     null|                   null| 2022-03-10 01:05:...|  2023-03-30|    12.63|\n",
            "|   29681573|           27|0000007849347|    1994-12-23|          10000|                  01|      263|              34|          0|                      1|                      8|       151|                   |                 |                          |       VOZZI|                |             CARLOS|                  1|          M|1950-03-02|                    80|                 080|                  201|        100|                         0|                          82|                       21101000|                       0|                    null|                      null|                    null|                      null|                            |                 0|                       0|                  0|                  0|                       null|             null|            PCLE25Q|                0|                              1|                  CA|                   47|              null|            null|                    |                      null|   0020078493470|                       043|                null|          016|                |                   N|                   |     001|           2009-01-01|                     null|                1994-12-23|      2013-06-18|              163425|                P37B|          VUELCO|            S|                     null|                   null| 2022-03-10 01:05:...|  2023-03-30|    28.27|\n",
            "|   04348412|           26|0000000046479|    1998-08-28|          10000|                  01|      999|              34|          0|                      1|                      1|       901|                   |                 |                          |    MASLATON|                |             RAQUEL|                  1|          F|1929-10-06|                    80|                 080|                  201|        100|                         0|                          82|                       21101000|                       0|                    null|                      null|                    null|                      null|                            |                 0|                       0|                  0|                  0|                       null|             null|            PCLE06R|                0|                              1|                  CA|                   47|              null|            null|                    |                      null|   0027000464797|                       042|                null|          016|       004348412|                   N|                   |     001|           2009-01-01|                     null|                1998-08-28|      1998-08-28|              082606|                P37B|          VUELCO|            S|                     null|                   null| 2022-03-10 01:05:...|  2023-03-30|    24.59|\n",
            "|   21241089|           00|0000013143653|    2015-03-17|          10000|                  00|      603|              34|          0|                      1|                      8|      2603|                   |                 |                          |     ENRIQUE|                |          RAUL ABEL|                  1|          M|1957-07-18|                    80|                 080|                  201|        100|                         0|                          82|                       21101000|                       0|                    null|                      null|                    null|                      null|                           0|                 0|                       0|                  0|                  0|                       null|             null|            PCLE06R|                1|                              1|                  PO|                   47|              null|            null|                    |                      null|   0020131436530|                       042|                null|          016|       021241089|                   N|                 MD|     001|           2015-03-17|                     null|                2015-03-17|      2015-03-17|              230125|                P37B|         PCLE25H|            S|                     null|                   null| 2022-03-10 01:05:...|  2023-03-30|     8.03|\n",
            "|   30054090|           00|0000029176920|    2007-09-17|          10000|                    |      267|              34|          0|                      1|                      1|       563|                   |                 |                          |       BISIO|                |               JOSE|                  1|          M|1982-02-14|                    80|                 080|                  201|        100|                         0|                          82|                       21101000|                       0|                    null|                      null|                    null|                      null|                            |                 0|                       0|                  0|                  1|                       null|             null|            PCLE861|                0|                              1|                  CA|                   47|              null|            null|                    |                      null|   0023291769209|                       042|                null|          016|       008115568|                   N|                   |     001|           2009-01-01|                     null|                2007-09-17|      2015-11-11|              174636|                P37B|          VUELCO|            S|                     null|                   null| 2022-03-10 01:05:...|  2023-03-30|    15.53|\n",
            "|   02107097|           28|0000006092004|    1997-04-23|          30500|                  01|      210|              34|          0|                      1|                      1|       527|                   |                 |                          |     CATALIN|                |        NIDIA DERBY|                  1|          F|1930-07-22|                    80|                 080|                  201|        100|                         0|                          82|                       21101000|                       0|                    null|                      null|                    null|                      null|                           0|                 0|                       0|                  0|                  0|                       null|             null|            PCLE25Q|                0|                              1|                  CA|                   47|              null|            null|                    |                      null|   0023060920044|                       042|                null|          016|                |                   N|                   |     001|           2009-01-01|                     null|                1997-04-23|      2000-06-23|              164113|                P37C|          VUELCO|            S|                     null|                   null| 2022-03-10 01:05:...|  2023-03-30|    25.94|\n",
            "|   29902057|           00|0000022367877|    2016-10-21|          10000|                  00|      603|              34|          0|                      1|                      8|      2603|                   |                 |                          |      ZELLER|                |          JUAN JOSE|                  1|          M|1971-11-20|                    80|                 080|                  201|        100|                         0|                          82|                       21101000|                       0|                    null|                      null|                    null|                      null|                           0|                 0|                       0|                  0|                  3|                       null|             null|            PCLE06R|                1|                              1|                  PO|                   47|              null|            null|                    |                      null|   0020223678778|                       042|                null|          016|       023298453|                   N|                 MD|     001|           2016-10-21|                     null|                2016-10-21|      2016-10-21|              231441|                P37B|         PCLE25H|            S|                     null|                   null| 2022-03-10 01:05:...|  2023-03-30|     6.44|\n",
            "|   08745243|           00|0000025657571|    2008-07-08|          10000|                  00|      351|              34|          0|                      1|                      1|       648|                   |                 |                          |  DOS SANTOS|                |     ESTEBAN DANIEL|                  1|          M|1976-12-09|                    80|                 080|                  201|        100|                         0|                          82|                       21101000|                       0|                    null|                      null|                    null|                      null|                           0|                 0|                       0|                  0|                  1|                       null|             null|            PCLE06R|                0|                              1|                  PO|                   47|              null|            null|                    |                      null|   0020256575710|                       042|                null|          016|       008745243|                   N|                   |     001|           2009-01-01|                     null|                2008-07-08|      2008-07-08|              161517|                P37B|          VUELCO|            S|                     null|                   null| 2022-03-10 01:05:...|  2023-03-30|    14.73|\n",
            "|   21440084|           00|0000025664035|    2015-04-23|          10000|                  00|      603|              34|          0|                      1|                      8|      2603|                   |                 |                          |       RICCI|                |       PAULA AMANDA|                  1|          F|1976-11-04|                    80|                 080|                  201|        100|                         0|                          82|                       21101000|                       0|                    null|                      null|                    null|                      null|                           0|                 0|                       0|                  0|                  0|                       null|             null|            PCLE06R|                1|                              1|                  PO|                   47|              null|            null|                    |                      null|   0027256640355|                       042|                null|          016|       021440084|                   N|                 MD|     001|           2015-04-23|                     null|                2015-04-23|      2015-04-23|              231348|                P37B|         PCLE25H|            S|                     null|                   null| 2022-03-10 01:05:...|  2023-03-30|     7.94|\n",
            "|   05269483|           00|0000012832416|    2000-09-13|          10000|                    |       87|              34|          0|                      1|                      8|       254|                   |                 |                          |      GARCIA|                |     OTILIA ROGELIA|                  1|          F|1958-03-09|                    80|                 080|                  201|        100|                         0|                          82|                       21101000|                       0|                    null|                      null|                    null|                      null|                            |                 0|                       0|                  0|                  1|                       null|             null|            PCLE06R|                0|                              1|                  CA|                   47|              null|            null|                    |                      null|   0027128324165|                       042|                null|          016|       005269483|                   N|                   |     001|           2009-01-01|                     null|                2000-09-13|      2009-09-25|              152547|                P37C|          VUELCO|            S|                     null|                   null| 2022-03-10 01:05:...|  2023-03-30|    22.55|\n",
            "|   03629950|           26|0000000148214|    1993-01-08|          20050|                  01|      124|              34|          0|                      1|                      1|       435|                   |                 |                          |      CASTRO|                |        MARIA ELENA|                  1|          F|1923-07-14|                    80|                 080|                  201|        100|                          |                          82|                       21101000|                       0|                    null|                      null|                    null|                      null|                            |                 0|                       0|                  0|                  2|                       null|             null|            PCLE06R|                0|                              1|                  CA|                   47|              null|            null|                    |                      null|   0027001482144|                       042|                null|          016|       000618365|                   N|                   |     001|           2009-01-01|                     null|                1993-01-08|      1998-07-05|              110615|                P37B|          VUELCO|            S|                     null|                   null| 2022-03-10 01:05:...|  2023-03-30|    30.23|\n",
            "|   08414506|           00|0000012814729|    2008-02-01|          10000|                  00|      352|              34|          0|                      1|                      1|       649|                   |                 |                          |       OCHOA|                |     ADRIANA AMELIA|                  1|          F|1956-12-14|                    80|                 080|                  201|        100|                         0|                          82|                       21101000|                       0|                    null|                      null|                    null|                      null|                           0|                 0|                       0|                  0|                  2|                       null|             null|            PCLE06R|                0|                              1|                  PO|                   47|              null|            null|                    |                      null|   0027128147298|                       042|                null|          016|       008414506|                   N|                   |     001|           2009-01-01|                     null|                2008-02-01|      2008-02-01|              183338|                P37B|          VUELCO|            S|                     null|                   null| 2022-03-10 01:05:...|  2023-03-30|    15.16|\n",
            "|   07077196|           27|0000007889212|    2015-04-23|          10000|                  00|      603|              34|          0|                      1|                      8|      2603|                   |                 |                          |      CORTEZ|                |            ROBERTO|                  1|          M|1950-02-05|                    80|                 080|                  201|        100|                         0|                          82|                       21101000|                       0|                    null|                      null|                    null|                      null|                           0|                 0|                       0|                  0|                  0|                       null|             null|            PCLE06R|                1|                              1|                  PO|                   47|              null|            null|                    |                      null|   0023078892129|                       042|                null|          016|       021466591|                   N|                 MD|     001|           2015-04-23|                     null|                2015-04-23|      2015-04-23|              231958|                P37B|         PCLE25H|            S|                     null|                   null| 2022-03-10 01:05:...|  2023-03-30|     7.94|\n",
            "|   08730022|           00|0000017560362|    2008-06-30|          10000|                  00|       72|              34|          0|                      1|                      1|        46|                   |                 |                          |  BELTRAMINO|                |  CECILIA ELIZABETH|                  1|          F|1970-09-26|                    80|                 080|                  201|        100|                         0|                          82|                       21101000|                       0|                    null|                      null|                    null|                      null|                           0|                 0|                       0|                  0|                  1|                       null|             null|            PCLE06R|                0|                              1|                  PO|                   47|              null|            null|                    |                      null|   0027175603625|                       042|                null|          016|       008730022|                   N|                   |     001|           2009-01-01|                     null|                2008-06-30|      2008-06-30|              161639|                P37B|          VUELCO|            S|                     null|                   null| 2022-03-10 01:05:...|  2023-03-30|    14.75|\n",
            "+-----------+-------------+-------------+--------------+---------------+--------------------+---------+----------------+-----------+-----------------------+-----------------------+----------+-------------------+-----------------+--------------------------+------------+----------------+-------------------+-------------------+-----------+----------+----------------------+--------------------+---------------------+-----------+--------------------------+----------------------------+-------------------------------+------------------------+------------------------+--------------------------+------------------------+--------------------------+----------------------------+------------------+------------------------+-------------------+-------------------+---------------------------+-----------------+-------------------+-----------------+-------------------------------+--------------------+---------------------+------------------+----------------+--------------------+--------------------------+----------------+--------------------------+--------------------+-------------+----------------+--------------------+-------------------+--------+---------------------+-------------------------+--------------------------+----------------+--------------------+--------------------+----------------+-------------+-------------------------+-----------------------+---------------------+------------+---------+\n",
            "only showing top 20 rows\n",
            "\n"
          ]
        }
      ]
    },
    {
      "cell_type": "markdown",
      "source": [
        "## **Querys en spark SQL --> BBVAW2T1-40**"
      ],
      "metadata": {
        "id": "0Oh3SovEACnY"
      }
    },
    {
      "cell_type": "markdown",
      "source": [
        "Generar un público objetivo (1) que cumpla los siguientes puntos:\n",
        "\n",
        "\n",
        "*   Potencial Cliente\n",
        "*   Sexo Femenino\n",
        "*   Entre 30 y 45 años de Edad.\n",
        "*   Nacionalidad No Argentina"
      ],
      "metadata": {
        "id": "mE4WrNZaACnh"
      }
    },
    {
      "cell_type": "code",
      "source": [
        "spark.sql(\"SELECT * , current_date() as current_date, round(months_between(current_date(), customer_registration_date)/12,2) as years_reg \\\n",
        "        FROM customer_basics_view \\\n",
        "        WHERE gender_type = 'F' \\\n",
        "        AND ((round(months_between(current_date(), birth_date)/12,2)) > 30 AND (round(months_between(current_date(), birth_date)/12,2)) < 45) \\\n",
        "        AND country_nationality_id <> 80\").show()"
      ],
      "metadata": {
        "colab": {
          "base_uri": "https://localhost:8080/"
        },
        "id": "kq-wYfFLEtrr",
        "outputId": "750794e8-f4bf-401c-9ce3-9ea8a57b57b9"
      },
      "execution_count": 41,
      "outputs": [
        {
          "output_type": "stream",
          "name": "stdout",
          "text": [
            "+-----------+-------------+-------------+--------------+---------------+--------------------+---------+----------------+-----------+-----------------------+-----------------------+----------+-------------------+-----------------+--------------------------+---------+----------------+----------------+-------------------+-----------+----------+----------------------+--------------------+---------------------+-----------+--------------------------+----------------------------+-------------------------------+------------------------+------------------------+--------------------------+------------------------+--------------------------+----------------------------+------------------+------------------------+-------------------+-------------------+---------------------------+-----------------+-------------------+-----------------+-------------------------------+--------------------+---------------------+------------------+----------------+--------------------+--------------------------+----------------+--------------------------+--------------------+-------------+----------------+--------------------+-------------------+--------+---------------------+-------------------------+--------------------------+----------------+--------------------+--------------------+----------------+-------------+-------------------------+-----------------------+---------------------+------------+---------+\n",
            "|customer_id|personal_type|  personal_id|admission_date|sale_channel_id|operation_channel_id|branch_id|business_area_id|campaing_id|customer_situation_type|customer_condition_type|manager_id|tracking_manager_id|credit_manager_id|credit_recovery_manager_id|last_name|second_last_name|      first_name|marital_status_type|gender_type|birth_date|country_nationality_id|residence_country_id|customer_subject_type|sector_type|customer_level_access_type|cust_bcra_econ_activity_type|internal_economic_activity_type|bbva_inhabilitation_type|customer_block_bbva_date|customer_unblock_bbva_date|customer_block_bcra_date|customer_unblock_bcra_date|customer_pending_notice_type|last_notice_number|last_reference_number_id|last_service_number|last_address_number|last_unlinking_account_date|customer_end_date|last_change_user_id|customer_pep_type|bbva_family_lnk_weighted_number|customer_status_type|scoring_activity_type|refinancing_number|refinancing_date|coholder_customer_id|customer_bcra_situation_id|customer_cuit_id|customer_position_vat_type|balance_closing_date|profession_id|bbva_cust_number|customer_linked_type|customer_entry_type|job_type|profession_start_date|customer_first_block_date|customer_registration_date|last_change_date|last_change_hms_date|register_terminal_id|register_user_id|customer_type|customer_seniority_number|last_status_change_date|operational_load_date|current_date|years_reg|\n",
            "+-----------+-------------+-------------+--------------+---------------+--------------------+---------+----------------+-----------+-----------------------+-----------------------+----------+-------------------+-----------------+--------------------------+---------+----------------+----------------+-------------------+-----------+----------+----------------------+--------------------+---------------------+-----------+--------------------------+----------------------------+-------------------------------+------------------------+------------------------+--------------------------+------------------------+--------------------------+----------------------------+------------------+------------------------+-------------------+-------------------+---------------------------+-----------------+-------------------+-----------------+-------------------------------+--------------------+---------------------+------------------+----------------+--------------------+--------------------------+----------------+--------------------------+--------------------+-------------+----------------+--------------------+-------------------+--------+---------------------+-------------------------+--------------------------+----------------+--------------------+--------------------+----------------+-------------+-------------------------+-----------------------+---------------------+------------+---------+\n",
            "|   08576564|           31|0000093797661|    2008-04-01|          10000|                  01|       58|              30|          0|                      1|                      1|       164|                   |                 |                          |   ALONZO|         GAMARRA|MIRIAN CELESTINA|                  5|          F|1978-09-26|                    69|                 080|                  201|        100|                         0|                          82|                       21101000|                       0|                    null|                      null|                    null|                      null|                            |                 0|                       0|                  0|                  1|                       null|             null|            PCLE861|                0|                              1|                  PO|                    5|              null|            null|                    |                      null|   0027937976610|                       042|                null|          007|       008576564|                   N|                   |     001|           2009-01-01|                     null|                2008-04-01|      2008-04-01|              071812|                P37B|          VUELCO|            S|                     null|                   null| 2022-03-10 01:05:...|  2023-03-30|    14.99|\n",
            "|   22184167|           31|0000093902732|    2015-11-24|          10000|                  00|      215|              30|          0|                      1|                      1|       697|                083|                 |                          |    HSIAO|                |        YEN JUNG|                  5|          F|1989-10-18|                    83|                 080|                  201|        100|                         0|                          82|                       21101000|                       0|                    null|                      null|                    null|                      null|                           2|                14|                       0|                  0|                  1|                       null|             null|           AUTOMAT.|                2|                              1|                  IN|                   31|              null|            null|                    |                      null|   0024939027323|                       055|                null|          025|       022184167|                   N|                   |     003|           2016-06-15|                     null|                2015-11-24|      2021-02-11|              150113|                P37B|         PCLE25H|            N|                     null|             2016-06-15| 2022-03-10 01:05:...|  2023-03-30|     7.35|\n",
            "+-----------+-------------+-------------+--------------+---------------+--------------------+---------+----------------+-----------+-----------------------+-----------------------+----------+-------------------+-----------------+--------------------------+---------+----------------+----------------+-------------------+-----------+----------+----------------------+--------------------+---------------------+-----------+--------------------------+----------------------------+-------------------------------+------------------------+------------------------+--------------------------+------------------------+--------------------------+----------------------------+------------------+------------------------+-------------------+-------------------+---------------------------+-----------------+-------------------+-----------------+-------------------------------+--------------------+---------------------+------------------+----------------+--------------------+--------------------------+----------------+--------------------------+--------------------+-------------+----------------+--------------------+-------------------+--------+---------------------+-------------------------+--------------------------+----------------+--------------------+--------------------+----------------+-------------+-------------------------+-----------------------+---------------------+------------+---------+\n",
            "\n"
          ]
        }
      ]
    },
    {
      "cell_type": "markdown",
      "source": [
        "## **Querys en spark SQL --> BBVAW2T1-41**"
      ],
      "metadata": {
        "id": "KAwnNRXZ2RNP"
      }
    },
    {
      "cell_type": "markdown",
      "source": [
        "Generar un público objetivo (1) que cumpla los siguientes puntos:\n",
        "\n",
        "\n",
        "*   Potencial Cliente\n",
        "*   Sexo Masculino\n",
        "*   Mayor a 25 años.\n",
        "*   Estado civil Soltero"
      ],
      "metadata": {
        "id": "XhtJF05b2RNV"
      }
    },
    {
      "cell_type": "code",
      "source": [
        "spark.sql(\"SELECT * , current_date() as current_date, round(months_between(current_date(), customer_registration_date)/12,2) as years_reg \\\n",
        "        FROM customer_basics_view \\\n",
        "        WHERE gender_type = 'M' \\\n",
        "        AND (round(months_between(current_date(), birth_date)/12,2)) > 25  \\\n",
        "        AND marital_status_type = 5\").show()"
      ],
      "metadata": {
        "colab": {
          "base_uri": "https://localhost:8080/"
        },
        "outputId": "d98ffd7e-5b4a-439c-f4ae-aa5d8df69040",
        "id": "OvU3HJ592RNV"
      },
      "execution_count": 36,
      "outputs": [
        {
          "output_type": "stream",
          "name": "stdout",
          "text": [
            "+-----------+-------------+-------------+--------------+---------------+--------------------+---------+----------------+-----------+-----------------------+-----------------------+----------+-------------------+-----------------+--------------------------+-----------------+----------------+----------------+-------------------+-----------+----------+----------------------+--------------------+---------------------+-----------+--------------------------+----------------------------+-------------------------------+------------------------+------------------------+--------------------------+------------------------+--------------------------+----------------------------+------------------+------------------------+-------------------+-------------------+---------------------------+-----------------+-------------------+-----------------+-------------------------------+--------------------+---------------------+------------------+----------------+--------------------+--------------------------+----------------+--------------------------+--------------------+-------------+----------------+--------------------+-------------------+--------+---------------------+-------------------------+--------------------------+----------------+--------------------+--------------------+----------------+-------------+-------------------------+-----------------------+---------------------+------------+---------+\n",
            "|customer_id|personal_type|  personal_id|admission_date|sale_channel_id|operation_channel_id|branch_id|business_area_id|campaing_id|customer_situation_type|customer_condition_type|manager_id|tracking_manager_id|credit_manager_id|credit_recovery_manager_id|        last_name|second_last_name|      first_name|marital_status_type|gender_type|birth_date|country_nationality_id|residence_country_id|customer_subject_type|sector_type|customer_level_access_type|cust_bcra_econ_activity_type|internal_economic_activity_type|bbva_inhabilitation_type|customer_block_bbva_date|customer_unblock_bbva_date|customer_block_bcra_date|customer_unblock_bcra_date|customer_pending_notice_type|last_notice_number|last_reference_number_id|last_service_number|last_address_number|last_unlinking_account_date|customer_end_date|last_change_user_id|customer_pep_type|bbva_family_lnk_weighted_number|customer_status_type|scoring_activity_type|refinancing_number|refinancing_date|coholder_customer_id|customer_bcra_situation_id|customer_cuit_id|customer_position_vat_type|balance_closing_date|profession_id|bbva_cust_number|customer_linked_type|customer_entry_type|job_type|profession_start_date|customer_first_block_date|customer_registration_date|last_change_date|last_change_hms_date|register_terminal_id|register_user_id|customer_type|customer_seniority_number|last_status_change_date|operational_load_date|current_date|years_reg|\n",
            "+-----------+-------------+-------------+--------------+---------------+--------------------+---------+----------------+-----------+-----------------------+-----------------------+----------+-------------------+-----------------+--------------------------+-----------------+----------------+----------------+-------------------+-----------+----------+----------------------+--------------------+---------------------+-----------+--------------------------+----------------------------+-------------------------------+------------------------+------------------------+--------------------------+------------------------+--------------------------+----------------------------+------------------+------------------------+-------------------+-------------------+---------------------------+-----------------+-------------------+-----------------+-------------------------------+--------------------+---------------------+------------------+----------------+--------------------+--------------------------+----------------+--------------------------+--------------------+-------------+----------------+--------------------+-------------------+--------+---------------------+-------------------------+--------------------------+----------------+--------------------+--------------------+----------------+-------------+-------------------------+-----------------------+---------------------+------------+---------+\n",
            "|   29604216|           00|0000020589841|    2001-08-17|          10000|                  01|      199|              30|          0|                      1|                      1|       661|                   |                 |                          |           TOLOZA|                |    MIGUEL ANGEL|                  5|          M|1969-11-03|                    80|                 080|                  201|        100|                         0|                          82|                       21101000|                       0|                    null|                      null|                    null|                      null|                            |                 0|                       0|                  0|                  3|                       null|             null|            PCLE825|                2|                              1|                  AC|                   18|              null|            null|                    |                        21|   0020205898418|                       042|                null|          013|       005564899|                   N|                   |     001|           2016-12-26|                     null|                2001-08-17|      2022-02-21|              125716|                   B|          VUELCO|            N|                     null|             2016-12-26| 2022-03-10 01:05:...|  2023-03-30|    21.62|\n",
            "|   28028529|           00|0000039730521|    2021-08-24|          10000|                  01|      995|              34|          0|                      1|                      8|      2603|                   |             PVTA|                          |           ZURITA|                |          CARLOS|                  5|          M|1996-04-27|                    80|                 080|                  201|        100|                         0|                          82|                       21101000|                       0|                    null|                      null|                    null|                      null|                           0|                 0|                       0|                  0|                  0|                       null|             null|            PCLE06R|                1|                              1|                  PO|                    4|              null|            null|                    |                      null|   0000000000000|                       042|                null|          016|       028028529|                   N|                 MD|     001|           2021-08-24|                     null|                2021-08-24|      2021-08-24|              172924|                P37B|        VW2CEVA0|            S|                     null|                   null| 2022-03-10 01:05:...|  2023-03-30|      1.6|\n",
            "|   28366580|           00|0000039786049|    2022-01-11|          10000|                  00|       82|              34|          0|                      1|                      1|       234|                080|                 |                          |         BEATRICE|                |SEBASTIAN DANIEL|                  5|          M|1996-08-03|                    80|                 080|                  201|        100|                         0|                          82|                       21101000|                       0|                    null|                      null|                    null|                      null|                           0|                 2|                       0|                  0|                  2|                       null|             null|            PCLE06R|                2|                              2|                  AC|                   47|              null|            null|                    |                      null|   0020397860494|                       042|                null|          016|       028366580|                   N|                   |     001|           2022-01-20|                     null|                2022-01-11|      2022-01-25|              204956|                BATC|         PCLE510|            N|                     null|                   null| 2022-03-10 01:05:...|  2023-03-30|     1.22|\n",
            "|   23441482|           00|0000038990587|    2016-12-22|          10000|                  00|      302|              34|          0|                      1|                      1|       591|                   |                 |                          |           ACOSTA|                |   FRANCO LEONEL|                  5|          M|1995-09-10|                    80|                 080|                  201|        100|                         0|                          82|                       21101000|                       0|                    null|                      null|                    null|                      null|                            |                 0|                       0|                  0|                  2|                       null|             null|            PCLE06R|                2|                              1|                  CA|                   47|              null|            null|                    |                      null|   0023389905879|                       042|                null|          007|       023441482|                   N|                   |     001|           2017-01-04|                     null|                2016-12-22|      2017-01-04|              035408|                P37B|         PCLE510|            S|                     null|             2017-01-04| 2022-03-10 01:05:...|  2023-03-30|     6.27|\n",
            "|   26205399|           00|0000038866205|    2019-08-30|          10000|                  01|      995|              34|          0|                      1|                      8|      2603|                   |             PVTA|                          |          VAZQUEZ|                |      JUAN PABLO|                  5|          M|1995-05-05|                    80|                 080|                  201|        100|                         0|                          82|                       21101000|                       0|                    null|                      null|                    null|                      null|                           0|                 0|                       0|                  0|                  0|                       null|             null|            PCLE06R|                1|                              1|                  PO|                    4|              null|            null|                    |                      null|   0000000000000|                       042|                null|          016|       026205399|                   N|                 MD|     001|           2019-08-30|                     null|                2019-08-30|      2019-08-30|              092342|                P37B|        VW2CEVA0|            S|                     null|                   null| 2022-03-10 01:05:...|  2023-03-30|     3.58|\n",
            "|   25734307|           00|0000038847597|    2018-01-30|          58999|                  01|      999|              30|          0|                      1|                      1|      1309|                080|                 |                          |           GARCIA|                |   ELIAS EMANUEL|                  5|          M|1995-06-05|                    80|                 080|                  201|        100|                         0|                          82|                       21101000|                       0|                    null|                      null|                    null|                      null|                           2|                19|                       0|                  0|                  2|                       null|             null|            PCLE825|                2|                              1|                  AC|                   34|              null|            null|                    |                        21|   0020388475979|                       055|                null|          025|       024404207|                   N|                   |     003|           2018-04-05|                     null|                2018-01-30|      2022-02-21|              125944|                   B|         XA51855|            N|                     null|                   null| 2022-03-10 01:05:...|  2023-03-30|     5.17|\n",
            "|   03342631|           00|0000017370947|    1993-06-08|          20050|                  01|      117|              30|          0|                      1|                      1|      4572|                   |                 |                          |           GINACA|                |    JOSE ANTONIO|                  5|          M|1965-06-08|                    80|                 080|                  201|        100|                          |                          82|                       21101000|                       0|                    null|                      null|                    null|                      null|                           2|                29|                       0|                  0|                  6|                       null|             null|            PCLE861|                2|                              1|                  AC|                   46|              null|            null|                    |                        21|   0020173709472|                       042|                null|          013|       000640077|                   N|                   |     001|           2010-06-25|                     null|                1993-06-08|      2022-02-21|              052701|                   B|          VUELCO|            N|                     null|             2015-06-01| 2022-03-10 01:05:...|  2023-03-30|    29.81|\n",
            "|   00731569|           00|0000013144821|    1996-04-23|          10000|                    |      321|              30|          0|                      1|                      1|      4631|                   |                 |                          |             SOSA|                |          ADOLFO|                  5|          M|1959-07-04|                    80|                 080|                  201|        100|                         0|                          82|                       21101000|                       0|                    null|                      null|                    null|                      null|                           2|                17|                       0|                  0|                  3|                       null|             null|            PCLE825|                2|                              1|                  AC|                   35|              null|            null|                    |                        21|   0020131448210|                       042|                null|          007|                |                   N|                   |     001|           2009-10-19|                     null|                1996-04-23|      2022-02-21|              125638|                   B|          VUELCO|            N|                     null|             2016-07-15| 2022-03-10 01:05:...|  2023-03-30|    26.94|\n",
            "|   09661456|           00|0000036677356|    2012-03-27|          10000|                  00|       87|              34|          0|                      1|                      1|       254|                080|                 |                          |AGUERO JUSTINIANO|                |   ENRIQUE CESAR|                  5|          M|1992-01-06|                    80|                 080|                  201|        100|                         0|                          82|                       21101000|                       0|                    null|                      null|                    null|                      null|                            |                 0|                       0|                  0|                  2|                       null|             null|           UPROEWEB|                2|                              1|                  CA|                   34|              null|            null|                    |                      null|   0020366773569|                       042|                null|          007|       009661456|                   N|                   |     001|           2012-04-13|                     null|                2012-03-27|      2022-02-02|              151515|                ZZYH|         PCLE510|            S|                     null|                   null| 2022-03-10 01:05:...|  2023-03-30|    11.01|\n",
            "|   30526225|           00|0000036795505|    2016-01-12|          10000|                  01|      995|              34|          0|                      1|                      8|      2603|                   |             PVTA|                          |          PEREYRA|                |       ALEJANDRO|                  5|          M|1993-02-08|                    80|                 080|                  201|        100|                         0|                          82|                       21101000|                       0|                    null|                      null|                    null|                      null|                           0|                 0|                       0|                  0|                  0|                       null|             null|           PCLEAP02|                1|                              1|                  PO|                    4|              null|            null|                    |                      null|   0020367955059|                       042|                null|          016|       022402024|                   N|                 MD|     001|           2016-01-12|                     null|                2016-01-12|      2019-07-16|              210829|                P37B|        VW2CEVA0|            S|                     null|                   null| 2022-03-10 01:05:...|  2023-03-30|     7.22|\n",
            "|   30667330|           27|0000002198781|    1998-06-30|          10000|                    |       81|              34|          0|                      1|                      8|       233|                   |                 |                          |            ROSSI|                |      LUIS MARIA|                  5|          M|1950-01-01|                    80|                 080|                  201|        100|                         0|                          82|                       21101000|                       0|                    null|                      null|                    null|                      null|                            |                 0|                       0|                  0|                  0|                       null|             null|            PCLE25Q|                0|                              1|                  PO|                   47|              null|            null|                    |                      null|   0020021987817|                       043|                null|          016|       004274493|                   N|                   |     001|           2009-01-01|                     null|                1998-06-30|      2009-10-16|              165803|                P37C|          VUELCO|            S|                     null|                   null| 2022-03-10 01:05:...|  2023-03-30|    24.75|\n",
            "|   28211103|           00|0000038161195|    2021-10-20|          10000|                  01|      202|              34|          0|                      1|                      1|       667|                080|                 |                         1|         MANSILLA|                |  DANIEL AGUSTIN|                  5|          M|1994-11-09|                    80|                 080|                  201|        100|                         0|                          82|                       21101000|                       0|                    null|                      null|                    null|                      null|                           2|                 2|                       0|                  0|                  2|                       null|             null|           UPROEWEB|                2|                              3|                  AC|                   34|              null|            null|                    |                      null|   0020381611958|                       042|                null|          005|       028211103|                   N|                   |     001|           2021-10-22|                     null|                2021-10-20|      2022-01-17|              092151|                ZZYO|         A126703|            N|                     null|                   null| 2022-03-10 01:05:...|  2023-03-30|     1.44|\n",
            "|   25392391|           00|0000036771731|    2019-02-27|          10000|                  00|       93|              34|          0|                      1|                      1|      4857|                080|                 |                          |           MORENO|                |    VICTOR ARIEL|                  5|          M|1992-04-20|                    80|                 080|                  201|        100|                         0|                          82|                       21101000|                       0|                    null|                      null|                    null|                      null|                           2|                24|                       0|                  0|                  2|                       null|             null|           PCLE8630|                2|                              1|                  CA|                   47|              null|            null|                    |                      null|   0023367717319|                       042|                null|          016|       025392391|                   N|                   |     001|           2019-04-08|                     null|                2019-02-27|      2019-04-08|              070813|                   B|         PCLE510|            S|                     null|                   null| 2022-03-10 01:05:...|  2023-03-30|     4.09|\n",
            "|   04936761|           31|0000093708334|    1999-10-26|          10000|                  01|        5|              34|          0|                      1|                      1|        34|                   |                 |                          |         ALENCHIK|                |      VIACHESLAV|                  5|          M|1964-04-06|                    40|                 080|                  201|        100|                         0|                          82|                       21101000|                       0|                    null|                      null|                    null|                      null|                           0|                 0|                       0|                  0|                  1|                       null|             null|            PCLE06R|                0|                              1|                  CA|                   47|              null|            null|                    |                      null|   0020937083344|                       062|                null|          016|       004936761|                   N|                   |     001|           2009-01-01|                     null|                1999-10-26|      2002-03-22|              111123|                P37B|          VUELCO|            S|                     null|                   null| 2022-03-10 01:05:...|  2023-03-30|    23.43|\n",
            "|   22817231|           00|0000036744580|    2021-12-30|          10000|                  39|      262|              34|          0|                      1|                      8|       557|                080|                 |                         1|            ARRUA|                |      LUIS PEDRO|                  5|          M|1993-10-11|                    80|                 080|                  201|        100|                         0|                          82|                       21101000|                       0|                    null|                      null|                    null|                      null|                            |                 0|                       0|                  0|                  2|                       null|             null|           GPROBANK|                1|                              1|                  AC|                    4|              null|            null|                    |                      null|   0020367445808|                       042|                null|          016|       022817231|                   N|                 PS|     001|           2016-06-09|                     null|                2016-06-09|      2021-12-30|              142044|                LR4I|        GPROBANK|            N|                     null|                   null| 2022-03-10 01:05:...|  2023-03-30|     6.81|\n",
            "|   26193940|           00|0000025565228|    2019-08-22|          10000|                  01|      104|              34|          0|                      1|                      8|      2603|                   |             PVTA|                          |           SUAREZ|                |       FRANCISCO|                  5|          M|1976-11-25|                    80|                 080|                  201|        100|                         0|                          82|                       21101000|                       0|                    null|                      null|                    null|                      null|                           0|                 0|                       0|                  0|                  0|                       null|             null|            PCLE06R|                1|                              1|                  PO|                    4|              null|            null|                    |                      null|   0000000000000|                       042|                null|          016|       026193940|                   N|                 MD|     001|           2019-08-22|                     null|                2019-08-22|      2019-08-22|              124439|                P37B|        VW2CEVA0|            S|                     null|                   null| 2022-03-10 01:05:...|  2023-03-30|      3.6|\n",
            "|   24205714|           00|0000038057885|    2017-10-23|          10000|                  01|       94|              34|          0|                      1|                      1|       299|                080|             PVTA|                          |RODRIGUEZ ABALLAY|                | MATIAS EZEQUIEL|                  5|          M|1994-08-10|                    80|                 080|                  201|        100|                         0|                          82|                       21101000|                       0|                    null|                      null|                    null|                      null|                           2|                 1|                       0|                  0|                  1|                       null|             null|           GPROBANK|                2|                              1|                  IN|                   35|              null|            null|                    |                      null|   0023380578859|                       042|                null|          013|       024205714|                   N|                   |     001|           2017-10-27|                     null|                2017-10-23|      2020-05-12|              122620|                P37B|        VW2CEVA0|            N|                     null|             2017-10-27| 2022-03-10 01:05:...|  2023-03-30|     5.44|\n",
            "|   28170468|           00|0000038047385|    2013-10-24|          10000|                  00|      114|              34|          0|                      1|                      1|       386|                   |                 |                          |          CARRIZO|                |           DARIO|                  5|          M|1994-01-15|                    80|                 080|                  201|        100|                         0|                          82|                       21101000|                       0|                    null|                      null|                    null|                      null|                            |                 0|                       0|                  0|                  2|                       null|             null|            PCLE05F|                2|                              1|                  CA|                   23|              null|            null|                    |                      null|   0020380473853|                       042|                null|          007|       020180653|                   N|                   |     001|           2014-04-03|                     null|                2013-10-24|      2019-12-28|              070039|                P37B|         PCLE510|            S|                     null|             2015-10-01| 2022-03-10 01:05:...|  2023-03-30|     9.43|\n",
            "|   20945081|           00|0000030019573|    2012-11-07|          10000|                  00|      279|              34|          0|                      1|                      1|        29|                   |                 |                          |          QUIROGA|                |      RAMON OMAR|                  5|          M|1983-09-10|                    80|                 080|                  201|        100|                         0|                          82|                       21101000|                       0|                    null|                      null|                    null|                      null|                            |                 0|                       0|                  0|                  2|                       null|             null|            A115684|                1|                              1|                  CA|                   47|              null|            null|                    |                      null|   0020300195734|                       042|                null|          016|       019687239|                   N|                   |     001|           2012-11-07|                     null|                2012-11-07|      2015-04-09|              160816|                P37B|         PCLE510|            S|                     null|                   null| 2022-03-10 01:05:...|  2023-03-30|     10.4|\n",
            "|   03227112|           00|0000013116877|    1997-11-06|          20050|                  01|      331|              34|          0|                      1|                      1|       627|                   |                 |                          |            GARRO|                |  JAVIER ANTONIO|                  5|          M|1959-04-24|                    80|                 080|                  201|        100|                          |                          82|                       21101000|                       0|                    null|                      null|                    null|                      null|                            |                 0|                       0|                  0|                  3|                       null|             null|            PCLE06R|                0|                              1|                  CA|                   47|              null|            null|                    |                      null|   0020131168773|                       045|                null|          016|       001121786|                   N|                   |     001|           2009-01-01|                     null|                1997-11-06|      1998-07-05|              110234|                P37B|          VUELCO|            S|                     null|                   null| 2022-03-10 01:05:...|  2023-03-30|     25.4|\n",
            "+-----------+-------------+-------------+--------------+---------------+--------------------+---------+----------------+-----------+-----------------------+-----------------------+----------+-------------------+-----------------+--------------------------+-----------------+----------------+----------------+-------------------+-----------+----------+----------------------+--------------------+---------------------+-----------+--------------------------+----------------------------+-------------------------------+------------------------+------------------------+--------------------------+------------------------+--------------------------+----------------------------+------------------+------------------------+-------------------+-------------------+---------------------------+-----------------+-------------------+-----------------+-------------------------------+--------------------+---------------------+------------------+----------------+--------------------+--------------------------+----------------+--------------------------+--------------------+-------------+----------------+--------------------+-------------------+--------+---------------------+-------------------------+--------------------------+----------------+--------------------+--------------------+----------------+-------------+-------------------------+-----------------------+---------------------+------------+---------+\n",
            "only showing top 20 rows\n",
            "\n"
          ]
        }
      ]
    },
    {
      "cell_type": "markdown",
      "source": [
        "## **Querys en spark SQL --> BBVAW2T1-42**"
      ],
      "metadata": {
        "id": "iUO7MdQGxm1D"
      }
    },
    {
      "cell_type": "markdown",
      "source": [
        "Generar un público objetivo (1) que cumpla los siguientes puntos:\n",
        "\n",
        "*   Edad superior a 52 años\n",
        "*   Nacionalidad Argentina.\n",
        "*   Estado civil Viudo"
      ],
      "metadata": {
        "id": "LT2YqrGdxm1L"
      }
    },
    {
      "cell_type": "code",
      "source": [
        "spark.sql(\"SELECT * , current_date() as current_date, round(months_between(current_date(), customer_registration_date)/12,2) as years_reg \\\n",
        "        FROM customer_basics_view \\\n",
        "        WHERE (round(months_between(current_date(), birth_date)/12,2)) > 52  \\\n",
        "        AND country_nationality_id = 80 \\\n",
        "        AND marital_status_type = 2\").show()"
      ],
      "metadata": {
        "colab": {
          "base_uri": "https://localhost:8080/"
        },
        "outputId": "6d4f04a0-6121-49f0-c37c-ce1096925047",
        "id": "Vh8CBLomxm1L"
      },
      "execution_count": 34,
      "outputs": [
        {
          "output_type": "stream",
          "name": "stdout",
          "text": [
            "+-----------+-------------+-------------+--------------+---------------+--------------------+---------+----------------+-----------+-----------------------+-----------------------+----------+-------------------+-----------------+--------------------------+----------+----------------+-----------------+-------------------+-----------+----------+----------------------+--------------------+---------------------+-----------+--------------------------+----------------------------+-------------------------------+------------------------+------------------------+--------------------------+------------------------+--------------------------+----------------------------+------------------+------------------------+-------------------+-------------------+---------------------------+-----------------+-------------------+-----------------+-------------------------------+--------------------+---------------------+------------------+----------------+--------------------+--------------------------+----------------+--------------------------+--------------------+-------------+----------------+--------------------+-------------------+--------+---------------------+-------------------------+--------------------------+----------------+--------------------+--------------------+----------------+-------------+-------------------------+-----------------------+---------------------+------------+---------+\n",
            "|customer_id|personal_type|  personal_id|admission_date|sale_channel_id|operation_channel_id|branch_id|business_area_id|campaing_id|customer_situation_type|customer_condition_type|manager_id|tracking_manager_id|credit_manager_id|credit_recovery_manager_id| last_name|second_last_name|       first_name|marital_status_type|gender_type|birth_date|country_nationality_id|residence_country_id|customer_subject_type|sector_type|customer_level_access_type|cust_bcra_econ_activity_type|internal_economic_activity_type|bbva_inhabilitation_type|customer_block_bbva_date|customer_unblock_bbva_date|customer_block_bcra_date|customer_unblock_bcra_date|customer_pending_notice_type|last_notice_number|last_reference_number_id|last_service_number|last_address_number|last_unlinking_account_date|customer_end_date|last_change_user_id|customer_pep_type|bbva_family_lnk_weighted_number|customer_status_type|scoring_activity_type|refinancing_number|refinancing_date|coholder_customer_id|customer_bcra_situation_id|customer_cuit_id|customer_position_vat_type|balance_closing_date|profession_id|bbva_cust_number|customer_linked_type|customer_entry_type|job_type|profession_start_date|customer_first_block_date|customer_registration_date|last_change_date|last_change_hms_date|register_terminal_id|register_user_id|customer_type|customer_seniority_number|last_status_change_date|operational_load_date|current_date|years_reg|\n",
            "+-----------+-------------+-------------+--------------+---------------+--------------------+---------+----------------+-----------+-----------------------+-----------------------+----------+-------------------+-----------------+--------------------------+----------+----------------+-----------------+-------------------+-----------+----------+----------------------+--------------------+---------------------+-----------+--------------------------+----------------------------+-------------------------------+------------------------+------------------------+--------------------------+------------------------+--------------------------+----------------------------+------------------+------------------------+-------------------+-------------------+---------------------------+-----------------+-------------------+-----------------+-------------------------------+--------------------+---------------------+------------------+----------------+--------------------+--------------------------+----------------+--------------------------+--------------------+-------------+----------------+--------------------+-------------------+--------+---------------------+-------------------------+--------------------------+----------------+--------------------+--------------------+----------------+-------------+-------------------------+-----------------------+---------------------+------------+---------+\n",
            "|   04161701|           28|0000001718995|    1998-04-13|          10000|                  01|      116|              34|          0|                      1|                      1|       397|                   |                 |                          |   GHIDINI|                | YOLANDA VIRGINIA|                  2|          F|1935-10-29|                    80|                 080|                  201|        100|                         0|                          82|                       21101000|                       0|                    null|                      null|                    null|                      null|                           0|                 0|                       0|                  0|                  0|                       null|             null|            PCLE25Q|                0|                              1|                  CA|                   47|              null|            null|                    |                      null|   0027017189951|                       042|                null|          016|       004161701|                   N|                   |     001|           2009-01-01|                     null|                1998-04-13|      1998-07-05|              165659|                P37B|          VUELCO|            S|                     null|                   null| 2022-03-10 01:05:...|  2023-03-30|    24.96|\n",
            "|   29561692|           00|0000017539961|    2008-06-12|          10000|                  01|      140|              30|          0|                      1|                      1|       473|                080|                 |                          |   LORENZO|                |MARCELO ALEJANDRO|                  2|          M|1965-07-15|                    80|                 080|                  201|        100|                         0|                          82|                       21101000|                       0|                    null|                      null|                    null|                      null|                           2|                24|                       0|                  0|                  1|                       null|             null|            PCLE825|                2|                              1|                  AC|                   47|              null|            null|                    |                        21|   0020175399616|                       042|                null|          031|       008713474|                   N|                   |     003|           2009-09-22|                     null|                2008-06-12|      2022-02-21|              125701|                   B|          VUELCO|            N|                     null|                   null| 2022-03-10 01:05:...|  2023-03-30|     14.8|\n",
            "|   29632753|           00|0000017346173|    1990-07-06|          95000|                  01|      361|              92|          0|                      1|                      1|      8044|                080|                 |                          |   ARDANAZ|                |  MARCELO HORACIO|                  2|          M|1965-06-03|                    80|                 080|                  201|        100|                         0|                          82|                       21101000|                       0|                    null|                      null|                    null|                      null|                           2|                52|                       0|                  0|                  3|                       null|             null|            PCLE861|                2|                              1|                  AC|                    8|              null|            null|                    |                        21|   0023173461739|                       042|                null|          003|                |                   N|                   |     001|           2019-09-10|                     null|                1990-07-06|      2022-02-21|              024332|                   B|          VUELCO|            N|                     null|             2016-08-30| 2022-03-10 01:05:...|  2023-03-30|    32.73|\n",
            "|   04566883|           28|0000002159084|    1999-02-12|          10000|                  01|      337|              34|          0|                      1|                      1|       634|                   |                 |                          |    SOMOZA|                |            DELIA|                  2|          F|1927-02-04|                    80|                 080|                  201|        100|                         0|                          82|                       21101000|                       0|                    null|                      null|                    null|                      null|                            |                 0|                       0|                  0|                  1|                       null|             null|            PCLE25Q|                0|                              1|                  CA|                   47|              null|            null|                    |                      null|   0027021590849|                       042|                null|          016|       004566883|                   N|                   |     001|           2009-01-01|                     null|                1999-02-12|      2002-06-27|              165951|                P37B|          VUELCO|            S|                     null|                   null| 2022-03-10 01:05:...|  2023-03-30|    24.13|\n",
            "|   00093940|           26|0000001994808|    1993-09-13|          10000|                  01|      340|              34|          0|                      1|                      8|       211|                   |                 |                          |LACAMPAGNA|                |           AMELIA|                  2|          F|1921-11-22|                    80|                 080|                  201|        100|                         0|                          82|                       21101000|                       0|                    null|                      null|                    null|                      null|                           2|                 1|                       0|                  0|                  2|                       null|             null|            PCLE06R|                0|                              1|                  CA|                   47|              null|            null|                    |                      null|   0027019948086|                       042|                null|          016|                |                   N|                 AD|     001|           2009-01-01|                     null|                1994-11-22|      2013-03-09|              150515|                P37B|          VUELCO|            S|                     null|                   null| 2022-03-10 01:05:...|  2023-03-30|    28.35|\n",
            "|   29580724|           28|0000006144725|    2017-03-23|          10000|                  00|       25|              34|          0|                      1|                      1|       247|                   |                 |                          | VILLEDARY|                |     MARIA CRISTI|                  2|          F|1949-12-06|                    80|                 080|                  201|        100|                         0|                          82|                       21101000|                       0|                    null|                      null|                    null|                      null|                            |                 0|                       0|                  0|                  1|                       null|             null|            PCLE861|                2|                              1|                  CA|                   50|              null|            null|                    |                      null|   0027061447259|                       042|                null|          039|       023641874|                   N|                   |     004|           2017-04-17|                     null|                2017-03-23|      2017-04-17|              212452|                P37B|         PCLE15V|            S|                     null|             2017-04-17| 2022-03-10 01:05:...|  2023-03-30|     6.02|\n",
            "|   00104838|           26|0000002249664|    1996-01-15|          10000|                    |      237|              34|          0|                      1|                      1|       538|                   |                 |                          |   SANCHEZ|                |             ROSA|                  2|          F|1927-09-11|                    80|                 080|                  201|        100|                         0|                          82|                       21101000|                       0|                    null|                      null|                    null|                      null|                            |                 0|                       0|                  0|                  0|                       null|             null|            PCLE06R|                0|                              1|                  CA|                   47|              null|            null|                    |                      null|   0027022496641|                       042|                null|          016|                |                   N|                   |     001|           2009-01-01|                     null|                1996-01-15|      2005-12-02|              070349|                P37B|          VUELCO|            S|                     null|                   null| 2022-03-10 01:05:...|  2023-03-30|    27.21|\n",
            "|   00014664|           28|0000000135700|    1993-04-12|          10000|                    |      140|              34|          0|                      1|                      1|       473|                   |                 |                          | STOCHETTI|                |     ALICIA BETTY|                  2|          F|1920-06-17|                    80|                 080|                  201|        100|                         0|                          82|                       21101000|                       0|                    null|                      null|                    null|                      null|                           0|                 0|                       0|                  0|                  0|                       null|             null|            PCLE25Q|                0|                              1|                  CA|                   47|              null|            null|                    |                      null|   0027001357005|                       042|                null|          016|                |                   N|                   |     001|           2009-01-01|                     null|                1994-01-17|      2000-06-23|              161900|                P37B|          VUELCO|            S|                     null|                   null| 2022-03-10 01:05:...|  2023-03-30|     29.2|\n",
            "|   29434917|           28|0000001102610|    2000-12-15|          10000|                  01|       81|              34|          0|                      1|                      1|       233|                   |                 |                          |   BIANCHI|                |   LIDIA MERCEDES|                  2|          F|1920-09-25|                    80|                 080|                  201|        100|                         0|                          82|                       21101000|                       0|                    null|                      null|                    null|                      null|                            |                 0|                       0|                  0|                  1|                       null|             null|            PCLE25Q|                0|                              1|                  CA|                   47|              null|            null|                    |                      null|   0027011026104|                       042|                null|          016|       005353458|                   N|                   |     001|           2009-01-01|                     null|                2000-12-15|      2002-12-06|              172831|                P37B|          VUELCO|            S|                     null|                   null| 2022-03-10 01:05:...|  2023-03-30|    22.29|\n",
            "|   04076446|           28|0000000103132|    1998-02-26|          10000|                  01|       22|              34|          0|                      1|                      1|       102|                   |                 |                          |   SCARANO|                |          DOMINGA|                  2|          F|1919-04-06|                    80|                 080|                  201|        100|                         0|                          82|                       21101000|                       0|                    null|                      null|                    null|                      null|                            |                 0|                       0|                  0|                  0|                       null|             null|            PCLE25Q|                0|                              1|                  CA|                   47|              null|            null|                    |                      null|   0027001031320|                       042|                null|          016|       004076446|                   N|                   |     001|           2009-01-01|                     null|                1998-02-26|      2008-03-14|              165620|                P37B|          VUELCO|            S|                     null|                   null| 2022-03-10 01:05:...|  2023-03-30|    25.09|\n",
            "|   03925479|           00|0000017435504|    2011-07-08|          74001|                  01|      111|              34|          0|                      1|                      1|       378|                   |                 |                          |  FIGUEROA|                |           WALTER|                  2|          M|1965-12-11|                    80|                 080|                  201|        100|                         0|                          82|                       21101000|                       0|                    null|                      null|                    null|                      null|                            |                 0|                       0|                  0|                  1|                       null|             null|            PCLE06R|                0|                              1|                  PO|                   50|              null|            null|                    |                      null|   0020174355046|                       042|                null|          038|       003925479|                   N|                   |     004|           2011-07-08|                     null|                2011-07-08|      2021-04-10|              191538|                P37B|         A118483|            S|                     null|                   null| 2022-03-10 01:05:...|  2023-03-30|    11.73|\n",
            "|   05812127|           28|0000001265150|    2002-01-14|          10000|                  01|      311|              34|          0|                      1|                      1|       602|                   |                 |                          |   VILARDO|                |          LUISA M|                  2|          F|1925-04-14|                    80|                 080|                  201|        100|                         0|                          82|                       21101000|                       0|                    null|                      null|                    null|                      null|                            |                 0|                       0|                  0|                  1|                       null|             null|            PCLE25Q|                0|                              1|                  CA|                   47|              null|            null|                    |                      null|   0027012651509|                       042|                null|          016|       005812127|                   N|                   |     001|           2009-01-01|                     null|                2002-01-14|      2002-01-14|              173629|                P37B|          VUELCO|            S|                     null|                   null| 2022-03-10 01:05:...|  2023-03-30|    21.21|\n",
            "|   07365248|           27|0000007242913|    2006-10-26|          10000|                  01|       87|              34|          0|                      1|                      1|       254|                   |                 |                          |   NOLASCO|                |         GERASIMO|                  2|          M|1937-03-05|                    80|                 080|                  201|        100|                         0|                          82|                       21101000|                       0|                    null|                      null|                    null|                      null|                            |                 0|                       0|                  0|                  1|                       null|             null|            PCLE25Q|                0|                              1|                  CA|                   50|              null|            null|                    |                      null|   0020072429134|                       042|                null|          039|       007365248|                   N|                   |     004|           2009-01-01|                     null|                2006-10-26|      2006-11-13|              174705|                P37B|          VUELCO|            S|                     null|                   null| 2022-03-10 01:05:...|  2023-03-30|    16.43|\n",
            "|   27541480|           28|0000001730544|    2021-02-25|          10000|                  00|      223|              30|          0|                      1|                      1|      1497|                080|                 |                          |  GALLARDO|                |     IRMA DELICIA|                  2|          F|1935-07-23|                    80|                 080|                  201|        100|                         0|                          82|                       21101000|                       0|                    null|                      null|                    null|                      null|                           0|                 0|                       0|                  0|                  1|                       null|             null|            PCLE06R|                2|                              2|                  IN|                   50|              null|            null|                    |                      null|   0027017305447|                       042|                null|          039|       027541480|                   N|                   |     004|           2021-03-25|                     null|                2021-02-25|      2021-04-06|              095947|                P37B|         PCLE15V|            N|                     null|                   null| 2022-03-10 01:05:...|  2023-03-30|      2.1|\n",
            "|   26720788|           28|0000000125049|    1985-04-23|          10000|                  01|       16|              34|          0|                      1|                      1|        90|                   |                 |                          |TORRECILLA|  DE DE PASCUALE|           AURORA|                  2|          F|1921-05-28|                    80|                 080|                  201|        100|                         0|                          82|                       21101000|                       0|                    null|                      null|                    null|                      null|                            |                 0|                       0|                  0|                  5|                       null|             null|            PCLE25Q|                0|                              1|                  AC|                   47|              null|            null|                    |                      null|   0027001250499|                       042|          1992-01-01|          004|       001228519|                   N|                   |     001|           2009-01-01|                     null|                1993-11-01|      2008-11-12|              161900|                P37B|          VUELCO|            S|                     null|                   null| 2022-03-10 01:05:...|  2023-03-30|    29.41|\n",
            "|   02507194|           28|0000006136915|    2010-07-26|          58999|                  01|      999|              34|          0|                      1|                      1|       901|                   |                 |                          |     REALE|                |     STELLA MARIS|                  2|          F|1949-11-29|                    80|                 080|                  201|        100|                         0|                          82|                       21101000|                       0|                    null|                      null|                    null|                      null|                            |                 0|                       0|                  0|                  2|                       null|             null|            PCLE25Q|                2|                              1|                  CA|                    8|              null|            null|                    |                      null|   0027061369150|                       042|                null|          012|       002507194|                   N|                   |     001|           2010-07-26|                     null|                2010-07-26|      2010-07-26|              164340|                P37B|          VUELCO|            S|                     null|                   null| 2022-03-10 01:05:...|  2023-03-30|    12.68|\n",
            "|   01193254|           26|0000002062493|    2008-09-10|          10000|                  00|      202|              34|          0|                      1|                      8|       522|                   |                 |                          |ALTAMIRANO|                |        AGUINALDA|                  2|          F|1934-09-01|                    80|                 080|                  201|        100|                         0|                          82|                       21101000|                       0|                    null|                      null|                    null|                      null|                            |                 0|                       0|                  0|                  1|                       null|             null|            PCLE861|                0|                              1|                  IN|                   50|              null|            null|                    |                      null|   0027020624936|                       042|                null|          039|       001193254|                   N|                 AD|     004|           2009-01-01|                     null|                2008-09-10|      2013-03-09|              051005|                P37B|          VUELCO|            S|                     null|                   null| 2022-03-10 01:05:...|  2023-03-30|    14.55|\n",
            "|   04191069|           28|0000001552246|    1998-04-28|          35000|                  01|      295|              34|          0|                      1|                      1|       771|                   |                 |                          |     GOMEZ|                |          VICENTA|                  2|          F|1934-03-01|                    80|                 080|                  201|        100|                         0|                          82|                       21101000|                       0|                    null|                      null|                    null|                      null|                            |                 0|                       0|                  0|                  0|                       null|             null|            PCLE25Q|                0|                              1|                  CA|                   47|              null|            null|                    |                      null|   0027015522467|                       042|                null|          016|       004191069|                   N|                   |     001|           2009-01-01|                     null|                1998-04-28|      2002-11-29|              165740|                P37B|          VUELCO|            S|                     null|                   null| 2022-03-10 01:05:...|  2023-03-30|    24.92|\n",
            "|   03637822|           26|0000001187568|    1986-02-12|          20050|                  01|       80|              34|          0|                      1|                      8|       220|                   |                 |                          |   FILIPPI|                |     ISABEL MARIA|                  2|          F|1931-04-03|                    80|                 080|                  201|        100|                          |                          82|                       21101000|                       0|                    null|                      null|                    null|                      null|                            |                 0|                       0|                  0|                  0|                       null|             null|            PCLE06R|                0|                              1|                  CA|                   47|              null|            null|                    |                      null|   0027011875683|                       042|                null|          016|       000159184|                   N|                 AD|     001|           2009-01-01|                     null|                1986-02-12|      2013-03-09|              150515|                P37B|          VUELCO|            S|                     null|                   null| 2022-03-10 01:05:...|  2023-03-30|    37.13|\n",
            "|   29567911|           26|0000001639832|    1999-01-15|          20003|                  01|      265|              34|          0|                      1|                      8|       157|                   |                 |                          |     OCANO|                |        ROSA INES|                  2|          F|1935-07-10|                    80|                 080|                  201|        100|                         0|                          82|                       21101000|                       0|                    null|                      null|                    null|                      null|                           0|                 0|                       0|                  0|                  1|                       null|             null|            PCLE06R|                0|                              1|                  PO|                   47|              null|            null|                    |                      null|   0027016398328|                       062|                null|          016|       004536780|                   N|                   |     001|           2009-01-01|                     null|                1999-01-15|      2009-10-16|              151934|                P37B|          VUELCO|            S|                     null|                   null| 2022-03-10 01:05:...|  2023-03-30|    24.21|\n",
            "+-----------+-------------+-------------+--------------+---------------+--------------------+---------+----------------+-----------+-----------------------+-----------------------+----------+-------------------+-----------------+--------------------------+----------+----------------+-----------------+-------------------+-----------+----------+----------------------+--------------------+---------------------+-----------+--------------------------+----------------------------+-------------------------------+------------------------+------------------------+--------------------------+------------------------+--------------------------+----------------------------+------------------+------------------------+-------------------+-------------------+---------------------------+-----------------+-------------------+-----------------+-------------------------------+--------------------+---------------------+------------------+----------------+--------------------+--------------------------+----------------+--------------------------+--------------------+-------------+----------------+--------------------+-------------------+--------+---------------------+-------------------------+--------------------------+----------------+--------------------+--------------------+----------------+-------------+-------------------------+-----------------------+---------------------+------------+---------+\n",
            "\n"
          ]
        }
      ]
    },
    {
      "cell_type": "markdown",
      "source": [
        "## **Carga de datos, generacion de archivos .csv --> BBVAW2T1-43**"
      ],
      "metadata": {
        "id": "zV_XibQL3OEl"
      }
    },
    {
      "cell_type": "markdown",
      "source": [
        "QUIERO: Generar archivos .csv a partir de los público objetivo 1. \n",
        "Los archivos deben cumplir los siguientes requerimientos: \n",
        "* Contener cabecera. \n",
        "* Separador “|”. \n",
        "* Máximo de 1000 registros por archivo (si el público objetivo tiene más de 1000 registros, se deberá crear más de un archivo)\n",
        "* Ser guardados en HDFS."
      ],
      "metadata": {
        "id": "OICPwBtaBF9L"
      }
    },
    {
      "cell_type": "code",
      "source": [
        "df_cli_objetivo_1 = spark.sql(\"SELECT * , current_date() as current_date, round(months_between(current_date(), customer_registration_date)/12,2) as years_reg \\\n",
        "        FROM customer_basics_view \\\n",
        "        WHERE (round(months_between(current_date(), customer_registration_date)/12,2)) > 5 \\\n",
        "        AND job_type = '001' \\\n",
        "        AND marital_status_type = 1\")"
      ],
      "metadata": {
        "id": "PG2MqCF-3CB4"
      },
      "execution_count": 45,
      "outputs": []
    },
    {
      "cell_type": "code",
      "source": [
        "df_cli_objetivo_1.write.option(\"header\",True)\\\n",
        "        .option(\"delimiter\",\"|\")\\\n",
        "        .csv('/content/df_cli_objetivo_1')"
      ],
      "metadata": {
        "id": "IlwfxThS3Lox"
      },
      "execution_count": 47,
      "outputs": []
    },
    {
      "cell_type": "markdown",
      "source": [
        "## **Carga de datos, generacion de archivos .csv --> BBVAW2T1-44**"
      ],
      "metadata": {
        "id": "DGiQrgMsCmz3"
      }
    },
    {
      "cell_type": "markdown",
      "source": [
        "QUIERO: Generar archivos .csv a partir de los público objetivo 2. \n",
        "Los archivos deben cumplir los siguientes requerimientos: \n",
        "* Contener cabecera. \n",
        "* Separador “|”. \n",
        "* Máximo de 1000 registros por archivo (si el público objetivo tiene más de 1000 registros, se deberá crear más de un archivo)\n",
        "* Ser guardados en HDFS."
      ],
      "metadata": {
        "id": "hjVe6mI1Cmz4"
      }
    },
    {
      "cell_type": "code",
      "source": [
        "df_cli_objetivo_2 = spark.sql(\"SELECT * , current_date() as current_date, round(months_between(current_date(), customer_registration_date)/12,2) as years_reg \\\n",
        "        FROM customer_basics_view \\\n",
        "        WHERE gender_type = 'F' \\\n",
        "        AND ((round(months_between(current_date(), birth_date)/12,2)) > 30 AND (round(months_between(current_date(), birth_date)/12,2)) < 45) \\\n",
        "        AND country_nationality_id <> 80\")"
      ],
      "metadata": {
        "id": "Ha0LggBJCmz4"
      },
      "execution_count": 48,
      "outputs": []
    },
    {
      "cell_type": "code",
      "source": [
        "df_cli_objetivo_2.write.option(\"header\",True)\\\n",
        "        .option(\"delimiter\",\"|\")\\\n",
        "        .csv('/content/df_cli_objetivo_2')"
      ],
      "metadata": {
        "id": "V2Eue6QoCmz4"
      },
      "execution_count": 49,
      "outputs": []
    },
    {
      "cell_type": "markdown",
      "source": [
        "## **Carga de datos, generacion de archivos .csv --> BBVAW2T1-45**"
      ],
      "metadata": {
        "id": "dbQnfgIbC5Za"
      }
    },
    {
      "cell_type": "markdown",
      "source": [
        "QUIERO: Generar archivos .csv a partir de los público objetivo 3. \n",
        "Los archivos deben cumplir los siguientes requerimientos: \n",
        "* Contener cabecera. \n",
        "* Separador “|”. \n",
        "* Máximo de 1000 registros por archivo (si el público objetivo tiene más de 1000 registros, se deberá crear más de un archivo)\n",
        "* Ser guardados en HDFS."
      ],
      "metadata": {
        "id": "CEX60eGKC5Za"
      }
    },
    {
      "cell_type": "code",
      "source": [
        "df_cli_objetivo_3 = spark.sql(\"SELECT * , current_date() as current_date, round(months_between(current_date(), customer_registration_date)/12,2) as years_reg \\\n",
        "        FROM customer_basics_view \\\n",
        "        WHERE gender_type = 'M' \\\n",
        "        AND (round(months_between(current_date(), birth_date)/12,2)) > 25  \\\n",
        "        AND marital_status_type = 5\")"
      ],
      "metadata": {
        "id": "OgQvvvaqC5Za"
      },
      "execution_count": 50,
      "outputs": []
    },
    {
      "cell_type": "code",
      "source": [
        "df_cli_objetivo_3.write.option(\"header\",True)\\\n",
        "        .option(\"delimiter\",\"|\")\\\n",
        "        .csv('/content/df_cli_objetivo_3')"
      ],
      "metadata": {
        "id": "mjt1GkRUC5Zb"
      },
      "execution_count": 51,
      "outputs": []
    },
    {
      "cell_type": "markdown",
      "source": [
        "## **Carga de datos, generacion de archivos .csv --> BBVAW2T1-46**"
      ],
      "metadata": {
        "id": "f7PlEn1NDF7J"
      }
    },
    {
      "cell_type": "markdown",
      "source": [
        "QUIERO: Generar archivos .csv a partir de los público objetivo 4. \n",
        "Los archivos deben cumplir los siguientes requerimientos: \n",
        "* Contener cabecera. \n",
        "* Separador “|”. \n",
        "* Máximo de 1000 registros por archivo (si el público objetivo tiene más de 1000 registros, se deberá crear más de un archivo)\n",
        "* Ser guardados en HDFS."
      ],
      "metadata": {
        "id": "cze_VzWzDF7J"
      }
    },
    {
      "cell_type": "code",
      "source": [
        "df_cli_objetivo_4 = spark.sql(\"SELECT * , current_date() as current_date, round(months_between(current_date(), customer_registration_date)/12,2) as years_reg \\\n",
        "        FROM customer_basics_view \\\n",
        "        WHERE (round(months_between(current_date(), birth_date)/12,2)) > 52  \\\n",
        "        AND country_nationality_id = 80 \\\n",
        "        AND marital_status_type = 2\")"
      ],
      "metadata": {
        "id": "RoQymLhCDF7J"
      },
      "execution_count": 52,
      "outputs": []
    },
    {
      "cell_type": "code",
      "source": [
        "df_cli_objetivo_4.write.option(\"header\",True)\\\n",
        "        .option(\"delimiter\",\"|\")\\\n",
        "        .csv('/content/df_cli_objetivo_4')"
      ],
      "metadata": {
        "id": "HPamfEFzDF7K"
      },
      "execution_count": 53,
      "outputs": []
    }
  ]
}